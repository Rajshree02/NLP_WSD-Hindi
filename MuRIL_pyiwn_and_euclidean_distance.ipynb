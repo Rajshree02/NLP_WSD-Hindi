{
 "cells": [
  {
   "cell_type": "markdown",
   "id": "92ad0136-a6e0-4a2a-9c2f-4218994f0589",
   "metadata": {
    "jp-MarkdownHeadingCollapsed": true,
    "tags": []
   },
   "source": [
    "## **INLTK prerequisites**"
   ]
  },
  {
   "cell_type": "code",
   "execution_count": 1,
   "id": "be5a707c-a7ad-4bdc-9743-f4cd9465b917",
   "metadata": {},
   "outputs": [
    {
     "name": "stdout",
     "output_type": "stream",
     "text": [
      "Requirement already satisfied: inltk in c:\\users\\thakr\\anaconda3\\envs\\pytorch_p37_2\\lib\\site-packages (0.9)\n",
      "Requirement already satisfied: pyyaml in c:\\users\\thakr\\anaconda3\\envs\\pytorch_p37_2\\lib\\site-packages (from inltk) (6.0)\n",
      "Requirement already satisfied: fastai==1.0.57 in c:\\users\\thakr\\anaconda3\\envs\\pytorch_p37_2\\lib\\site-packages (from inltk) (1.0.57)\n",
      "Requirement already satisfied: spacy>=2.0.18 in c:\\users\\thakr\\anaconda3\\envs\\pytorch_p37_2\\lib\\site-packages (from inltk) (3.5.2)\n",
      "Requirement already satisfied: numpy>=1.15 in c:\\users\\thakr\\anaconda3\\envs\\pytorch_p37_2\\lib\\site-packages (from inltk) (1.21.5)\n",
      "Requirement already satisfied: Pillow in c:\\users\\thakr\\anaconda3\\envs\\pytorch_p37_2\\lib\\site-packages (from inltk) (9.4.0)\n",
      "Requirement already satisfied: numexpr in c:\\users\\thakr\\anaconda3\\envs\\pytorch_p37_2\\lib\\site-packages (from inltk) (2.8.4)\n",
      "Requirement already satisfied: typing in c:\\users\\thakr\\anaconda3\\envs\\pytorch_p37_2\\lib\\site-packages (from inltk) (3.7.4.3)\n",
      "Requirement already satisfied: beautifulsoup4 in c:\\users\\thakr\\anaconda3\\envs\\pytorch_p37_2\\lib\\site-packages (from inltk) (4.11.1)\n",
      "Requirement already satisfied: sentencepiece in c:\\users\\thakr\\anaconda3\\envs\\pytorch_p37_2\\lib\\site-packages (from inltk) (0.1.98)\n",
      "Requirement already satisfied: matplotlib in c:\\users\\thakr\\anaconda3\\envs\\pytorch_p37_2\\lib\\site-packages (from inltk) (3.5.3)\n",
      "Requirement already satisfied: bottleneck in c:\\users\\thakr\\anaconda3\\envs\\pytorch_p37_2\\lib\\site-packages (from inltk) (1.3.7)\n",
      "Requirement already satisfied: packaging in c:\\users\\thakr\\anaconda3\\envs\\pytorch_p37_2\\lib\\site-packages (from inltk) (22.0)\n",
      "Requirement already satisfied: requests in c:\\users\\thakr\\anaconda3\\envs\\pytorch_p37_2\\lib\\site-packages (from inltk) (2.28.1)\n",
      "Requirement already satisfied: pandas in c:\\users\\thakr\\anaconda3\\envs\\pytorch_p37_2\\lib\\site-packages (from inltk) (1.3.5)\n",
      "Requirement already satisfied: async-timeout>=3.0.1 in c:\\users\\thakr\\anaconda3\\envs\\pytorch_p37_2\\lib\\site-packages (from inltk) (4.0.2)\n",
      "Requirement already satisfied: fastprogress>=0.1.19 in c:\\users\\thakr\\anaconda3\\envs\\pytorch_p37_2\\lib\\site-packages (from inltk) (1.0.3)\n",
      "Requirement already satisfied: nvidia-ml-py3 in c:\\users\\thakr\\anaconda3\\envs\\pytorch_p37_2\\lib\\site-packages (from inltk) (7.352.0)\n",
      "Requirement already satisfied: aiohttp>=3.5.4 in c:\\users\\thakr\\anaconda3\\envs\\pytorch_p37_2\\lib\\site-packages (from inltk) (3.8.4)\n",
      "Requirement already satisfied: scipy in c:\\users\\thakr\\anaconda3\\envs\\pytorch_p37_2\\lib\\site-packages (from inltk) (1.7.3)\n",
      "Requirement already satisfied: torchvision in c:\\users\\thakr\\anaconda3\\envs\\pytorch_p37_2\\lib\\site-packages (from fastai==1.0.57->inltk) (0.14.1)\n",
      "Requirement already satisfied: torch>=1.0.0 in c:\\users\\thakr\\anaconda3\\envs\\pytorch_p37_2\\lib\\site-packages (from fastai==1.0.57->inltk) (1.3.1+cpu)\n",
      "Requirement already satisfied: asynctest==0.13.0 in c:\\users\\thakr\\anaconda3\\envs\\pytorch_p37_2\\lib\\site-packages (from aiohttp>=3.5.4->inltk) (0.13.0)\n",
      "Requirement already satisfied: attrs>=17.3.0 in c:\\users\\thakr\\anaconda3\\envs\\pytorch_p37_2\\lib\\site-packages (from aiohttp>=3.5.4->inltk) (22.1.0)\n",
      "Requirement already satisfied: yarl<2.0,>=1.0 in c:\\users\\thakr\\anaconda3\\envs\\pytorch_p37_2\\lib\\site-packages (from aiohttp>=3.5.4->inltk) (1.9.1)\n",
      "Requirement already satisfied: aiosignal>=1.1.2 in c:\\users\\thakr\\anaconda3\\envs\\pytorch_p37_2\\lib\\site-packages (from aiohttp>=3.5.4->inltk) (1.3.1)\n",
      "Requirement already satisfied: frozenlist>=1.1.1 in c:\\users\\thakr\\anaconda3\\envs\\pytorch_p37_2\\lib\\site-packages (from aiohttp>=3.5.4->inltk) (1.3.3)\n",
      "Requirement already satisfied: typing-extensions>=3.7.4 in c:\\users\\thakr\\anaconda3\\envs\\pytorch_p37_2\\lib\\site-packages (from aiohttp>=3.5.4->inltk) (4.3.0)\n",
      "Requirement already satisfied: charset-normalizer<4.0,>=2.0 in c:\\users\\thakr\\anaconda3\\envs\\pytorch_p37_2\\lib\\site-packages (from aiohttp>=3.5.4->inltk) (2.0.4)\n",
      "Requirement already satisfied: multidict<7.0,>=4.5 in c:\\users\\thakr\\anaconda3\\envs\\pytorch_p37_2\\lib\\site-packages (from aiohttp>=3.5.4->inltk) (6.0.4)\n",
      "Requirement already satisfied: spacy-legacy<3.1.0,>=3.0.11 in c:\\users\\thakr\\anaconda3\\envs\\pytorch_p37_2\\lib\\site-packages (from spacy>=2.0.18->inltk) (3.0.12)\n",
      "Requirement already satisfied: murmurhash<1.1.0,>=0.28.0 in c:\\users\\thakr\\anaconda3\\envs\\pytorch_p37_2\\lib\\site-packages (from spacy>=2.0.18->inltk) (1.0.9)\n",
      "Requirement already satisfied: spacy-loggers<2.0.0,>=1.0.0 in c:\\users\\thakr\\anaconda3\\envs\\pytorch_p37_2\\lib\\site-packages (from spacy>=2.0.18->inltk) (1.0.4)\n",
      "Requirement already satisfied: jinja2 in c:\\users\\thakr\\anaconda3\\envs\\pytorch_p37_2\\lib\\site-packages (from spacy>=2.0.18->inltk) (3.1.2)\n",
      "Requirement already satisfied: srsly<3.0.0,>=2.4.3 in c:\\users\\thakr\\anaconda3\\envs\\pytorch_p37_2\\lib\\site-packages (from spacy>=2.0.18->inltk) (2.4.6)\n",
      "Requirement already satisfied: tqdm<5.0.0,>=4.38.0 in c:\\users\\thakr\\anaconda3\\envs\\pytorch_p37_2\\lib\\site-packages (from spacy>=2.0.18->inltk) (4.65.0)\n",
      "Requirement already satisfied: pydantic!=1.8,!=1.8.1,<1.11.0,>=1.7.4 in c:\\users\\thakr\\anaconda3\\envs\\pytorch_p37_2\\lib\\site-packages (from spacy>=2.0.18->inltk) (1.10.7)\n",
      "Requirement already satisfied: typer<0.8.0,>=0.3.0 in c:\\users\\thakr\\anaconda3\\envs\\pytorch_p37_2\\lib\\site-packages (from spacy>=2.0.18->inltk) (0.7.0)\n",
      "Requirement already satisfied: thinc<8.2.0,>=8.1.8 in c:\\users\\thakr\\anaconda3\\envs\\pytorch_p37_2\\lib\\site-packages (from spacy>=2.0.18->inltk) (8.1.9)\n",
      "Requirement already satisfied: wasabi<1.2.0,>=0.9.1 in c:\\users\\thakr\\anaconda3\\envs\\pytorch_p37_2\\lib\\site-packages (from spacy>=2.0.18->inltk) (1.1.1)\n",
      "Requirement already satisfied: preshed<3.1.0,>=3.0.2 in c:\\users\\thakr\\anaconda3\\envs\\pytorch_p37_2\\lib\\site-packages (from spacy>=2.0.18->inltk) (3.0.8)\n",
      "Requirement already satisfied: langcodes<4.0.0,>=3.2.0 in c:\\users\\thakr\\anaconda3\\envs\\pytorch_p37_2\\lib\\site-packages (from spacy>=2.0.18->inltk) (3.3.0)\n",
      "Requirement already satisfied: pathy>=0.10.0 in c:\\users\\thakr\\anaconda3\\envs\\pytorch_p37_2\\lib\\site-packages (from spacy>=2.0.18->inltk) (0.10.1)\n",
      "Requirement already satisfied: cymem<2.1.0,>=2.0.2 in c:\\users\\thakr\\anaconda3\\envs\\pytorch_p37_2\\lib\\site-packages (from spacy>=2.0.18->inltk) (2.0.7)\n",
      "Requirement already satisfied: setuptools in c:\\users\\thakr\\anaconda3\\envs\\pytorch_p37_2\\lib\\site-packages (from spacy>=2.0.18->inltk) (65.6.3)\n",
      "Requirement already satisfied: smart-open<7.0.0,>=5.2.1 in c:\\users\\thakr\\anaconda3\\envs\\pytorch_p37_2\\lib\\site-packages (from spacy>=2.0.18->inltk) (6.3.0)\n",
      "Requirement already satisfied: catalogue<2.1.0,>=2.0.6 in c:\\users\\thakr\\anaconda3\\envs\\pytorch_p37_2\\lib\\site-packages (from spacy>=2.0.18->inltk) (2.0.8)\n",
      "Requirement already satisfied: certifi>=2017.4.17 in c:\\users\\thakr\\anaconda3\\envs\\pytorch_p37_2\\lib\\site-packages (from requests->inltk) (2022.12.7)\n",
      "Requirement already satisfied: idna<4,>=2.5 in c:\\users\\thakr\\anaconda3\\envs\\pytorch_p37_2\\lib\\site-packages (from requests->inltk) (3.4)\n",
      "Requirement already satisfied: urllib3<1.27,>=1.21.1 in c:\\users\\thakr\\anaconda3\\envs\\pytorch_p37_2\\lib\\site-packages (from requests->inltk) (1.26.14)\n",
      "Requirement already satisfied: soupsieve>1.2 in c:\\users\\thakr\\anaconda3\\envs\\pytorch_p37_2\\lib\\site-packages (from beautifulsoup4->inltk) (2.3.2.post1)\n",
      "Requirement already satisfied: pyparsing>=2.2.1 in c:\\users\\thakr\\anaconda3\\envs\\pytorch_p37_2\\lib\\site-packages (from matplotlib->inltk) (3.0.9)\n",
      "Requirement already satisfied: fonttools>=4.22.0 in c:\\users\\thakr\\anaconda3\\envs\\pytorch_p37_2\\lib\\site-packages (from matplotlib->inltk) (4.38.0)\n",
      "Requirement already satisfied: python-dateutil>=2.7 in c:\\users\\thakr\\anaconda3\\envs\\pytorch_p37_2\\lib\\site-packages (from matplotlib->inltk) (2.8.2)\n",
      "Requirement already satisfied: cycler>=0.10 in c:\\users\\thakr\\anaconda3\\envs\\pytorch_p37_2\\lib\\site-packages (from matplotlib->inltk) (0.11.0)\n",
      "Requirement already satisfied: kiwisolver>=1.0.1 in c:\\users\\thakr\\anaconda3\\envs\\pytorch_p37_2\\lib\\site-packages (from matplotlib->inltk) (1.4.4)\n",
      "Requirement already satisfied: pytz>=2017.3 in c:\\users\\thakr\\anaconda3\\envs\\pytorch_p37_2\\lib\\site-packages (from pandas->inltk) (2022.7)\n",
      "Requirement already satisfied: zipp>=0.5 in c:\\users\\thakr\\anaconda3\\envs\\pytorch_p37_2\\lib\\site-packages (from catalogue<2.1.0,>=2.0.6->spacy>=2.0.18->inltk) (3.11.0)\n",
      "Requirement already satisfied: six>=1.5 in c:\\users\\thakr\\anaconda3\\envs\\pytorch_p37_2\\lib\\site-packages (from python-dateutil>=2.7->matplotlib->inltk) (1.16.0)\n",
      "Requirement already satisfied: blis<0.8.0,>=0.7.8 in c:\\users\\thakr\\anaconda3\\envs\\pytorch_p37_2\\lib\\site-packages (from thinc<8.2.0,>=8.1.8->spacy>=2.0.18->inltk) (0.7.9)\n",
      "Requirement already satisfied: confection<1.0.0,>=0.0.1 in c:\\users\\thakr\\anaconda3\\envs\\pytorch_p37_2\\lib\\site-packages (from thinc<8.2.0,>=8.1.8->spacy>=2.0.18->inltk) (0.0.4)\n",
      "Requirement already satisfied: colorama in c:\\users\\thakr\\anaconda3\\envs\\pytorch_p37_2\\lib\\site-packages (from tqdm<5.0.0,>=4.38.0->spacy>=2.0.18->inltk) (0.4.6)\n",
      "Requirement already satisfied: click<9.0.0,>=7.1.1 in c:\\users\\thakr\\anaconda3\\envs\\pytorch_p37_2\\lib\\site-packages (from typer<0.8.0,>=0.3.0->spacy>=2.0.18->inltk) (8.1.3)\n",
      "Requirement already satisfied: MarkupSafe>=2.0 in c:\\users\\thakr\\anaconda3\\envs\\pytorch_p37_2\\lib\\site-packages (from jinja2->spacy>=2.0.18->inltk) (2.1.1)\n",
      "Collecting torch>=1.0.0\n",
      "  Using cached torch-1.13.1-cp37-cp37m-win_amd64.whl (162.6 MB)\n",
      "Requirement already satisfied: importlib-metadata in c:\\users\\thakr\\anaconda3\\envs\\pytorch_p37_2\\lib\\site-packages (from click<9.0.0,>=7.1.1->typer<0.8.0,>=0.3.0->spacy>=2.0.18->inltk) (4.11.3)\n",
      "Installing collected packages: torch\n",
      "  Attempting uninstall: torch\n",
      "    Found existing installation: torch 1.3.1+cpu\n",
      "    Uninstalling torch-1.3.1+cpu:\n",
      "      Successfully uninstalled torch-1.3.1+cpu\n"
     ]
    },
    {
     "name": "stderr",
     "output_type": "stream",
     "text": [
      "ERROR: Could not install packages due to an OSError: [WinError 5] Access is denied: 'c:\\\\users\\\\thakr\\\\anaconda3\\\\envs\\\\pytorch_p37_2\\\\lib\\\\site-packages\\\\~orch\\\\lib\\\\c10.dll'\n",
      "Consider using the `--user` option or check the permissions.\n",
      "\n"
     ]
    }
   ],
   "source": [
    "!pip install inltk"
   ]
  },
  {
   "cell_type": "code",
   "execution_count": 2,
   "id": "0fcdd3cc-a932-4826-bf1d-1a85cb183e82",
   "metadata": {},
   "outputs": [
    {
     "name": "stdout",
     "output_type": "stream",
     "text": [
      "Looking in links: https://download.pytorch.org/whl/torch_stable.html\n",
      "Collecting torch==1.3.1+cpu\n",
      "  Using cached https://download.pytorch.org/whl/cpu/torch-1.3.1%2Bcpu-cp37-cp37m-win_amd64.whl (71.3 MB)\n",
      "Requirement already satisfied: numpy in c:\\users\\thakr\\anaconda3\\envs\\pytorch_p37_2\\lib\\site-packages (from torch==1.3.1+cpu) (1.21.5)\n",
      "Installing collected packages: torch\n",
      "  Attempting uninstall: torch\n",
      "    Found existing installation: torch 1.13.1\n",
      "    Uninstalling torch-1.13.1:\n",
      "      Successfully uninstalled torch-1.13.1\n",
      "Successfully installed torch-1.3.1+cpu\n"
     ]
    },
    {
     "name": "stderr",
     "output_type": "stream",
     "text": [
      "ERROR: pip's dependency resolver does not currently take into account all the packages that are installed. This behaviour is the source of the following dependency conflicts.\n",
      "torchvision 0.14.1 requires torch==1.13.1, but you have torch 1.3.1+cpu which is incompatible.\n",
      "torchaudio 0.13.1 requires torch==1.13.1, but you have torch 1.3.1+cpu which is incompatible.\n"
     ]
    }
   ],
   "source": [
    "!pip install torch==1.3.1+cpu -f https://download.pytorch.org/whl/torch_stable.html"
   ]
  },
  {
   "cell_type": "code",
   "execution_count": 2,
   "id": "e2847f73-83e3-424d-831d-0abc849ea42e",
   "metadata": {},
   "outputs": [],
   "source": [
    "from inltk.inltk import setup"
   ]
  },
  {
   "cell_type": "code",
   "execution_count": 3,
   "id": "a98a17e6-c67e-49b8-a5c8-325a888b64bf",
   "metadata": {},
   "outputs": [
    {
     "ename": "RuntimeError",
     "evalue": "This event loop is already running",
     "output_type": "error",
     "traceback": [
      "\u001b[1;31m---------------------------------------------------------------------------\u001b[0m",
      "\u001b[1;31mRuntimeError\u001b[0m                              Traceback (most recent call last)",
      "\u001b[1;32m~\\AppData\\Local\\Temp\\ipykernel_7572\\691933637.py\u001b[0m in \u001b[0;36m<module>\u001b[1;34m\u001b[0m\n\u001b[1;32m----> 1\u001b[1;33m \u001b[0msetup\u001b[0m\u001b[1;33m(\u001b[0m\u001b[1;34m'hi'\u001b[0m\u001b[1;33m)\u001b[0m\u001b[1;33m\u001b[0m\u001b[1;33m\u001b[0m\u001b[0m\n\u001b[0m",
      "\u001b[1;32m~\\anaconda3\\envs\\pytorch_p37_2\\lib\\site-packages\\inltk\\inltk.py\u001b[0m in \u001b[0;36msetup\u001b[1;34m(language_code)\u001b[0m\n\u001b[0;32m     31\u001b[0m     \u001b[0mloop\u001b[0m \u001b[1;33m=\u001b[0m \u001b[0masyncio\u001b[0m\u001b[1;33m.\u001b[0m\u001b[0mget_event_loop\u001b[0m\u001b[1;33m(\u001b[0m\u001b[1;33m)\u001b[0m\u001b[1;33m\u001b[0m\u001b[1;33m\u001b[0m\u001b[0m\n\u001b[0;32m     32\u001b[0m     \u001b[0mtasks\u001b[0m \u001b[1;33m=\u001b[0m \u001b[1;33m[\u001b[0m\u001b[0masyncio\u001b[0m\u001b[1;33m.\u001b[0m\u001b[0mensure_future\u001b[0m\u001b[1;33m(\u001b[0m\u001b[0mdownload\u001b[0m\u001b[1;33m(\u001b[0m\u001b[0mlanguage_code\u001b[0m\u001b[1;33m)\u001b[0m\u001b[1;33m)\u001b[0m\u001b[1;33m]\u001b[0m\u001b[1;33m\u001b[0m\u001b[1;33m\u001b[0m\u001b[0m\n\u001b[1;32m---> 33\u001b[1;33m     \u001b[0mlearn\u001b[0m \u001b[1;33m=\u001b[0m \u001b[0mloop\u001b[0m\u001b[1;33m.\u001b[0m\u001b[0mrun_until_complete\u001b[0m\u001b[1;33m(\u001b[0m\u001b[0masyncio\u001b[0m\u001b[1;33m.\u001b[0m\u001b[0mgather\u001b[0m\u001b[1;33m(\u001b[0m\u001b[1;33m*\u001b[0m\u001b[0mtasks\u001b[0m\u001b[1;33m)\u001b[0m\u001b[1;33m)\u001b[0m\u001b[1;33m[\u001b[0m\u001b[1;36m0\u001b[0m\u001b[1;33m]\u001b[0m\u001b[1;33m\u001b[0m\u001b[1;33m\u001b[0m\u001b[0m\n\u001b[0m\u001b[0;32m     34\u001b[0m     \u001b[0mloop\u001b[0m\u001b[1;33m.\u001b[0m\u001b[0mclose\u001b[0m\u001b[1;33m(\u001b[0m\u001b[1;33m)\u001b[0m\u001b[1;33m\u001b[0m\u001b[1;33m\u001b[0m\u001b[0m\n\u001b[0;32m     35\u001b[0m \u001b[1;33m\u001b[0m\u001b[0m\n",
      "\u001b[1;32m~\\anaconda3\\envs\\pytorch_p37_2\\lib\\asyncio\\base_events.py\u001b[0m in \u001b[0;36mrun_until_complete\u001b[1;34m(self, future)\u001b[0m\n\u001b[0;32m    561\u001b[0m         \"\"\"\n\u001b[0;32m    562\u001b[0m         \u001b[0mself\u001b[0m\u001b[1;33m.\u001b[0m\u001b[0m_check_closed\u001b[0m\u001b[1;33m(\u001b[0m\u001b[1;33m)\u001b[0m\u001b[1;33m\u001b[0m\u001b[1;33m\u001b[0m\u001b[0m\n\u001b[1;32m--> 563\u001b[1;33m         \u001b[0mself\u001b[0m\u001b[1;33m.\u001b[0m\u001b[0m_check_runnung\u001b[0m\u001b[1;33m(\u001b[0m\u001b[1;33m)\u001b[0m\u001b[1;33m\u001b[0m\u001b[1;33m\u001b[0m\u001b[0m\n\u001b[0m\u001b[0;32m    564\u001b[0m \u001b[1;33m\u001b[0m\u001b[0m\n\u001b[0;32m    565\u001b[0m         \u001b[0mnew_task\u001b[0m \u001b[1;33m=\u001b[0m \u001b[1;32mnot\u001b[0m \u001b[0mfutures\u001b[0m\u001b[1;33m.\u001b[0m\u001b[0misfuture\u001b[0m\u001b[1;33m(\u001b[0m\u001b[0mfuture\u001b[0m\u001b[1;33m)\u001b[0m\u001b[1;33m\u001b[0m\u001b[1;33m\u001b[0m\u001b[0m\n",
      "\u001b[1;32m~\\anaconda3\\envs\\pytorch_p37_2\\lib\\asyncio\\base_events.py\u001b[0m in \u001b[0;36m_check_runnung\u001b[1;34m(self)\u001b[0m\n\u001b[0;32m    521\u001b[0m     \u001b[1;32mdef\u001b[0m \u001b[0m_check_runnung\u001b[0m\u001b[1;33m(\u001b[0m\u001b[0mself\u001b[0m\u001b[1;33m)\u001b[0m\u001b[1;33m:\u001b[0m\u001b[1;33m\u001b[0m\u001b[1;33m\u001b[0m\u001b[0m\n\u001b[0;32m    522\u001b[0m         \u001b[1;32mif\u001b[0m \u001b[0mself\u001b[0m\u001b[1;33m.\u001b[0m\u001b[0mis_running\u001b[0m\u001b[1;33m(\u001b[0m\u001b[1;33m)\u001b[0m\u001b[1;33m:\u001b[0m\u001b[1;33m\u001b[0m\u001b[1;33m\u001b[0m\u001b[0m\n\u001b[1;32m--> 523\u001b[1;33m             \u001b[1;32mraise\u001b[0m \u001b[0mRuntimeError\u001b[0m\u001b[1;33m(\u001b[0m\u001b[1;34m'This event loop is already running'\u001b[0m\u001b[1;33m)\u001b[0m\u001b[1;33m\u001b[0m\u001b[1;33m\u001b[0m\u001b[0m\n\u001b[0m\u001b[0;32m    524\u001b[0m         \u001b[1;32mif\u001b[0m \u001b[0mevents\u001b[0m\u001b[1;33m.\u001b[0m\u001b[0m_get_running_loop\u001b[0m\u001b[1;33m(\u001b[0m\u001b[1;33m)\u001b[0m \u001b[1;32mis\u001b[0m \u001b[1;32mnot\u001b[0m \u001b[1;32mNone\u001b[0m\u001b[1;33m:\u001b[0m\u001b[1;33m\u001b[0m\u001b[1;33m\u001b[0m\u001b[0m\n\u001b[0;32m    525\u001b[0m             raise RuntimeError(\n",
      "\u001b[1;31mRuntimeError\u001b[0m: This event loop is already running"
     ]
    },
    {
     "name": "stdout",
     "output_type": "stream",
     "text": [
      "Done!\n"
     ]
    }
   ],
   "source": [
    "setup('hi')"
   ]
  },
  {
   "cell_type": "code",
   "execution_count": 4,
   "id": "8bf8aa3a-6ce4-48fc-a0e4-b93d6a82abf7",
   "metadata": {},
   "outputs": [],
   "source": [
    "from inltk.inltk import tokenize, get_embedding_vectors, predict_next_words, get_sentence_encoding, get_sentence_similarity, get_similar_sentences"
   ]
  },
  {
   "cell_type": "markdown",
   "id": "23819f7a-4451-4c8f-95ce-8aa92ca2b1df",
   "metadata": {
    "jp-MarkdownHeadingCollapsed": true,
    "tags": []
   },
   "source": [
    "## **PYIWN prerequisites**"
   ]
  },
  {
   "cell_type": "code",
   "execution_count": 14,
   "id": "1d525e1e-bb3b-4fdc-b1fd-8b7a6c923abe",
   "metadata": {},
   "outputs": [
    {
     "name": "stdout",
     "output_type": "stream",
     "text": [
      "Requirement already satisfied: pyiwn in c:\\users\\thakr\\anaconda3\\envs\\pytorch_p37_2\\lib\\site-packages (0.0.5)\n",
      "Requirement already satisfied: pandas in c:\\users\\thakr\\anaconda3\\envs\\pytorch_p37_2\\lib\\site-packages (from pyiwn) (1.3.5)\n",
      "Requirement already satisfied: requests in c:\\users\\thakr\\anaconda3\\envs\\pytorch_p37_2\\lib\\site-packages (from pyiwn) (2.28.1)\n",
      "Requirement already satisfied: pytz>=2017.3 in c:\\users\\thakr\\anaconda3\\envs\\pytorch_p37_2\\lib\\site-packages (from pandas->pyiwn) (2022.7)\n",
      "Requirement already satisfied: python-dateutil>=2.7.3 in c:\\users\\thakr\\anaconda3\\envs\\pytorch_p37_2\\lib\\site-packages (from pandas->pyiwn) (2.8.2)\n",
      "Requirement already satisfied: numpy>=1.17.3 in c:\\users\\thakr\\anaconda3\\envs\\pytorch_p37_2\\lib\\site-packages (from pandas->pyiwn) (1.21.5)\n",
      "Requirement already satisfied: idna<4,>=2.5 in c:\\users\\thakr\\anaconda3\\envs\\pytorch_p37_2\\lib\\site-packages (from requests->pyiwn) (3.4)\n",
      "Requirement already satisfied: certifi>=2017.4.17 in c:\\users\\thakr\\anaconda3\\envs\\pytorch_p37_2\\lib\\site-packages (from requests->pyiwn) (2022.12.7)\n",
      "Requirement already satisfied: charset-normalizer<3,>=2 in c:\\users\\thakr\\anaconda3\\envs\\pytorch_p37_2\\lib\\site-packages (from requests->pyiwn) (2.0.4)\n",
      "Requirement already satisfied: urllib3<1.27,>=1.21.1 in c:\\users\\thakr\\anaconda3\\envs\\pytorch_p37_2\\lib\\site-packages (from requests->pyiwn) (1.26.14)\n",
      "Requirement already satisfied: six>=1.5 in c:\\users\\thakr\\anaconda3\\envs\\pytorch_p37_2\\lib\\site-packages (from python-dateutil>=2.7.3->pandas->pyiwn) (1.16.0)\n"
     ]
    }
   ],
   "source": [
    "!pip install --upgrade pyiwn"
   ]
  },
  {
   "cell_type": "code",
   "execution_count": 9,
   "id": "83b9c706-f5e6-47f9-af83-19863710a051",
   "metadata": {},
   "outputs": [],
   "source": [
    "import pyiwn"
   ]
  },
  {
   "cell_type": "markdown",
   "id": "6d027fea-291c-4e0d-a069-fde5a3bd4828",
   "metadata": {},
   "source": [
    "## ***Program execution***"
   ]
  },
  {
   "cell_type": "code",
   "execution_count": 10,
   "id": "00ad4a99-ba1c-41f9-88a9-7d29316554f7",
   "metadata": {},
   "outputs": [
    {
     "name": "stderr",
     "output_type": "stream",
     "text": [
      "2023-05-02:14:01:38,840 INFO     [iwn.py:43] Loading hindi language synsets...\n"
     ]
    }
   ],
   "source": [
    "iwn = pyiwn.IndoWordNet()"
   ]
  },
  {
   "cell_type": "markdown",
   "id": "1c148f49-f3a0-4f41-b876-a24542e0bdbb",
   "metadata": {
    "jp-MarkdownHeadingCollapsed": true,
    "tags": []
   },
   "source": [
    "#### *Stop words*"
   ]
  },
  {
   "cell_type": "code",
   "execution_count": 67,
   "id": "8d180039-1c67-4591-8e3f-95a5a7c6b192",
   "metadata": {},
   "outputs": [],
   "source": [
    "stop_words  = open(\"stopwords.txt\", \"r\")"
   ]
  },
  {
   "cell_type": "code",
   "execution_count": 68,
   "id": "30ebbbc9-70fe-4298-ba9a-3f5a757a2c16",
   "metadata": {},
   "outputs": [],
   "source": [
    "stop_words_list = []\n",
    "for line in stop_words:\n",
    "    line = line.strip('\\n').split()\n",
    "    stop_words_list.append(line[0])"
   ]
  },
  {
   "cell_type": "code",
   "execution_count": 69,
   "id": "08fba220-5f1d-4878-80c9-adc5b51f6e6f",
   "metadata": {},
   "outputs": [
    {
     "data": {
      "text/plain": [
       "['मैं',\n",
       " 'मुझको',\n",
       " 'मेरा',\n",
       " 'अपने',\n",
       " 'हमने',\n",
       " 'हमारा',\n",
       " 'अपना',\n",
       " 'हम',\n",
       " 'आप',\n",
       " 'आपका',\n",
       " 'तुम्हारा',\n",
       " 'अपने',\n",
       " 'स्वयं',\n",
       " 'वह',\n",
       " 'इसे',\n",
       " 'उसके',\n",
       " 'खुद',\n",
       " 'कि',\n",
       " 'उसकी',\n",
       " 'उसका',\n",
       " 'खुद',\n",
       " 'यह',\n",
       " 'इसके',\n",
       " 'उन्होने',\n",
       " 'अपने',\n",
       " 'क्या',\n",
       " 'जो',\n",
       " 'किसे',\n",
       " 'किसको',\n",
       " 'कि',\n",
       " 'ये',\n",
       " 'हूँ',\n",
       " 'होता',\n",
       " 'रहे',\n",
       " 'थी',\n",
       " 'थे',\n",
       " 'होना',\n",
       " 'गया',\n",
       " 'किया',\n",
       " 'किया',\n",
       " 'है',\n",
       " 'पडा',\n",
       " 'होने',\n",
       " 'करना',\n",
       " 'करता',\n",
       " 'किया',\n",
       " 'रही',\n",
       " 'एक',\n",
       " 'लेकिन',\n",
       " 'अगर',\n",
       " 'या',\n",
       " 'क्यूंकि',\n",
       " 'जैसा',\n",
       " 'जब',\n",
       " 'जबकि',\n",
       " 'की',\n",
       " 'पर',\n",
       " 'द्वारा',\n",
       " 'के',\n",
       " 'साथ',\n",
       " 'के',\n",
       " 'खिलाफ',\n",
       " 'बीच',\n",
       " 'में',\n",
       " 'के',\n",
       " 'दौरान',\n",
       " 'से',\n",
       " 'के',\n",
       " 'ऊपर',\n",
       " 'नीचे',\n",
       " 'को',\n",
       " 'से',\n",
       " 'तक',\n",
       " 'से',\n",
       " 'करने',\n",
       " 'निकल',\n",
       " 'बंद',\n",
       " 'से',\n",
       " 'तहत',\n",
       " 'दुबारा',\n",
       " 'आगे',\n",
       " 'फिर',\n",
       " 'एक',\n",
       " 'यहाँ',\n",
       " 'वहाँ',\n",
       " 'कब',\n",
       " 'कहाँ',\n",
       " 'क्यों',\n",
       " 'कैसे',\n",
       " 'सारे',\n",
       " 'किसी',\n",
       " 'दोनो',\n",
       " 'प्रत्येक',\n",
       " 'ज्यादा',\n",
       " 'अधिकांश',\n",
       " 'अन्य',\n",
       " 'में',\n",
       " 'ऐसा',\n",
       " 'में',\n",
       " 'मात्र',\n",
       " 'खुद',\n",
       " 'समान',\n",
       " 'इसलिए',\n",
       " 'बहुत',\n",
       " 'सकता',\n",
       " 'जायेंगे',\n",
       " 'जरा',\n",
       " 'चाहिए',\n",
       " 'अभी',\n",
       " 'और',\n",
       " 'कर',\n",
       " 'रखें',\n",
       " 'का',\n",
       " 'हैं',\n",
       " 'इस',\n",
       " 'होता',\n",
       " 'करने',\n",
       " 'ने',\n",
       " 'बनी',\n",
       " 'तो',\n",
       " 'ही',\n",
       " 'हो',\n",
       " 'इसका',\n",
       " 'था',\n",
       " 'हुआ',\n",
       " 'वाले',\n",
       " 'बाद',\n",
       " 'लिए',\n",
       " 'सकते',\n",
       " 'इसमें',\n",
       " 'दो',\n",
       " 'वे',\n",
       " 'करते',\n",
       " 'कहा',\n",
       " 'वर्ग',\n",
       " 'कई',\n",
       " 'करें',\n",
       " 'होती',\n",
       " 'अपनी',\n",
       " 'उनके',\n",
       " 'यदि',\n",
       " 'हुई',\n",
       " 'जा',\n",
       " 'कहते',\n",
       " 'जब',\n",
       " 'होते',\n",
       " 'कोई',\n",
       " 'हुए',\n",
       " 'व',\n",
       " 'जैसे',\n",
       " 'सभी',\n",
       " 'करता',\n",
       " 'उनकी',\n",
       " 'तरह',\n",
       " 'उस',\n",
       " 'आदि',\n",
       " 'इसकी',\n",
       " 'उनका',\n",
       " 'इसी',\n",
       " 'पे',\n",
       " 'तथा',\n",
       " 'भी',\n",
       " 'परंतु',\n",
       " 'इन',\n",
       " 'कम',\n",
       " 'दूर',\n",
       " 'पूरे',\n",
       " 'गये',\n",
       " 'तुम',\n",
       " 'मै',\n",
       " 'यहां',\n",
       " 'हुये',\n",
       " 'कभी',\n",
       " 'अथवा',\n",
       " 'गयी',\n",
       " 'प्रति',\n",
       " 'जाता',\n",
       " 'इन्हें',\n",
       " 'गई',\n",
       " 'अब',\n",
       " 'जिसमें',\n",
       " 'लिया',\n",
       " 'बड़ा',\n",
       " 'जाती',\n",
       " 'तब',\n",
       " 'उसे',\n",
       " 'जाते',\n",
       " 'लेकर',\n",
       " 'बड़े',\n",
       " 'दूसरे',\n",
       " 'जाने',\n",
       " 'बाहर',\n",
       " 'स्थान',\n",
       " 'उन्हें',\n",
       " 'गए',\n",
       " 'ऐसे',\n",
       " 'जिससे',\n",
       " 'समय',\n",
       " 'दोनों',\n",
       " 'किए',\n",
       " 'रहती',\n",
       " 'इनके',\n",
       " 'इनका',\n",
       " 'इनकी',\n",
       " 'सकती',\n",
       " 'आज',\n",
       " 'कल',\n",
       " 'जिन्हें',\n",
       " 'जिन्हों',\n",
       " 'तिन्हें',\n",
       " 'तिन्हों',\n",
       " 'किन्हों',\n",
       " 'किन्हें',\n",
       " 'इत्यादि',\n",
       " 'इन्हों',\n",
       " 'उन्हों',\n",
       " 'बिलकुल',\n",
       " 'निहायत',\n",
       " 'इन्हीं',\n",
       " 'उन्हीं',\n",
       " 'जितना',\n",
       " 'दूसरा',\n",
       " 'कितना',\n",
       " 'साबुत',\n",
       " 'वग़ैरह',\n",
       " 'कौनसा',\n",
       " 'लिये',\n",
       " 'दिया',\n",
       " 'जिसे',\n",
       " 'तिसे',\n",
       " 'काफ़ी',\n",
       " 'पहले',\n",
       " 'बाला',\n",
       " 'मानो',\n",
       " 'अंदर',\n",
       " 'भीतर',\n",
       " 'पूरा',\n",
       " 'सारा',\n",
       " 'उनको',\n",
       " 'वहीं',\n",
       " 'जहाँ',\n",
       " 'जीधर',\n",
       " '\\ufeffके',\n",
       " 'एवं',\n",
       " 'कुछ',\n",
       " 'कुल',\n",
       " 'रहा',\n",
       " 'जिस',\n",
       " 'जिन',\n",
       " 'तिस',\n",
       " 'तिन',\n",
       " 'कौन',\n",
       " 'किस',\n",
       " 'संग',\n",
       " 'यही',\n",
       " 'बही',\n",
       " 'उसी',\n",
       " 'मगर',\n",
       " 'कर',\n",
       " 'मे',\n",
       " 'एस',\n",
       " 'उन',\n",
       " 'सो',\n",
       " 'अत']"
      ]
     },
     "execution_count": 69,
     "metadata": {},
     "output_type": "execute_result"
    }
   ],
   "source": [
    "stop_words_list"
   ]
  },
  {
   "cell_type": "markdown",
   "id": "91369c5c-0aa9-418e-8e63-557a14d6fe29",
   "metadata": {
    "jp-MarkdownHeadingCollapsed": true,
    "tags": []
   },
   "source": [
    "#### *Preprocessing*"
   ]
  },
  {
   "cell_type": "code",
   "execution_count": 79,
   "id": "881216b1-fb81-437d-9e15-36b17db1c20e",
   "metadata": {},
   "outputs": [],
   "source": [
    "def preprocess_sentence(sentence):\n",
    "    tokenized_ips = tokenize(sentence, 'hi')\n",
    "    for i in range(len(tokenized_ips)):\n",
    "        tokenized_ips[i] = tokenized_ips[i][1:]\n",
    "    preprocessed_ips = \"\"\n",
    "    for token in tokenized_ips:\n",
    "        if token not in stop_words_list:\n",
    "            preprocessed_ips += (\" \"+token)\n",
    "    return preprocessed_ips"
   ]
  },
  {
   "cell_type": "markdown",
   "id": "f27edb2e-44e2-47f4-af6d-199d9eb92347",
   "metadata": {
    "tags": []
   },
   "source": [
    "#### *Example 1- वे पेड़ के नीचे पत्ते खेल रहे हैं*"
   ]
  },
  {
   "cell_type": "code",
   "execution_count": 80,
   "id": "c0b92dea-73f6-427e-9d9e-1e4b918f5c02",
   "metadata": {},
   "outputs": [],
   "source": [
    "ips = \"वे पेड़ के नीचे पत्ते खेल रहे हैं\"\n",
    "s2 = \"वे पेड़ के नीचे ताश खेल रहे हैं\"\n",
    "s3 = \"वे पेड़ के नीचे पर्ण खेल रहे हैं\""
   ]
  },
  {
   "cell_type": "code",
   "execution_count": 74,
   "id": "73940cec-be8b-4898-aa96-91c250efcf4f",
   "metadata": {},
   "outputs": [],
   "source": [
    "ppc_ips = preprocess_sentence(ips)\n",
    "ppc_s2 = preprocess_sentence(s2)\n",
    "ppc_s3 = preprocess_sentence(s3)"
   ]
  },
  {
   "cell_type": "code",
   "execution_count": 75,
   "id": "59475413-80e4-4b64-99e7-e5c868b2fe9d",
   "metadata": {},
   "outputs": [
    {
     "name": "stdout",
     "output_type": "stream",
     "text": [
      " पेड़ पत्ते खेल\n",
      " पेड़ ताश खेल\n",
      " पेड़  र्ण खेल\n"
     ]
    }
   ],
   "source": [
    "print(ppc_ips)\n",
    "print(ppc_s2)\n",
    "print(ppc_s3)"
   ]
  },
  {
   "cell_type": "code",
   "execution_count": 82,
   "id": "512b9a70-6cfa-418a-a5e9-6643326a3e50",
   "metadata": {},
   "outputs": [
    {
     "name": "stdout",
     "output_type": "stream",
     "text": [
      "Raw\t\t\tPreprocessed\n",
      "\n"
     ]
    },
    {
     "data": {
      "text/html": [
       "\n",
       "<style>\n",
       "    /* Turns off some styling */\n",
       "    progress {\n",
       "        /* gets rid of default border in Firefox and Opera. */\n",
       "        border: none;\n",
       "        /* Needs to be in here for Safari polyfill so background images work as expected. */\n",
       "        background-size: auto;\n",
       "    }\n",
       "    progress:not([value]), progress:not([value])::-webkit-progress-bar {\n",
       "        background: repeating-linear-gradient(45deg, #7e7e7e, #7e7e7e 10px, #5c5c5c 10px, #5c5c5c 20px);\n",
       "    }\n",
       "    .progress-bar-interrupted, .progress-bar-interrupted::-webkit-progress-bar {\n",
       "        background: #F44336;\n",
       "    }\n",
       "</style>\n"
      ],
      "text/plain": [
       "<IPython.core.display.HTML object>"
      ]
     },
     "metadata": {},
     "output_type": "display_data"
    },
    {
     "data": {
      "text/html": [],
      "text/plain": [
       "<IPython.core.display.HTML object>"
      ]
     },
     "metadata": {},
     "output_type": "display_data"
    },
    {
     "data": {
      "text/html": [
       "\n",
       "<style>\n",
       "    /* Turns off some styling */\n",
       "    progress {\n",
       "        /* gets rid of default border in Firefox and Opera. */\n",
       "        border: none;\n",
       "        /* Needs to be in here for Safari polyfill so background images work as expected. */\n",
       "        background-size: auto;\n",
       "    }\n",
       "    progress:not([value]), progress:not([value])::-webkit-progress-bar {\n",
       "        background: repeating-linear-gradient(45deg, #7e7e7e, #7e7e7e 10px, #5c5c5c 10px, #5c5c5c 20px);\n",
       "    }\n",
       "    .progress-bar-interrupted, .progress-bar-interrupted::-webkit-progress-bar {\n",
       "        background: #F44336;\n",
       "    }\n",
       "</style>\n"
      ],
      "text/plain": [
       "<IPython.core.display.HTML object>"
      ]
     },
     "metadata": {},
     "output_type": "display_data"
    },
    {
     "data": {
      "text/html": [],
      "text/plain": [
       "<IPython.core.display.HTML object>"
      ]
     },
     "metadata": {},
     "output_type": "display_data"
    },
    {
     "data": {
      "text/html": [
       "\n",
       "<style>\n",
       "    /* Turns off some styling */\n",
       "    progress {\n",
       "        /* gets rid of default border in Firefox and Opera. */\n",
       "        border: none;\n",
       "        /* Needs to be in here for Safari polyfill so background images work as expected. */\n",
       "        background-size: auto;\n",
       "    }\n",
       "    progress:not([value]), progress:not([value])::-webkit-progress-bar {\n",
       "        background: repeating-linear-gradient(45deg, #7e7e7e, #7e7e7e 10px, #5c5c5c 10px, #5c5c5c 20px);\n",
       "    }\n",
       "    .progress-bar-interrupted, .progress-bar-interrupted::-webkit-progress-bar {\n",
       "        background: #F44336;\n",
       "    }\n",
       "</style>\n"
      ],
      "text/plain": [
       "<IPython.core.display.HTML object>"
      ]
     },
     "metadata": {},
     "output_type": "display_data"
    },
    {
     "data": {
      "text/html": [],
      "text/plain": [
       "<IPython.core.display.HTML object>"
      ]
     },
     "metadata": {},
     "output_type": "display_data"
    },
    {
     "data": {
      "text/html": [
       "\n",
       "<style>\n",
       "    /* Turns off some styling */\n",
       "    progress {\n",
       "        /* gets rid of default border in Firefox and Opera. */\n",
       "        border: none;\n",
       "        /* Needs to be in here for Safari polyfill so background images work as expected. */\n",
       "        background-size: auto;\n",
       "    }\n",
       "    progress:not([value]), progress:not([value])::-webkit-progress-bar {\n",
       "        background: repeating-linear-gradient(45deg, #7e7e7e, #7e7e7e 10px, #5c5c5c 10px, #5c5c5c 20px);\n",
       "    }\n",
       "    .progress-bar-interrupted, .progress-bar-interrupted::-webkit-progress-bar {\n",
       "        background: #F44336;\n",
       "    }\n",
       "</style>\n"
      ],
      "text/plain": [
       "<IPython.core.display.HTML object>"
      ]
     },
     "metadata": {},
     "output_type": "display_data"
    },
    {
     "data": {
      "text/html": [],
      "text/plain": [
       "<IPython.core.display.HTML object>"
      ]
     },
     "metadata": {},
     "output_type": "display_data"
    },
    {
     "data": {
      "text/html": [
       "\n",
       "<style>\n",
       "    /* Turns off some styling */\n",
       "    progress {\n",
       "        /* gets rid of default border in Firefox and Opera. */\n",
       "        border: none;\n",
       "        /* Needs to be in here for Safari polyfill so background images work as expected. */\n",
       "        background-size: auto;\n",
       "    }\n",
       "    progress:not([value]), progress:not([value])::-webkit-progress-bar {\n",
       "        background: repeating-linear-gradient(45deg, #7e7e7e, #7e7e7e 10px, #5c5c5c 10px, #5c5c5c 20px);\n",
       "    }\n",
       "    .progress-bar-interrupted, .progress-bar-interrupted::-webkit-progress-bar {\n",
       "        background: #F44336;\n",
       "    }\n",
       "</style>\n"
      ],
      "text/plain": [
       "<IPython.core.display.HTML object>"
      ]
     },
     "metadata": {},
     "output_type": "display_data"
    },
    {
     "data": {
      "text/html": [],
      "text/plain": [
       "<IPython.core.display.HTML object>"
      ]
     },
     "metadata": {},
     "output_type": "display_data"
    },
    {
     "data": {
      "text/html": [
       "\n",
       "<style>\n",
       "    /* Turns off some styling */\n",
       "    progress {\n",
       "        /* gets rid of default border in Firefox and Opera. */\n",
       "        border: none;\n",
       "        /* Needs to be in here for Safari polyfill so background images work as expected. */\n",
       "        background-size: auto;\n",
       "    }\n",
       "    progress:not([value]), progress:not([value])::-webkit-progress-bar {\n",
       "        background: repeating-linear-gradient(45deg, #7e7e7e, #7e7e7e 10px, #5c5c5c 10px, #5c5c5c 20px);\n",
       "    }\n",
       "    .progress-bar-interrupted, .progress-bar-interrupted::-webkit-progress-bar {\n",
       "        background: #F44336;\n",
       "    }\n",
       "</style>\n"
      ],
      "text/plain": [
       "<IPython.core.display.HTML object>"
      ]
     },
     "metadata": {},
     "output_type": "display_data"
    },
    {
     "data": {
      "text/html": [],
      "text/plain": [
       "<IPython.core.display.HTML object>"
      ]
     },
     "metadata": {},
     "output_type": "display_data"
    },
    {
     "data": {
      "text/html": [
       "\n",
       "<style>\n",
       "    /* Turns off some styling */\n",
       "    progress {\n",
       "        /* gets rid of default border in Firefox and Opera. */\n",
       "        border: none;\n",
       "        /* Needs to be in here for Safari polyfill so background images work as expected. */\n",
       "        background-size: auto;\n",
       "    }\n",
       "    progress:not([value]), progress:not([value])::-webkit-progress-bar {\n",
       "        background: repeating-linear-gradient(45deg, #7e7e7e, #7e7e7e 10px, #5c5c5c 10px, #5c5c5c 20px);\n",
       "    }\n",
       "    .progress-bar-interrupted, .progress-bar-interrupted::-webkit-progress-bar {\n",
       "        background: #F44336;\n",
       "    }\n",
       "</style>\n"
      ],
      "text/plain": [
       "<IPython.core.display.HTML object>"
      ]
     },
     "metadata": {},
     "output_type": "display_data"
    },
    {
     "data": {
      "text/html": [],
      "text/plain": [
       "<IPython.core.display.HTML object>"
      ]
     },
     "metadata": {},
     "output_type": "display_data"
    },
    {
     "data": {
      "text/html": [
       "\n",
       "<style>\n",
       "    /* Turns off some styling */\n",
       "    progress {\n",
       "        /* gets rid of default border in Firefox and Opera. */\n",
       "        border: none;\n",
       "        /* Needs to be in here for Safari polyfill so background images work as expected. */\n",
       "        background-size: auto;\n",
       "    }\n",
       "    progress:not([value]), progress:not([value])::-webkit-progress-bar {\n",
       "        background: repeating-linear-gradient(45deg, #7e7e7e, #7e7e7e 10px, #5c5c5c 10px, #5c5c5c 20px);\n",
       "    }\n",
       "    .progress-bar-interrupted, .progress-bar-interrupted::-webkit-progress-bar {\n",
       "        background: #F44336;\n",
       "    }\n",
       "</style>\n"
      ],
      "text/plain": [
       "<IPython.core.display.HTML object>"
      ]
     },
     "metadata": {},
     "output_type": "display_data"
    },
    {
     "data": {
      "text/html": [],
      "text/plain": [
       "<IPython.core.display.HTML object>"
      ]
     },
     "metadata": {},
     "output_type": "display_data"
    },
    {
     "name": "stdout",
     "output_type": "stream",
     "text": [
      "0.9204173684120178\t0.6947665214538574\n"
     ]
    },
    {
     "data": {
      "text/html": [
       "\n",
       "<style>\n",
       "    /* Turns off some styling */\n",
       "    progress {\n",
       "        /* gets rid of default border in Firefox and Opera. */\n",
       "        border: none;\n",
       "        /* Needs to be in here for Safari polyfill so background images work as expected. */\n",
       "        background-size: auto;\n",
       "    }\n",
       "    progress:not([value]), progress:not([value])::-webkit-progress-bar {\n",
       "        background: repeating-linear-gradient(45deg, #7e7e7e, #7e7e7e 10px, #5c5c5c 10px, #5c5c5c 20px);\n",
       "    }\n",
       "    .progress-bar-interrupted, .progress-bar-interrupted::-webkit-progress-bar {\n",
       "        background: #F44336;\n",
       "    }\n",
       "</style>\n"
      ],
      "text/plain": [
       "<IPython.core.display.HTML object>"
      ]
     },
     "metadata": {},
     "output_type": "display_data"
    },
    {
     "data": {
      "text/html": [],
      "text/plain": [
       "<IPython.core.display.HTML object>"
      ]
     },
     "metadata": {},
     "output_type": "display_data"
    },
    {
     "data": {
      "text/html": [
       "\n",
       "<style>\n",
       "    /* Turns off some styling */\n",
       "    progress {\n",
       "        /* gets rid of default border in Firefox and Opera. */\n",
       "        border: none;\n",
       "        /* Needs to be in here for Safari polyfill so background images work as expected. */\n",
       "        background-size: auto;\n",
       "    }\n",
       "    progress:not([value]), progress:not([value])::-webkit-progress-bar {\n",
       "        background: repeating-linear-gradient(45deg, #7e7e7e, #7e7e7e 10px, #5c5c5c 10px, #5c5c5c 20px);\n",
       "    }\n",
       "    .progress-bar-interrupted, .progress-bar-interrupted::-webkit-progress-bar {\n",
       "        background: #F44336;\n",
       "    }\n",
       "</style>\n"
      ],
      "text/plain": [
       "<IPython.core.display.HTML object>"
      ]
     },
     "metadata": {},
     "output_type": "display_data"
    },
    {
     "data": {
      "text/html": [],
      "text/plain": [
       "<IPython.core.display.HTML object>"
      ]
     },
     "metadata": {},
     "output_type": "display_data"
    },
    {
     "data": {
      "text/html": [
       "\n",
       "<style>\n",
       "    /* Turns off some styling */\n",
       "    progress {\n",
       "        /* gets rid of default border in Firefox and Opera. */\n",
       "        border: none;\n",
       "        /* Needs to be in here for Safari polyfill so background images work as expected. */\n",
       "        background-size: auto;\n",
       "    }\n",
       "    progress:not([value]), progress:not([value])::-webkit-progress-bar {\n",
       "        background: repeating-linear-gradient(45deg, #7e7e7e, #7e7e7e 10px, #5c5c5c 10px, #5c5c5c 20px);\n",
       "    }\n",
       "    .progress-bar-interrupted, .progress-bar-interrupted::-webkit-progress-bar {\n",
       "        background: #F44336;\n",
       "    }\n",
       "</style>\n"
      ],
      "text/plain": [
       "<IPython.core.display.HTML object>"
      ]
     },
     "metadata": {},
     "output_type": "display_data"
    },
    {
     "data": {
      "text/html": [],
      "text/plain": [
       "<IPython.core.display.HTML object>"
      ]
     },
     "metadata": {},
     "output_type": "display_data"
    },
    {
     "data": {
      "text/html": [
       "\n",
       "<style>\n",
       "    /* Turns off some styling */\n",
       "    progress {\n",
       "        /* gets rid of default border in Firefox and Opera. */\n",
       "        border: none;\n",
       "        /* Needs to be in here for Safari polyfill so background images work as expected. */\n",
       "        background-size: auto;\n",
       "    }\n",
       "    progress:not([value]), progress:not([value])::-webkit-progress-bar {\n",
       "        background: repeating-linear-gradient(45deg, #7e7e7e, #7e7e7e 10px, #5c5c5c 10px, #5c5c5c 20px);\n",
       "    }\n",
       "    .progress-bar-interrupted, .progress-bar-interrupted::-webkit-progress-bar {\n",
       "        background: #F44336;\n",
       "    }\n",
       "</style>\n"
      ],
      "text/plain": [
       "<IPython.core.display.HTML object>"
      ]
     },
     "metadata": {},
     "output_type": "display_data"
    },
    {
     "data": {
      "text/html": [],
      "text/plain": [
       "<IPython.core.display.HTML object>"
      ]
     },
     "metadata": {},
     "output_type": "display_data"
    },
    {
     "data": {
      "text/html": [
       "\n",
       "<style>\n",
       "    /* Turns off some styling */\n",
       "    progress {\n",
       "        /* gets rid of default border in Firefox and Opera. */\n",
       "        border: none;\n",
       "        /* Needs to be in here for Safari polyfill so background images work as expected. */\n",
       "        background-size: auto;\n",
       "    }\n",
       "    progress:not([value]), progress:not([value])::-webkit-progress-bar {\n",
       "        background: repeating-linear-gradient(45deg, #7e7e7e, #7e7e7e 10px, #5c5c5c 10px, #5c5c5c 20px);\n",
       "    }\n",
       "    .progress-bar-interrupted, .progress-bar-interrupted::-webkit-progress-bar {\n",
       "        background: #F44336;\n",
       "    }\n",
       "</style>\n"
      ],
      "text/plain": [
       "<IPython.core.display.HTML object>"
      ]
     },
     "metadata": {},
     "output_type": "display_data"
    },
    {
     "data": {
      "text/html": [],
      "text/plain": [
       "<IPython.core.display.HTML object>"
      ]
     },
     "metadata": {},
     "output_type": "display_data"
    },
    {
     "data": {
      "text/html": [
       "\n",
       "<style>\n",
       "    /* Turns off some styling */\n",
       "    progress {\n",
       "        /* gets rid of default border in Firefox and Opera. */\n",
       "        border: none;\n",
       "        /* Needs to be in here for Safari polyfill so background images work as expected. */\n",
       "        background-size: auto;\n",
       "    }\n",
       "    progress:not([value]), progress:not([value])::-webkit-progress-bar {\n",
       "        background: repeating-linear-gradient(45deg, #7e7e7e, #7e7e7e 10px, #5c5c5c 10px, #5c5c5c 20px);\n",
       "    }\n",
       "    .progress-bar-interrupted, .progress-bar-interrupted::-webkit-progress-bar {\n",
       "        background: #F44336;\n",
       "    }\n",
       "</style>\n"
      ],
      "text/plain": [
       "<IPython.core.display.HTML object>"
      ]
     },
     "metadata": {},
     "output_type": "display_data"
    },
    {
     "data": {
      "text/html": [],
      "text/plain": [
       "<IPython.core.display.HTML object>"
      ]
     },
     "metadata": {},
     "output_type": "display_data"
    },
    {
     "data": {
      "text/html": [
       "\n",
       "<style>\n",
       "    /* Turns off some styling */\n",
       "    progress {\n",
       "        /* gets rid of default border in Firefox and Opera. */\n",
       "        border: none;\n",
       "        /* Needs to be in here for Safari polyfill so background images work as expected. */\n",
       "        background-size: auto;\n",
       "    }\n",
       "    progress:not([value]), progress:not([value])::-webkit-progress-bar {\n",
       "        background: repeating-linear-gradient(45deg, #7e7e7e, #7e7e7e 10px, #5c5c5c 10px, #5c5c5c 20px);\n",
       "    }\n",
       "    .progress-bar-interrupted, .progress-bar-interrupted::-webkit-progress-bar {\n",
       "        background: #F44336;\n",
       "    }\n",
       "</style>\n"
      ],
      "text/plain": [
       "<IPython.core.display.HTML object>"
      ]
     },
     "metadata": {},
     "output_type": "display_data"
    },
    {
     "data": {
      "text/html": [],
      "text/plain": [
       "<IPython.core.display.HTML object>"
      ]
     },
     "metadata": {},
     "output_type": "display_data"
    },
    {
     "data": {
      "text/html": [
       "\n",
       "<style>\n",
       "    /* Turns off some styling */\n",
       "    progress {\n",
       "        /* gets rid of default border in Firefox and Opera. */\n",
       "        border: none;\n",
       "        /* Needs to be in here for Safari polyfill so background images work as expected. */\n",
       "        background-size: auto;\n",
       "    }\n",
       "    progress:not([value]), progress:not([value])::-webkit-progress-bar {\n",
       "        background: repeating-linear-gradient(45deg, #7e7e7e, #7e7e7e 10px, #5c5c5c 10px, #5c5c5c 20px);\n",
       "    }\n",
       "    .progress-bar-interrupted, .progress-bar-interrupted::-webkit-progress-bar {\n",
       "        background: #F44336;\n",
       "    }\n",
       "</style>\n"
      ],
      "text/plain": [
       "<IPython.core.display.HTML object>"
      ]
     },
     "metadata": {},
     "output_type": "display_data"
    },
    {
     "data": {
      "text/html": [],
      "text/plain": [
       "<IPython.core.display.HTML object>"
      ]
     },
     "metadata": {},
     "output_type": "display_data"
    },
    {
     "name": "stdout",
     "output_type": "stream",
     "text": [
      "0.8794642090797424\t0.5245196223258972\n"
     ]
    },
    {
     "data": {
      "text/html": [
       "\n",
       "<style>\n",
       "    /* Turns off some styling */\n",
       "    progress {\n",
       "        /* gets rid of default border in Firefox and Opera. */\n",
       "        border: none;\n",
       "        /* Needs to be in here for Safari polyfill so background images work as expected. */\n",
       "        background-size: auto;\n",
       "    }\n",
       "    progress:not([value]), progress:not([value])::-webkit-progress-bar {\n",
       "        background: repeating-linear-gradient(45deg, #7e7e7e, #7e7e7e 10px, #5c5c5c 10px, #5c5c5c 20px);\n",
       "    }\n",
       "    .progress-bar-interrupted, .progress-bar-interrupted::-webkit-progress-bar {\n",
       "        background: #F44336;\n",
       "    }\n",
       "</style>\n"
      ],
      "text/plain": [
       "<IPython.core.display.HTML object>"
      ]
     },
     "metadata": {},
     "output_type": "display_data"
    },
    {
     "data": {
      "text/html": [],
      "text/plain": [
       "<IPython.core.display.HTML object>"
      ]
     },
     "metadata": {},
     "output_type": "display_data"
    },
    {
     "data": {
      "text/html": [
       "\n",
       "<style>\n",
       "    /* Turns off some styling */\n",
       "    progress {\n",
       "        /* gets rid of default border in Firefox and Opera. */\n",
       "        border: none;\n",
       "        /* Needs to be in here for Safari polyfill so background images work as expected. */\n",
       "        background-size: auto;\n",
       "    }\n",
       "    progress:not([value]), progress:not([value])::-webkit-progress-bar {\n",
       "        background: repeating-linear-gradient(45deg, #7e7e7e, #7e7e7e 10px, #5c5c5c 10px, #5c5c5c 20px);\n",
       "    }\n",
       "    .progress-bar-interrupted, .progress-bar-interrupted::-webkit-progress-bar {\n",
       "        background: #F44336;\n",
       "    }\n",
       "</style>\n"
      ],
      "text/plain": [
       "<IPython.core.display.HTML object>"
      ]
     },
     "metadata": {},
     "output_type": "display_data"
    },
    {
     "data": {
      "text/html": [],
      "text/plain": [
       "<IPython.core.display.HTML object>"
      ]
     },
     "metadata": {},
     "output_type": "display_data"
    },
    {
     "data": {
      "text/html": [
       "\n",
       "<style>\n",
       "    /* Turns off some styling */\n",
       "    progress {\n",
       "        /* gets rid of default border in Firefox and Opera. */\n",
       "        border: none;\n",
       "        /* Needs to be in here for Safari polyfill so background images work as expected. */\n",
       "        background-size: auto;\n",
       "    }\n",
       "    progress:not([value]), progress:not([value])::-webkit-progress-bar {\n",
       "        background: repeating-linear-gradient(45deg, #7e7e7e, #7e7e7e 10px, #5c5c5c 10px, #5c5c5c 20px);\n",
       "    }\n",
       "    .progress-bar-interrupted, .progress-bar-interrupted::-webkit-progress-bar {\n",
       "        background: #F44336;\n",
       "    }\n",
       "</style>\n"
      ],
      "text/plain": [
       "<IPython.core.display.HTML object>"
      ]
     },
     "metadata": {},
     "output_type": "display_data"
    },
    {
     "data": {
      "text/html": [],
      "text/plain": [
       "<IPython.core.display.HTML object>"
      ]
     },
     "metadata": {},
     "output_type": "display_data"
    },
    {
     "data": {
      "text/html": [
       "\n",
       "<style>\n",
       "    /* Turns off some styling */\n",
       "    progress {\n",
       "        /* gets rid of default border in Firefox and Opera. */\n",
       "        border: none;\n",
       "        /* Needs to be in here for Safari polyfill so background images work as expected. */\n",
       "        background-size: auto;\n",
       "    }\n",
       "    progress:not([value]), progress:not([value])::-webkit-progress-bar {\n",
       "        background: repeating-linear-gradient(45deg, #7e7e7e, #7e7e7e 10px, #5c5c5c 10px, #5c5c5c 20px);\n",
       "    }\n",
       "    .progress-bar-interrupted, .progress-bar-interrupted::-webkit-progress-bar {\n",
       "        background: #F44336;\n",
       "    }\n",
       "</style>\n"
      ],
      "text/plain": [
       "<IPython.core.display.HTML object>"
      ]
     },
     "metadata": {},
     "output_type": "display_data"
    },
    {
     "data": {
      "text/html": [],
      "text/plain": [
       "<IPython.core.display.HTML object>"
      ]
     },
     "metadata": {},
     "output_type": "display_data"
    },
    {
     "data": {
      "text/html": [
       "\n",
       "<style>\n",
       "    /* Turns off some styling */\n",
       "    progress {\n",
       "        /* gets rid of default border in Firefox and Opera. */\n",
       "        border: none;\n",
       "        /* Needs to be in here for Safari polyfill so background images work as expected. */\n",
       "        background-size: auto;\n",
       "    }\n",
       "    progress:not([value]), progress:not([value])::-webkit-progress-bar {\n",
       "        background: repeating-linear-gradient(45deg, #7e7e7e, #7e7e7e 10px, #5c5c5c 10px, #5c5c5c 20px);\n",
       "    }\n",
       "    .progress-bar-interrupted, .progress-bar-interrupted::-webkit-progress-bar {\n",
       "        background: #F44336;\n",
       "    }\n",
       "</style>\n"
      ],
      "text/plain": [
       "<IPython.core.display.HTML object>"
      ]
     },
     "metadata": {},
     "output_type": "display_data"
    },
    {
     "data": {
      "text/html": [],
      "text/plain": [
       "<IPython.core.display.HTML object>"
      ]
     },
     "metadata": {},
     "output_type": "display_data"
    },
    {
     "data": {
      "text/html": [
       "\n",
       "<style>\n",
       "    /* Turns off some styling */\n",
       "    progress {\n",
       "        /* gets rid of default border in Firefox and Opera. */\n",
       "        border: none;\n",
       "        /* Needs to be in here for Safari polyfill so background images work as expected. */\n",
       "        background-size: auto;\n",
       "    }\n",
       "    progress:not([value]), progress:not([value])::-webkit-progress-bar {\n",
       "        background: repeating-linear-gradient(45deg, #7e7e7e, #7e7e7e 10px, #5c5c5c 10px, #5c5c5c 20px);\n",
       "    }\n",
       "    .progress-bar-interrupted, .progress-bar-interrupted::-webkit-progress-bar {\n",
       "        background: #F44336;\n",
       "    }\n",
       "</style>\n"
      ],
      "text/plain": [
       "<IPython.core.display.HTML object>"
      ]
     },
     "metadata": {},
     "output_type": "display_data"
    },
    {
     "data": {
      "text/html": [],
      "text/plain": [
       "<IPython.core.display.HTML object>"
      ]
     },
     "metadata": {},
     "output_type": "display_data"
    },
    {
     "data": {
      "text/html": [
       "\n",
       "<style>\n",
       "    /* Turns off some styling */\n",
       "    progress {\n",
       "        /* gets rid of default border in Firefox and Opera. */\n",
       "        border: none;\n",
       "        /* Needs to be in here for Safari polyfill so background images work as expected. */\n",
       "        background-size: auto;\n",
       "    }\n",
       "    progress:not([value]), progress:not([value])::-webkit-progress-bar {\n",
       "        background: repeating-linear-gradient(45deg, #7e7e7e, #7e7e7e 10px, #5c5c5c 10px, #5c5c5c 20px);\n",
       "    }\n",
       "    .progress-bar-interrupted, .progress-bar-interrupted::-webkit-progress-bar {\n",
       "        background: #F44336;\n",
       "    }\n",
       "</style>\n"
      ],
      "text/plain": [
       "<IPython.core.display.HTML object>"
      ]
     },
     "metadata": {},
     "output_type": "display_data"
    },
    {
     "data": {
      "text/html": [],
      "text/plain": [
       "<IPython.core.display.HTML object>"
      ]
     },
     "metadata": {},
     "output_type": "display_data"
    },
    {
     "data": {
      "text/html": [
       "\n",
       "<style>\n",
       "    /* Turns off some styling */\n",
       "    progress {\n",
       "        /* gets rid of default border in Firefox and Opera. */\n",
       "        border: none;\n",
       "        /* Needs to be in here for Safari polyfill so background images work as expected. */\n",
       "        background-size: auto;\n",
       "    }\n",
       "    progress:not([value]), progress:not([value])::-webkit-progress-bar {\n",
       "        background: repeating-linear-gradient(45deg, #7e7e7e, #7e7e7e 10px, #5c5c5c 10px, #5c5c5c 20px);\n",
       "    }\n",
       "    .progress-bar-interrupted, .progress-bar-interrupted::-webkit-progress-bar {\n",
       "        background: #F44336;\n",
       "    }\n",
       "</style>\n"
      ],
      "text/plain": [
       "<IPython.core.display.HTML object>"
      ]
     },
     "metadata": {},
     "output_type": "display_data"
    },
    {
     "data": {
      "text/html": [],
      "text/plain": [
       "<IPython.core.display.HTML object>"
      ]
     },
     "metadata": {},
     "output_type": "display_data"
    },
    {
     "name": "stdout",
     "output_type": "stream",
     "text": [
      "0.8681066036224365\t0.49940142035484314\n"
     ]
    }
   ],
   "source": [
    "print(\"Raw\\t\\t\\tPreprocessed\\n\")\n",
    "print(get_sentence_similarity(s2, ips, 'hi'), get_sentence_similarity(ppc_s2, ppc_ips, 'hi'), sep=\"\\t\")\n",
    "print(get_sentence_similarity(s3, ips, 'hi'), get_sentence_similarity(ppc_s3, ppc_ips, 'hi'), sep=\"\\t\")\n",
    "print(get_sentence_similarity(s2, s3, 'hi'), get_sentence_similarity(ppc_s2, ppc_s3, 'hi'), sep=\"\\t\")"
   ]
  },
  {
   "cell_type": "markdown",
   "id": "d6e435c0-ca83-4c92-bb80-9c900f40c58c",
   "metadata": {
    "tags": []
   },
   "source": [
    "#### *Example 2- इस किताब मे पन्ने की जानकारी दि है*"
   ]
  },
  {
   "cell_type": "code",
   "execution_count": 84,
   "id": "99dc9772-4ddd-4277-9058-9ed7fc1f8176",
   "metadata": {},
   "outputs": [],
   "source": [
    "ips = \"इस किताब मे पन्ने की जानकारी दि है\"\n",
    "s2 = \"इस किताब मे हरित मण की जानकारी दि है\"\n",
    "s3 = \"इस किताब मे पना की जानकारी दि है\""
   ]
  },
  {
   "cell_type": "code",
   "execution_count": 85,
   "id": "6829cb64-cd98-4640-9d55-1cfe00bd5bf6",
   "metadata": {},
   "outputs": [],
   "source": [
    "ppc_ips = preprocess_sentence(ips)\n",
    "ppc_s2 = preprocess_sentence(s2)\n",
    "ppc_s3 = preprocess_sentence(s3)"
   ]
  },
  {
   "cell_type": "code",
   "execution_count": 86,
   "id": "ffc34c29-7b50-469b-abaf-f4af77d446ef",
   "metadata": {},
   "outputs": [
    {
     "name": "stdout",
     "output_type": "stream",
     "text": [
      " किताब पन्ने जानकारी दि\n",
      " किताब हरित  ण जानकारी दि\n",
      " किताब प ा जानकारी दि\n"
     ]
    }
   ],
   "source": [
    "print(ppc_ips)\n",
    "print(ppc_s2)\n",
    "print(ppc_s3)"
   ]
  },
  {
   "cell_type": "code",
   "execution_count": 87,
   "id": "1afbd55f-cd5d-440c-96db-20b4ce520b95",
   "metadata": {},
   "outputs": [
    {
     "name": "stdout",
     "output_type": "stream",
     "text": [
      "Raw\t\t\tPreprocessed\n",
      "\n"
     ]
    },
    {
     "data": {
      "text/html": [
       "\n",
       "<style>\n",
       "    /* Turns off some styling */\n",
       "    progress {\n",
       "        /* gets rid of default border in Firefox and Opera. */\n",
       "        border: none;\n",
       "        /* Needs to be in here for Safari polyfill so background images work as expected. */\n",
       "        background-size: auto;\n",
       "    }\n",
       "    progress:not([value]), progress:not([value])::-webkit-progress-bar {\n",
       "        background: repeating-linear-gradient(45deg, #7e7e7e, #7e7e7e 10px, #5c5c5c 10px, #5c5c5c 20px);\n",
       "    }\n",
       "    .progress-bar-interrupted, .progress-bar-interrupted::-webkit-progress-bar {\n",
       "        background: #F44336;\n",
       "    }\n",
       "</style>\n"
      ],
      "text/plain": [
       "<IPython.core.display.HTML object>"
      ]
     },
     "metadata": {},
     "output_type": "display_data"
    },
    {
     "data": {
      "text/html": [],
      "text/plain": [
       "<IPython.core.display.HTML object>"
      ]
     },
     "metadata": {},
     "output_type": "display_data"
    },
    {
     "data": {
      "text/html": [
       "\n",
       "<style>\n",
       "    /* Turns off some styling */\n",
       "    progress {\n",
       "        /* gets rid of default border in Firefox and Opera. */\n",
       "        border: none;\n",
       "        /* Needs to be in here for Safari polyfill so background images work as expected. */\n",
       "        background-size: auto;\n",
       "    }\n",
       "    progress:not([value]), progress:not([value])::-webkit-progress-bar {\n",
       "        background: repeating-linear-gradient(45deg, #7e7e7e, #7e7e7e 10px, #5c5c5c 10px, #5c5c5c 20px);\n",
       "    }\n",
       "    .progress-bar-interrupted, .progress-bar-interrupted::-webkit-progress-bar {\n",
       "        background: #F44336;\n",
       "    }\n",
       "</style>\n"
      ],
      "text/plain": [
       "<IPython.core.display.HTML object>"
      ]
     },
     "metadata": {},
     "output_type": "display_data"
    },
    {
     "data": {
      "text/html": [],
      "text/plain": [
       "<IPython.core.display.HTML object>"
      ]
     },
     "metadata": {},
     "output_type": "display_data"
    },
    {
     "data": {
      "text/html": [
       "\n",
       "<style>\n",
       "    /* Turns off some styling */\n",
       "    progress {\n",
       "        /* gets rid of default border in Firefox and Opera. */\n",
       "        border: none;\n",
       "        /* Needs to be in here for Safari polyfill so background images work as expected. */\n",
       "        background-size: auto;\n",
       "    }\n",
       "    progress:not([value]), progress:not([value])::-webkit-progress-bar {\n",
       "        background: repeating-linear-gradient(45deg, #7e7e7e, #7e7e7e 10px, #5c5c5c 10px, #5c5c5c 20px);\n",
       "    }\n",
       "    .progress-bar-interrupted, .progress-bar-interrupted::-webkit-progress-bar {\n",
       "        background: #F44336;\n",
       "    }\n",
       "</style>\n"
      ],
      "text/plain": [
       "<IPython.core.display.HTML object>"
      ]
     },
     "metadata": {},
     "output_type": "display_data"
    },
    {
     "data": {
      "text/html": [],
      "text/plain": [
       "<IPython.core.display.HTML object>"
      ]
     },
     "metadata": {},
     "output_type": "display_data"
    },
    {
     "data": {
      "text/html": [
       "\n",
       "<style>\n",
       "    /* Turns off some styling */\n",
       "    progress {\n",
       "        /* gets rid of default border in Firefox and Opera. */\n",
       "        border: none;\n",
       "        /* Needs to be in here for Safari polyfill so background images work as expected. */\n",
       "        background-size: auto;\n",
       "    }\n",
       "    progress:not([value]), progress:not([value])::-webkit-progress-bar {\n",
       "        background: repeating-linear-gradient(45deg, #7e7e7e, #7e7e7e 10px, #5c5c5c 10px, #5c5c5c 20px);\n",
       "    }\n",
       "    .progress-bar-interrupted, .progress-bar-interrupted::-webkit-progress-bar {\n",
       "        background: #F44336;\n",
       "    }\n",
       "</style>\n"
      ],
      "text/plain": [
       "<IPython.core.display.HTML object>"
      ]
     },
     "metadata": {},
     "output_type": "display_data"
    },
    {
     "data": {
      "text/html": [],
      "text/plain": [
       "<IPython.core.display.HTML object>"
      ]
     },
     "metadata": {},
     "output_type": "display_data"
    },
    {
     "data": {
      "text/html": [
       "\n",
       "<style>\n",
       "    /* Turns off some styling */\n",
       "    progress {\n",
       "        /* gets rid of default border in Firefox and Opera. */\n",
       "        border: none;\n",
       "        /* Needs to be in here for Safari polyfill so background images work as expected. */\n",
       "        background-size: auto;\n",
       "    }\n",
       "    progress:not([value]), progress:not([value])::-webkit-progress-bar {\n",
       "        background: repeating-linear-gradient(45deg, #7e7e7e, #7e7e7e 10px, #5c5c5c 10px, #5c5c5c 20px);\n",
       "    }\n",
       "    .progress-bar-interrupted, .progress-bar-interrupted::-webkit-progress-bar {\n",
       "        background: #F44336;\n",
       "    }\n",
       "</style>\n"
      ],
      "text/plain": [
       "<IPython.core.display.HTML object>"
      ]
     },
     "metadata": {},
     "output_type": "display_data"
    },
    {
     "data": {
      "text/html": [],
      "text/plain": [
       "<IPython.core.display.HTML object>"
      ]
     },
     "metadata": {},
     "output_type": "display_data"
    },
    {
     "data": {
      "text/html": [
       "\n",
       "<style>\n",
       "    /* Turns off some styling */\n",
       "    progress {\n",
       "        /* gets rid of default border in Firefox and Opera. */\n",
       "        border: none;\n",
       "        /* Needs to be in here for Safari polyfill so background images work as expected. */\n",
       "        background-size: auto;\n",
       "    }\n",
       "    progress:not([value]), progress:not([value])::-webkit-progress-bar {\n",
       "        background: repeating-linear-gradient(45deg, #7e7e7e, #7e7e7e 10px, #5c5c5c 10px, #5c5c5c 20px);\n",
       "    }\n",
       "    .progress-bar-interrupted, .progress-bar-interrupted::-webkit-progress-bar {\n",
       "        background: #F44336;\n",
       "    }\n",
       "</style>\n"
      ],
      "text/plain": [
       "<IPython.core.display.HTML object>"
      ]
     },
     "metadata": {},
     "output_type": "display_data"
    },
    {
     "data": {
      "text/html": [],
      "text/plain": [
       "<IPython.core.display.HTML object>"
      ]
     },
     "metadata": {},
     "output_type": "display_data"
    },
    {
     "data": {
      "text/html": [
       "\n",
       "<style>\n",
       "    /* Turns off some styling */\n",
       "    progress {\n",
       "        /* gets rid of default border in Firefox and Opera. */\n",
       "        border: none;\n",
       "        /* Needs to be in here for Safari polyfill so background images work as expected. */\n",
       "        background-size: auto;\n",
       "    }\n",
       "    progress:not([value]), progress:not([value])::-webkit-progress-bar {\n",
       "        background: repeating-linear-gradient(45deg, #7e7e7e, #7e7e7e 10px, #5c5c5c 10px, #5c5c5c 20px);\n",
       "    }\n",
       "    .progress-bar-interrupted, .progress-bar-interrupted::-webkit-progress-bar {\n",
       "        background: #F44336;\n",
       "    }\n",
       "</style>\n"
      ],
      "text/plain": [
       "<IPython.core.display.HTML object>"
      ]
     },
     "metadata": {},
     "output_type": "display_data"
    },
    {
     "data": {
      "text/html": [],
      "text/plain": [
       "<IPython.core.display.HTML object>"
      ]
     },
     "metadata": {},
     "output_type": "display_data"
    },
    {
     "data": {
      "text/html": [
       "\n",
       "<style>\n",
       "    /* Turns off some styling */\n",
       "    progress {\n",
       "        /* gets rid of default border in Firefox and Opera. */\n",
       "        border: none;\n",
       "        /* Needs to be in here for Safari polyfill so background images work as expected. */\n",
       "        background-size: auto;\n",
       "    }\n",
       "    progress:not([value]), progress:not([value])::-webkit-progress-bar {\n",
       "        background: repeating-linear-gradient(45deg, #7e7e7e, #7e7e7e 10px, #5c5c5c 10px, #5c5c5c 20px);\n",
       "    }\n",
       "    .progress-bar-interrupted, .progress-bar-interrupted::-webkit-progress-bar {\n",
       "        background: #F44336;\n",
       "    }\n",
       "</style>\n"
      ],
      "text/plain": [
       "<IPython.core.display.HTML object>"
      ]
     },
     "metadata": {},
     "output_type": "display_data"
    },
    {
     "data": {
      "text/html": [],
      "text/plain": [
       "<IPython.core.display.HTML object>"
      ]
     },
     "metadata": {},
     "output_type": "display_data"
    },
    {
     "name": "stdout",
     "output_type": "stream",
     "text": [
      "0.9096518158912659\t0.8787868022918701\n"
     ]
    },
    {
     "data": {
      "text/html": [
       "\n",
       "<style>\n",
       "    /* Turns off some styling */\n",
       "    progress {\n",
       "        /* gets rid of default border in Firefox and Opera. */\n",
       "        border: none;\n",
       "        /* Needs to be in here for Safari polyfill so background images work as expected. */\n",
       "        background-size: auto;\n",
       "    }\n",
       "    progress:not([value]), progress:not([value])::-webkit-progress-bar {\n",
       "        background: repeating-linear-gradient(45deg, #7e7e7e, #7e7e7e 10px, #5c5c5c 10px, #5c5c5c 20px);\n",
       "    }\n",
       "    .progress-bar-interrupted, .progress-bar-interrupted::-webkit-progress-bar {\n",
       "        background: #F44336;\n",
       "    }\n",
       "</style>\n"
      ],
      "text/plain": [
       "<IPython.core.display.HTML object>"
      ]
     },
     "metadata": {},
     "output_type": "display_data"
    },
    {
     "data": {
      "text/html": [],
      "text/plain": [
       "<IPython.core.display.HTML object>"
      ]
     },
     "metadata": {},
     "output_type": "display_data"
    },
    {
     "data": {
      "text/html": [
       "\n",
       "<style>\n",
       "    /* Turns off some styling */\n",
       "    progress {\n",
       "        /* gets rid of default border in Firefox and Opera. */\n",
       "        border: none;\n",
       "        /* Needs to be in here for Safari polyfill so background images work as expected. */\n",
       "        background-size: auto;\n",
       "    }\n",
       "    progress:not([value]), progress:not([value])::-webkit-progress-bar {\n",
       "        background: repeating-linear-gradient(45deg, #7e7e7e, #7e7e7e 10px, #5c5c5c 10px, #5c5c5c 20px);\n",
       "    }\n",
       "    .progress-bar-interrupted, .progress-bar-interrupted::-webkit-progress-bar {\n",
       "        background: #F44336;\n",
       "    }\n",
       "</style>\n"
      ],
      "text/plain": [
       "<IPython.core.display.HTML object>"
      ]
     },
     "metadata": {},
     "output_type": "display_data"
    },
    {
     "data": {
      "text/html": [],
      "text/plain": [
       "<IPython.core.display.HTML object>"
      ]
     },
     "metadata": {},
     "output_type": "display_data"
    },
    {
     "data": {
      "text/html": [
       "\n",
       "<style>\n",
       "    /* Turns off some styling */\n",
       "    progress {\n",
       "        /* gets rid of default border in Firefox and Opera. */\n",
       "        border: none;\n",
       "        /* Needs to be in here for Safari polyfill so background images work as expected. */\n",
       "        background-size: auto;\n",
       "    }\n",
       "    progress:not([value]), progress:not([value])::-webkit-progress-bar {\n",
       "        background: repeating-linear-gradient(45deg, #7e7e7e, #7e7e7e 10px, #5c5c5c 10px, #5c5c5c 20px);\n",
       "    }\n",
       "    .progress-bar-interrupted, .progress-bar-interrupted::-webkit-progress-bar {\n",
       "        background: #F44336;\n",
       "    }\n",
       "</style>\n"
      ],
      "text/plain": [
       "<IPython.core.display.HTML object>"
      ]
     },
     "metadata": {},
     "output_type": "display_data"
    },
    {
     "data": {
      "text/html": [],
      "text/plain": [
       "<IPython.core.display.HTML object>"
      ]
     },
     "metadata": {},
     "output_type": "display_data"
    },
    {
     "data": {
      "text/html": [
       "\n",
       "<style>\n",
       "    /* Turns off some styling */\n",
       "    progress {\n",
       "        /* gets rid of default border in Firefox and Opera. */\n",
       "        border: none;\n",
       "        /* Needs to be in here for Safari polyfill so background images work as expected. */\n",
       "        background-size: auto;\n",
       "    }\n",
       "    progress:not([value]), progress:not([value])::-webkit-progress-bar {\n",
       "        background: repeating-linear-gradient(45deg, #7e7e7e, #7e7e7e 10px, #5c5c5c 10px, #5c5c5c 20px);\n",
       "    }\n",
       "    .progress-bar-interrupted, .progress-bar-interrupted::-webkit-progress-bar {\n",
       "        background: #F44336;\n",
       "    }\n",
       "</style>\n"
      ],
      "text/plain": [
       "<IPython.core.display.HTML object>"
      ]
     },
     "metadata": {},
     "output_type": "display_data"
    },
    {
     "data": {
      "text/html": [],
      "text/plain": [
       "<IPython.core.display.HTML object>"
      ]
     },
     "metadata": {},
     "output_type": "display_data"
    },
    {
     "data": {
      "text/html": [
       "\n",
       "<style>\n",
       "    /* Turns off some styling */\n",
       "    progress {\n",
       "        /* gets rid of default border in Firefox and Opera. */\n",
       "        border: none;\n",
       "        /* Needs to be in here for Safari polyfill so background images work as expected. */\n",
       "        background-size: auto;\n",
       "    }\n",
       "    progress:not([value]), progress:not([value])::-webkit-progress-bar {\n",
       "        background: repeating-linear-gradient(45deg, #7e7e7e, #7e7e7e 10px, #5c5c5c 10px, #5c5c5c 20px);\n",
       "    }\n",
       "    .progress-bar-interrupted, .progress-bar-interrupted::-webkit-progress-bar {\n",
       "        background: #F44336;\n",
       "    }\n",
       "</style>\n"
      ],
      "text/plain": [
       "<IPython.core.display.HTML object>"
      ]
     },
     "metadata": {},
     "output_type": "display_data"
    },
    {
     "data": {
      "text/html": [],
      "text/plain": [
       "<IPython.core.display.HTML object>"
      ]
     },
     "metadata": {},
     "output_type": "display_data"
    },
    {
     "data": {
      "text/html": [
       "\n",
       "<style>\n",
       "    /* Turns off some styling */\n",
       "    progress {\n",
       "        /* gets rid of default border in Firefox and Opera. */\n",
       "        border: none;\n",
       "        /* Needs to be in here for Safari polyfill so background images work as expected. */\n",
       "        background-size: auto;\n",
       "    }\n",
       "    progress:not([value]), progress:not([value])::-webkit-progress-bar {\n",
       "        background: repeating-linear-gradient(45deg, #7e7e7e, #7e7e7e 10px, #5c5c5c 10px, #5c5c5c 20px);\n",
       "    }\n",
       "    .progress-bar-interrupted, .progress-bar-interrupted::-webkit-progress-bar {\n",
       "        background: #F44336;\n",
       "    }\n",
       "</style>\n"
      ],
      "text/plain": [
       "<IPython.core.display.HTML object>"
      ]
     },
     "metadata": {},
     "output_type": "display_data"
    },
    {
     "data": {
      "text/html": [],
      "text/plain": [
       "<IPython.core.display.HTML object>"
      ]
     },
     "metadata": {},
     "output_type": "display_data"
    },
    {
     "data": {
      "text/html": [
       "\n",
       "<style>\n",
       "    /* Turns off some styling */\n",
       "    progress {\n",
       "        /* gets rid of default border in Firefox and Opera. */\n",
       "        border: none;\n",
       "        /* Needs to be in here for Safari polyfill so background images work as expected. */\n",
       "        background-size: auto;\n",
       "    }\n",
       "    progress:not([value]), progress:not([value])::-webkit-progress-bar {\n",
       "        background: repeating-linear-gradient(45deg, #7e7e7e, #7e7e7e 10px, #5c5c5c 10px, #5c5c5c 20px);\n",
       "    }\n",
       "    .progress-bar-interrupted, .progress-bar-interrupted::-webkit-progress-bar {\n",
       "        background: #F44336;\n",
       "    }\n",
       "</style>\n"
      ],
      "text/plain": [
       "<IPython.core.display.HTML object>"
      ]
     },
     "metadata": {},
     "output_type": "display_data"
    },
    {
     "data": {
      "text/html": [],
      "text/plain": [
       "<IPython.core.display.HTML object>"
      ]
     },
     "metadata": {},
     "output_type": "display_data"
    },
    {
     "data": {
      "text/html": [
       "\n",
       "<style>\n",
       "    /* Turns off some styling */\n",
       "    progress {\n",
       "        /* gets rid of default border in Firefox and Opera. */\n",
       "        border: none;\n",
       "        /* Needs to be in here for Safari polyfill so background images work as expected. */\n",
       "        background-size: auto;\n",
       "    }\n",
       "    progress:not([value]), progress:not([value])::-webkit-progress-bar {\n",
       "        background: repeating-linear-gradient(45deg, #7e7e7e, #7e7e7e 10px, #5c5c5c 10px, #5c5c5c 20px);\n",
       "    }\n",
       "    .progress-bar-interrupted, .progress-bar-interrupted::-webkit-progress-bar {\n",
       "        background: #F44336;\n",
       "    }\n",
       "</style>\n"
      ],
      "text/plain": [
       "<IPython.core.display.HTML object>"
      ]
     },
     "metadata": {},
     "output_type": "display_data"
    },
    {
     "data": {
      "text/html": [],
      "text/plain": [
       "<IPython.core.display.HTML object>"
      ]
     },
     "metadata": {},
     "output_type": "display_data"
    },
    {
     "name": "stdout",
     "output_type": "stream",
     "text": [
      "0.8827615976333618\t0.8349454998970032\n"
     ]
    },
    {
     "data": {
      "text/html": [
       "\n",
       "<style>\n",
       "    /* Turns off some styling */\n",
       "    progress {\n",
       "        /* gets rid of default border in Firefox and Opera. */\n",
       "        border: none;\n",
       "        /* Needs to be in here for Safari polyfill so background images work as expected. */\n",
       "        background-size: auto;\n",
       "    }\n",
       "    progress:not([value]), progress:not([value])::-webkit-progress-bar {\n",
       "        background: repeating-linear-gradient(45deg, #7e7e7e, #7e7e7e 10px, #5c5c5c 10px, #5c5c5c 20px);\n",
       "    }\n",
       "    .progress-bar-interrupted, .progress-bar-interrupted::-webkit-progress-bar {\n",
       "        background: #F44336;\n",
       "    }\n",
       "</style>\n"
      ],
      "text/plain": [
       "<IPython.core.display.HTML object>"
      ]
     },
     "metadata": {},
     "output_type": "display_data"
    },
    {
     "data": {
      "text/html": [],
      "text/plain": [
       "<IPython.core.display.HTML object>"
      ]
     },
     "metadata": {},
     "output_type": "display_data"
    },
    {
     "data": {
      "text/html": [
       "\n",
       "<style>\n",
       "    /* Turns off some styling */\n",
       "    progress {\n",
       "        /* gets rid of default border in Firefox and Opera. */\n",
       "        border: none;\n",
       "        /* Needs to be in here for Safari polyfill so background images work as expected. */\n",
       "        background-size: auto;\n",
       "    }\n",
       "    progress:not([value]), progress:not([value])::-webkit-progress-bar {\n",
       "        background: repeating-linear-gradient(45deg, #7e7e7e, #7e7e7e 10px, #5c5c5c 10px, #5c5c5c 20px);\n",
       "    }\n",
       "    .progress-bar-interrupted, .progress-bar-interrupted::-webkit-progress-bar {\n",
       "        background: #F44336;\n",
       "    }\n",
       "</style>\n"
      ],
      "text/plain": [
       "<IPython.core.display.HTML object>"
      ]
     },
     "metadata": {},
     "output_type": "display_data"
    },
    {
     "data": {
      "text/html": [],
      "text/plain": [
       "<IPython.core.display.HTML object>"
      ]
     },
     "metadata": {},
     "output_type": "display_data"
    },
    {
     "data": {
      "text/html": [
       "\n",
       "<style>\n",
       "    /* Turns off some styling */\n",
       "    progress {\n",
       "        /* gets rid of default border in Firefox and Opera. */\n",
       "        border: none;\n",
       "        /* Needs to be in here for Safari polyfill so background images work as expected. */\n",
       "        background-size: auto;\n",
       "    }\n",
       "    progress:not([value]), progress:not([value])::-webkit-progress-bar {\n",
       "        background: repeating-linear-gradient(45deg, #7e7e7e, #7e7e7e 10px, #5c5c5c 10px, #5c5c5c 20px);\n",
       "    }\n",
       "    .progress-bar-interrupted, .progress-bar-interrupted::-webkit-progress-bar {\n",
       "        background: #F44336;\n",
       "    }\n",
       "</style>\n"
      ],
      "text/plain": [
       "<IPython.core.display.HTML object>"
      ]
     },
     "metadata": {},
     "output_type": "display_data"
    },
    {
     "data": {
      "text/html": [],
      "text/plain": [
       "<IPython.core.display.HTML object>"
      ]
     },
     "metadata": {},
     "output_type": "display_data"
    },
    {
     "data": {
      "text/html": [
       "\n",
       "<style>\n",
       "    /* Turns off some styling */\n",
       "    progress {\n",
       "        /* gets rid of default border in Firefox and Opera. */\n",
       "        border: none;\n",
       "        /* Needs to be in here for Safari polyfill so background images work as expected. */\n",
       "        background-size: auto;\n",
       "    }\n",
       "    progress:not([value]), progress:not([value])::-webkit-progress-bar {\n",
       "        background: repeating-linear-gradient(45deg, #7e7e7e, #7e7e7e 10px, #5c5c5c 10px, #5c5c5c 20px);\n",
       "    }\n",
       "    .progress-bar-interrupted, .progress-bar-interrupted::-webkit-progress-bar {\n",
       "        background: #F44336;\n",
       "    }\n",
       "</style>\n"
      ],
      "text/plain": [
       "<IPython.core.display.HTML object>"
      ]
     },
     "metadata": {},
     "output_type": "display_data"
    },
    {
     "data": {
      "text/html": [],
      "text/plain": [
       "<IPython.core.display.HTML object>"
      ]
     },
     "metadata": {},
     "output_type": "display_data"
    },
    {
     "data": {
      "text/html": [
       "\n",
       "<style>\n",
       "    /* Turns off some styling */\n",
       "    progress {\n",
       "        /* gets rid of default border in Firefox and Opera. */\n",
       "        border: none;\n",
       "        /* Needs to be in here for Safari polyfill so background images work as expected. */\n",
       "        background-size: auto;\n",
       "    }\n",
       "    progress:not([value]), progress:not([value])::-webkit-progress-bar {\n",
       "        background: repeating-linear-gradient(45deg, #7e7e7e, #7e7e7e 10px, #5c5c5c 10px, #5c5c5c 20px);\n",
       "    }\n",
       "    .progress-bar-interrupted, .progress-bar-interrupted::-webkit-progress-bar {\n",
       "        background: #F44336;\n",
       "    }\n",
       "</style>\n"
      ],
      "text/plain": [
       "<IPython.core.display.HTML object>"
      ]
     },
     "metadata": {},
     "output_type": "display_data"
    },
    {
     "data": {
      "text/html": [],
      "text/plain": [
       "<IPython.core.display.HTML object>"
      ]
     },
     "metadata": {},
     "output_type": "display_data"
    },
    {
     "data": {
      "text/html": [
       "\n",
       "<style>\n",
       "    /* Turns off some styling */\n",
       "    progress {\n",
       "        /* gets rid of default border in Firefox and Opera. */\n",
       "        border: none;\n",
       "        /* Needs to be in here for Safari polyfill so background images work as expected. */\n",
       "        background-size: auto;\n",
       "    }\n",
       "    progress:not([value]), progress:not([value])::-webkit-progress-bar {\n",
       "        background: repeating-linear-gradient(45deg, #7e7e7e, #7e7e7e 10px, #5c5c5c 10px, #5c5c5c 20px);\n",
       "    }\n",
       "    .progress-bar-interrupted, .progress-bar-interrupted::-webkit-progress-bar {\n",
       "        background: #F44336;\n",
       "    }\n",
       "</style>\n"
      ],
      "text/plain": [
       "<IPython.core.display.HTML object>"
      ]
     },
     "metadata": {},
     "output_type": "display_data"
    },
    {
     "data": {
      "text/html": [],
      "text/plain": [
       "<IPython.core.display.HTML object>"
      ]
     },
     "metadata": {},
     "output_type": "display_data"
    },
    {
     "data": {
      "text/html": [
       "\n",
       "<style>\n",
       "    /* Turns off some styling */\n",
       "    progress {\n",
       "        /* gets rid of default border in Firefox and Opera. */\n",
       "        border: none;\n",
       "        /* Needs to be in here for Safari polyfill so background images work as expected. */\n",
       "        background-size: auto;\n",
       "    }\n",
       "    progress:not([value]), progress:not([value])::-webkit-progress-bar {\n",
       "        background: repeating-linear-gradient(45deg, #7e7e7e, #7e7e7e 10px, #5c5c5c 10px, #5c5c5c 20px);\n",
       "    }\n",
       "    .progress-bar-interrupted, .progress-bar-interrupted::-webkit-progress-bar {\n",
       "        background: #F44336;\n",
       "    }\n",
       "</style>\n"
      ],
      "text/plain": [
       "<IPython.core.display.HTML object>"
      ]
     },
     "metadata": {},
     "output_type": "display_data"
    },
    {
     "data": {
      "text/html": [],
      "text/plain": [
       "<IPython.core.display.HTML object>"
      ]
     },
     "metadata": {},
     "output_type": "display_data"
    },
    {
     "data": {
      "text/html": [
       "\n",
       "<style>\n",
       "    /* Turns off some styling */\n",
       "    progress {\n",
       "        /* gets rid of default border in Firefox and Opera. */\n",
       "        border: none;\n",
       "        /* Needs to be in here for Safari polyfill so background images work as expected. */\n",
       "        background-size: auto;\n",
       "    }\n",
       "    progress:not([value]), progress:not([value])::-webkit-progress-bar {\n",
       "        background: repeating-linear-gradient(45deg, #7e7e7e, #7e7e7e 10px, #5c5c5c 10px, #5c5c5c 20px);\n",
       "    }\n",
       "    .progress-bar-interrupted, .progress-bar-interrupted::-webkit-progress-bar {\n",
       "        background: #F44336;\n",
       "    }\n",
       "</style>\n"
      ],
      "text/plain": [
       "<IPython.core.display.HTML object>"
      ]
     },
     "metadata": {},
     "output_type": "display_data"
    },
    {
     "data": {
      "text/html": [],
      "text/plain": [
       "<IPython.core.display.HTML object>"
      ]
     },
     "metadata": {},
     "output_type": "display_data"
    },
    {
     "name": "stdout",
     "output_type": "stream",
     "text": [
      "0.9173983931541443\t0.8511924743652344\n"
     ]
    }
   ],
   "source": [
    "print(\"Raw\\t\\t\\tPreprocessed\\n\")\n",
    "print(get_sentence_similarity(s2, ips, 'hi'), get_sentence_similarity(ppc_s2, ppc_ips, 'hi'), sep=\"\\t\")\n",
    "print(get_sentence_similarity(s3, ips, 'hi'), get_sentence_similarity(ppc_s3, ppc_ips, 'hi'), sep=\"\\t\")\n",
    "print(get_sentence_similarity(s2, s3, 'hi'), get_sentence_similarity(ppc_s2, ppc_s3, 'hi'), sep=\"\\t\")"
   ]
  },
  {
   "cell_type": "markdown",
   "id": "1a209af2-f900-4248-86ba-78e8708f4cbe",
   "metadata": {},
   "source": [
    "### *NLTK*"
   ]
  },
  {
   "cell_type": "code",
   "execution_count": 88,
   "id": "c2a6e3d6-694d-4fa6-8874-bd518cee87de",
   "metadata": {},
   "outputs": [
    {
     "name": "stdout",
     "output_type": "stream",
     "text": [
      "Requirement already satisfied: nltk in c:\\users\\thakr\\anaconda3\\envs\\pytorch_p37_2\\lib\\site-packages (3.8.1)\n",
      "Requirement already satisfied: tqdm in c:\\users\\thakr\\anaconda3\\envs\\pytorch_p37_2\\lib\\site-packages (from nltk) (4.65.0)\n",
      "Requirement already satisfied: regex>=2021.8.3 in c:\\users\\thakr\\anaconda3\\envs\\pytorch_p37_2\\lib\\site-packages (from nltk) (2022.10.31)\n",
      "Requirement already satisfied: joblib in c:\\users\\thakr\\anaconda3\\envs\\pytorch_p37_2\\lib\\site-packages (from nltk) (1.2.0)\n",
      "Requirement already satisfied: click in c:\\users\\thakr\\anaconda3\\envs\\pytorch_p37_2\\lib\\site-packages (from nltk) (8.1.3)\n",
      "Requirement already satisfied: colorama in c:\\users\\thakr\\anaconda3\\envs\\pytorch_p37_2\\lib\\site-packages (from click->nltk) (0.4.6)\n",
      "Requirement already satisfied: importlib-metadata in c:\\users\\thakr\\anaconda3\\envs\\pytorch_p37_2\\lib\\site-packages (from click->nltk) (4.11.3)\n",
      "Requirement already satisfied: typing-extensions>=3.6.4 in c:\\users\\thakr\\anaconda3\\envs\\pytorch_p37_2\\lib\\site-packages (from importlib-metadata->click->nltk) (4.3.0)\n",
      "Requirement already satisfied: zipp>=0.5 in c:\\users\\thakr\\anaconda3\\envs\\pytorch_p37_2\\lib\\site-packages (from importlib-metadata->click->nltk) (3.11.0)\n",
      "Collecting indic-nlp-library\n",
      "  Downloading indic_nlp_library-0.91-py3-none-any.whl (40 kB)\n",
      "     -------------------------------------- 40.3/40.3 kB 380.0 kB/s eta 0:00:00\n",
      "Requirement already satisfied: pandas in c:\\users\\thakr\\anaconda3\\envs\\pytorch_p37_2\\lib\\site-packages (from indic-nlp-library) (1.3.5)\n",
      "Collecting sphinx-argparse\n",
      "  Downloading sphinx_argparse-0.4.0-py3-none-any.whl (12 kB)\n",
      "Collecting sphinx-rtd-theme\n",
      "  Downloading sphinx_rtd_theme-1.2.0-py2.py3-none-any.whl (2.8 MB)\n",
      "     ---------------------------------------- 2.8/2.8 MB 2.0 MB/s eta 0:00:00\n",
      "Requirement already satisfied: numpy in c:\\users\\thakr\\anaconda3\\envs\\pytorch_p37_2\\lib\\site-packages (from indic-nlp-library) (1.21.5)\n",
      "Collecting morfessor\n",
      "  Downloading Morfessor-2.0.6-py3-none-any.whl (35 kB)\n",
      "Requirement already satisfied: python-dateutil>=2.7.3 in c:\\users\\thakr\\anaconda3\\envs\\pytorch_p37_2\\lib\\site-packages (from pandas->indic-nlp-library) (2.8.2)\n",
      "Requirement already satisfied: pytz>=2017.3 in c:\\users\\thakr\\anaconda3\\envs\\pytorch_p37_2\\lib\\site-packages (from pandas->indic-nlp-library) (2022.7)\n",
      "Collecting sphinx>=1.2.0\n",
      "  Downloading sphinx-5.3.0-py3-none-any.whl (3.2 MB)\n",
      "     ---------------------------------------- 3.2/3.2 MB 3.6 MB/s eta 0:00:00\n",
      "Collecting sphinxcontrib-jquery!=3.0.0,>=2.0.0\n",
      "  Downloading sphinxcontrib_jquery-4.1-py2.py3-none-any.whl (121 kB)\n",
      "     -------------------------------------- 121.1/121.1 kB 3.5 MB/s eta 0:00:00\n",
      "Collecting docutils<0.19\n",
      "  Downloading docutils-0.18.1-py2.py3-none-any.whl (570 kB)\n",
      "     -------------------------------------- 570.0/570.0 kB 4.0 MB/s eta 0:00:00\n",
      "Requirement already satisfied: six>=1.5 in c:\\users\\thakr\\anaconda3\\envs\\pytorch_p37_2\\lib\\site-packages (from python-dateutil>=2.7.3->pandas->indic-nlp-library) (1.16.0)\n",
      "Requirement already satisfied: requests>=2.5.0 in c:\\users\\thakr\\anaconda3\\envs\\pytorch_p37_2\\lib\\site-packages (from sphinx>=1.2.0->sphinx-argparse->indic-nlp-library) (2.28.1)\n",
      "Collecting sphinxcontrib-devhelp\n",
      "  Downloading sphinxcontrib_devhelp-1.0.2-py2.py3-none-any.whl (84 kB)\n",
      "     ---------------------------------------- 84.7/84.7 kB 2.4 MB/s eta 0:00:00\n",
      "Collecting snowballstemmer>=2.0\n",
      "  Downloading snowballstemmer-2.2.0-py2.py3-none-any.whl (93 kB)\n",
      "     ---------------------------------------- 93.0/93.0 kB 2.7 MB/s eta 0:00:00\n",
      "Collecting sphinxcontrib-serializinghtml>=1.1.5\n",
      "  Downloading sphinxcontrib_serializinghtml-1.1.5-py2.py3-none-any.whl (94 kB)\n",
      "     ---------------------------------------- 94.0/94.0 kB 2.7 MB/s eta 0:00:00\n",
      "Collecting sphinxcontrib-htmlhelp>=2.0.0\n",
      "  Downloading sphinxcontrib_htmlhelp-2.0.0-py2.py3-none-any.whl (100 kB)\n",
      "     -------------------------------------- 100.5/100.5 kB 2.9 MB/s eta 0:00:00\n",
      "Collecting imagesize>=1.3\n",
      "  Downloading imagesize-1.4.1-py2.py3-none-any.whl (8.8 kB)\n",
      "Collecting sphinxcontrib-jsmath\n",
      "  Downloading sphinxcontrib_jsmath-1.0.1-py2.py3-none-any.whl (5.1 kB)\n",
      "Requirement already satisfied: Jinja2>=3.0 in c:\\users\\thakr\\anaconda3\\envs\\pytorch_p37_2\\lib\\site-packages (from sphinx>=1.2.0->sphinx-argparse->indic-nlp-library) (3.1.2)\n",
      "Requirement already satisfied: colorama>=0.4.5 in c:\\users\\thakr\\anaconda3\\envs\\pytorch_p37_2\\lib\\site-packages (from sphinx>=1.2.0->sphinx-argparse->indic-nlp-library) (0.4.6)\n",
      "Requirement already satisfied: importlib-metadata>=4.8 in c:\\users\\thakr\\anaconda3\\envs\\pytorch_p37_2\\lib\\site-packages (from sphinx>=1.2.0->sphinx-argparse->indic-nlp-library) (4.11.3)\n",
      "Collecting Pygments>=2.12\n",
      "  Downloading Pygments-2.15.1-py3-none-any.whl (1.1 MB)\n",
      "     ---------------------------------------- 1.1/1.1 MB 4.3 MB/s eta 0:00:00\n",
      "Collecting sphinxcontrib-applehelp\n",
      "  Downloading sphinxcontrib_applehelp-1.0.2-py2.py3-none-any.whl (121 kB)\n",
      "     -------------------------------------- 121.2/121.2 kB 7.4 MB/s eta 0:00:00\n",
      "Collecting alabaster<0.8,>=0.7\n",
      "  Downloading alabaster-0.7.13-py3-none-any.whl (13 kB)\n",
      "Collecting sphinxcontrib-qthelp\n",
      "  Downloading sphinxcontrib_qthelp-1.0.3-py2.py3-none-any.whl (90 kB)\n",
      "     ---------------------------------------- 90.6/90.6 kB 5.4 MB/s eta 0:00:00\n",
      "Requirement already satisfied: packaging>=21.0 in c:\\users\\thakr\\anaconda3\\envs\\pytorch_p37_2\\lib\\site-packages (from sphinx>=1.2.0->sphinx-argparse->indic-nlp-library) (22.0)\n",
      "Requirement already satisfied: babel>=2.9 in c:\\users\\thakr\\anaconda3\\envs\\pytorch_p37_2\\lib\\site-packages (from sphinx>=1.2.0->sphinx-argparse->indic-nlp-library) (2.11.0)\n",
      "Requirement already satisfied: zipp>=0.5 in c:\\users\\thakr\\anaconda3\\envs\\pytorch_p37_2\\lib\\site-packages (from importlib-metadata>=4.8->sphinx>=1.2.0->sphinx-argparse->indic-nlp-library) (3.11.0)\n",
      "Requirement already satisfied: typing-extensions>=3.6.4 in c:\\users\\thakr\\anaconda3\\envs\\pytorch_p37_2\\lib\\site-packages (from importlib-metadata>=4.8->sphinx>=1.2.0->sphinx-argparse->indic-nlp-library) (4.3.0)\n",
      "Requirement already satisfied: MarkupSafe>=2.0 in c:\\users\\thakr\\anaconda3\\envs\\pytorch_p37_2\\lib\\site-packages (from Jinja2>=3.0->sphinx>=1.2.0->sphinx-argparse->indic-nlp-library) (2.1.1)\n",
      "Requirement already satisfied: urllib3<1.27,>=1.21.1 in c:\\users\\thakr\\anaconda3\\envs\\pytorch_p37_2\\lib\\site-packages (from requests>=2.5.0->sphinx>=1.2.0->sphinx-argparse->indic-nlp-library) (1.26.14)\n",
      "Requirement already satisfied: certifi>=2017.4.17 in c:\\users\\thakr\\anaconda3\\envs\\pytorch_p37_2\\lib\\site-packages (from requests>=2.5.0->sphinx>=1.2.0->sphinx-argparse->indic-nlp-library) (2022.12.7)\n",
      "Requirement already satisfied: charset-normalizer<3,>=2 in c:\\users\\thakr\\anaconda3\\envs\\pytorch_p37_2\\lib\\site-packages (from requests>=2.5.0->sphinx>=1.2.0->sphinx-argparse->indic-nlp-library) (2.0.4)\n",
      "Requirement already satisfied: idna<4,>=2.5 in c:\\users\\thakr\\anaconda3\\envs\\pytorch_p37_2\\lib\\site-packages (from requests>=2.5.0->sphinx>=1.2.0->sphinx-argparse->indic-nlp-library) (3.4)\n",
      "Installing collected packages: snowballstemmer, morfessor, sphinxcontrib-serializinghtml, sphinxcontrib-qthelp, sphinxcontrib-jsmath, sphinxcontrib-htmlhelp, sphinxcontrib-devhelp, sphinxcontrib-applehelp, Pygments, imagesize, docutils, alabaster, sphinx, sphinxcontrib-jquery, sphinx-argparse, sphinx-rtd-theme, indic-nlp-library\n",
      "  Attempting uninstall: Pygments\n",
      "    Found existing installation: Pygments 2.11.2\n",
      "    Uninstalling Pygments-2.11.2:\n",
      "      Successfully uninstalled Pygments-2.11.2\n",
      "Successfully installed Pygments-2.15.1 alabaster-0.7.13 docutils-0.18.1 imagesize-1.4.1 indic-nlp-library-0.91 morfessor-2.0.6 snowballstemmer-2.2.0 sphinx-5.3.0 sphinx-argparse-0.4.0 sphinx-rtd-theme-1.2.0 sphinxcontrib-applehelp-1.0.2 sphinxcontrib-devhelp-1.0.2 sphinxcontrib-htmlhelp-2.0.0 sphinxcontrib-jquery-4.1 sphinxcontrib-jsmath-1.0.1 sphinxcontrib-qthelp-1.0.3 sphinxcontrib-serializinghtml-1.1.5\n"
     ]
    }
   ],
   "source": [
    "!pip install nltk\n",
    "!pip install indic-nlp-library"
   ]
  },
  {
   "cell_type": "code",
   "execution_count": 89,
   "id": "ee2e8134-8618-4ec8-a847-6948d5bfabe8",
   "metadata": {},
   "outputs": [],
   "source": [
    "import nltk\n",
    "from indicnlp.tokenize import indic_tokenize\n",
    "from indicnlp.morph import unsupervised_morph\n",
    "from indicnlp.tokenize import indic_tokenize"
   ]
  },
  {
   "cell_type": "code",
   "execution_count": 90,
   "id": "bda5fa4a-0c43-4116-8f8e-c8cf54c4105a",
   "metadata": {},
   "outputs": [
    {
     "name": "stderr",
     "output_type": "stream",
     "text": [
      "[nltk_data] Downloading package punkt to\n",
      "[nltk_data]     C:\\Users\\thakr\\AppData\\Roaming\\nltk_data...\n",
      "[nltk_data]   Package punkt is already up-to-date!\n"
     ]
    },
    {
     "data": {
      "text/plain": [
       "True"
      ]
     },
     "execution_count": 90,
     "metadata": {},
     "output_type": "execute_result"
    }
   ],
   "source": [
    "nltk.download('punkt')"
   ]
  },
  {
   "cell_type": "code",
   "execution_count": 124,
   "id": "0ab0b4d8-47c5-48be-9df3-381f98e5453b",
   "metadata": {},
   "outputs": [],
   "source": [
    "sentence = \"इस किताब मे पन्ने की जानकारी दि है\"\n",
    "words = indic_tokenize.trivial_tokenize(sentence)\n",
    "tagged_words = nltk.pos_tag(words)"
   ]
  },
  {
   "cell_type": "code",
   "execution_count": 121,
   "id": "6b6ccf94-fc3b-4282-a180-0e1039ddd8f9",
   "metadata": {},
   "outputs": [
    {
     "data": {
      "text/plain": [
       "['इस', 'किताब', 'मे', 'पन्ने', 'की', 'जानकारी', 'दि', 'है']"
      ]
     },
     "execution_count": 121,
     "metadata": {},
     "output_type": "execute_result"
    }
   ],
   "source": [
    "words"
   ]
  },
  {
   "cell_type": "code",
   "execution_count": 125,
   "id": "017554c5-31db-43fd-a8f0-52c31dda92a5",
   "metadata": {},
   "outputs": [
    {
     "name": "stdout",
     "output_type": "stream",
     "text": [
      "[('इस', 'JJ'), ('किताब', 'NNP'), ('मे', 'NNP'), ('पन्ने', 'NNP'), ('की', 'NNP'), ('जानकारी', 'NNP'), ('दि', 'NNP'), ('है', 'NN')]\n"
     ]
    }
   ],
   "source": [
    "print(tagged_words)"
   ]
  },
  {
   "cell_type": "code",
   "execution_count": 118,
   "id": "a29ace16-a0f2-4a1e-b2d2-9a86020a80de",
   "metadata": {},
   "outputs": [
    {
     "name": "stderr",
     "output_type": "stream",
     "text": [
      "[nltk_data] Downloading package averaged_perceptron_tagger to\n",
      "[nltk_data]     C:\\Users\\thakr\\AppData\\Roaming\\nltk_data...\n",
      "[nltk_data]   Package averaged_perceptron_tagger is already up-to-\n",
      "[nltk_data]       date!\n"
     ]
    },
    {
     "data": {
      "text/plain": [
       "True"
      ]
     },
     "execution_count": 118,
     "metadata": {},
     "output_type": "execute_result"
    }
   ],
   "source": [
    "nltk.download('averaged_perceptron_tagger')"
   ]
  },
  {
   "cell_type": "code",
   "execution_count": 109,
   "id": "bea5e060-0f1f-4544-b000-02c26d7a2048",
   "metadata": {},
   "outputs": [
    {
     "name": "stdout",
     "output_type": "stream",
     "text": [
      "Requirement already satisfied: nltk in c:\\users\\thakr\\anaconda3\\envs\\pytorch_p37_2\\lib\\site-packages (3.8.1)\n",
      "Requirement already satisfied: joblib in c:\\users\\thakr\\anaconda3\\envs\\pytorch_p37_2\\lib\\site-packages (from nltk) (1.2.0)\n",
      "Requirement already satisfied: regex>=2021.8.3 in c:\\users\\thakr\\anaconda3\\envs\\pytorch_p37_2\\lib\\site-packages (from nltk) (2022.10.31)\n",
      "Requirement already satisfied: tqdm in c:\\users\\thakr\\anaconda3\\envs\\pytorch_p37_2\\lib\\site-packages (from nltk) (4.65.0)\n",
      "Requirement already satisfied: click in c:\\users\\thakr\\anaconda3\\envs\\pytorch_p37_2\\lib\\site-packages (from nltk) (8.1.3)\n",
      "Requirement already satisfied: colorama in c:\\users\\thakr\\anaconda3\\envs\\pytorch_p37_2\\lib\\site-packages (from click->nltk) (0.4.6)\n",
      "Requirement already satisfied: importlib-metadata in c:\\users\\thakr\\anaconda3\\envs\\pytorch_p37_2\\lib\\site-packages (from click->nltk) (4.11.3)\n",
      "Requirement already satisfied: zipp>=0.5 in c:\\users\\thakr\\anaconda3\\envs\\pytorch_p37_2\\lib\\site-packages (from importlib-metadata->click->nltk) (3.11.0)\n",
      "Requirement already satisfied: typing-extensions>=3.6.4 in c:\\users\\thakr\\anaconda3\\envs\\pytorch_p37_2\\lib\\site-packages (from importlib-metadata->click->nltk) (4.3.0)\n"
     ]
    }
   ],
   "source": [
    "!pip install nltk"
   ]
  },
  {
   "cell_type": "code",
   "execution_count": 123,
   "id": "16b6d2f2-086b-4154-95a3-b8896a081fd0",
   "metadata": {},
   "outputs": [
    {
     "name": "stdout",
     "output_type": "stream",
     "text": [
      "['किताब', 'मे', 'पन्ने', 'की', 'जानकारी', 'दि', 'है']\n"
     ]
    }
   ],
   "source": [
    "from nltk.stem import WordNetLemmatizer\n",
    "\n",
    "nouns = []\n",
    "for word, tag in tagged_words:\n",
    "    if tag in ['NN', 'NNP', 'NNPC']:\n",
    "        nouns.append(word)\n",
    "\n",
    "root_words = []\n",
    "lemmatizer = WordNetLemmatizer()\n",
    "for noun in nouns:\n",
    "    root_word = lemmatizer.lemmatize(noun, pos='n')\n",
    "    root_words.append(root_word)\n",
    "    \n",
    "print(root_words)"
   ]
  },
  {
   "cell_type": "code",
   "execution_count": 103,
   "id": "5858c735-0743-410f-b8b1-5c435531200c",
   "metadata": {},
   "outputs": [
    {
     "name": "stdout",
     "output_type": "stream",
     "text": [
      "-----\n",
      "b'    <html>\\n    <head>\\n\\t<title>Online Hindi Morph Analyzer morphosyntactic grammatical features of a word (Noun , verb , Adjective , adverb, pronoun , preposition , conjuction , interjunction , avvay avy etc. ) / grammatical features ( Agreeing gender number person case case marker vibhakti local word grouper lwg lexical category ) / morpheme based features / genetive / causative features hinid derivational morphology features </title>\\n\\t<meta name=\"description\" content=\"hindi noun, verb, adjective, pronoun, adverb, preposition, conjuction, interjunction, avvay avy morph morphological analysis analyzer analser hindi word analyzer hindi word analysis hindi morph analyzer hindi morpho-syntactic features hindi words grammatical features hindi word morpheme based features hindi word morpho-syntactic analysis analyzer agreement features person number gender case case marker tense aspect mode tam emphatic genetive causative direct inderect\" />\\n\\n<meta name=\"Keywords\" content=\"description\" content=\"hindi noun, verb, adjective, pronoun, adverb, preposition, conjuction, interjunction, avvay avy morph morphological analysis analyzer analser hindi word analyzer hindi word analysis hindi morph analyzer hindi morpho-syntactic features hindi words grammatical features hindi word morpheme based features hindi word morpho-syntactic analysis analyzer agreement features person number gender case case marker tense aspect mode tam emphatic genetive causative direct inderect\" />\\n        <meta http-equiv=\"Content-Type\" content=\"text/html; charset=utf-8\" />\\n\\n    <script>\\n  \\t(function(i,s,o,g,r,a,m){i[\\'GoogleAnalyticsObject\\']=r;i[r]=i[r]||function(){\\n  \\t(i[r].q=i[r].q||[]).push(arguments)},i[r].l=1*new Date();a=s.createElement(o),\\n  \\tm=s.getElementsByTagName(o)[0];a.async=1;a.src=g;m.parentNode.insertBefore(a,m)\\n  \\t})(window,document,\\'script\\',\\'//www.google-analytics.com/analytics.js\\',\\'ga\\');\\n\\n  \\tga(\\'create\\', \\'UA-65583440-1\\', \\'auto\\');\\n  \\tga(\\'send\\', \\'pageview\\');\\n    </script>\\n\\n    </head>\\n<script type=\"text/javascript\">\\nfunction clearinputText() {\\n\\tvar morph_formElements = document.forms[\"indicime\"].elements;\\n\\tmorph_formElements[\"yourtext\"].value=\"\";\\n}\\nfunction SampleText1() {\\n\\tvar morph_formElements = document.forms[\"indicime\"].elements;\\n\\tmorph_formElements[\"yourtext\"].value=\"\\xe0\\xa4\\xb2\\xe0\\xa4\\xa1\\xe0\\xa4\\xbc\\xe0\\xa4\\x95\\xe0\\xa4\\xbe \\xe0\\xa4\\x86 \\xe0\\xa4\\x97\\xe0\\xa4\\xaf\\xe0\\xa4\\xbe\\xe0\\xa5\\xa4\\\\n\\xe0\\xa4\\xb2\\xe0\\xa4\\xa1\\xe0\\xa4\\xbc\\xe0\\xa4\\x95\\xe0\\xa5\\x87 \\xe0\\xa4\\x86 \\xe0\\xa4\\x97\\xe0\\xa4\\xaf\\xe0\\xa5\\x87\\xe0\\xa5\\xa4\\\\n\\xe0\\xa4\\xb2\\xe0\\xa4\\xa1\\xe0\\xa4\\xbc\\xe0\\xa4\\x95\\xe0\\xa5\\x87 \\xe0\\xa4\\xa8\\xe0\\xa5\\x87 \\xe0\\xa4\\x95\\xe0\\xa4\\xb9\\xe0\\xa4\\xbe\\xe0\\xa5\\xa4\\\\n\\xe0\\xa4\\xb2\\xe0\\xa4\\xa1\\xe0\\xa4\\xbc\\xe0\\xa4\\x95\\xe0\\xa5\\x8b\\xe0\\xa4\\x82 \\xe0\\xa4\\xa8\\xe0\\xa5\\x87 \\xe0\\xa4\\x95\\xe0\\xa4\\xb9\\xe0\\xa4\\xbe\\xe0\\xa5\\xa4\\\\n\\xe0\\xa4\\xac\\xe0\\xa4\\xb9\\xe0\\xa5\\x81\\xe0\\xa4\\xa4 \\xe0\\xa4\\x86\\xe0\\xa4\\xb6\\xe0\\xa4\\xbe \\xe0\\xa4\\xa5\\xe0\\xa5\\x80\\xe0\\xa5\\xa4\\\\n\\xe0\\xa4\\xac\\xe0\\xa4\\xb9\\xe0\\xa5\\x81\\xe0\\xa4\\xa4 \\xe0\\xa4\\x86\\xe0\\xa4\\xb6\\xe0\\xa4\\xbe\\xe0\\xa4\\x8f\\xe0\\xa4\\x81 \\xe0\\xa4\\xa5\\xe0\\xa5\\x80\\xe0\\xa4\\x82\\xe0\\xa5\\xa4\\\\n\\xe0\\xa4\\x87\\xe0\\xa4\\xb8\\xe0\\xa5\\x80 \\xe0\\xa4\\x86\\xe0\\xa4\\xb6\\xe0\\xa4\\xbe  \\xe0\\xa4\\xae\\xe0\\xa5\\x87\\xe0\\xa4\\x82 \\xe0\\xa4\\xb2\\xe0\\xa5\\x8b\\xe0\\xa4\\x97 \\xe0\\xa4\\xac\\xe0\\xa5\\x88\\xe0\\xa4\\xa0\\xe0\\xa5\\x87 \\xe0\\xa4\\xb9\\xe0\\xa5\\x88\\xe0\\xa4\\x82\\xe0\\xa5\\xa4\\\\n\\xe0\\xa4\\x86\\xe0\\xa4\\xb6\\xe0\\xa4\\xbe\\xe0\\xa4\\x93\\xe0\\xa4\\x82 \\xe0\\xa4\\x95\\xe0\\xa5\\x8b \\xe0\\xa4\\x9b\\xe0\\xa5\\x8b\\xe0\\xa4\\xa1\\xe0\\xa4\\xbc\\xe0\\xa5\\x8b\\xe0\\xa5\\xa4\"; \\n}\\nfunction SampleText2() {\\n\\tvar morph_formElements = document.forms[\"indicime\"].elements;\\n\\tmorph_formElements[\"yourtext\"].value=\"\\xe0\\xa4\\x89\\xe0\\xa4\\xb8\\xe0\\xa4\\x95\\xe0\\xa4\\xbe \\xe0\\xa4\\xb2\\xe0\\xa4\\xa1\\xe0\\xa4\\xbc\\xe0\\xa4\\x95\\xe0\\xa4\\xbe \\xe0\\xa4\\x86 \\xe0\\xa4\\x97\\xe0\\xa4\\xaf\\xe0\\xa4\\xbe\\xe0\\xa5\\xa4\\\\n\\xe0\\xa4\\x89\\xe0\\xa4\\xb8\\xe0\\xa4\\x95\\xe0\\xa5\\x87 \\xe0\\xa4\\xb2\\xe0\\xa4\\xa1\\xe0\\xa4\\xbc\\xe0\\xa4\\x95\\xe0\\xa5\\x87 \\xe0\\xa4\\x86 \\xe0\\xa4\\x97\\xe0\\xa4\\xaf\\xe0\\xa5\\x87\\xe0\\xa5\\xa4\\\\n\\xe0\\xa4\\x89\\xe0\\xa4\\xb8\\xe0\\xa4\\x95\\xe0\\xa5\\x87 \\xe0\\xa4\\xb2\\xe0\\xa4\\xa1\\xe0\\xa4\\xbc\\xe0\\xa4\\x95\\xe0\\xa5\\x87 \\xe0\\xa4\\xa8\\xe0\\xa5\\x87 \\xe0\\xa4\\xac\\xe0\\xa5\\x8b\\xe0\\xa4\\xb2\\xe0\\xa4\\xbe\\xe0\\xa5\\xa4\\\\n\\xe0\\xa4\\x89\\xe0\\xa4\\xb8\\xe0\\xa4\\x95\\xe0\\xa5\\x87 \\xe0\\xa4\\xb2\\xe0\\xa4\\xa1\\xe0\\xa4\\xbc\\xe0\\xa4\\x95\\xe0\\xa5\\x8b\\xe0\\xa4\\x82 \\xe0\\xa4\\x95\\xe0\\xa5\\x8b \\xe0\\xa4\\xac\\xe0\\xa5\\x81\\xe0\\xa4\\xb2\\xe0\\xa4\\xbe\\xe0\\xa4\\x93\\xe0\\xa5\\xa4\\\\n\\xe0\\xa4\\x89\\xe0\\xa4\\xb8\\xe0\\xa4\\x95\\xe0\\xa5\\x80 \\xe0\\xa4\\xb2\\xe0\\xa4\\xa1\\xe0\\xa4\\xbc\\xe0\\xa4\\x95\\xe0\\xa5\\x80 \\xe0\\xa4\\x86 \\xe0\\xa4\\x97\\xe0\\xa4\\xaf\\xe0\\xa5\\x80\\xe0\\xa5\\xa4\\\\n\\xe0\\xa4\\x89\\xe0\\xa4\\xb8\\xe0\\xa4\\x95\\xe0\\xa5\\x80 \\xe0\\xa4\\xb2\\xe0\\xa4\\xa1\\xe0\\xa4\\xbc\\xe0\\xa4\\x95\\xe0\\xa4\\xbf\\xe0\\xa4\\xaf\\xe0\\xa4\\xbe\\xe0\\xa4\\x81 \\xe0\\xa4\\x86 \\xe0\\xa4\\x97\\xe0\\xa4\\xaf\\xe0\\xa5\\x80\\xe0\\xa4\\x82\\xe0\\xa5\\xa4\\\\n\\xe0\\xa4\\x89\\xe0\\xa4\\xb8\\xe0\\xa4\\x95\\xe0\\xa5\\x80 \\xe0\\xa4\\xb2\\xe0\\xa4\\xa1\\xe0\\xa4\\xbc\\xe0\\xa4\\x95\\xe0\\xa5\\x80 \\xe0\\xa4\\xa8\\xe0\\xa5\\x87 \\xe0\\xa4\\xac\\xe0\\xa5\\x8b\\xe0\\xa4\\xb2\\xe0\\xa4\\xbe\\xe0\\xa5\\xa4\\\\n\\xe0\\xa4\\x89\\xe0\\xa4\\xb8\\xe0\\xa4\\x95\\xe0\\xa5\\x80 \\xe0\\xa4\\xb2\\xe0\\xa4\\xa1\\xe0\\xa4\\xbc\\xe0\\xa4\\x95\\xe0\\xa4\\xbf\\xe0\\xa4\\xaf\\xe0\\xa5\\x8b\\xe0\\xa4\\x82 \\xe0\\xa4\\xa8\\xe0\\xa5\\x87 \\xe0\\xa4\\xac\\xe0\\xa5\\x8b\\xe0\\xa4\\xb2\\xe0\\xa4\\xbe\\xe0\\xa5\\xa4\"; \\n}\\nfunction SampleText3() {\\n\\tvar morph_formElements = document.forms[\"indicime\"].elements;\\n\\tmorph_formElements[\"yourtext\"].value=\"\\xe0\\xa4\\x89\\xe0\\xa4\\xb8 \\xe0\\xa4\\x86\\xe0\\xa4\\xa6\\xe0\\xa4\\xae\\xe0\\xa5\\x80 \\xe0\\xa4\\x95\\xe0\\xa4\\xbe \\xe0\\xa4\\x95\\xe0\\xa5\\x8d\\xe0\\xa4\\xaf\\xe0\\xa4\\xbe \\xe0\\xa4\\xa8\\xe0\\xa4\\xbe\\xe0\\xa4\\xae \\xe0\\xa4\\xb9\\xe0\\xa5\\x88\\xe0\\xa5\\xa4\\\\n\\xe0\\xa4\\xae\\xe0\\xa5\\x81\\xe0\\xa4\\x9d\\xe0\\xa5\\x87 \\xe0\\xa4\\x89\\xe0\\xa4\\xb8\\xe0\\xa4\\xa8\\xe0\\xa5\\x87 \\xe0\\xa4\\xac\\xe0\\xa5\\x8b\\xe0\\xa4\\xb2\\xe0\\xa4\\xbe\\xe0\\xa5\\xa4\\\\n\\xe0\\xa4\\xae\\xe0\\xa5\\x88\\xe0\\xa4\\x82\\xe0\\xa4\\xa8\\xe0\\xa5\\x87 \\xe0\\xa4\\x89\\xe0\\xa4\\xb8\\xe0\\xa4\\x95\\xe0\\xa5\\x8b \\xe0\\xa4\\xac\\xe0\\xa5\\x8b\\xe0\\xa4\\xb2\\xe0\\xa4\\xbe\\xe0\\xa5\\xa4\\\\n\\xe0\\xa4\\xae\\xe0\\xa5\\x88\\xe0\\xa4\\x82\\xe0\\xa4\\xa8\\xe0\\xa5\\x87 \\xe0\\xa4\\x89\\xe0\\xa4\\xb8\\xe0\\xa4\\xb8\\xe0\\xa5\\x87 \\xe0\\xa4\\xac\\xe0\\xa5\\x8b\\xe0\\xa4\\xb2\\xe0\\xa4\\xbe\\xe0\\xa5\\xa4\\\\n\\xe0\\xa4\\x89\\xe0\\xa4\\xb8\\xe0\\xa4\\xae\\xe0\\xa5\\x87\\xe0\\xa4\\x82 \\xe0\\xa4\\xb8\\xe0\\xa5\\x87 \\xe0\\xa4\\xb2\\xe0\\xa4\\xbf\\xe0\\xa4\\xaf\\xe0\\xa4\\xbe\\xe0\\xa5\\xa4\\\\n\\xe0\\xa4\\x89\\xe0\\xa4\\xb8\\xe0\\xa4\\xaa\\xe0\\xa4\\xb0 \\xe0\\xa4\\xb8\\xe0\\xa5\\x87 \\xe0\\xa4\\xb2\\xe0\\xa4\\xbf\\xe0\\xa4\\xaf\\xe0\\xa4\\xbe\\xe0\\xa5\\xa4\"; \\n}\\nfunction SampleText4() {\\n\\tvar morph_formElements = document.forms[\"indicime\"].elements;\\n\\tmorph_formElements[\"yourtext\"].value=\"\\xe0\\xa4\\x85\\xe0\\xa4\\xa8\\xe0\\xa5\\x87\\xe0\\xa4\\x95 \\xe0\\xa4\\x86\\xe0\\xa4\\xa6\\xe0\\xa4\\xae\\xe0\\xa5\\x80 \\xe0\\xa4\\xa5\\xe0\\xa5\\x87\\xe0\\xa5\\xa4\\\\n\\xe0\\xa4\\x85\\xe0\\xa4\\xa8\\xe0\\xa5\\x87\\xe0\\xa4\\x95 \\xe0\\xa4\\x86\\xe0\\xa4\\xa6\\xe0\\xa4\\xae\\xe0\\xa4\\xbf\\xe0\\xa4\\xaf\\xe0\\xa5\\x8b\\xe0\\xa4\\x82  \\xe0\\xa4\\xa8\\xe0\\xa5\\x87 \\xe0\\xa4\\x95\\xe0\\xa4\\xb9\\xe0\\xa4\\xbe\\xe0\\xa5\\xa4\\\\n\\xe0\\xa4\\x85\\xe0\\xa4\\xa8\\xe0\\xa5\\x87\\xe0\\xa4\\x95\\xe0\\xa5\\x8b\\xe0\\xa4\\x82 \\xe0\\xa4\\x86\\xe0\\xa4\\xa6\\xe0\\xa4\\xae\\xe0\\xa5\\x80 \\xe0\\xa4\\xa5\\xe0\\xa5\\x87\\xe0\\xa5\\xa4\\\\n\\xe0\\xa4\\x85\\xe0\\xa4\\xa8\\xe0\\xa5\\x87\\xe0\\xa4\\x95\\xe0\\xa5\\x8b\\xe0\\xa4\\x82 \\xe0\\xa4\\x86\\xe0\\xa4\\xa6\\xe0\\xa4\\xae\\xe0\\xa4\\xbf\\xe0\\xa4\\xaf\\xe0\\xa5\\x8b\\xe0\\xa4\\x82  \\xe0\\xa4\\xa8\\xe0\\xa5\\x87 \\xe0\\xa4\\x95\\xe0\\xa4\\xb9\\xe0\\xa4\\xbe\\xe0\\xa5\\xa4\\\\n\\xe0\\xa4\\xb9\\xe0\\xa5\\x8b\\xe0\\xa4\\xb6\\xe0\\xa4\\xbf\\xe0\\xa4\\xaf\\xe0\\xa4\\xbe\\xe0\\xa4\\xb0 \\xe0\\xa4\\xb2\\xe0\\xa4\\xa1\\xe0\\xa4\\xbc\\xe0\\xa4\\x95\\xe0\\xa4\\xbe \\xe0\\xa4\\x86 \\xe0\\xa4\\x97\\xe0\\xa4\\xaf\\xe0\\xa4\\xbe\\xe0\\xa5\\xa4\\\\n\\xe0\\xa4\\xb9\\xe0\\xa5\\x8b\\xe0\\xa4\\xb6\\xe0\\xa4\\xbf\\xe0\\xa4\\xaf\\xe0\\xa4\\xbe\\xe0\\xa4\\xb0 \\xe0\\xa4\\xb2\\xe0\\xa4\\xa1\\xe0\\xa4\\xbc\\xe0\\xa4\\x95\\xe0\\xa5\\x80 \\xe0\\xa4\\x86 \\xe0\\xa4\\x97\\xe0\\xa4\\xaf\\xe0\\xa5\\x80\\xe0\\xa5\\xa4\\\\n\\xe0\\xa4\\xac\\xe0\\xa4\\xbe\\xe0\\xa4\\xb2\\xe0\\xa4\\x95 \\xe0\\xa4\\xb0\\xe0\\xa4\\xbe\\xe0\\xa4\\xae \\xe0\\xa4\\xa8\\xe0\\xa5\\x87 \\xe0\\xa4\\xb0\\xe0\\xa4\\xbe\\xe0\\xa4\\xb5\\xe0\\xa4\\xa3 \\xe0\\xa4\\x95\\xe0\\xa5\\x8b \\xe0\\xa4\\xae\\xe0\\xa4\\xbe\\xe0\\xa4\\xb0\\xe0\\xa4\\xbe\\xe0\\xa5\\xa4\\\\n\\xe0\\xa4\\xac\\xe0\\xa4\\xbe\\xe0\\xa4\\xb2\\xe0\\xa4\\xbf\\xe0\\xa4\\x95\\xe0\\xa4\\xbe \\xe0\\xa4\\xb8\\xe0\\xa5\\x80\\xe0\\xa4\\xa4\\xe0\\xa4\\xbe \\xe0\\xa4\\xb8\\xe0\\xa4\\xbe\\xe0\\xa4\\xb9\\xe0\\xa5\\x82  \\xe0\\xa4\\xa8\\xe0\\xa5\\x87 \\xe0\\xa4\\x93\\xe0\\xa4\\xb2\\xe0\\xa4\\x82\\xe0\\xa4\\xaa\\xe0\\xa4\\xbf\\xe0\\xa4\\x95 \\xe0\\xa4\\xae\\xe0\\xa5\\x87\\xe0\\xa4\\x82 \\xe0\\xa4\\xa6\\xe0\\xa5\\x8b \\xe0\\xa4\\x95\\xe0\\xa4\\xbe\\xe0\\xa4\\x82\\xe0\\xa4\\xb8\\xe0\\xa5\\x8d\\xe0\\xa4\\xaf \\xe0\\xa4\\xaa\\xe0\\xa4\\xa6\\xe0\\xa4\\x95 \\xe0\\xa4\\x9c\\xe0\\xa5\\x80\\xe0\\xa4\\xa4\\xe0\\xa5\\x87\\xe0\\xa5\\xa4\\\\n\\xe0\\xa4\\x95\\xe0\\xa4\\xbe\\xe0\\xa4\\xb2\\xe0\\xa4\\xbe \\xe0\\xa4\\xb2\\xe0\\xa4\\xa1\\xe0\\xa4\\xbc\\xe0\\xa4\\x95\\xe0\\xa4\\xbe \\xe0\\xa4\\x86 \\xe0\\xa4\\x97\\xe0\\xa4\\xaf\\xe0\\xa4\\xbe\\xe0\\xa5\\xa4\\\\n\\xe0\\xa4\\x95\\xe0\\xa4\\xbe\\xe0\\xa4\\xb2\\xe0\\xa5\\x87 \\xe0\\xa4\\xb2\\xe0\\xa4\\xa1\\xe0\\xa4\\xbc\\xe0\\xa4\\x95\\xe0\\xa5\\x87 \\xe0\\xa4\\x86 \\xe0\\xa4\\x97\\xe0\\xa4\\xaf\\xe0\\xa5\\x87\\xe0\\xa5\\xa4\\\\n\\xe0\\xa4\\x95\\xe0\\xa4\\xbe\\xe0\\xa4\\xb2\\xe0\\xa5\\x87 \\xe0\\xa4\\xb2\\xe0\\xa4\\xa1\\xe0\\xa4\\xbc\\xe0\\xa4\\x95\\xe0\\xa5\\x87 \\xe0\\xa4\\xa8\\xe0\\xa5\\x87 \\xe0\\xa4\\x95\\xe0\\xa4\\xb9\\xe0\\xa4\\xbe\\xe0\\xa5\\xa4\\\\n\\xe0\\xa4\\x95\\xe0\\xa4\\xbe\\xe0\\xa4\\xb2\\xe0\\xa5\\x87 \\xe0\\xa4\\xb2\\xe0\\xa4\\xa1\\xe0\\xa4\\xbc\\xe0\\xa4\\x95\\xe0\\xa5\\x8b\\xe0\\xa4\\x82 \\xe0\\xa4\\xa8\\xe0\\xa5\\x87 \\xe0\\xa4\\x95\\xe0\\xa4\\xb9\\xe0\\xa4\\xbe\\xe0\\xa5\\xa4\\\\n\\xe0\\xa4\\x95\\xe0\\xa4\\xbe\\xe0\\xa4\\xb2\\xe0\\xa5\\x80 \\xe0\\xa4\\xb2\\xe0\\xa4\\xa1\\xe0\\xa4\\xbc\\xe0\\xa4\\x95\\xe0\\xa5\\x80 \\xe0\\xa4\\xa5\\xe0\\xa5\\x80\\xe0\\xa5\\xa4\\\\n\\xe0\\xa4\\x95\\xe0\\xa4\\xbe\\xe0\\xa4\\xb2\\xe0\\xa5\\x80 \\xe0\\xa4\\xb2\\xe0\\xa4\\xa1\\xe0\\xa4\\xbc\\xe0\\xa4\\x95\\xe0\\xa4\\xbf\\xe0\\xa4\\xaf\\xe0\\xa4\\xbe\\xe0\\xa4\\x81 \\xe0\\xa4\\xa5\\xe0\\xa5\\x80\\xe0\\xa4\\x82\\xe0\\xa5\\xa4\\\\n\\xe0\\xa4\\x95\\xe0\\xa4\\xbe\\xe0\\xa4\\xb2\\xe0\\xa5\\x80 \\xe0\\xa4\\xb2\\xe0\\xa4\\xa1\\xe0\\xa4\\xbc\\xe0\\xa4\\x95\\xe0\\xa5\\x80 \\xe0\\xa4\\xa8\\xe0\\xa5\\x87 \\xe0\\xa4\\x95\\xe0\\xa4\\xb9\\xe0\\xa4\\xbe\\xe0\\xa5\\xa4\\\\n\\xe0\\xa4\\x95\\xe0\\xa4\\xbe\\xe0\\xa4\\xb2\\xe0\\xa5\\x80 \\xe0\\xa4\\xb2\\xe0\\xa4\\xa1\\xe0\\xa4\\xbc\\xe0\\xa4\\x95\\xe0\\xa4\\xbf\\xe0\\xa4\\xaf\\xe0\\xa5\\x8b\\xe0\\xa4\\x82 \\xe0\\xa4\\xa8\\xe0\\xa5\\x87 \\xe0\\xa4\\x95\\xe0\\xa4\\xb9\\xe0\\xa4\\xbe\\xe0\\xa5\\xa4\\\\n\\xe0\\xa4\\xa6\\xe0\\xa4\\xb8\\xe0\\xa4\\xb5\\xe0\\xa4\\xbe\\xe0\\xa4\\x82 \\xe0\\xa4\\xb2\\xe0\\xa4\\xa1\\xe0\\xa4\\xbc\\xe0\\xa4\\x95\\xe0\\xa4\\xbe \\xe0\\xa4\\x86 \\xe0\\xa4\\x97\\xe0\\xa4\\xaf\\xe0\\xa4\\xbe\\xe0\\xa5\\xa4\\\\n\\xe0\\xa4\\xa6\\xe0\\xa4\\xb8\\xe0\\xa4\\xb5\\xe0\\xa4\\xbe\\xe0\\xa4\\x81 \\xe0\\xa4\\xb2\\xe0\\xa4\\xa1\\xe0\\xa4\\xbc\\xe0\\xa4\\x95\\xe0\\xa4\\xbe \\xe0\\xa4\\x86 \\xe0\\xa4\\x97\\xe0\\xa4\\xaf\\xe0\\xa4\\xbe\\xe0\\xa5\\xa4\\\\n\\xe0\\xa4\\xa6\\xe0\\xa4\\xb8\\xe0\\xa4\\xb5\\xe0\\xa5\\x87\\xe0\\xa4\\x82 \\xe0\\xa4\\xb2\\xe0\\xa4\\xa1\\xe0\\xa4\\xbc\\xe0\\xa4\\x95\\xe0\\xa5\\x87 \\xe0\\xa4\\x86 \\xe0\\xa4\\x97\\xe0\\xa4\\xaf\\xe0\\xa5\\x87\\xe0\\xa5\\xa4\\\\n\\xe0\\xa4\\xa6\\xe0\\xa4\\xb8\\xe0\\xa4\\xb5\\xe0\\xa5\\x87\\xe0\\xa4\\x81 \\xe0\\xa4\\xb2\\xe0\\xa4\\xa1\\xe0\\xa4\\xbc\\xe0\\xa4\\x95\\xe0\\xa5\\x87 \\xe0\\xa4\\x86 \\xe0\\xa4\\x97\\xe0\\xa4\\xaf\\xe0\\xa5\\x87\\xe0\\xa5\\xa4\\\\n\\xe0\\xa4\\xa6\\xe0\\xa4\\xb8\\xe0\\xa4\\xb5\\xe0\\xa5\\x87\\xe0\\xa4\\x82 \\xe0\\xa4\\xb2\\xe0\\xa4\\xa1\\xe0\\xa4\\xbc\\xe0\\xa4\\x95\\xe0\\xa5\\x87 \\xe0\\xa4\\xa8\\xe0\\xa5\\x87 \\xe0\\xa4\\x95\\xe0\\xa4\\xb9\\xe0\\xa4\\xbe\\xe0\\xa5\\xa4\\\\n\\xe0\\xa4\\xa6\\xe0\\xa4\\xb8\\xe0\\xa4\\xb5\\xe0\\xa5\\x87\\xe0\\xa4\\x81 \\xe0\\xa4\\xb2\\xe0\\xa4\\xa1\\xe0\\xa4\\xbc\\xe0\\xa4\\x95\\xe0\\xa5\\x87 \\xe0\\xa4\\xa8\\xe0\\xa5\\x87 \\xe0\\xa4\\x95\\xe0\\xa4\\xb9\\xe0\\xa4\\xbe\\xe0\\xa5\\xa4\\\\n\\xe0\\xa4\\xa6\\xe0\\xa4\\xb8\\xe0\\xa4\\xb5\\xe0\\xa5\\x80\\xe0\\xa4\\x82 \\xe0\\xa4\\xb2\\xe0\\xa4\\xa1\\xe0\\xa4\\xbc\\xe0\\xa4\\x95\\xe0\\xa5\\x80 \\xe0\\xa4\\xa5\\xe0\\xa5\\x80\\xe0\\xa5\\xa4\\\\n\\xe0\\xa4\\xa6\\xe0\\xa4\\xb8\\xe0\\xa4\\xb5\\xe0\\xa5\\x80\\xe0\\xa4\\x82 \\xe0\\xa4\\xb2\\xe0\\xa4\\xa1\\xe0\\xa4\\xbc\\xe0\\xa4\\x95\\xe0\\xa4\\xbf\\xe0\\xa4\\xaf\\xe0\\xa4\\xbe\\xe0\\xa4\\x81 \\xe0\\xa4\\xa5\\xe0\\xa5\\x80\\xe0\\xa4\\x82\\xe0\\xa5\\xa4\\\\n\\xe0\\xa4\\xa6\\xe0\\xa4\\xb8\\xe0\\xa4\\xb5\\xe0\\xa5\\x80\\xe0\\xa4\\x82 \\xe0\\xa4\\xb2\\xe0\\xa4\\xa1\\xe0\\xa4\\xbc\\xe0\\xa4\\x95\\xe0\\xa5\\x80 \\xe0\\xa4\\xa8\\xe0\\xa5\\x87 \\xe0\\xa4\\x95\\xe0\\xa4\\xb9\\xe0\\xa4\\xbe\\xe0\\xa5\\xa4\\\\n\\xe0\\xa4\\xa6\\xe0\\xa4\\xb8\\xe0\\xa4\\xb5\\xe0\\xa5\\x80\\xe0\\xa4\\x82 \\xe0\\xa4\\xb2\\xe0\\xa4\\xa1\\xe0\\xa4\\xbc\\xe0\\xa4\\x95\\xe0\\xa4\\xbf\\xe0\\xa4\\xaf\\xe0\\xa5\\x8b\\xe0\\xa4\\x82 \\xe0\\xa4\\xa8\\xe0\\xa5\\x87 \\xe0\\xa4\\x95\\xe0\\xa4\\xb9\\xe0\\xa4\\xbe\\xe0\\xa5\\xa4\"; \\n}\\nfunction SampleText5() {\\n\\tvar morph_formElements = document.forms[\"indicime\"].elements;\\n\\tmorph_formElements[\"yourtext\"].value=\"\\xe0\\xa4\\xad\\xe0\\xa5\\x8b\\xe0\\xa4\\xb2\\xe0\\xa4\\xbe\\xe0\\xa4\\xad\\xe0\\xa4\\xbe\\xe0\\xa4\\xb2\\xe0\\xa4\\xbe \\xe0\\xa4\\xb2\\xe0\\xa4\\xa1\\xe0\\xa4\\xbc\\xe0\\xa4\\x95\\xe0\\xa4\\xbe \\xe0\\xa4\\x86 \\xe0\\xa4\\x97\\xe0\\xa4\\xaf\\xe0\\xa4\\xbe\\xe0\\xa5\\xa4\\\\n\\xe0\\xa4\\xad\\xe0\\xa5\\x8b\\xe0\\xa4\\xb2\\xe0\\xa5\\x87\\xe0\\xa4\\xad\\xe0\\xa4\\xbe\\xe0\\xa4\\xb2\\xe0\\xa5\\x87 \\xe0\\xa4\\xb2\\xe0\\xa4\\xa1\\xe0\\xa4\\xbc\\xe0\\xa4\\x95\\xe0\\xa5\\x87 \\xe0\\xa4\\x86 \\xe0\\xa4\\x97\\xe0\\xa4\\xaf\\xe0\\xa5\\x87\\xe0\\xa5\\xa4\\\\n\\xe0\\xa4\\xad\\xe0\\xa5\\x8b\\xe0\\xa4\\xb2\\xe0\\xa5\\x87\\xe0\\xa4\\xad\\xe0\\xa4\\xbe\\xe0\\xa4\\xb2\\xe0\\xa5\\x87 \\xe0\\xa4\\xb2\\xe0\\xa4\\xa1\\xe0\\xa4\\xbc\\xe0\\xa4\\x95\\xe0\\xa5\\x87 \\xe0\\xa4\\xa8\\xe0\\xa5\\x87 \\xe0\\xa4\\x95\\xe0\\xa4\\xb9\\xe0\\xa4\\xbe\\xe0\\xa5\\xa4\\\\n\\xe0\\xa4\\xad\\xe0\\xa5\\x8b\\xe0\\xa4\\xb2\\xe0\\xa5\\x87\\xe0\\xa4\\xad\\xe0\\xa4\\xbe\\xe0\\xa4\\xb2\\xe0\\xa5\\x87 \\xe0\\xa4\\xb2\\xe0\\xa4\\xa1\\xe0\\xa4\\xbc\\xe0\\xa4\\x95\\xe0\\xa5\\x8b\\xe0\\xa4\\x82 \\xe0\\xa4\\xa8\\xe0\\xa5\\x87 \\xe0\\xa4\\x95\\xe0\\xa4\\xb9\\xe0\\xa4\\xbe\\xe0\\xa5\\xa4\\\\n\\xe0\\xa4\\xad\\xe0\\xa5\\x8b\\xe0\\xa4\\xb2\\xe0\\xa5\\x80\\xe0\\xa4\\xad\\xe0\\xa4\\xbe\\xe0\\xa4\\xb2\\xe0\\xa5\\x80 \\xe0\\xa4\\xb2\\xe0\\xa4\\xa1\\xe0\\xa4\\xbc\\xe0\\xa4\\x95\\xe0\\xa5\\x80 \\xe0\\xa4\\xa5\\xe0\\xa5\\x80\\xe0\\xa5\\xa4\\\\n\\xe0\\xa4\\xad\\xe0\\xa5\\x8b\\xe0\\xa4\\xb2\\xe0\\xa5\\x80\\xe0\\xa4\\xad\\xe0\\xa4\\xbe\\xe0\\xa4\\xb2\\xe0\\xa5\\x80 \\xe0\\xa4\\xb2\\xe0\\xa4\\xa1\\xe0\\xa4\\xbc\\xe0\\xa4\\x95\\xe0\\xa4\\xbf\\xe0\\xa4\\xaf\\xe0\\xa4\\xbe\\xe0\\xa4\\x81 \\xe0\\xa4\\xa5\\xe0\\xa5\\x80\\xe0\\xa4\\x82\\xe0\\xa5\\xa4\\\\n\\xe0\\xa4\\xad\\xe0\\xa5\\x8b\\xe0\\xa4\\xb2\\xe0\\xa5\\x80\\xe0\\xa4\\xad\\xe0\\xa4\\xbe\\xe0\\xa4\\xb2\\xe0\\xa5\\x80 \\xe0\\xa4\\xb2\\xe0\\xa4\\xa1\\xe0\\xa4\\xbc\\xe0\\xa4\\x95\\xe0\\xa5\\x80 \\xe0\\xa4\\xa8\\xe0\\xa5\\x87 \\xe0\\xa4\\x95\\xe0\\xa4\\xb9\\xe0\\xa4\\xbe\\xe0\\xa5\\xa4\\\\n\\xe0\\xa4\\xad\\xe0\\xa5\\x8b\\xe0\\xa4\\xb2\\xe0\\xa5\\x80\\xe0\\xa4\\xad\\xe0\\xa4\\xbe\\xe0\\xa4\\xb2\\xe0\\xa5\\x80 \\xe0\\xa4\\xb2\\xe0\\xa4\\xa1\\xe0\\xa4\\xbc\\xe0\\xa4\\x95\\xe0\\xa4\\xbf\\xe0\\xa4\\xaf\\xe0\\xa5\\x8b\\xe0\\xa4\\x82 \\xe0\\xa4\\xa8\\xe0\\xa5\\x87 \\xe0\\xa4\\x95\\xe0\\xa4\\xb9\\xe0\\xa4\\xbe\\xe0\\xa5\\xa4\\\\n\\xe0\\xa4\\xad\\xe0\\xa5\\x8b\\xe0\\xa4\\xb2\\xe0\\xa5\\x87\\xe0\\xa4\\xad\\xe0\\xa4\\xbe\\xe0\\xa4\\xb2\\xe0\\xa5\\x8b\\xe0\\xa4\\x82 \\xe0\\xa4\\x95\\xe0\\xa5\\x8b \\xe0\\xa4\\x9d\\xe0\\xa4\\xbe\\xe0\\xa4\\x82\\xe0\\xa4\\xb8\\xe0\\xa4\\xbe \\xe0\\xa4\\xa6\\xe0\\xa5\\x87 \\xe0\\xa4\\x95\\xe0\\xa4\\xb0\\xe0\\xa5\\x8b\\xe0\\xa5\\x9c\\xe0\\xa5\\x8b\\xe0\\xa4\\x82 \\xe0\\xa4\\xb9\\xe0\\xa5\\x9c\\xe0\\xa4\\xaa\\xe0\\xa4\\xa8\\xe0\\xa5\\x87 \\xe0\\xa4\\x95\\xe0\\xa4\\xbe \\xe0\\xa4\\x86\\xe0\\xa4\\xb0\\xe0\\xa5\\x8b\\xe0\\xa4\\xaa\\xe0\\xa5\\x80 \\xe0\\xa4\\x97\\xe0\\xa4\\xbf\\xe0\\xa4\\xb0\\xe0\\xa4\\xab\\xe0\\xa5\\x8d\\xe0\\xa4\\xa4\\xe0\\xa4\\xbe\\xe0\\xa4\\xb0\\xe0\\xa5\\xa4\\\\n\\xe0\\xa4\\xb0\\xe0\\xa4\\xbe\\xe0\\xa4\\xae \\xe0\\xa4\\x95\\xe0\\xa4\\xbe \\xe0\\xa4\\x85\\xe0\\xa4\\x9a\\xe0\\xa5\\x8d\\xe0\\xa4\\x9b\\xe0\\xa4\\xbe\\xe0\\xa4\\xaa\\xe0\\xa4\\xa8 \\xe0\\xa4\\x89\\xe0\\xa4\\xb8\\xe0\\xa4\\x95\\xe0\\xa5\\x87 \\xe0\\xa4\\xb8\\xe0\\xa4\\xbe\\xe0\\xa4\\xa5 \\xe0\\xa4\\xa5\\xe0\\xa4\\xbe\\xe0\\xa5\\xa4\\\\n\\xe0\\xa4\\xb0\\xe0\\xa4\\xbe\\xe0\\xa4\\xae \\xe0\\xa4\\xa8\\xe0\\xa5\\x87 \\xe0\\xa4\\x89\\xe0\\xa4\\xb8\\xe0\\xa4\\x95\\xe0\\xa5\\x87 \\xe0\\xa4\\x85\\xe0\\xa4\\x9a\\xe0\\xa5\\x8d\\xe0\\xa4\\x9b\\xe0\\xa5\\x87\\xe0\\xa4\\xaa\\xe0\\xa4\\xa8 \\xe0\\xa4\\x95\\xe0\\xa5\\x80 \\xe0\\xa4\\xb5\\xe0\\xa4\\x9c\\xe0\\xa4\\xb9 \\xe0\\xa4\\xb8\\xe0\\xa5\\x87 \\xe0\\xa4\\x9c\\xe0\\xa4\\xbe\\xe0\\xa4\\xa8\\xe0\\xa5\\x87 \\xe0\\xa4\\xa6\\xe0\\xa4\\xbf\\xe0\\xa4\\xaf\\xe0\\xa4\\xbe \\xe0\\xa5\\xa4\\\\n\\xe0\\xa4\\xb0\\xe0\\xa4\\xbe\\xe0\\xa4\\xae \\xe0\\xa4\\x95\\xe0\\xa4\\xbe \\xe0\\xa4\\x85\\xe0\\xa4\\x95\\xe0\\xa5\\x87\\xe0\\xa4\\xb2\\xe0\\xa4\\xbe\\xe0\\xa4\\xaa\\xe0\\xa4\\xa8 \\xe0\\xa4\\x89\\xe0\\xa4\\xb8\\xe0\\xa4\\x95\\xe0\\xa5\\x87 \\xe0\\xa4\\xb8\\xe0\\xa4\\xbe\\xe0\\xa4\\xa5 \\xe0\\xa4\\xa5\\xe0\\xa4\\xbe\\xe0\\xa5\\xa4\\\\n\\xe0\\xa4\\xb0\\xe0\\xa4\\xbe\\xe0\\xa4\\xae \\xe0\\xa4\\xa8\\xe0\\xa5\\x87 \\xe0\\xa4\\x89\\xe0\\xa4\\xb8\\xe0\\xa4\\x95\\xe0\\xa5\\x87 \\xe0\\xa4\\x85\\xe0\\xa4\\x95\\xe0\\xa5\\x87\\xe0\\xa4\\xb2\\xe0\\xa5\\x87\\xe0\\xa4\\xaa\\xe0\\xa4\\xa8 \\xe0\\xa4\\x95\\xe0\\xa5\\x80 \\xe0\\xa4\\xb5\\xe0\\xa4\\x9c\\xe0\\xa4\\xb9 \\xe0\\xa4\\xb8\\xe0\\xa5\\x87 \\xe0\\xa4\\x9c\\xe0\\xa4\\xbe\\xe0\\xa4\\xa8\\xe0\\xa5\\x87 \\xe0\\xa4\\xa6\\xe0\\xa4\\xbf\\xe0\\xa4\\xaf\\xe0\\xa4\\xbe \\xe0\\xa5\\xa4\"; \\n}\\nfunction SampleText6() {\\n\\tvar morph_formElements = document.forms[\"indicime\"].elements;\\n\\tmorph_formElements[\"yourtext\"].value=\"\\xe0\\xa4\\xa6\\xe0\\xa5\\x8b \\xe0\\xa4\\xac\\xe0\\xa4\\xb0\\xe0\\xa4\\xb8 \\xe0\\xa4\\xae\\xe0\\xa5\\x87\\xe0\\xa4\\x82 \\xe0\\xa4\\x8f\\xe0\\xa4\\x95 \\xe0\\xa4\\xac\\xe0\\xa4\\xbe\\xe0\\xa4\\xb0 \\xe0\\xa4\\xb6\\xe0\\xa4\\xb9\\xe0\\xa4\\xb0 \\xe0\\xa4\\x86\\xe0\\xa4\\xa8\\xe0\\xa5\\x87\\xe0\\xa4\\xb5\\xe0\\xa4\\xbe\\xe0\\xa4\\xb2\\xe0\\xa4\\xbe \\xe0\\xa4\\x86\\xe0\\xa4\\xa6\\xe0\\xa4\\xae\\xe0\\xa5\\x80 \\xe0\\xa4\\xae\\xe0\\xa4\\xbf\\xe0\\xa4\\xb2\\xe0\\xa4\\xbe\\xe0\\xa5\\xa4\\\\n\\xe0\\xa4\\xa6\\xe0\\xa5\\x8b \\xe0\\xa4\\xac\\xe0\\xa4\\xb0\\xe0\\xa4\\xb8 \\xe0\\xa4\\xae\\xe0\\xa5\\x87\\xe0\\xa4\\x82 \\xe0\\xa4\\x8f\\xe0\\xa4\\x95 \\xe0\\xa4\\xac\\xe0\\xa4\\xbe\\xe0\\xa4\\xb0 \\xe0\\xa4\\xb6\\xe0\\xa4\\xb9\\xe0\\xa4\\xb0 \\xe0\\xa4\\x86\\xe0\\xa4\\xa8\\xe0\\xa5\\x87\\xe0\\xa4\\xb5\\xe0\\xa4\\xbe\\xe0\\xa4\\xb2\\xe0\\xa5\\x87 \\xe0\\xa4\\x86\\xe0\\xa4\\xa6\\xe0\\xa4\\xae\\xe0\\xa5\\x80 \\xe0\\xa4\\xae\\xe0\\xa4\\xbf\\xe0\\xa4\\xb2\\xe0\\xa5\\x87\\xe0\\xa5\\xa4\\\\n\\xe0\\xa4\\xa6\\xe0\\xa5\\x8b \\xe0\\xa4\\xac\\xe0\\xa4\\xb0\\xe0\\xa4\\xb8 \\xe0\\xa4\\xae\\xe0\\xa5\\x87\\xe0\\xa4\\x82 \\xe0\\xa4\\x8f\\xe0\\xa4\\x95 \\xe0\\xa4\\xac\\xe0\\xa4\\xbe\\xe0\\xa4\\xb0 \\xe0\\xa4\\xb6\\xe0\\xa4\\xb9\\xe0\\xa4\\xb0 \\xe0\\xa4\\x86\\xe0\\xa4\\xa8\\xe0\\xa5\\x87\\xe0\\xa4\\xb5\\xe0\\xa4\\xbe\\xe0\\xa4\\xb2\\xe0\\xa5\\x87 \\xe0\\xa4\\x86\\xe0\\xa4\\xa6\\xe0\\xa4\\xae\\xe0\\xa5\\x80 \\xe0\\xa4\\xa8\\xe0\\xa5\\x87 \\xe0\\xa4\\x95\\xe0\\xa4\\xb9\\xe0\\xa4\\xbe\\xe0\\xa5\\xa4\\\\n\\xe0\\xa4\\xa6\\xe0\\xa5\\x8b \\xe0\\xa4\\xac\\xe0\\xa4\\xb0\\xe0\\xa4\\xb8 \\xe0\\xa4\\xae\\xe0\\xa5\\x87\\xe0\\xa4\\x82 \\xe0\\xa4\\x8f\\xe0\\xa4\\x95 \\xe0\\xa4\\xac\\xe0\\xa4\\xbe\\xe0\\xa4\\xb0 \\xe0\\xa4\\xb6\\xe0\\xa4\\xb9\\xe0\\xa4\\xb0 \\xe0\\xa4\\x86\\xe0\\xa4\\xa8\\xe0\\xa5\\x87\\xe0\\xa4\\xb5\\xe0\\xa4\\xbe\\xe0\\xa4\\xb2\\xe0\\xa5\\x87 \\xe0\\xa4\\x86\\xe0\\xa4\\xa6\\xe0\\xa4\\xae\\xe0\\xa4\\xbf\\xe0\\xa4\\xaf\\xe0\\xa5\\x8b\\xe0\\xa4\\x82 \\xe0\\xa4\\xa8\\xe0\\xa5\\x87 \\xe0\\xa4\\x95\\xe0\\xa4\\xb9\\xe0\\xa4\\xbe\\xe0\\xa5\\xa4\\\\n\\xe0\\xa4\\xa6\\xe0\\xa5\\x8b \\xe0\\xa4\\xac\\xe0\\xa4\\xb0\\xe0\\xa4\\xb8 \\xe0\\xa4\\xae\\xe0\\xa5\\x87\\xe0\\xa4\\x82 \\xe0\\xa4\\x8f\\xe0\\xa4\\x95 \\xe0\\xa4\\xac\\xe0\\xa4\\xbe\\xe0\\xa4\\xb0 \\xe0\\xa4\\xb6\\xe0\\xa4\\xb9\\xe0\\xa4\\xb0 \\xe0\\xa4\\x86\\xe0\\xa4\\xa8\\xe0\\xa5\\x87\\xe0\\xa4\\xb5\\xe0\\xa4\\xbe\\xe0\\xa4\\xb2\\xe0\\xa5\\x80 \\xe0\\xa4\\x94\\xe0\\xa4\\xb0\\xe0\\xa4\\xa4 \\xe0\\xa4\\xae\\xe0\\xa4\\xbf\\xe0\\xa4\\xb2\\xe0\\xa5\\x80\\xe0\\xa5\\xa4\\\\n\\xe0\\xa4\\xa6\\xe0\\xa5\\x8b \\xe0\\xa4\\xac\\xe0\\xa4\\xb0\\xe0\\xa4\\xb8 \\xe0\\xa4\\xae\\xe0\\xa5\\x87\\xe0\\xa4\\x82 \\xe0\\xa4\\x8f\\xe0\\xa4\\x95 \\xe0\\xa4\\xac\\xe0\\xa4\\xbe\\xe0\\xa4\\xb0 \\xe0\\xa4\\xb6\\xe0\\xa4\\xb9\\xe0\\xa4\\xb0 \\xe0\\xa4\\x86\\xe0\\xa4\\xa8\\xe0\\xa5\\x87\\xe0\\xa4\\xb5\\xe0\\xa4\\xbe\\xe0\\xa4\\xb2\\xe0\\xa5\\x80 \\xe0\\xa4\\x94\\xe0\\xa4\\xb0\\xe0\\xa4\\xa4\\xe0\\xa5\\x87\\xe0\\xa4\\x82 \\xe0\\xa4\\xae\\xe0\\xa4\\xbf\\xe0\\xa4\\xb2\\xe0\\xa5\\x80\\xe0\\xa4\\x82\\xe0\\xa5\\xa4\\\\n\\xe0\\xa4\\xa6\\xe0\\xa5\\x8b \\xe0\\xa4\\xac\\xe0\\xa4\\xb0\\xe0\\xa4\\xb8 \\xe0\\xa4\\xae\\xe0\\xa5\\x87\\xe0\\xa4\\x82 \\xe0\\xa4\\x8f\\xe0\\xa4\\x95 \\xe0\\xa4\\xac\\xe0\\xa4\\xbe\\xe0\\xa4\\xb0 \\xe0\\xa4\\xb6\\xe0\\xa4\\xb9\\xe0\\xa4\\xb0 \\xe0\\xa4\\x86\\xe0\\xa4\\xa8\\xe0\\xa5\\x87\\xe0\\xa4\\xb5\\xe0\\xa4\\xbe\\xe0\\xa4\\xb2\\xe0\\xa5\\x80 \\xe0\\xa4\\x94\\xe0\\xa4\\xb0\\xe0\\xa4\\xa4 \\xe0\\xa4\\xa8\\xe0\\xa5\\x87 \\xe0\\xa4\\x95\\xe0\\xa4\\xb9\\xe0\\xa4\\xbe\\xe0\\xa5\\xa4\\\\n\\xe0\\xa4\\xa6\\xe0\\xa5\\x8b \\xe0\\xa4\\xac\\xe0\\xa4\\xb0\\xe0\\xa4\\xb8 \\xe0\\xa4\\xae\\xe0\\xa5\\x87\\xe0\\xa4\\x82 \\xe0\\xa4\\x8f\\xe0\\xa4\\x95 \\xe0\\xa4\\xac\\xe0\\xa4\\xbe\\xe0\\xa4\\xb0 \\xe0\\xa4\\xb6\\xe0\\xa4\\xb9\\xe0\\xa4\\xb0 \\xe0\\xa4\\x86\\xe0\\xa4\\xa8\\xe0\\xa5\\x87\\xe0\\xa4\\xb5\\xe0\\xa4\\xbe\\xe0\\xa4\\xb2\\xe0\\xa5\\x80 \\xe0\\xa4\\x94\\xe0\\xa4\\xb0\\xe0\\xa4\\xa4\\xe0\\xa5\\x8b\\xe0\\xa4\\x82 \\xe0\\xa4\\xa8\\xe0\\xa5\\x87 \\xe0\\xa4\\x95\\xe0\\xa4\\xb9\\xe0\\xa4\\xbe\\xe0\\xa5\\xa4\"; \\n}\\nfunction SampleText7() {\\n\\tvar morph_formElements = document.forms[\"indicime\"].elements;\\n\\tmorph_formElements[\"yourtext\"].value=\"\\xe0\\xa4\\xb0\\xe0\\xa5\\x8b\\xe0\\xa4\\x9c \\xe0\\xa4\\xb6\\xe0\\xa4\\xb9\\xe0\\xa4\\xb0 \\xe0\\xa4\\x86\\xe0\\xa4\\xa8\\xe0\\xa5\\x87\\xe0\\xa4\\xb5\\xe0\\xa4\\xbe\\xe0\\xa4\\xb2\\xe0\\xa4\\xbe \\xe0\\xa4\\xa4\\xe0\\xa5\\x8b \\xe0\\xa4\\x86\\xe0\\xa4\\xaf\\xe0\\xa5\\x87\\xe0\\xa4\\x97\\xe0\\xa4\\xbe \\xe0\\xa4\\xb9\\xe0\\xa5\\x80\\xe0\\xa5\\xa4 \\\\n\\xe0\\xa4\\xb0\\xe0\\xa5\\x8b\\xe0\\xa4\\x9c \\xe0\\xa4\\xb6\\xe0\\xa4\\xb9\\xe0\\xa4\\xb0 \\xe0\\xa4\\x86\\xe0\\xa4\\xa8\\xe0\\xa5\\x87\\xe0\\xa4\\xb5\\xe0\\xa4\\xbe\\xe0\\xa4\\xb2\\xe0\\xa5\\x87 \\xe0\\xa4\\xa4\\xe0\\xa5\\x8b \\xe0\\xa4\\x86\\xe0\\xa4\\xaf\\xe0\\xa5\\x87\\xe0\\xa4\\x82\\xe0\\xa4\\x97\\xe0\\xa5\\x87 \\xe0\\xa4\\xb9\\xe0\\xa5\\x80\\xe0\\xa5\\xa4 \\\\n\\xe0\\xa4\\xb0\\xe0\\xa5\\x8b\\xe0\\xa4\\x9c \\xe0\\xa4\\xb6\\xe0\\xa4\\xb9\\xe0\\xa4\\xb0 \\xe0\\xa4\\x86\\xe0\\xa4\\xa8\\xe0\\xa5\\x87\\xe0\\xa4\\xb5\\xe0\\xa4\\xbe\\xe0\\xa4\\xb2\\xe0\\xa5\\x87 \\xe0\\xa4\\xa8\\xe0\\xa5\\x87 \\xe0\\xa4\\xb9\\xe0\\xa4\\xae\\xe0\\xa4\\xb8\\xe0\\xa5\\x87 \\xe0\\xa4\\x95\\xe0\\xa4\\xb9\\xe0\\xa4\\xbe\\xe0\\xa5\\xa4 \\\\n\\xe0\\xa4\\xb0\\xe0\\xa5\\x8b\\xe0\\xa4\\x9c \\xe0\\xa4\\xb6\\xe0\\xa4\\xb9\\xe0\\xa4\\xb0 \\xe0\\xa4\\x86\\xe0\\xa4\\xa8\\xe0\\xa5\\x87\\xe0\\xa4\\xb5\\xe0\\xa4\\xbe\\xe0\\xa4\\xb2\\xe0\\xa5\\x8b\\xe0\\xa4\\x82 \\xe0\\xa4\\xa8\\xe0\\xa5\\x87 \\xe0\\xa4\\xb9\\xe0\\xa4\\xae\\xe0\\xa4\\xb8\\xe0\\xa5\\x87 \\xe0\\xa4\\x95\\xe0\\xa4\\xb9\\xe0\\xa4\\xbe\\xe0\\xa5\\xa4 \\\\n\\xe0\\xa4\\xb0\\xe0\\xa5\\x8b\\xe0\\xa4\\x9c \\xe0\\xa4\\xb6\\xe0\\xa4\\xb9\\xe0\\xa4\\xb0 \\xe0\\xa4\\x86\\xe0\\xa4\\xa8\\xe0\\xa5\\x87\\xe0\\xa4\\xb5\\xe0\\xa4\\xbe\\xe0\\xa4\\xb2\\xe0\\xa5\\x80 \\xe0\\xa4\\xa4\\xe0\\xa5\\x8b \\xe0\\xa4\\x86\\xe0\\xa4\\xaf\\xe0\\xa5\\x87\\xe0\\xa4\\x97\\xe0\\xa5\\x80 \\xe0\\xa4\\xb9\\xe0\\xa5\\x80\\xe0\\xa5\\xa4 \\\\n\\xe0\\xa4\\xb0\\xe0\\xa5\\x8b\\xe0\\xa4\\x9c \\xe0\\xa4\\xb6\\xe0\\xa4\\xb9\\xe0\\xa4\\xb0 \\xe0\\xa4\\x86\\xe0\\xa4\\xa8\\xe0\\xa5\\x87\\xe0\\xa4\\xb5\\xe0\\xa4\\xbe\\xe0\\xa4\\xb2\\xe0\\xa5\\x80 \\xe0\\xa4\\xa8\\xe0\\xa5\\x87 \\xe0\\xa4\\xb9\\xe0\\xa4\\xae\\xe0\\xa4\\xb8\\xe0\\xa5\\x87 \\xe0\\xa4\\x95\\xe0\\xa4\\xb9\\xe0\\xa4\\xbe\\xe0\\xa5\\xa4 \\\\n\\xe0\\xa4\\x95\\xe0\\xa5\\x81\\xe0\\xa4\\x9b \\xe0\\xa4\\xa8\\xe0\\xa4\\x88 \\xe0\\xa4\\x86\\xe0\\xa4\\xa8\\xe0\\xa5\\x87\\xe0\\xa4\\xb5\\xe0\\xa4\\xbe\\xe0\\xa4\\xb2\\xe0\\xa4\\xbf\\xe0\\xa4\\xaf\\xe0\\xa5\\x8b\\xe0\\xa4\\x82 \\xe0\\xa4\\xa8\\xe0\\xa5\\x87 \\xe0\\xa4\\xad\\xe0\\xa5\\x80 \\xe0\\xa4\\x89\\xe0\\xa4\\xb8\\xe0\\xa4\\xb8\\xe0\\xa5\\x87 \\xe0\\xa4\\xa6\\xe0\\xa5\\x8b\\xe0\\xa4\\xb8\\xe0\\xa5\\x8d\\xe0\\xa4\\xa4\\xe0\\xa5\\x80 \\xe0\\xa4\\x95\\xe0\\xa4\\xb0\\xe0\\xa4\\xa8\\xe0\\xa5\\x87 \\xe0\\xa4\\x95\\xe0\\xa5\\x87 \\xe0\\xa4\\x96\\xe0\\xa5\\x8d\\xe0\\xa4\\xb5\\xe0\\xa4\\xbe\\xe0\\xa4\\xac \\xe0\\xa4\\xa6\\xe0\\xa5\\x87\\xe0\\xa4\\x96\\xe0\\xa5\\x87 \\xe0\\xa4\\xa5\\xe0\\xa5\\x87 \\xe0\\xa4\\xae\\xe0\\xa4\\x97\\xe0\\xa4\\xb0 \\xe0\\xa4\\xb8\\xe0\\xa4\\xac \\xe0\\xa4\\x95\\xe0\\xa5\\x80 \\xe0\\xa4\\xb8\\xe0\\xa4\\xac \\xe0\\xa4\\xae\\xe0\\xa4\\xbe\\xe0\\xa4\\xaf\\xe0\\xa5\\x82\\xe0\\xa4\\xb8 \\xe0\\xa4\\xb9\\xe0\\xa5\\x8b\\xe0\\xa4\\x95\\xe0\\xa4\\xb0 \\xe0\\xa4\\xb2\\xe0\\xa5\\x8c\\xe0\\xa4\\x9f\\xe0\\xa5\\x80 \\xe0\\xa4\\xa5\\xe0\\xa5\\x80\\xe0\\xa4\\x82\\xe0\\xa5\\xa4\"; \\n}\\n\\n</script>\\n    <body style=\"background-color:#E0EBFF;\">\\n\\n\\n<div id=\"fb-root\"></div>\\n<script>(function(d, s, id) {\\n  var js, fjs = d.getElementsByTagName(s)[0];\\n  if (d.getElementById(id)) return;\\n  js = d.createElement(s); js.id = id;\\n  js.src = \"//connect.facebook.net/en_US/all.js#xfbml=1\";\\n  fjs.parentNode.insertBefore(js, fjs);\\n}(document, \\'script\\', \\'facebook-jssdk\\'));</script>\\n\\n\\n        <form name=\"indicime\" id=\"indicime\"  method=\"post\" action=\"morphclient\">\\n            <script type=\"text/javascript\" src=\"/hindimorph/web/js/indicime.js\"></script>\\n            <script type=\"text/javascript\" src=\"/hindimorph/web/js/inscriptime.js\"></script>\\n            <script type=\"text/javascript\" src=\"/hindimorph/web/js/function.js\"></script>\\n<p align=\"center\" style=\"margin:0;padding:0;font-family:arial;font-size:35px;\"><b> \\xe0\\xa4\\xb9\\xe0\\xa4\\xbf\\xe0\\xa4\\xa8\\xe0\\xa5\\x8d\\xe0\\xa4\\xa6\\xe0\\xa5\\x80 \\xe0\\xa4\\xb0\\xe0\\xa5\\x82\\xe0\\xa4\\xaa \\xe0\\xa4\\xb5\\xe0\\xa4\\xbf\\xe0\\xa4\\xb6\\xe0\\xa5\\x8d\\xe0\\xa4\\xb2\\xe0\\xa5\\x87\\xe0\\xa4\\xb7\\xe0\\xa4\\x95 Hindi Morph Analyzer</b></p>\\n<p align=\"justify\" style=\"margin:0;padding:0;font-family:arial;font-size:18px;\">Morphology is the linguistic study of words, their internal structure and partially the meaning of the contained morphemes. Morphological analysis involves identification of a word\\'s stem/root from a word-form and providing grammatical information of a word given its suffixes. A morphological analyzer is a program that analyzes the morphology of an input word. It uses rules to identify the root and grammatical features of given words. It splits a given word into it\\'s root, lexical category, gender, number, person, case, case marker or tense aspect modality(TAM), suffix and other required grammatical features.</p>\\n<hr>\\n        <table align=\"center\">\\n<tr><td> Type in <select name=\"language\" class=\"form_combo\" onChange=wxIme((document.indicime.language.options[document.indicime.language.selectedIndex].value),document.getElementById(\\'yourtext\\'));>\\n          <option value=\"\" >Choose</option>\\n          <option value=\"hin\">WX-Hindi</option>\\n        </select>\\n or Enter Hindi text either in UTF or <a href=\"http://en.wikipedia.org/wiki/WX_notation\" target=\"blank\" >WX encoding</a></td></tr> \\n           <tr><td></td></tr>           \\n\\n           <tr><td ><textarea style=\"font-family:arial;font-size:25px;\" rows=\"6\" cols=\"65\" name=\"yourtext\" id=\"yourtext\" autofocus></textarea></td></tr>  \\n\\n</table>\\n<table align=\"center\">\\n\\t<tr>\\n\\t<td>Output Type:</td>\\n\\t<td><select name=\"outtype\" id=\"outtype\">\\n            <option value=\"utf\" selected=\"selected\">UTF</option>\\n            <option value=\"wx\">WX</option>\\n            </select>\\n        </td>\\n\\t\\t<td><input id=\"submit\" name=\"submit\" type=\"submit\" value=\"Submit\" style=\"font-family:arial;font-size:16px;background-color:#94FF94;\"/></td>\\n\\t\\t<td><input id=\"sample1\" type=\"button\" value=\"Sample-1\" onclick=\\'SampleText1();\\'/></td>\\n\\t\\t<td><input id=\"sample2\" type=\"button\" value=\"Sample-2\" onclick=\\'SampleText2();\\'/></td>\\n\\t\\t<td><input id=\"sample3\" type=\"button\" value=\"Sample-3\" onclick=\\'SampleText3();\\'/></td>\\n\\t\\t<td><input id=\"sample4\" type=\"button\" value=\"Sample-4\" onclick=\\'SampleText4();\\'/></td>\\n\\t\\t<td><input id=\"sample5\" type=\"button\" value=\"Sample-5\" onclick=\\'SampleText5();\\'/></td>\\n\\t\\t<td><input id=\"sample6\" type=\"button\" value=\"Sample-6\" onclick=\\'SampleText6();\\'/></td>\\n\\t\\t<td><input id=\"sample7\" type=\"button\" value=\"Sample-7\" onclick=\\'SampleText7();\\'/></td>\\n\\t\\t<td><input id=\"clear\" type=\"button\" value=\"Clear\" style=\"font-family:arial;font-size:16px;background-color:#FFFF99;\" onclick=\\'clearinputText();\\'/></td>\\n\\t</tr>\\n\\n\\n<table>\\n\\n<!-- tr><td><i>Currently it will be available in office hours (10AM to 6PM).</i></td></tr -->\\n         </table>\\n        </form>\\n<hr>\\n<p><b>Note : Features explanation of a word</b></p>\\n<p>1. root : Root of the word (e.g. ladZake word has root ladZakA)</p>\\n<p>2. cat : Category of the word (e.g. Noun=n, Pronoun=pn, Adjective=adj, verb=v, adverb=adv post-position=psp and avvya=avy)</p>\\n<p>3. gen : Gender of the word (e.g. Masculine=m, Feminine=f, Neuter=n, mf , mn , fn, and any)</p>\\n<p>4. num : Number of the word (e.g. Singular=sg, Plural=pl, dual, and any )</p>\\n<p>5. per : Person of the word (e.g. 1st Person=1, 2nd Person=2, 3rd Person=3, and any)</p>\\n<p>6. case : Case of the word (e.g. direct=d, oblique=o and any)</p>\\n<p>7. tam : Case marker for noun or Tense Aspect Mood(TAM) for verb of the word</p>\\n<p>8. suff : Suffix of the word</p>\\n<p>agr_gen: Agreeing gender of the following noun</p>\\n<p>agr_num: Agreeing number of the following noun</p>\\n<p>agr_cas: Agreeing case of the following noun</p>\\n<p>emph: Emphatic feature of the word</p>\\n<p>hon: Honorofic feature of the word</p>\\n<p>derive_root: Derived root</p>\\n<p>derive_lcat: Derived lexical category</p>\\n<p>derive_gen: Derived gender</p>\\n<p>derive_suff: Derived suffix</p>\\n<hr>\\n<table align=\"center\" width=\"100%\">\\n<tr>\\n<td width=\"50%\">\\n<!--div class=\"fb-comments\" data-href=\"https://www.facebook.com/groups/1416821868571427/\" data-width=\"600\" data-numposts=\"5\" data-colorscheme=\"light\"></div-->\\n</td>\\n<!--td width=\"50%\">\\n<a class=\"twitter-timeline\"  href=\"https://twitter.com/search?q=%23hindimorph\"  data-widget-id=\"446615459631083520\">Tweets about \"#hindimorph\"</a>\\n    <script>!function(d,s,id){var js,fjs=d.getElementsByTagName(s)[0],p=/^http:/.test(d.location)?\\'http\\':\\'https\\';if(!d.getElementById(id)){js=d.createElement(s);js.id=id;js.src=p+\"://platform.twitter.com/widgets.js\";fjs.parentNode.insertBefore(js,fjs);}}(document,\"script\",\"twitter-wjs\");</script>\\n</td-->\\n</tr>\\n</table>\\n<p align=\"center\">Contact Us: <a href=\"mailto:sampark@iiit.ac.in\">sampark@iiit.ac.in</a></p>\\n<p> Keywords : online Hindi Morphological Analyser Analyzer service morph analysis word morphosyntactic features (Noun , verb , Adjective , adverb, pronoun , preposition , conjuction , interjunction , avvay avy etc. ) / grammatical features ( Agreeing gender number person case case marker vibhakti local word grouper lwg lexical category ) / morpheme based features / genetive / causative features hinid derivational morphology features </p>\\n</body>\\n</html>\\n\\n'\n"
     ]
    }
   ],
   "source": [
    "import requests\n",
    "\n",
    "# Define the URL of the website you want to scrape\n",
    "url = \"http://sampark.iiit.ac.in/hindimorph/web/restapi.php/indic/morphclient\"\n",
    "\n",
    "# Define the input data you want to send to the website\n",
    "input_data = {\"param1\": \"पत्ते\"}\n",
    "\n",
    "# Send a GET request to the website with the input data\n",
    "response = requests.get(url, params=input_data)\n",
    "\n",
    "# Check if the request was successful (status code 200 indicates success)\n",
    "if response.status_code == 200:\n",
    "    # Extract the data from the response\n",
    "    data = response.content\n",
    "    # Do something with the data (e.g. parse it using BeautifulSoup or store it in a file)\n",
    "    print(\"-----\")\n",
    "    print(data)\n",
    "else:\n",
    "    # Handle the error (e.g. print an error message or raise an exception)\n",
    "    print(\"Request failed with status code:\", response.status_code)"
   ]
  },
  {
   "cell_type": "code",
   "execution_count": 127,
   "id": "45bc6bde-0e8d-40cb-909d-451560757023",
   "metadata": {},
   "outputs": [
    {
     "name": "stdout",
     "output_type": "stream",
     "text": [
      "<class 'module'>\n"
     ]
    }
   ],
   "source": [
    "from indicnlp.tokenize import indic_tokenize  \n",
    "from indicnlp.morph import unsupervised_morph\n",
    "print(type(unsupervised_morph))"
   ]
  },
  {
   "cell_type": "code",
   "execution_count": 128,
   "id": "247a3284-9563-4170-9bd4-49d92ddc8dc4",
   "metadata": {},
   "outputs": [
    {
     "name": "stderr",
     "output_type": "stream",
     "text": [
      "2023-04-30:15:19:11,976 INFO     [io.py:186] Loading model from 'morph\\morfessor\\hi.model'...\n",
      "2023-04-30:15:19:11,980 INFO     [io.py:54] Reading segmentations from 'morph\\morfessor\\hi.model'...\n"
     ]
    },
    {
     "ename": "FileNotFoundError",
     "evalue": "[Errno 2] No such file or directory: 'morph\\\\morfessor\\\\hi.model'",
     "output_type": "error",
     "traceback": [
      "\u001b[1;31m---------------------------------------------------------------------------\u001b[0m",
      "\u001b[1;31mFileNotFoundError\u001b[0m                         Traceback (most recent call last)",
      "\u001b[1;32m~\\AppData\\Local\\Temp\\ipykernel_17828\\78993832.py\u001b[0m in \u001b[0;36m<module>\u001b[1;34m\u001b[0m\n\u001b[0;32m      1\u001b[0m \u001b[1;31m# load the Hindi morphology analyzer\u001b[0m\u001b[1;33m\u001b[0m\u001b[1;33m\u001b[0m\u001b[1;33m\u001b[0m\u001b[0m\n\u001b[1;32m----> 2\u001b[1;33m \u001b[0manalyzer\u001b[0m\u001b[1;33m=\u001b[0m\u001b[0munsupervised_morph\u001b[0m\u001b[1;33m.\u001b[0m\u001b[0mUnsupervisedMorphAnalyzer\u001b[0m\u001b[1;33m(\u001b[0m\u001b[0mlang\u001b[0m\u001b[1;33m=\u001b[0m\u001b[1;34m'hi'\u001b[0m\u001b[1;33m,\u001b[0m \u001b[0madd_marker\u001b[0m\u001b[1;33m=\u001b[0m\u001b[1;32mFalse\u001b[0m\u001b[1;33m)\u001b[0m\u001b[1;33m\u001b[0m\u001b[1;33m\u001b[0m\u001b[0m\n\u001b[0m\u001b[0;32m      3\u001b[0m \u001b[1;33m\u001b[0m\u001b[0m\n\u001b[0;32m      4\u001b[0m \u001b[1;31m# input text to extract root words from\u001b[0m\u001b[1;33m\u001b[0m\u001b[1;33m\u001b[0m\u001b[1;33m\u001b[0m\u001b[0m\n\u001b[0;32m      5\u001b[0m \u001b[0minput_text\u001b[0m \u001b[1;33m=\u001b[0m \u001b[1;34m\"मैं बहुत खुश हूँ\"\u001b[0m\u001b[1;33m\u001b[0m\u001b[1;33m\u001b[0m\u001b[0m\n",
      "\u001b[1;32m~\\anaconda3\\envs\\pytorch_p37_2\\lib\\site-packages\\indicnlp\\morph\\unsupervised_morph.py\u001b[0m in \u001b[0;36m__init__\u001b[1;34m(self, lang, add_marker)\u001b[0m\n\u001b[0;32m     42\u001b[0m \u001b[1;33m\u001b[0m\u001b[0m\n\u001b[0;32m     43\u001b[0m         \u001b[0mio\u001b[0m \u001b[1;33m=\u001b[0m \u001b[0mmorfessor\u001b[0m\u001b[1;33m.\u001b[0m\u001b[0mMorfessorIO\u001b[0m\u001b[1;33m(\u001b[0m\u001b[1;33m)\u001b[0m\u001b[1;33m\u001b[0m\u001b[1;33m\u001b[0m\u001b[0m\n\u001b[1;32m---> 44\u001b[1;33m         \u001b[0mself\u001b[0m\u001b[1;33m.\u001b[0m\u001b[0m_morfessor_model\u001b[0m\u001b[1;33m=\u001b[0m\u001b[0mio\u001b[0m\u001b[1;33m.\u001b[0m\u001b[0mread_any_model\u001b[0m\u001b[1;33m(\u001b[0m\u001b[0mos\u001b[0m\u001b[1;33m.\u001b[0m\u001b[0mpath\u001b[0m\u001b[1;33m.\u001b[0m\u001b[0mjoin\u001b[0m\u001b[1;33m(\u001b[0m\u001b[0mcommon\u001b[0m\u001b[1;33m.\u001b[0m\u001b[0mINDIC_RESOURCES_PATH\u001b[0m\u001b[1;33m,\u001b[0m\u001b[1;34m'morph'\u001b[0m\u001b[1;33m,\u001b[0m\u001b[1;34m'morfessor'\u001b[0m\u001b[1;33m,\u001b[0m\u001b[1;34m'{}.model'\u001b[0m\u001b[1;33m.\u001b[0m\u001b[0mformat\u001b[0m\u001b[1;33m(\u001b[0m\u001b[0mlang\u001b[0m\u001b[1;33m)\u001b[0m\u001b[1;33m)\u001b[0m\u001b[1;33m)\u001b[0m\u001b[1;33m\u001b[0m\u001b[1;33m\u001b[0m\u001b[0m\n\u001b[0m\u001b[0;32m     45\u001b[0m \u001b[1;33m\u001b[0m\u001b[0m\n\u001b[0;32m     46\u001b[0m         \u001b[0mself\u001b[0m\u001b[1;33m.\u001b[0m\u001b[0m_script_range_pat\u001b[0m\u001b[1;33m=\u001b[0m\u001b[1;34mr'^[{}-{}]+$'\u001b[0m\u001b[1;33m.\u001b[0m\u001b[0mformat\u001b[0m\u001b[1;33m(\u001b[0m\u001b[0mchr\u001b[0m\u001b[1;33m(\u001b[0m\u001b[0mlanginfo\u001b[0m\u001b[1;33m.\u001b[0m\u001b[0mSCRIPT_RANGES\u001b[0m\u001b[1;33m[\u001b[0m\u001b[0mlang\u001b[0m\u001b[1;33m]\u001b[0m\u001b[1;33m[\u001b[0m\u001b[1;36m0\u001b[0m\u001b[1;33m]\u001b[0m\u001b[1;33m)\u001b[0m\u001b[1;33m,\u001b[0m\u001b[0mchr\u001b[0m\u001b[1;33m(\u001b[0m\u001b[0mlanginfo\u001b[0m\u001b[1;33m.\u001b[0m\u001b[0mSCRIPT_RANGES\u001b[0m\u001b[1;33m[\u001b[0m\u001b[0mlang\u001b[0m\u001b[1;33m]\u001b[0m\u001b[1;33m[\u001b[0m\u001b[1;36m1\u001b[0m\u001b[1;33m]\u001b[0m\u001b[1;33m)\u001b[0m\u001b[1;33m)\u001b[0m\u001b[1;33m\u001b[0m\u001b[1;33m\u001b[0m\u001b[0m\n",
      "\u001b[1;32m~\\anaconda3\\envs\\pytorch_p37_2\\lib\\site-packages\\morfessor\\io.py\u001b[0m in \u001b[0;36mread_any_model\u001b[1;34m(self, file_name)\u001b[0m\n\u001b[0;32m    247\u001b[0m         \u001b[1;32mfrom\u001b[0m \u001b[0mmorfessor\u001b[0m \u001b[1;32mimport\u001b[0m \u001b[0mBaselineModel\u001b[0m\u001b[1;33m\u001b[0m\u001b[1;33m\u001b[0m\u001b[0m\n\u001b[0;32m    248\u001b[0m         \u001b[0mmodel\u001b[0m \u001b[1;33m=\u001b[0m \u001b[0mBaselineModel\u001b[0m\u001b[1;33m(\u001b[0m\u001b[1;33m)\u001b[0m\u001b[1;33m\u001b[0m\u001b[1;33m\u001b[0m\u001b[0m\n\u001b[1;32m--> 249\u001b[1;33m         \u001b[0mmodel\u001b[0m\u001b[1;33m.\u001b[0m\u001b[0mload_segmentations\u001b[0m\u001b[1;33m(\u001b[0m\u001b[0mself\u001b[0m\u001b[1;33m.\u001b[0m\u001b[0mread_segmentation_file\u001b[0m\u001b[1;33m(\u001b[0m\u001b[0mfile_name\u001b[0m\u001b[1;33m)\u001b[0m\u001b[1;33m)\u001b[0m\u001b[1;33m\u001b[0m\u001b[1;33m\u001b[0m\u001b[0m\n\u001b[0m\u001b[0;32m    250\u001b[0m         \u001b[0m_logger\u001b[0m\u001b[1;33m.\u001b[0m\u001b[0minfo\u001b[0m\u001b[1;33m(\u001b[0m\u001b[1;34m\"%s was read as a segmentation\"\u001b[0m\u001b[1;33m,\u001b[0m \u001b[0mfile_name\u001b[0m\u001b[1;33m)\u001b[0m\u001b[1;33m\u001b[0m\u001b[1;33m\u001b[0m\u001b[0m\n\u001b[0;32m    251\u001b[0m         \u001b[1;32mreturn\u001b[0m \u001b[0mmodel\u001b[0m\u001b[1;33m\u001b[0m\u001b[1;33m\u001b[0m\u001b[0m\n",
      "\u001b[1;32m~\\anaconda3\\envs\\pytorch_p37_2\\lib\\site-packages\\morfessor\\baseline.py\u001b[0m in \u001b[0;36mload_segmentations\u001b[1;34m(self, segmentations)\u001b[0m\n\u001b[0;32m    523\u001b[0m         \"\"\"\n\u001b[0;32m    524\u001b[0m         \u001b[0mself\u001b[0m\u001b[1;33m.\u001b[0m\u001b[0m_check_segment_only\u001b[0m\u001b[1;33m(\u001b[0m\u001b[1;33m)\u001b[0m\u001b[1;33m\u001b[0m\u001b[1;33m\u001b[0m\u001b[0m\n\u001b[1;32m--> 525\u001b[1;33m         \u001b[1;32mfor\u001b[0m \u001b[0mcount\u001b[0m\u001b[1;33m,\u001b[0m \u001b[0mcompound\u001b[0m\u001b[1;33m,\u001b[0m \u001b[0msegmentation\u001b[0m \u001b[1;32min\u001b[0m \u001b[0msegmentations\u001b[0m\u001b[1;33m:\u001b[0m\u001b[1;33m\u001b[0m\u001b[1;33m\u001b[0m\u001b[0m\n\u001b[0m\u001b[0;32m    526\u001b[0m             \u001b[0mself\u001b[0m\u001b[1;33m.\u001b[0m\u001b[0m_add_compound\u001b[0m\u001b[1;33m(\u001b[0m\u001b[0mcompound\u001b[0m\u001b[1;33m,\u001b[0m \u001b[0mcount\u001b[0m\u001b[1;33m)\u001b[0m\u001b[1;33m\u001b[0m\u001b[1;33m\u001b[0m\u001b[0m\n\u001b[0;32m    527\u001b[0m             \u001b[0mself\u001b[0m\u001b[1;33m.\u001b[0m\u001b[0m_set_compound_analysis\u001b[0m\u001b[1;33m(\u001b[0m\u001b[0mcompound\u001b[0m\u001b[1;33m,\u001b[0m \u001b[0msegmentation\u001b[0m\u001b[1;33m)\u001b[0m\u001b[1;33m\u001b[0m\u001b[1;33m\u001b[0m\u001b[0m\n",
      "\u001b[1;32m~\\anaconda3\\envs\\pytorch_p37_2\\lib\\site-packages\\morfessor\\io.py\u001b[0m in \u001b[0;36mread_segmentation_file\u001b[1;34m(self, file_name, has_counts, **kwargs)\u001b[0m\n\u001b[0;32m     53\u001b[0m         \"\"\"\n\u001b[0;32m     54\u001b[0m         \u001b[0m_logger\u001b[0m\u001b[1;33m.\u001b[0m\u001b[0minfo\u001b[0m\u001b[1;33m(\u001b[0m\u001b[1;34m\"Reading segmentations from '%s'...\"\u001b[0m\u001b[1;33m,\u001b[0m \u001b[0mfile_name\u001b[0m\u001b[1;33m)\u001b[0m\u001b[1;33m\u001b[0m\u001b[1;33m\u001b[0m\u001b[0m\n\u001b[1;32m---> 55\u001b[1;33m         \u001b[1;32mfor\u001b[0m \u001b[0mline\u001b[0m \u001b[1;32min\u001b[0m \u001b[0mself\u001b[0m\u001b[1;33m.\u001b[0m\u001b[0m_read_text_file\u001b[0m\u001b[1;33m(\u001b[0m\u001b[0mfile_name\u001b[0m\u001b[1;33m)\u001b[0m\u001b[1;33m:\u001b[0m\u001b[1;33m\u001b[0m\u001b[1;33m\u001b[0m\u001b[0m\n\u001b[0m\u001b[0;32m     56\u001b[0m             \u001b[1;32mif\u001b[0m \u001b[0mhas_counts\u001b[0m\u001b[1;33m:\u001b[0m\u001b[1;33m\u001b[0m\u001b[1;33m\u001b[0m\u001b[0m\n\u001b[0;32m     57\u001b[0m                 \u001b[0mcount\u001b[0m\u001b[1;33m,\u001b[0m \u001b[0mcompound_str\u001b[0m \u001b[1;33m=\u001b[0m \u001b[0mline\u001b[0m\u001b[1;33m.\u001b[0m\u001b[0msplit\u001b[0m\u001b[1;33m(\u001b[0m\u001b[1;34m' '\u001b[0m\u001b[1;33m,\u001b[0m \u001b[1;36m1\u001b[0m\u001b[1;33m)\u001b[0m\u001b[1;33m\u001b[0m\u001b[1;33m\u001b[0m\u001b[0m\n",
      "\u001b[1;32m~\\anaconda3\\envs\\pytorch_p37_2\\lib\\site-packages\\morfessor\\io.py\u001b[0m in \u001b[0;36m_read_text_file\u001b[1;34m(self, file_name, raw)\u001b[0m\n\u001b[0;32m    329\u001b[0m \u001b[1;33m\u001b[0m\u001b[0m\n\u001b[0;32m    330\u001b[0m         \"\"\"\n\u001b[1;32m--> 331\u001b[1;33m         \u001b[0minp\u001b[0m \u001b[1;33m=\u001b[0m \u001b[0mself\u001b[0m\u001b[1;33m.\u001b[0m\u001b[0m_open_text_file_read\u001b[0m\u001b[1;33m(\u001b[0m\u001b[0mfile_name\u001b[0m\u001b[1;33m)\u001b[0m\u001b[1;33m\u001b[0m\u001b[1;33m\u001b[0m\u001b[0m\n\u001b[0m\u001b[0;32m    332\u001b[0m         \u001b[1;32mtry\u001b[0m\u001b[1;33m:\u001b[0m\u001b[1;33m\u001b[0m\u001b[1;33m\u001b[0m\u001b[0m\n\u001b[0;32m    333\u001b[0m             \u001b[1;32mfor\u001b[0m \u001b[0mline\u001b[0m \u001b[1;32min\u001b[0m \u001b[0minp\u001b[0m\u001b[1;33m:\u001b[0m\u001b[1;33m\u001b[0m\u001b[1;33m\u001b[0m\u001b[0m\n",
      "\u001b[1;32m~\\anaconda3\\envs\\pytorch_p37_2\\lib\\site-packages\\morfessor\\io.py\u001b[0m in \u001b[0;36m_open_text_file_read\u001b[1;34m(self, file_name)\u001b[0m\n\u001b[0;32m    316\u001b[0m                 \u001b[0mfile_obj\u001b[0m \u001b[1;33m=\u001b[0m \u001b[0mbz2\u001b[0m\u001b[1;33m.\u001b[0m\u001b[0mBZ2File\u001b[0m\u001b[1;33m(\u001b[0m\u001b[0mfile_name\u001b[0m\u001b[1;33m,\u001b[0m \u001b[1;34m'rb'\u001b[0m\u001b[1;33m)\u001b[0m\u001b[1;33m\u001b[0m\u001b[1;33m\u001b[0m\u001b[0m\n\u001b[0;32m    317\u001b[0m             \u001b[1;32melse\u001b[0m\u001b[1;33m:\u001b[0m\u001b[1;33m\u001b[0m\u001b[1;33m\u001b[0m\u001b[0m\n\u001b[1;32m--> 318\u001b[1;33m                 \u001b[0mfile_obj\u001b[0m \u001b[1;33m=\u001b[0m \u001b[0mopen\u001b[0m\u001b[1;33m(\u001b[0m\u001b[0mfile_name\u001b[0m\u001b[1;33m,\u001b[0m \u001b[1;34m'rb'\u001b[0m\u001b[1;33m)\u001b[0m\u001b[1;33m\u001b[0m\u001b[1;33m\u001b[0m\u001b[0m\n\u001b[0m\u001b[0;32m    319\u001b[0m             \u001b[1;32mif\u001b[0m \u001b[0mself\u001b[0m\u001b[1;33m.\u001b[0m\u001b[0mencoding\u001b[0m \u001b[1;32mis\u001b[0m \u001b[1;32mNone\u001b[0m\u001b[1;33m:\u001b[0m\u001b[1;33m\u001b[0m\u001b[1;33m\u001b[0m\u001b[0m\n\u001b[0;32m    320\u001b[0m                 \u001b[1;31m# Try to determine encoding if not set so far\u001b[0m\u001b[1;33m\u001b[0m\u001b[1;33m\u001b[0m\u001b[1;33m\u001b[0m\u001b[0m\n",
      "\u001b[1;31mFileNotFoundError\u001b[0m: [Errno 2] No such file or directory: 'morph\\\\morfessor\\\\hi.model'"
     ]
    }
   ],
   "source": [
    "# load the Hindi morphology analyzer\n",
    "analyzer=unsupervised_morph.UnsupervisedMorphAnalyzer('hi', add_marker=False)\n",
    "\n",
    "# input text to extract root words from\n",
    "input_text = \"मैं बहुत खुश हूँ\"\n",
    "\n",
    "# tokenize the input text into words\n",
    "words = indic_tokenize.trivial_tokenize(input_text, lang='hi')\n",
    "\n",
    "# extract the root word of each word in the text\n",
    "root_words = []\n",
    "for word in words:\n",
    "    analyses = analyzer.morph_analyze(word)\n",
    "    root_word = analyses[0].stem if len(analyses) > 0 else word\n",
    "    root_words.append(root_word)\n",
    "\n",
    "# print the root words\n",
    "print(root_words)"
   ]
  },
  {
   "cell_type": "code",
   "execution_count": 131,
   "id": "8877f623-6605-4c27-abe9-48dca44e6975",
   "metadata": {},
   "outputs": [
    {
     "ename": "IndicNlpException",
     "evalue": "'INDIC_RESOURCES_PATH not set'",
     "output_type": "error",
     "traceback": [
      "\u001b[1;31m---------------------------------------------------------------------------\u001b[0m",
      "\u001b[1;31mKeyError\u001b[0m                                  Traceback (most recent call last)",
      "\u001b[1;32m~\\anaconda3\\envs\\pytorch_p37_2\\lib\\site-packages\\indicnlp\\common.py\u001b[0m in \u001b[0;36minit\u001b[1;34m()\u001b[0m\n\u001b[0;32m     25\u001b[0m         \u001b[1;32mif\u001b[0m \u001b[0mINDIC_RESOURCES_PATH\u001b[0m\u001b[1;33m==\u001b[0m\u001b[1;34m''\u001b[0m\u001b[1;33m:\u001b[0m\u001b[1;33m\u001b[0m\u001b[1;33m\u001b[0m\u001b[0m\n\u001b[1;32m---> 26\u001b[1;33m             \u001b[0mINDIC_RESOURCES_PATH\u001b[0m\u001b[1;33m=\u001b[0m\u001b[0mos\u001b[0m\u001b[1;33m.\u001b[0m\u001b[0menviron\u001b[0m\u001b[1;33m[\u001b[0m\u001b[1;34m'INDIC_RESOURCES_PATH'\u001b[0m\u001b[1;33m]\u001b[0m\u001b[1;33m\u001b[0m\u001b[1;33m\u001b[0m\u001b[0m\n\u001b[0m\u001b[0;32m     27\u001b[0m     \u001b[1;32mexcept\u001b[0m \u001b[0mException\u001b[0m \u001b[1;32mas\u001b[0m \u001b[0me\u001b[0m\u001b[1;33m:\u001b[0m\u001b[1;33m\u001b[0m\u001b[1;33m\u001b[0m\u001b[0m\n",
      "\u001b[1;32m~\\anaconda3\\envs\\pytorch_p37_2\\lib\\os.py\u001b[0m in \u001b[0;36m__getitem__\u001b[1;34m(self, key)\u001b[0m\n\u001b[0;32m    680\u001b[0m             \u001b[1;31m# raise KeyError with the original key value\u001b[0m\u001b[1;33m\u001b[0m\u001b[1;33m\u001b[0m\u001b[1;33m\u001b[0m\u001b[0m\n\u001b[1;32m--> 681\u001b[1;33m             \u001b[1;32mraise\u001b[0m \u001b[0mKeyError\u001b[0m\u001b[1;33m(\u001b[0m\u001b[0mkey\u001b[0m\u001b[1;33m)\u001b[0m \u001b[1;32mfrom\u001b[0m \u001b[1;32mNone\u001b[0m\u001b[1;33m\u001b[0m\u001b[1;33m\u001b[0m\u001b[0m\n\u001b[0m\u001b[0;32m    682\u001b[0m         \u001b[1;32mreturn\u001b[0m \u001b[0mself\u001b[0m\u001b[1;33m.\u001b[0m\u001b[0mdecodevalue\u001b[0m\u001b[1;33m(\u001b[0m\u001b[0mvalue\u001b[0m\u001b[1;33m)\u001b[0m\u001b[1;33m\u001b[0m\u001b[1;33m\u001b[0m\u001b[0m\n",
      "\u001b[1;31mKeyError\u001b[0m: 'INDIC_RESOURCES_PATH'",
      "\nDuring handling of the above exception, another exception occurred:\n",
      "\u001b[1;31mIndicNlpException\u001b[0m                         Traceback (most recent call last)",
      "\u001b[1;32m~\\AppData\\Local\\Temp\\ipykernel_17828\\3213910654.py\u001b[0m in \u001b[0;36m<module>\u001b[1;34m\u001b[0m\n\u001b[0;32m      1\u001b[0m \u001b[1;31m# Load the Indic NLP library resources for Hindi\u001b[0m\u001b[1;33m\u001b[0m\u001b[1;33m\u001b[0m\u001b[1;33m\u001b[0m\u001b[0m\n\u001b[1;32m----> 2\u001b[1;33m \u001b[0mloader\u001b[0m\u001b[1;33m.\u001b[0m\u001b[0mload\u001b[0m\u001b[1;33m(\u001b[0m\u001b[1;33m)\u001b[0m\u001b[1;33m\u001b[0m\u001b[1;33m\u001b[0m\u001b[0m\n\u001b[0m\u001b[0;32m      3\u001b[0m \u001b[1;33m\u001b[0m\u001b[0m\n\u001b[0;32m      4\u001b[0m \u001b[1;31m# Create an instance of the Hindi morphological analyzer\u001b[0m\u001b[1;33m\u001b[0m\u001b[1;33m\u001b[0m\u001b[1;33m\u001b[0m\u001b[0m\n\u001b[0;32m      5\u001b[0m \u001b[0manalyzer\u001b[0m \u001b[1;33m=\u001b[0m \u001b[0munsupervised_morph\u001b[0m\u001b[1;33m.\u001b[0m\u001b[0mMorphologicalAnalyzerHindi\u001b[0m\u001b[1;33m(\u001b[0m\u001b[1;33m)\u001b[0m\u001b[1;33m\u001b[0m\u001b[1;33m\u001b[0m\u001b[0m\n",
      "\u001b[1;32m~\\anaconda3\\envs\\pytorch_p37_2\\lib\\site-packages\\indicnlp\\loader.py\u001b[0m in \u001b[0;36mload\u001b[1;34m()\u001b[0m\n\u001b[0;32m     22\u001b[0m \u001b[1;33m\u001b[0m\u001b[0m\n\u001b[0;32m     23\u001b[0m     \u001b[1;31m# Common has to be loaded first to get access to resources\u001b[0m\u001b[1;33m\u001b[0m\u001b[1;33m\u001b[0m\u001b[1;33m\u001b[0m\u001b[0m\n\u001b[1;32m---> 24\u001b[1;33m     \u001b[0mcommon\u001b[0m\u001b[1;33m.\u001b[0m\u001b[0minit\u001b[0m\u001b[1;33m(\u001b[0m\u001b[1;33m)\u001b[0m\u001b[1;33m\u001b[0m\u001b[1;33m\u001b[0m\u001b[0m\n\u001b[0m\u001b[0;32m     25\u001b[0m \u001b[1;33m\u001b[0m\u001b[0m\n\u001b[0;32m     26\u001b[0m     \u001b[1;31m## Initialization of Indic scripts module\u001b[0m\u001b[1;33m\u001b[0m\u001b[1;33m\u001b[0m\u001b[1;33m\u001b[0m\u001b[0m\n",
      "\u001b[1;32m~\\anaconda3\\envs\\pytorch_p37_2\\lib\\site-packages\\indicnlp\\common.py\u001b[0m in \u001b[0;36minit\u001b[1;34m()\u001b[0m\n\u001b[0;32m     26\u001b[0m             \u001b[0mINDIC_RESOURCES_PATH\u001b[0m\u001b[1;33m=\u001b[0m\u001b[0mos\u001b[0m\u001b[1;33m.\u001b[0m\u001b[0menviron\u001b[0m\u001b[1;33m[\u001b[0m\u001b[1;34m'INDIC_RESOURCES_PATH'\u001b[0m\u001b[1;33m]\u001b[0m\u001b[1;33m\u001b[0m\u001b[1;33m\u001b[0m\u001b[0m\n\u001b[0;32m     27\u001b[0m     \u001b[1;32mexcept\u001b[0m \u001b[0mException\u001b[0m \u001b[1;32mas\u001b[0m \u001b[0me\u001b[0m\u001b[1;33m:\u001b[0m\u001b[1;33m\u001b[0m\u001b[1;33m\u001b[0m\u001b[0m\n\u001b[1;32m---> 28\u001b[1;33m         \u001b[1;32mraise\u001b[0m \u001b[0mIndicNlpException\u001b[0m\u001b[1;33m(\u001b[0m\u001b[1;34m'INDIC_RESOURCES_PATH not set'\u001b[0m\u001b[1;33m)\u001b[0m\u001b[1;33m\u001b[0m\u001b[1;33m\u001b[0m\u001b[0m\n\u001b[0m\u001b[0;32m     29\u001b[0m \u001b[1;33m\u001b[0m\u001b[0m\n\u001b[0;32m     30\u001b[0m     \u001b[1;32mif\u001b[0m \u001b[0mINDIC_RESOURCES_PATH\u001b[0m\u001b[1;33m==\u001b[0m\u001b[1;34m''\u001b[0m\u001b[1;33m:\u001b[0m\u001b[1;33m\u001b[0m\u001b[1;33m\u001b[0m\u001b[0m\n",
      "\u001b[1;31mIndicNlpException\u001b[0m: 'INDIC_RESOURCES_PATH not set'"
     ]
    }
   ],
   "source": [
    "# Load the Indic NLP library resources for Hindi\n",
    "loader.load()\n",
    "\n",
    "# Create an instance of the Hindi morphological analyzer\n",
    "analyzer = unsupervised_morph.MorphologicalAnalyzerHindi()\n",
    "\n",
    "# Tokenize a sentence into words\n",
    "sentence = \"मैं एक अध्यापक हूँ\"\n",
    "words = indic_tokenize.trivial_tokenize(sentence)\n",
    "\n",
    "# Lemmatize each word in the sentence\n",
    "lemmas = []\n",
    "for word in words:\n",
    "    analyses = analyzer.analyze(word)\n",
    "    lemma = analyzer.get_lemma(analyses[0])\n",
    "    lemmas.append(lemma)\n",
    "\n",
    "print(\"Original sentence:\", sentence)\n",
    "print(\"Lemmatized sentence:\", \" \".join(lemmas))\n"
   ]
  },
  {
   "cell_type": "markdown",
   "id": "178665a2-2de0-4438-ae5a-0b061b52deb9",
   "metadata": {},
   "source": [
    "### ***Hindi Morph Analyzer***"
   ]
  },
  {
   "cell_type": "code",
   "execution_count": null,
   "id": "936c81c5-0caf-4ee7-bb25-f0e4480788e1",
   "metadata": {},
   "outputs": [],
   "source": [
    "sentences_list = [[\"वे पेड़ के नीचे पत्ते खेल रहे हैं\", \"वह पेड़ का पत्ता नीचे खेल रह है\"],\n",
    "                  [\"इस किताब मे पन्ने की जानकारी दि है\", \"यह किताब मे पन्ना का जानकारी दि है\"],\n",
    "                  [\"इस तीर का फल बहुत नुकीला है\", \"यह तीर का फल बहुत नुकीला है\"],\n",
    "                  ["
   ]
  },
  {
   "cell_type": "code",
   "execution_count": null,
   "id": "308fb4a6-af4b-466b-bcf3-2bbdfe369736",
   "metadata": {},
   "outputs": [],
   "source": [
    "sentences_list = [[\"वे पेड़ के नीचे पत्ते खेल रहे हैं\", \"पेड़ नीचे पत्ते खेल\"],\n",
    "                  [\"इस किताब मे पन्ने की जानकारी दि है\", \"किताब पन्ने जानकारी\"],\n",
    "                  [\"इस तीर का फल बहुत नुकीला है\", \"तीर फल बहुत नुकीला\"],\n",
    "                  ["
   ]
  },
  {
   "cell_type": "code",
   "execution_count": null,
   "id": "91610f9e-cd29-4f21-9c16-40a90a46fdcf",
   "metadata": {},
   "outputs": [],
   "source": [
    "वे पेड़ के नीचे शिखा खेल रहे हैं : 0.9245168566703796\n",
    "वे पेड़ की नीचे चादर खेल रहे हैं : 0.9247074127197266\n",
    "वे पेड़ के उपर चादर खेल रहे हैं : 0.900107741355896\n",
    "वे पेड़के नीचे ताश खेल रहे हैं : 0.9055671095848083\n",
    "वे पेड़ की नीचे ताश खेल रहे हैं : 0.9218146204948425"
   ]
  },
  {
   "cell_type": "code",
   "execution_count": 6,
   "id": "85729c53-56c4-4e66-a4c0-3f10e714f0bb",
   "metadata": {},
   "outputs": [],
   "source": [
    "sentences_list = [[\"वे पेड़ के नीचे शिखा खेल रहे हैं\", \"पेड़ नीचे शिखा खेल\"],\n",
    "                  [\"वे पेड़ की नीचे चादर खेल रहे हैं\", \"पेड़ नीचे चादर खेल\"],\n",
    "                  [\"वे पेड़ के उपर चादर खेल रहे हैं\", \"पेड़ उपर चादर खेल\"],\n",
    "                  [\"वे पेड़के नीचे ताश खेल रहे हैं\", \"पेड़ के नीचे ताश खेल\"],\n",
    "                  [\"वे पेड़ की नीचे ताश खेल रहे हैं\", \"पेड़ नीचे ताश खेल\"]]\n",
    "sentence = \"वे पेड़ के नीचे पत्ते खेल रहे हैं\""
   ]
  },
  {
   "cell_type": "code",
   "execution_count": 7,
   "id": "164efe64-0d1f-434a-8085-1f4b7b551a5f",
   "metadata": {},
   "outputs": [
    {
     "data": {
      "text/html": [
       "\n",
       "<style>\n",
       "    /* Turns off some styling */\n",
       "    progress {\n",
       "        /* gets rid of default border in Firefox and Opera. */\n",
       "        border: none;\n",
       "        /* Needs to be in here for Safari polyfill so background images work as expected. */\n",
       "        background-size: auto;\n",
       "    }\n",
       "    progress:not([value]), progress:not([value])::-webkit-progress-bar {\n",
       "        background: repeating-linear-gradient(45deg, #7e7e7e, #7e7e7e 10px, #5c5c5c 10px, #5c5c5c 20px);\n",
       "    }\n",
       "    .progress-bar-interrupted, .progress-bar-interrupted::-webkit-progress-bar {\n",
       "        background: #F44336;\n",
       "    }\n",
       "</style>\n"
      ],
      "text/plain": [
       "<IPython.core.display.HTML object>"
      ]
     },
     "metadata": {},
     "output_type": "display_data"
    },
    {
     "data": {
      "text/html": [],
      "text/plain": [
       "<IPython.core.display.HTML object>"
      ]
     },
     "metadata": {},
     "output_type": "display_data"
    },
    {
     "data": {
      "text/html": [
       "\n",
       "<style>\n",
       "    /* Turns off some styling */\n",
       "    progress {\n",
       "        /* gets rid of default border in Firefox and Opera. */\n",
       "        border: none;\n",
       "        /* Needs to be in here for Safari polyfill so background images work as expected. */\n",
       "        background-size: auto;\n",
       "    }\n",
       "    progress:not([value]), progress:not([value])::-webkit-progress-bar {\n",
       "        background: repeating-linear-gradient(45deg, #7e7e7e, #7e7e7e 10px, #5c5c5c 10px, #5c5c5c 20px);\n",
       "    }\n",
       "    .progress-bar-interrupted, .progress-bar-interrupted::-webkit-progress-bar {\n",
       "        background: #F44336;\n",
       "    }\n",
       "</style>\n"
      ],
      "text/plain": [
       "<IPython.core.display.HTML object>"
      ]
     },
     "metadata": {},
     "output_type": "display_data"
    },
    {
     "data": {
      "text/html": [],
      "text/plain": [
       "<IPython.core.display.HTML object>"
      ]
     },
     "metadata": {},
     "output_type": "display_data"
    },
    {
     "data": {
      "text/html": [
       "\n",
       "<style>\n",
       "    /* Turns off some styling */\n",
       "    progress {\n",
       "        /* gets rid of default border in Firefox and Opera. */\n",
       "        border: none;\n",
       "        /* Needs to be in here for Safari polyfill so background images work as expected. */\n",
       "        background-size: auto;\n",
       "    }\n",
       "    progress:not([value]), progress:not([value])::-webkit-progress-bar {\n",
       "        background: repeating-linear-gradient(45deg, #7e7e7e, #7e7e7e 10px, #5c5c5c 10px, #5c5c5c 20px);\n",
       "    }\n",
       "    .progress-bar-interrupted, .progress-bar-interrupted::-webkit-progress-bar {\n",
       "        background: #F44336;\n",
       "    }\n",
       "</style>\n"
      ],
      "text/plain": [
       "<IPython.core.display.HTML object>"
      ]
     },
     "metadata": {},
     "output_type": "display_data"
    },
    {
     "data": {
      "text/html": [],
      "text/plain": [
       "<IPython.core.display.HTML object>"
      ]
     },
     "metadata": {},
     "output_type": "display_data"
    },
    {
     "data": {
      "text/html": [
       "\n",
       "<style>\n",
       "    /* Turns off some styling */\n",
       "    progress {\n",
       "        /* gets rid of default border in Firefox and Opera. */\n",
       "        border: none;\n",
       "        /* Needs to be in here for Safari polyfill so background images work as expected. */\n",
       "        background-size: auto;\n",
       "    }\n",
       "    progress:not([value]), progress:not([value])::-webkit-progress-bar {\n",
       "        background: repeating-linear-gradient(45deg, #7e7e7e, #7e7e7e 10px, #5c5c5c 10px, #5c5c5c 20px);\n",
       "    }\n",
       "    .progress-bar-interrupted, .progress-bar-interrupted::-webkit-progress-bar {\n",
       "        background: #F44336;\n",
       "    }\n",
       "</style>\n"
      ],
      "text/plain": [
       "<IPython.core.display.HTML object>"
      ]
     },
     "metadata": {},
     "output_type": "display_data"
    },
    {
     "data": {
      "text/html": [],
      "text/plain": [
       "<IPython.core.display.HTML object>"
      ]
     },
     "metadata": {},
     "output_type": "display_data"
    },
    {
     "name": "stdout",
     "output_type": "stream",
     "text": [
      "0.15421870350837708\n"
     ]
    },
    {
     "data": {
      "text/html": [
       "\n",
       "<style>\n",
       "    /* Turns off some styling */\n",
       "    progress {\n",
       "        /* gets rid of default border in Firefox and Opera. */\n",
       "        border: none;\n",
       "        /* Needs to be in here for Safari polyfill so background images work as expected. */\n",
       "        background-size: auto;\n",
       "    }\n",
       "    progress:not([value]), progress:not([value])::-webkit-progress-bar {\n",
       "        background: repeating-linear-gradient(45deg, #7e7e7e, #7e7e7e 10px, #5c5c5c 10px, #5c5c5c 20px);\n",
       "    }\n",
       "    .progress-bar-interrupted, .progress-bar-interrupted::-webkit-progress-bar {\n",
       "        background: #F44336;\n",
       "    }\n",
       "</style>\n"
      ],
      "text/plain": [
       "<IPython.core.display.HTML object>"
      ]
     },
     "metadata": {},
     "output_type": "display_data"
    },
    {
     "data": {
      "text/html": [],
      "text/plain": [
       "<IPython.core.display.HTML object>"
      ]
     },
     "metadata": {},
     "output_type": "display_data"
    },
    {
     "data": {
      "text/html": [
       "\n",
       "<style>\n",
       "    /* Turns off some styling */\n",
       "    progress {\n",
       "        /* gets rid of default border in Firefox and Opera. */\n",
       "        border: none;\n",
       "        /* Needs to be in here for Safari polyfill so background images work as expected. */\n",
       "        background-size: auto;\n",
       "    }\n",
       "    progress:not([value]), progress:not([value])::-webkit-progress-bar {\n",
       "        background: repeating-linear-gradient(45deg, #7e7e7e, #7e7e7e 10px, #5c5c5c 10px, #5c5c5c 20px);\n",
       "    }\n",
       "    .progress-bar-interrupted, .progress-bar-interrupted::-webkit-progress-bar {\n",
       "        background: #F44336;\n",
       "    }\n",
       "</style>\n"
      ],
      "text/plain": [
       "<IPython.core.display.HTML object>"
      ]
     },
     "metadata": {},
     "output_type": "display_data"
    },
    {
     "data": {
      "text/html": [],
      "text/plain": [
       "<IPython.core.display.HTML object>"
      ]
     },
     "metadata": {},
     "output_type": "display_data"
    },
    {
     "data": {
      "text/html": [
       "\n",
       "<style>\n",
       "    /* Turns off some styling */\n",
       "    progress {\n",
       "        /* gets rid of default border in Firefox and Opera. */\n",
       "        border: none;\n",
       "        /* Needs to be in here for Safari polyfill so background images work as expected. */\n",
       "        background-size: auto;\n",
       "    }\n",
       "    progress:not([value]), progress:not([value])::-webkit-progress-bar {\n",
       "        background: repeating-linear-gradient(45deg, #7e7e7e, #7e7e7e 10px, #5c5c5c 10px, #5c5c5c 20px);\n",
       "    }\n",
       "    .progress-bar-interrupted, .progress-bar-interrupted::-webkit-progress-bar {\n",
       "        background: #F44336;\n",
       "    }\n",
       "</style>\n"
      ],
      "text/plain": [
       "<IPython.core.display.HTML object>"
      ]
     },
     "metadata": {},
     "output_type": "display_data"
    },
    {
     "data": {
      "text/html": [],
      "text/plain": [
       "<IPython.core.display.HTML object>"
      ]
     },
     "metadata": {},
     "output_type": "display_data"
    },
    {
     "data": {
      "text/html": [
       "\n",
       "<style>\n",
       "    /* Turns off some styling */\n",
       "    progress {\n",
       "        /* gets rid of default border in Firefox and Opera. */\n",
       "        border: none;\n",
       "        /* Needs to be in here for Safari polyfill so background images work as expected. */\n",
       "        background-size: auto;\n",
       "    }\n",
       "    progress:not([value]), progress:not([value])::-webkit-progress-bar {\n",
       "        background: repeating-linear-gradient(45deg, #7e7e7e, #7e7e7e 10px, #5c5c5c 10px, #5c5c5c 20px);\n",
       "    }\n",
       "    .progress-bar-interrupted, .progress-bar-interrupted::-webkit-progress-bar {\n",
       "        background: #F44336;\n",
       "    }\n",
       "</style>\n"
      ],
      "text/plain": [
       "<IPython.core.display.HTML object>"
      ]
     },
     "metadata": {},
     "output_type": "display_data"
    },
    {
     "data": {
      "text/html": [],
      "text/plain": [
       "<IPython.core.display.HTML object>"
      ]
     },
     "metadata": {},
     "output_type": "display_data"
    },
    {
     "name": "stdout",
     "output_type": "stream",
     "text": [
      "0.20106998085975647\n"
     ]
    },
    {
     "data": {
      "text/html": [
       "\n",
       "<style>\n",
       "    /* Turns off some styling */\n",
       "    progress {\n",
       "        /* gets rid of default border in Firefox and Opera. */\n",
       "        border: none;\n",
       "        /* Needs to be in here for Safari polyfill so background images work as expected. */\n",
       "        background-size: auto;\n",
       "    }\n",
       "    progress:not([value]), progress:not([value])::-webkit-progress-bar {\n",
       "        background: repeating-linear-gradient(45deg, #7e7e7e, #7e7e7e 10px, #5c5c5c 10px, #5c5c5c 20px);\n",
       "    }\n",
       "    .progress-bar-interrupted, .progress-bar-interrupted::-webkit-progress-bar {\n",
       "        background: #F44336;\n",
       "    }\n",
       "</style>\n"
      ],
      "text/plain": [
       "<IPython.core.display.HTML object>"
      ]
     },
     "metadata": {},
     "output_type": "display_data"
    },
    {
     "data": {
      "text/html": [],
      "text/plain": [
       "<IPython.core.display.HTML object>"
      ]
     },
     "metadata": {},
     "output_type": "display_data"
    },
    {
     "data": {
      "text/html": [
       "\n",
       "<style>\n",
       "    /* Turns off some styling */\n",
       "    progress {\n",
       "        /* gets rid of default border in Firefox and Opera. */\n",
       "        border: none;\n",
       "        /* Needs to be in here for Safari polyfill so background images work as expected. */\n",
       "        background-size: auto;\n",
       "    }\n",
       "    progress:not([value]), progress:not([value])::-webkit-progress-bar {\n",
       "        background: repeating-linear-gradient(45deg, #7e7e7e, #7e7e7e 10px, #5c5c5c 10px, #5c5c5c 20px);\n",
       "    }\n",
       "    .progress-bar-interrupted, .progress-bar-interrupted::-webkit-progress-bar {\n",
       "        background: #F44336;\n",
       "    }\n",
       "</style>\n"
      ],
      "text/plain": [
       "<IPython.core.display.HTML object>"
      ]
     },
     "metadata": {},
     "output_type": "display_data"
    },
    {
     "data": {
      "text/html": [],
      "text/plain": [
       "<IPython.core.display.HTML object>"
      ]
     },
     "metadata": {},
     "output_type": "display_data"
    },
    {
     "data": {
      "text/html": [
       "\n",
       "<style>\n",
       "    /* Turns off some styling */\n",
       "    progress {\n",
       "        /* gets rid of default border in Firefox and Opera. */\n",
       "        border: none;\n",
       "        /* Needs to be in here for Safari polyfill so background images work as expected. */\n",
       "        background-size: auto;\n",
       "    }\n",
       "    progress:not([value]), progress:not([value])::-webkit-progress-bar {\n",
       "        background: repeating-linear-gradient(45deg, #7e7e7e, #7e7e7e 10px, #5c5c5c 10px, #5c5c5c 20px);\n",
       "    }\n",
       "    .progress-bar-interrupted, .progress-bar-interrupted::-webkit-progress-bar {\n",
       "        background: #F44336;\n",
       "    }\n",
       "</style>\n"
      ],
      "text/plain": [
       "<IPython.core.display.HTML object>"
      ]
     },
     "metadata": {},
     "output_type": "display_data"
    },
    {
     "data": {
      "text/html": [],
      "text/plain": [
       "<IPython.core.display.HTML object>"
      ]
     },
     "metadata": {},
     "output_type": "display_data"
    },
    {
     "data": {
      "text/html": [
       "\n",
       "<style>\n",
       "    /* Turns off some styling */\n",
       "    progress {\n",
       "        /* gets rid of default border in Firefox and Opera. */\n",
       "        border: none;\n",
       "        /* Needs to be in here for Safari polyfill so background images work as expected. */\n",
       "        background-size: auto;\n",
       "    }\n",
       "    progress:not([value]), progress:not([value])::-webkit-progress-bar {\n",
       "        background: repeating-linear-gradient(45deg, #7e7e7e, #7e7e7e 10px, #5c5c5c 10px, #5c5c5c 20px);\n",
       "    }\n",
       "    .progress-bar-interrupted, .progress-bar-interrupted::-webkit-progress-bar {\n",
       "        background: #F44336;\n",
       "    }\n",
       "</style>\n"
      ],
      "text/plain": [
       "<IPython.core.display.HTML object>"
      ]
     },
     "metadata": {},
     "output_type": "display_data"
    },
    {
     "data": {
      "text/html": [],
      "text/plain": [
       "<IPython.core.display.HTML object>"
      ]
     },
     "metadata": {},
     "output_type": "display_data"
    },
    {
     "name": "stdout",
     "output_type": "stream",
     "text": [
      "0.1914653331041336\n"
     ]
    },
    {
     "data": {
      "text/html": [
       "\n",
       "<style>\n",
       "    /* Turns off some styling */\n",
       "    progress {\n",
       "        /* gets rid of default border in Firefox and Opera. */\n",
       "        border: none;\n",
       "        /* Needs to be in here for Safari polyfill so background images work as expected. */\n",
       "        background-size: auto;\n",
       "    }\n",
       "    progress:not([value]), progress:not([value])::-webkit-progress-bar {\n",
       "        background: repeating-linear-gradient(45deg, #7e7e7e, #7e7e7e 10px, #5c5c5c 10px, #5c5c5c 20px);\n",
       "    }\n",
       "    .progress-bar-interrupted, .progress-bar-interrupted::-webkit-progress-bar {\n",
       "        background: #F44336;\n",
       "    }\n",
       "</style>\n"
      ],
      "text/plain": [
       "<IPython.core.display.HTML object>"
      ]
     },
     "metadata": {},
     "output_type": "display_data"
    },
    {
     "data": {
      "text/html": [],
      "text/plain": [
       "<IPython.core.display.HTML object>"
      ]
     },
     "metadata": {},
     "output_type": "display_data"
    },
    {
     "data": {
      "text/html": [
       "\n",
       "<style>\n",
       "    /* Turns off some styling */\n",
       "    progress {\n",
       "        /* gets rid of default border in Firefox and Opera. */\n",
       "        border: none;\n",
       "        /* Needs to be in here for Safari polyfill so background images work as expected. */\n",
       "        background-size: auto;\n",
       "    }\n",
       "    progress:not([value]), progress:not([value])::-webkit-progress-bar {\n",
       "        background: repeating-linear-gradient(45deg, #7e7e7e, #7e7e7e 10px, #5c5c5c 10px, #5c5c5c 20px);\n",
       "    }\n",
       "    .progress-bar-interrupted, .progress-bar-interrupted::-webkit-progress-bar {\n",
       "        background: #F44336;\n",
       "    }\n",
       "</style>\n"
      ],
      "text/plain": [
       "<IPython.core.display.HTML object>"
      ]
     },
     "metadata": {},
     "output_type": "display_data"
    },
    {
     "data": {
      "text/html": [],
      "text/plain": [
       "<IPython.core.display.HTML object>"
      ]
     },
     "metadata": {},
     "output_type": "display_data"
    },
    {
     "data": {
      "text/html": [
       "\n",
       "<style>\n",
       "    /* Turns off some styling */\n",
       "    progress {\n",
       "        /* gets rid of default border in Firefox and Opera. */\n",
       "        border: none;\n",
       "        /* Needs to be in here for Safari polyfill so background images work as expected. */\n",
       "        background-size: auto;\n",
       "    }\n",
       "    progress:not([value]), progress:not([value])::-webkit-progress-bar {\n",
       "        background: repeating-linear-gradient(45deg, #7e7e7e, #7e7e7e 10px, #5c5c5c 10px, #5c5c5c 20px);\n",
       "    }\n",
       "    .progress-bar-interrupted, .progress-bar-interrupted::-webkit-progress-bar {\n",
       "        background: #F44336;\n",
       "    }\n",
       "</style>\n"
      ],
      "text/plain": [
       "<IPython.core.display.HTML object>"
      ]
     },
     "metadata": {},
     "output_type": "display_data"
    },
    {
     "data": {
      "text/html": [],
      "text/plain": [
       "<IPython.core.display.HTML object>"
      ]
     },
     "metadata": {},
     "output_type": "display_data"
    },
    {
     "data": {
      "text/html": [
       "\n",
       "<style>\n",
       "    /* Turns off some styling */\n",
       "    progress {\n",
       "        /* gets rid of default border in Firefox and Opera. */\n",
       "        border: none;\n",
       "        /* Needs to be in here for Safari polyfill so background images work as expected. */\n",
       "        background-size: auto;\n",
       "    }\n",
       "    progress:not([value]), progress:not([value])::-webkit-progress-bar {\n",
       "        background: repeating-linear-gradient(45deg, #7e7e7e, #7e7e7e 10px, #5c5c5c 10px, #5c5c5c 20px);\n",
       "    }\n",
       "    .progress-bar-interrupted, .progress-bar-interrupted::-webkit-progress-bar {\n",
       "        background: #F44336;\n",
       "    }\n",
       "</style>\n"
      ],
      "text/plain": [
       "<IPython.core.display.HTML object>"
      ]
     },
     "metadata": {},
     "output_type": "display_data"
    },
    {
     "data": {
      "text/html": [],
      "text/plain": [
       "<IPython.core.display.HTML object>"
      ]
     },
     "metadata": {},
     "output_type": "display_data"
    },
    {
     "name": "stdout",
     "output_type": "stream",
     "text": [
      "0.15163347125053406\n"
     ]
    },
    {
     "data": {
      "text/html": [
       "\n",
       "<style>\n",
       "    /* Turns off some styling */\n",
       "    progress {\n",
       "        /* gets rid of default border in Firefox and Opera. */\n",
       "        border: none;\n",
       "        /* Needs to be in here for Safari polyfill so background images work as expected. */\n",
       "        background-size: auto;\n",
       "    }\n",
       "    progress:not([value]), progress:not([value])::-webkit-progress-bar {\n",
       "        background: repeating-linear-gradient(45deg, #7e7e7e, #7e7e7e 10px, #5c5c5c 10px, #5c5c5c 20px);\n",
       "    }\n",
       "    .progress-bar-interrupted, .progress-bar-interrupted::-webkit-progress-bar {\n",
       "        background: #F44336;\n",
       "    }\n",
       "</style>\n"
      ],
      "text/plain": [
       "<IPython.core.display.HTML object>"
      ]
     },
     "metadata": {},
     "output_type": "display_data"
    },
    {
     "data": {
      "text/html": [],
      "text/plain": [
       "<IPython.core.display.HTML object>"
      ]
     },
     "metadata": {},
     "output_type": "display_data"
    },
    {
     "data": {
      "text/html": [
       "\n",
       "<style>\n",
       "    /* Turns off some styling */\n",
       "    progress {\n",
       "        /* gets rid of default border in Firefox and Opera. */\n",
       "        border: none;\n",
       "        /* Needs to be in here for Safari polyfill so background images work as expected. */\n",
       "        background-size: auto;\n",
       "    }\n",
       "    progress:not([value]), progress:not([value])::-webkit-progress-bar {\n",
       "        background: repeating-linear-gradient(45deg, #7e7e7e, #7e7e7e 10px, #5c5c5c 10px, #5c5c5c 20px);\n",
       "    }\n",
       "    .progress-bar-interrupted, .progress-bar-interrupted::-webkit-progress-bar {\n",
       "        background: #F44336;\n",
       "    }\n",
       "</style>\n"
      ],
      "text/plain": [
       "<IPython.core.display.HTML object>"
      ]
     },
     "metadata": {},
     "output_type": "display_data"
    },
    {
     "data": {
      "text/html": [],
      "text/plain": [
       "<IPython.core.display.HTML object>"
      ]
     },
     "metadata": {},
     "output_type": "display_data"
    },
    {
     "data": {
      "text/html": [
       "\n",
       "<style>\n",
       "    /* Turns off some styling */\n",
       "    progress {\n",
       "        /* gets rid of default border in Firefox and Opera. */\n",
       "        border: none;\n",
       "        /* Needs to be in here for Safari polyfill so background images work as expected. */\n",
       "        background-size: auto;\n",
       "    }\n",
       "    progress:not([value]), progress:not([value])::-webkit-progress-bar {\n",
       "        background: repeating-linear-gradient(45deg, #7e7e7e, #7e7e7e 10px, #5c5c5c 10px, #5c5c5c 20px);\n",
       "    }\n",
       "    .progress-bar-interrupted, .progress-bar-interrupted::-webkit-progress-bar {\n",
       "        background: #F44336;\n",
       "    }\n",
       "</style>\n"
      ],
      "text/plain": [
       "<IPython.core.display.HTML object>"
      ]
     },
     "metadata": {},
     "output_type": "display_data"
    },
    {
     "data": {
      "text/html": [],
      "text/plain": [
       "<IPython.core.display.HTML object>"
      ]
     },
     "metadata": {},
     "output_type": "display_data"
    },
    {
     "data": {
      "text/html": [
       "\n",
       "<style>\n",
       "    /* Turns off some styling */\n",
       "    progress {\n",
       "        /* gets rid of default border in Firefox and Opera. */\n",
       "        border: none;\n",
       "        /* Needs to be in here for Safari polyfill so background images work as expected. */\n",
       "        background-size: auto;\n",
       "    }\n",
       "    progress:not([value]), progress:not([value])::-webkit-progress-bar {\n",
       "        background: repeating-linear-gradient(45deg, #7e7e7e, #7e7e7e 10px, #5c5c5c 10px, #5c5c5c 20px);\n",
       "    }\n",
       "    .progress-bar-interrupted, .progress-bar-interrupted::-webkit-progress-bar {\n",
       "        background: #F44336;\n",
       "    }\n",
       "</style>\n"
      ],
      "text/plain": [
       "<IPython.core.display.HTML object>"
      ]
     },
     "metadata": {},
     "output_type": "display_data"
    },
    {
     "data": {
      "text/html": [],
      "text/plain": [
       "<IPython.core.display.HTML object>"
      ]
     },
     "metadata": {},
     "output_type": "display_data"
    },
    {
     "name": "stdout",
     "output_type": "stream",
     "text": [
      "0.17956826090812683\n"
     ]
    }
   ],
   "source": [
    "for s_list in sentences_list:\n",
    "    print(get_sentence_similarity(s_list[1], sentence, 'hi'))"
   ]
  },
  {
   "cell_type": "code",
   "execution_count": null,
   "id": "0de2fa6f-2961-4a7d-9403-41a6ca15f819",
   "metadata": {},
   "outputs": [],
   "source": [
    "mylist=[पेड़ नीचे शिखा खेल]"
   ]
  },
  {
   "cell_type": "markdown",
   "id": "4cc70047-bba5-4dbb-9d26-27d0acd89579",
   "metadata": {},
   "source": [
    "#### ***Example- 2***"
   ]
  },
  {
   "cell_type": "code",
   "execution_count": 8,
   "id": "963979c0-928f-41b9-bcff-73f94bae1876",
   "metadata": {},
   "outputs": [],
   "source": [
    "s = \"इस किताब मे पन्ने की जानकारी दि है\"\n",
    "root_word = \"पन्ना\""
   ]
  },
  {
   "cell_type": "code",
   "execution_count": 11,
   "id": "ed9ebbfa-3a54-4eaf-bb5f-5d088fdb1bb6",
   "metadata": {},
   "outputs": [],
   "source": [
    "synsets = iwn.synsets(root_word)"
   ]
  },
  {
   "cell_type": "code",
   "execution_count": 12,
   "id": "a15ddded-49de-478b-8f2a-7a6d8abd1625",
   "metadata": {},
   "outputs": [
    {
     "data": {
      "text/plain": [
       "[Synset('पन्ना.noun.6671'),\n",
       " Synset('पना.noun.6691'),\n",
       " Synset('पन्ना.noun.6692'),\n",
       " Synset('पन्ना.noun.14641'),\n",
       " Synset('पन्ना.noun.24719'),\n",
       " Synset('पन्ना जिला.noun.24720')]"
      ]
     },
     "execution_count": 12,
     "metadata": {},
     "output_type": "execute_result"
    }
   ],
   "source": [
    "synsets"
   ]
  },
  {
   "cell_type": "code",
   "execution_count": 14,
   "id": "2953f253-f697-445f-9944-d5f72da40f9f",
   "metadata": {},
   "outputs": [
    {
     "name": "stdout",
     "output_type": "stream",
     "text": [
      "['पन्ना']\n",
      "['पना', 'पन्ना', 'पानक', 'प्रपानक']\n",
      "['पन्ना', 'हरित मणि', 'हरितोपल', 'मरकत मणि', 'मरकत', 'मर्कत', 'अश्मगर्भ', 'जबरजद्द', 'जमुर्रद', 'गारुत्मत', 'राजनील', 'पर्णमणि', 'आपनिक', 'मरकतमणि', 'गारुड़', 'सब्ज़ा', 'सब्जा']\n",
      "['पन्ना', 'पान']\n",
      "['पन्ना', 'पन्ना शहर']\n",
      "['पन्ना जिला', 'पन्ना ज़िला', 'पन्ना']\n"
     ]
    }
   ],
   "source": [
    "for synset in synsets:\n",
    "\n",
    "    print(synset.lemma_names())"
   ]
  },
  {
   "cell_type": "code",
   "execution_count": 25,
   "id": "fa85255c-96c9-4c2a-b361-f519aaea1f3b",
   "metadata": {},
   "outputs": [
    {
     "data": {
      "text/plain": [
       "{'पना', 'पन्ना जिला', 'पन्ना शहर', 'पान', 'हरित मणि'}"
      ]
     },
     "execution_count": 25,
     "metadata": {},
     "output_type": "execute_result"
    }
   ],
   "source": [
    "synonyms_set = set()\n",
    "for synset in synsets: \n",
    "    add = False\n",
    "    for lst in synset.lemma_names():\n",
    "        if lst not in synonyms_set and lst != root_word:\n",
    "            synonyms_set.add(lst)\n",
    "            break\n",
    "synonyms_set"
   ]
  },
  {
   "cell_type": "code",
   "execution_count": 26,
   "id": "cd9f7aca-9aef-4b1f-8dfc-217322cc698e",
   "metadata": {},
   "outputs": [
    {
     "name": "stdout",
     "output_type": "stream",
     "text": [
      "['इस किताब मे पन्ना शहर की जानकारी दि है', 'इस किताब मे पन्ना जिला की जानकारी दि है', 'इस किताब मे पना की जानकारी दि है', 'इस किताब मे पान की जानकारी दि है', 'इस किताब मे हरित मणि की जानकारी दि है']\n"
     ]
    }
   ],
   "source": [
    "sent_list = []\n",
    "for syn in synonyms_set:\n",
    "    dummy = s\n",
    "    sent_list.append(dummy.replace(\"पन्ने\", syn))\n",
    "print(sent_list)"
   ]
  },
  {
   "cell_type": "code",
   "execution_count": 27,
   "id": "1b6ca884-bfd3-42e3-b9b5-e520b4b278bc",
   "metadata": {},
   "outputs": [
    {
     "data": {
      "text/html": [
       "\n",
       "<style>\n",
       "    /* Turns off some styling */\n",
       "    progress {\n",
       "        /* gets rid of default border in Firefox and Opera. */\n",
       "        border: none;\n",
       "        /* Needs to be in here for Safari polyfill so background images work as expected. */\n",
       "        background-size: auto;\n",
       "    }\n",
       "    progress:not([value]), progress:not([value])::-webkit-progress-bar {\n",
       "        background: repeating-linear-gradient(45deg, #7e7e7e, #7e7e7e 10px, #5c5c5c 10px, #5c5c5c 20px);\n",
       "    }\n",
       "    .progress-bar-interrupted, .progress-bar-interrupted::-webkit-progress-bar {\n",
       "        background: #F44336;\n",
       "    }\n",
       "</style>\n"
      ],
      "text/plain": [
       "<IPython.core.display.HTML object>"
      ]
     },
     "metadata": {},
     "output_type": "display_data"
    },
    {
     "data": {
      "text/html": [],
      "text/plain": [
       "<IPython.core.display.HTML object>"
      ]
     },
     "metadata": {},
     "output_type": "display_data"
    },
    {
     "data": {
      "text/html": [
       "\n",
       "<style>\n",
       "    /* Turns off some styling */\n",
       "    progress {\n",
       "        /* gets rid of default border in Firefox and Opera. */\n",
       "        border: none;\n",
       "        /* Needs to be in here for Safari polyfill so background images work as expected. */\n",
       "        background-size: auto;\n",
       "    }\n",
       "    progress:not([value]), progress:not([value])::-webkit-progress-bar {\n",
       "        background: repeating-linear-gradient(45deg, #7e7e7e, #7e7e7e 10px, #5c5c5c 10px, #5c5c5c 20px);\n",
       "    }\n",
       "    .progress-bar-interrupted, .progress-bar-interrupted::-webkit-progress-bar {\n",
       "        background: #F44336;\n",
       "    }\n",
       "</style>\n"
      ],
      "text/plain": [
       "<IPython.core.display.HTML object>"
      ]
     },
     "metadata": {},
     "output_type": "display_data"
    },
    {
     "data": {
      "text/html": [],
      "text/plain": [
       "<IPython.core.display.HTML object>"
      ]
     },
     "metadata": {},
     "output_type": "display_data"
    },
    {
     "data": {
      "text/html": [
       "\n",
       "<style>\n",
       "    /* Turns off some styling */\n",
       "    progress {\n",
       "        /* gets rid of default border in Firefox and Opera. */\n",
       "        border: none;\n",
       "        /* Needs to be in here for Safari polyfill so background images work as expected. */\n",
       "        background-size: auto;\n",
       "    }\n",
       "    progress:not([value]), progress:not([value])::-webkit-progress-bar {\n",
       "        background: repeating-linear-gradient(45deg, #7e7e7e, #7e7e7e 10px, #5c5c5c 10px, #5c5c5c 20px);\n",
       "    }\n",
       "    .progress-bar-interrupted, .progress-bar-interrupted::-webkit-progress-bar {\n",
       "        background: #F44336;\n",
       "    }\n",
       "</style>\n"
      ],
      "text/plain": [
       "<IPython.core.display.HTML object>"
      ]
     },
     "metadata": {},
     "output_type": "display_data"
    },
    {
     "data": {
      "text/html": [],
      "text/plain": [
       "<IPython.core.display.HTML object>"
      ]
     },
     "metadata": {},
     "output_type": "display_data"
    },
    {
     "data": {
      "text/html": [
       "\n",
       "<style>\n",
       "    /* Turns off some styling */\n",
       "    progress {\n",
       "        /* gets rid of default border in Firefox and Opera. */\n",
       "        border: none;\n",
       "        /* Needs to be in here for Safari polyfill so background images work as expected. */\n",
       "        background-size: auto;\n",
       "    }\n",
       "    progress:not([value]), progress:not([value])::-webkit-progress-bar {\n",
       "        background: repeating-linear-gradient(45deg, #7e7e7e, #7e7e7e 10px, #5c5c5c 10px, #5c5c5c 20px);\n",
       "    }\n",
       "    .progress-bar-interrupted, .progress-bar-interrupted::-webkit-progress-bar {\n",
       "        background: #F44336;\n",
       "    }\n",
       "</style>\n"
      ],
      "text/plain": [
       "<IPython.core.display.HTML object>"
      ]
     },
     "metadata": {},
     "output_type": "display_data"
    },
    {
     "data": {
      "text/html": [],
      "text/plain": [
       "<IPython.core.display.HTML object>"
      ]
     },
     "metadata": {},
     "output_type": "display_data"
    },
    {
     "name": "stdout",
     "output_type": "stream",
     "text": [
      "इस किताब मे पन्ना शहर की जानकारी दि है 0.9219592809677124\n"
     ]
    },
    {
     "data": {
      "text/html": [
       "\n",
       "<style>\n",
       "    /* Turns off some styling */\n",
       "    progress {\n",
       "        /* gets rid of default border in Firefox and Opera. */\n",
       "        border: none;\n",
       "        /* Needs to be in here for Safari polyfill so background images work as expected. */\n",
       "        background-size: auto;\n",
       "    }\n",
       "    progress:not([value]), progress:not([value])::-webkit-progress-bar {\n",
       "        background: repeating-linear-gradient(45deg, #7e7e7e, #7e7e7e 10px, #5c5c5c 10px, #5c5c5c 20px);\n",
       "    }\n",
       "    .progress-bar-interrupted, .progress-bar-interrupted::-webkit-progress-bar {\n",
       "        background: #F44336;\n",
       "    }\n",
       "</style>\n"
      ],
      "text/plain": [
       "<IPython.core.display.HTML object>"
      ]
     },
     "metadata": {},
     "output_type": "display_data"
    },
    {
     "data": {
      "text/html": [],
      "text/plain": [
       "<IPython.core.display.HTML object>"
      ]
     },
     "metadata": {},
     "output_type": "display_data"
    },
    {
     "data": {
      "text/html": [
       "\n",
       "<style>\n",
       "    /* Turns off some styling */\n",
       "    progress {\n",
       "        /* gets rid of default border in Firefox and Opera. */\n",
       "        border: none;\n",
       "        /* Needs to be in here for Safari polyfill so background images work as expected. */\n",
       "        background-size: auto;\n",
       "    }\n",
       "    progress:not([value]), progress:not([value])::-webkit-progress-bar {\n",
       "        background: repeating-linear-gradient(45deg, #7e7e7e, #7e7e7e 10px, #5c5c5c 10px, #5c5c5c 20px);\n",
       "    }\n",
       "    .progress-bar-interrupted, .progress-bar-interrupted::-webkit-progress-bar {\n",
       "        background: #F44336;\n",
       "    }\n",
       "</style>\n"
      ],
      "text/plain": [
       "<IPython.core.display.HTML object>"
      ]
     },
     "metadata": {},
     "output_type": "display_data"
    },
    {
     "data": {
      "text/html": [],
      "text/plain": [
       "<IPython.core.display.HTML object>"
      ]
     },
     "metadata": {},
     "output_type": "display_data"
    },
    {
     "data": {
      "text/html": [
       "\n",
       "<style>\n",
       "    /* Turns off some styling */\n",
       "    progress {\n",
       "        /* gets rid of default border in Firefox and Opera. */\n",
       "        border: none;\n",
       "        /* Needs to be in here for Safari polyfill so background images work as expected. */\n",
       "        background-size: auto;\n",
       "    }\n",
       "    progress:not([value]), progress:not([value])::-webkit-progress-bar {\n",
       "        background: repeating-linear-gradient(45deg, #7e7e7e, #7e7e7e 10px, #5c5c5c 10px, #5c5c5c 20px);\n",
       "    }\n",
       "    .progress-bar-interrupted, .progress-bar-interrupted::-webkit-progress-bar {\n",
       "        background: #F44336;\n",
       "    }\n",
       "</style>\n"
      ],
      "text/plain": [
       "<IPython.core.display.HTML object>"
      ]
     },
     "metadata": {},
     "output_type": "display_data"
    },
    {
     "data": {
      "text/html": [],
      "text/plain": [
       "<IPython.core.display.HTML object>"
      ]
     },
     "metadata": {},
     "output_type": "display_data"
    },
    {
     "data": {
      "text/html": [
       "\n",
       "<style>\n",
       "    /* Turns off some styling */\n",
       "    progress {\n",
       "        /* gets rid of default border in Firefox and Opera. */\n",
       "        border: none;\n",
       "        /* Needs to be in here for Safari polyfill so background images work as expected. */\n",
       "        background-size: auto;\n",
       "    }\n",
       "    progress:not([value]), progress:not([value])::-webkit-progress-bar {\n",
       "        background: repeating-linear-gradient(45deg, #7e7e7e, #7e7e7e 10px, #5c5c5c 10px, #5c5c5c 20px);\n",
       "    }\n",
       "    .progress-bar-interrupted, .progress-bar-interrupted::-webkit-progress-bar {\n",
       "        background: #F44336;\n",
       "    }\n",
       "</style>\n"
      ],
      "text/plain": [
       "<IPython.core.display.HTML object>"
      ]
     },
     "metadata": {},
     "output_type": "display_data"
    },
    {
     "data": {
      "text/html": [],
      "text/plain": [
       "<IPython.core.display.HTML object>"
      ]
     },
     "metadata": {},
     "output_type": "display_data"
    },
    {
     "name": "stdout",
     "output_type": "stream",
     "text": [
      "इस किताब मे पन्ना जिला की जानकारी दि है 0.9057865142822266\n"
     ]
    },
    {
     "data": {
      "text/html": [
       "\n",
       "<style>\n",
       "    /* Turns off some styling */\n",
       "    progress {\n",
       "        /* gets rid of default border in Firefox and Opera. */\n",
       "        border: none;\n",
       "        /* Needs to be in here for Safari polyfill so background images work as expected. */\n",
       "        background-size: auto;\n",
       "    }\n",
       "    progress:not([value]), progress:not([value])::-webkit-progress-bar {\n",
       "        background: repeating-linear-gradient(45deg, #7e7e7e, #7e7e7e 10px, #5c5c5c 10px, #5c5c5c 20px);\n",
       "    }\n",
       "    .progress-bar-interrupted, .progress-bar-interrupted::-webkit-progress-bar {\n",
       "        background: #F44336;\n",
       "    }\n",
       "</style>\n"
      ],
      "text/plain": [
       "<IPython.core.display.HTML object>"
      ]
     },
     "metadata": {},
     "output_type": "display_data"
    },
    {
     "data": {
      "text/html": [],
      "text/plain": [
       "<IPython.core.display.HTML object>"
      ]
     },
     "metadata": {},
     "output_type": "display_data"
    },
    {
     "data": {
      "text/html": [
       "\n",
       "<style>\n",
       "    /* Turns off some styling */\n",
       "    progress {\n",
       "        /* gets rid of default border in Firefox and Opera. */\n",
       "        border: none;\n",
       "        /* Needs to be in here for Safari polyfill so background images work as expected. */\n",
       "        background-size: auto;\n",
       "    }\n",
       "    progress:not([value]), progress:not([value])::-webkit-progress-bar {\n",
       "        background: repeating-linear-gradient(45deg, #7e7e7e, #7e7e7e 10px, #5c5c5c 10px, #5c5c5c 20px);\n",
       "    }\n",
       "    .progress-bar-interrupted, .progress-bar-interrupted::-webkit-progress-bar {\n",
       "        background: #F44336;\n",
       "    }\n",
       "</style>\n"
      ],
      "text/plain": [
       "<IPython.core.display.HTML object>"
      ]
     },
     "metadata": {},
     "output_type": "display_data"
    },
    {
     "data": {
      "text/html": [],
      "text/plain": [
       "<IPython.core.display.HTML object>"
      ]
     },
     "metadata": {},
     "output_type": "display_data"
    },
    {
     "data": {
      "text/html": [
       "\n",
       "<style>\n",
       "    /* Turns off some styling */\n",
       "    progress {\n",
       "        /* gets rid of default border in Firefox and Opera. */\n",
       "        border: none;\n",
       "        /* Needs to be in here for Safari polyfill so background images work as expected. */\n",
       "        background-size: auto;\n",
       "    }\n",
       "    progress:not([value]), progress:not([value])::-webkit-progress-bar {\n",
       "        background: repeating-linear-gradient(45deg, #7e7e7e, #7e7e7e 10px, #5c5c5c 10px, #5c5c5c 20px);\n",
       "    }\n",
       "    .progress-bar-interrupted, .progress-bar-interrupted::-webkit-progress-bar {\n",
       "        background: #F44336;\n",
       "    }\n",
       "</style>\n"
      ],
      "text/plain": [
       "<IPython.core.display.HTML object>"
      ]
     },
     "metadata": {},
     "output_type": "display_data"
    },
    {
     "data": {
      "text/html": [],
      "text/plain": [
       "<IPython.core.display.HTML object>"
      ]
     },
     "metadata": {},
     "output_type": "display_data"
    },
    {
     "data": {
      "text/html": [
       "\n",
       "<style>\n",
       "    /* Turns off some styling */\n",
       "    progress {\n",
       "        /* gets rid of default border in Firefox and Opera. */\n",
       "        border: none;\n",
       "        /* Needs to be in here for Safari polyfill so background images work as expected. */\n",
       "        background-size: auto;\n",
       "    }\n",
       "    progress:not([value]), progress:not([value])::-webkit-progress-bar {\n",
       "        background: repeating-linear-gradient(45deg, #7e7e7e, #7e7e7e 10px, #5c5c5c 10px, #5c5c5c 20px);\n",
       "    }\n",
       "    .progress-bar-interrupted, .progress-bar-interrupted::-webkit-progress-bar {\n",
       "        background: #F44336;\n",
       "    }\n",
       "</style>\n"
      ],
      "text/plain": [
       "<IPython.core.display.HTML object>"
      ]
     },
     "metadata": {},
     "output_type": "display_data"
    },
    {
     "data": {
      "text/html": [],
      "text/plain": [
       "<IPython.core.display.HTML object>"
      ]
     },
     "metadata": {},
     "output_type": "display_data"
    },
    {
     "name": "stdout",
     "output_type": "stream",
     "text": [
      "इस किताब मे पना की जानकारी दि है 0.8827615976333618\n"
     ]
    },
    {
     "data": {
      "text/html": [
       "\n",
       "<style>\n",
       "    /* Turns off some styling */\n",
       "    progress {\n",
       "        /* gets rid of default border in Firefox and Opera. */\n",
       "        border: none;\n",
       "        /* Needs to be in here for Safari polyfill so background images work as expected. */\n",
       "        background-size: auto;\n",
       "    }\n",
       "    progress:not([value]), progress:not([value])::-webkit-progress-bar {\n",
       "        background: repeating-linear-gradient(45deg, #7e7e7e, #7e7e7e 10px, #5c5c5c 10px, #5c5c5c 20px);\n",
       "    }\n",
       "    .progress-bar-interrupted, .progress-bar-interrupted::-webkit-progress-bar {\n",
       "        background: #F44336;\n",
       "    }\n",
       "</style>\n"
      ],
      "text/plain": [
       "<IPython.core.display.HTML object>"
      ]
     },
     "metadata": {},
     "output_type": "display_data"
    },
    {
     "data": {
      "text/html": [],
      "text/plain": [
       "<IPython.core.display.HTML object>"
      ]
     },
     "metadata": {},
     "output_type": "display_data"
    },
    {
     "data": {
      "text/html": [
       "\n",
       "<style>\n",
       "    /* Turns off some styling */\n",
       "    progress {\n",
       "        /* gets rid of default border in Firefox and Opera. */\n",
       "        border: none;\n",
       "        /* Needs to be in here for Safari polyfill so background images work as expected. */\n",
       "        background-size: auto;\n",
       "    }\n",
       "    progress:not([value]), progress:not([value])::-webkit-progress-bar {\n",
       "        background: repeating-linear-gradient(45deg, #7e7e7e, #7e7e7e 10px, #5c5c5c 10px, #5c5c5c 20px);\n",
       "    }\n",
       "    .progress-bar-interrupted, .progress-bar-interrupted::-webkit-progress-bar {\n",
       "        background: #F44336;\n",
       "    }\n",
       "</style>\n"
      ],
      "text/plain": [
       "<IPython.core.display.HTML object>"
      ]
     },
     "metadata": {},
     "output_type": "display_data"
    },
    {
     "data": {
      "text/html": [],
      "text/plain": [
       "<IPython.core.display.HTML object>"
      ]
     },
     "metadata": {},
     "output_type": "display_data"
    },
    {
     "data": {
      "text/html": [
       "\n",
       "<style>\n",
       "    /* Turns off some styling */\n",
       "    progress {\n",
       "        /* gets rid of default border in Firefox and Opera. */\n",
       "        border: none;\n",
       "        /* Needs to be in here for Safari polyfill so background images work as expected. */\n",
       "        background-size: auto;\n",
       "    }\n",
       "    progress:not([value]), progress:not([value])::-webkit-progress-bar {\n",
       "        background: repeating-linear-gradient(45deg, #7e7e7e, #7e7e7e 10px, #5c5c5c 10px, #5c5c5c 20px);\n",
       "    }\n",
       "    .progress-bar-interrupted, .progress-bar-interrupted::-webkit-progress-bar {\n",
       "        background: #F44336;\n",
       "    }\n",
       "</style>\n"
      ],
      "text/plain": [
       "<IPython.core.display.HTML object>"
      ]
     },
     "metadata": {},
     "output_type": "display_data"
    },
    {
     "data": {
      "text/html": [],
      "text/plain": [
       "<IPython.core.display.HTML object>"
      ]
     },
     "metadata": {},
     "output_type": "display_data"
    },
    {
     "data": {
      "text/html": [
       "\n",
       "<style>\n",
       "    /* Turns off some styling */\n",
       "    progress {\n",
       "        /* gets rid of default border in Firefox and Opera. */\n",
       "        border: none;\n",
       "        /* Needs to be in here for Safari polyfill so background images work as expected. */\n",
       "        background-size: auto;\n",
       "    }\n",
       "    progress:not([value]), progress:not([value])::-webkit-progress-bar {\n",
       "        background: repeating-linear-gradient(45deg, #7e7e7e, #7e7e7e 10px, #5c5c5c 10px, #5c5c5c 20px);\n",
       "    }\n",
       "    .progress-bar-interrupted, .progress-bar-interrupted::-webkit-progress-bar {\n",
       "        background: #F44336;\n",
       "    }\n",
       "</style>\n"
      ],
      "text/plain": [
       "<IPython.core.display.HTML object>"
      ]
     },
     "metadata": {},
     "output_type": "display_data"
    },
    {
     "data": {
      "text/html": [],
      "text/plain": [
       "<IPython.core.display.HTML object>"
      ]
     },
     "metadata": {},
     "output_type": "display_data"
    },
    {
     "name": "stdout",
     "output_type": "stream",
     "text": [
      "इस किताब मे पान की जानकारी दि है 0.9398288726806641\n"
     ]
    },
    {
     "data": {
      "text/html": [
       "\n",
       "<style>\n",
       "    /* Turns off some styling */\n",
       "    progress {\n",
       "        /* gets rid of default border in Firefox and Opera. */\n",
       "        border: none;\n",
       "        /* Needs to be in here for Safari polyfill so background images work as expected. */\n",
       "        background-size: auto;\n",
       "    }\n",
       "    progress:not([value]), progress:not([value])::-webkit-progress-bar {\n",
       "        background: repeating-linear-gradient(45deg, #7e7e7e, #7e7e7e 10px, #5c5c5c 10px, #5c5c5c 20px);\n",
       "    }\n",
       "    .progress-bar-interrupted, .progress-bar-interrupted::-webkit-progress-bar {\n",
       "        background: #F44336;\n",
       "    }\n",
       "</style>\n"
      ],
      "text/plain": [
       "<IPython.core.display.HTML object>"
      ]
     },
     "metadata": {},
     "output_type": "display_data"
    },
    {
     "data": {
      "text/html": [],
      "text/plain": [
       "<IPython.core.display.HTML object>"
      ]
     },
     "metadata": {},
     "output_type": "display_data"
    },
    {
     "data": {
      "text/html": [
       "\n",
       "<style>\n",
       "    /* Turns off some styling */\n",
       "    progress {\n",
       "        /* gets rid of default border in Firefox and Opera. */\n",
       "        border: none;\n",
       "        /* Needs to be in here for Safari polyfill so background images work as expected. */\n",
       "        background-size: auto;\n",
       "    }\n",
       "    progress:not([value]), progress:not([value])::-webkit-progress-bar {\n",
       "        background: repeating-linear-gradient(45deg, #7e7e7e, #7e7e7e 10px, #5c5c5c 10px, #5c5c5c 20px);\n",
       "    }\n",
       "    .progress-bar-interrupted, .progress-bar-interrupted::-webkit-progress-bar {\n",
       "        background: #F44336;\n",
       "    }\n",
       "</style>\n"
      ],
      "text/plain": [
       "<IPython.core.display.HTML object>"
      ]
     },
     "metadata": {},
     "output_type": "display_data"
    },
    {
     "data": {
      "text/html": [],
      "text/plain": [
       "<IPython.core.display.HTML object>"
      ]
     },
     "metadata": {},
     "output_type": "display_data"
    },
    {
     "data": {
      "text/html": [
       "\n",
       "<style>\n",
       "    /* Turns off some styling */\n",
       "    progress {\n",
       "        /* gets rid of default border in Firefox and Opera. */\n",
       "        border: none;\n",
       "        /* Needs to be in here for Safari polyfill so background images work as expected. */\n",
       "        background-size: auto;\n",
       "    }\n",
       "    progress:not([value]), progress:not([value])::-webkit-progress-bar {\n",
       "        background: repeating-linear-gradient(45deg, #7e7e7e, #7e7e7e 10px, #5c5c5c 10px, #5c5c5c 20px);\n",
       "    }\n",
       "    .progress-bar-interrupted, .progress-bar-interrupted::-webkit-progress-bar {\n",
       "        background: #F44336;\n",
       "    }\n",
       "</style>\n"
      ],
      "text/plain": [
       "<IPython.core.display.HTML object>"
      ]
     },
     "metadata": {},
     "output_type": "display_data"
    },
    {
     "data": {
      "text/html": [],
      "text/plain": [
       "<IPython.core.display.HTML object>"
      ]
     },
     "metadata": {},
     "output_type": "display_data"
    },
    {
     "data": {
      "text/html": [
       "\n",
       "<style>\n",
       "    /* Turns off some styling */\n",
       "    progress {\n",
       "        /* gets rid of default border in Firefox and Opera. */\n",
       "        border: none;\n",
       "        /* Needs to be in here for Safari polyfill so background images work as expected. */\n",
       "        background-size: auto;\n",
       "    }\n",
       "    progress:not([value]), progress:not([value])::-webkit-progress-bar {\n",
       "        background: repeating-linear-gradient(45deg, #7e7e7e, #7e7e7e 10px, #5c5c5c 10px, #5c5c5c 20px);\n",
       "    }\n",
       "    .progress-bar-interrupted, .progress-bar-interrupted::-webkit-progress-bar {\n",
       "        background: #F44336;\n",
       "    }\n",
       "</style>\n"
      ],
      "text/plain": [
       "<IPython.core.display.HTML object>"
      ]
     },
     "metadata": {},
     "output_type": "display_data"
    },
    {
     "data": {
      "text/html": [],
      "text/plain": [
       "<IPython.core.display.HTML object>"
      ]
     },
     "metadata": {},
     "output_type": "display_data"
    },
    {
     "name": "stdout",
     "output_type": "stream",
     "text": [
      "इस किताब मे हरित मणि की जानकारी दि है 0.9134877920150757\n"
     ]
    }
   ],
   "source": [
    "for sent in sent_list:\n",
    "    print(sent, get_sentence_similarity(sent, s, 'hi'))"
   ]
  },
  {
   "cell_type": "code",
   "execution_count": 28,
   "id": "24a12e99-21ae-4da7-9e0c-757ab3cd0f86",
   "metadata": {},
   "outputs": [],
   "source": [
    "### Applying MuRIL for Euclidean distance"
   ]
  },
  {
   "cell_type": "code",
   "execution_count": 29,
   "id": "0406b56e-3ac3-4488-b29b-6807845dc468",
   "metadata": {},
   "outputs": [],
   "source": [
    "s_list_1 = [\"किताब\", \"पान\", \"जानकारी\"]\n",
    "s_list_2 = [\"किताब\", \"हरित मणि\", \"जानकारी\"]"
   ]
  },
  {
   "cell_type": "markdown",
   "id": "542928d8-e95e-4a70-a1f8-eb28141de43a",
   "metadata": {
    "jp-MarkdownHeadingCollapsed": true,
    "tags": []
   },
   "source": [
    "#### ***MuRIL***"
   ]
  },
  {
   "cell_type": "code",
   "execution_count": 31,
   "id": "6e1c05e8-3c9c-43e1-8271-ba29340e26c1",
   "metadata": {},
   "outputs": [],
   "source": [
    "import tensorflow as tf\n",
    "import tensorflow_datasets as tfds\n",
    "import tensorflow_hub as hub\n",
    "import tensorflow_text as text\n",
    "from bert import bert_tokenization\n",
    "import numpy as np\n",
    "from scipy.spatial import distance"
   ]
  },
  {
   "cell_type": "code",
   "execution_count": 32,
   "id": "7f94809d-fabf-49de-9a95-b152a34901d6",
   "metadata": {},
   "outputs": [
    {
     "name": "stderr",
     "output_type": "stream",
     "text": [
      "2023-05-02:14:31:55,478 INFO     [resolver.py:109] Using C:\\Users\\thakr\\AppData\\Local\\Temp\\tfhub_modules to cache modules.\n"
     ]
    }
   ],
   "source": [
    "def get_model(model_url, max_seq_length):\n",
    "    inputs = dict(\n",
    "        input_word_ids=tf.keras.layers.Input(shape=(max_seq_length,), dtype=tf.int32),\n",
    "        input_mask=tf.keras.layers.Input(shape=(max_seq_length,), dtype=tf.int32),\n",
    "        input_type_ids=tf.keras.layers.Input(shape=(max_seq_length,), dtype=tf.int32),\n",
    "    )\n",
    "\n",
    "    muril_layer = hub.KerasLayer(model_url, trainable=True)\n",
    "    outputs = muril_layer(inputs)\n",
    "\n",
    "    assert 'sequence_output' in outputs\n",
    "    assert 'pooled_output' in outputs\n",
    "    assert 'encoder_outputs' in outputs\n",
    "    assert 'default' in outputs\n",
    "    return tf.keras.Model(inputs=inputs,outputs=outputs[\"pooled_output\"]), muril_layer\n",
    "     \n",
    "\n",
    "max_seq_length = 128\n",
    "muril_model, muril_layer = get_model(\n",
    "model_url=\"https://tfhub.dev/google/MuRIL/1\", max_seq_length=max_seq_length)\n",
    "     \n",
    "\n",
    "vocab_file = muril_layer.resolved_object.vocab_file.asset_path.numpy()\n",
    "do_lower_case = muril_layer.resolved_object.do_lower_case.numpy()\n",
    "tokenizer = bert_tokenization.FullTokenizer(vocab_file, do_lower_case)\n",
    "\n",
    "\n",
    "def create_input(input_strings, tokenizer, max_seq_length):\n",
    "    input_ids_all, input_mask_all, input_type_ids_all = [], [], []\n",
    "    for input_string in input_strings:\n",
    "        input_tokens = [\"[CLS]\"] + tokenizer.tokenize(input_string) + [\"[SEP]\"]\n",
    "        input_ids = tokenizer.convert_tokens_to_ids(input_tokens)\n",
    "        sequence_length = min(len(input_ids), max_seq_length)\n",
    "    \n",
    "        if len(input_ids) >= max_seq_length:\n",
    "            input_ids = input_ids[:max_seq_length]\n",
    "        else:\n",
    "            input_ids = input_ids + [0] * (max_seq_length - len(input_ids))\n",
    "\n",
    "        input_mask = [1] * sequence_length + [0] * (max_seq_length - sequence_length)\n",
    "\n",
    "        input_ids_all.append(input_ids)\n",
    "        input_mask_all.append(input_mask)\n",
    "        input_type_ids_all.append([0] * max_seq_length)\n",
    "  \n",
    "    return np.array(input_ids_all), np.array(input_mask_all), np.array(input_type_ids_all)\n",
    "     \n",
    "\n",
    "def encode(input_text):\n",
    "    input_ids, input_mask, input_type_ids = create_input(input_text, \n",
    "                                                       tokenizer, \n",
    "                                                       max_seq_length)\n",
    "    inputs = dict(\n",
    "        input_word_ids=input_ids,\n",
    "        input_mask=input_mask,\n",
    "        input_type_ids=input_type_ids,\n",
    "    )\n",
    "    return muril_model(inputs)"
   ]
  },
  {
   "cell_type": "markdown",
   "id": "da073be6-0221-4afc-9a1e-8f9df5255b87",
   "metadata": {},
   "source": [
    "#### ***Examples***"
   ]
  },
  {
   "cell_type": "code",
   "execution_count": 47,
   "id": "e02d438f-6e7d-48dc-8a89-b258b7d34945",
   "metadata": {},
   "outputs": [],
   "source": [
    "sentences = s_list_1"
   ]
  },
  {
   "cell_type": "code",
   "execution_count": 48,
   "id": "d45827e6-bc21-4a7a-a2bd-22a10ed9db8e",
   "metadata": {},
   "outputs": [
    {
     "name": "stdout",
     "output_type": "stream",
     "text": [
      "Distance between किताब & पान is 0.012744450010359287\n",
      "Distance between पान & जानकारी is 0.027964998036623\n",
      "0.009321666012207666\n"
     ]
    }
   ],
   "source": [
    "embeddings = encode(sentences)\n",
    "# print(embeddings)\n",
    "# print(type(embeddings[0][0]), type(embeddings[0][1]))\n",
    "\n",
    "     \n",
    "\n",
    "dst_1 = distance.euclidean(np.array(embeddings[0]), \n",
    "                           np.array(embeddings[1]))\n",
    "print(\"Distance between {} & {} is {}\".format(sentences[0],\n",
    "                                                sentences[1],\n",
    "                                                dst_1))\n",
    "\n",
    "dst_1 += distance.euclidean(np.array(embeddings[1]), \n",
    "                           np.array(embeddings[2]))\n",
    "print(\"Distance between {} & {} is {}\".format(sentences[1],\n",
    "                                                sentences[2],\n",
    "                                                dst_1))\n",
    "print(dst_1/(len(sentences)))"
   ]
  },
  {
   "cell_type": "code",
   "execution_count": 49,
   "id": "11f33628-dab9-49f9-a4be-ca6b04679244",
   "metadata": {},
   "outputs": [],
   "source": [
    "sentences = s_list_2"
   ]
  },
  {
   "cell_type": "code",
   "execution_count": 50,
   "id": "c110d2f8-8a74-469a-b80e-174e562a2e19",
   "metadata": {},
   "outputs": [
    {
     "name": "stdout",
     "output_type": "stream",
     "text": [
      "Distance between किताब & हरित मणि is 0.015906447544693947\n",
      "Distance between हरित मणि & जानकारी is 0.03157647140324116\n",
      "0.010525490467747053\n"
     ]
    }
   ],
   "source": [
    "embeddings = encode(sentences)\n",
    "# print(embeddings)\n",
    "# print(type(embeddings[0][0]), type(embeddings[0][1]))\n",
    "\n",
    "     \n",
    "\n",
    "dst_1 = distance.euclidean(np.array(embeddings[0]), \n",
    "                           np.array(embeddings[1]))\n",
    "print(\"Distance between {} & {} is {}\".format(sentences[0],\n",
    "                                                sentences[1],\n",
    "                                                dst_1))\n",
    "\n",
    "dst_1 += distance.euclidean(np.array(embeddings[1]), \n",
    "                           np.array(embeddings[2]))\n",
    "print(\"Distance between {} & {} is {}\".format(sentences[1],\n",
    "                                                sentences[2],\n",
    "                                                dst_1))\n",
    "print(dst_1/(len(sentences)))"
   ]
  },
  {
   "cell_type": "code",
   "execution_count": null,
   "id": "12561a3c-322d-4fe9-97e8-a8707c5d67b2",
   "metadata": {},
   "outputs": [],
   "source": []
  }
 ],
 "metadata": {
  "kernelspec": {
   "display_name": "Python 3 (ipykernel)",
   "language": "python",
   "name": "python3"
  },
  "language_info": {
   "codemirror_mode": {
    "name": "ipython",
    "version": 3
   },
   "file_extension": ".py",
   "mimetype": "text/x-python",
   "name": "python",
   "nbconvert_exporter": "python",
   "pygments_lexer": "ipython3",
   "version": "3.7.16"
  }
 },
 "nbformat": 4,
 "nbformat_minor": 5
}
