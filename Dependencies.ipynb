{
 "cells": [
  {
   "cell_type": "markdown",
   "id": "835f6083-646c-489b-b5ef-7ccba8393fd9",
   "metadata": {},
   "source": [
    "##### This file covers the dependencies required in this project for given files."
   ]
  },
  {
   "cell_type": "markdown",
   "id": "192669ea-98f5-4fed-b771-464755c8ccc6",
   "metadata": {
    "jp-MarkdownHeadingCollapsed": true,
    "tags": []
   },
   "source": [
    "## **inltk**"
   ]
  },
  {
   "cell_type": "markdown",
   "id": "0af86bb2-4b75-4bb1-889e-a839a9104049",
   "metadata": {},
   "source": [
    "##### For `INLTK_main.ipynb`"
   ]
  },
  {
   "cell_type": "code",
   "execution_count": null,
   "id": "bf51445e-fb5f-4c26-99a2-8279a088cc9b",
   "metadata": {},
   "outputs": [],
   "source": [
    "!pip install torch torchvision torchaudio\n",
    "!pip install fastai"
   ]
  },
  {
   "cell_type": "code",
   "execution_count": null,
   "id": "6d81de10-4748-47c2-84ec-f019fdcc25eb",
   "metadata": {},
   "outputs": [],
   "source": [
    "!pip install inltk\n",
    "!pip install torch==1.3.1+cpu -f https://download.pytorch.org/whl/torch_stable.html"
   ]
  },
  {
   "cell_type": "code",
   "execution_count": null,
   "id": "7b943e3c-f4ba-478f-9ec9-e885aa3ec2d3",
   "metadata": {},
   "outputs": [],
   "source": [
    "from inltk.inltk import setup\n",
    "setup('hi')"
   ]
  },
  {
   "cell_type": "markdown",
   "id": "c9717772-d394-48e8-ba74-8f3596cb0e49",
   "metadata": {
    "jp-MarkdownHeadingCollapsed": true,
    "tags": []
   },
   "source": [
    "## **pyiwn**"
   ]
  },
  {
   "cell_type": "markdown",
   "id": "55883ff4-b841-4a63-a1a7-7b66864afef9",
   "metadata": {},
   "source": [
    "##### For `INLTK_main.ipynb`"
   ]
  },
  {
   "cell_type": "code",
   "execution_count": null,
   "id": "4eeb86b6-39ea-46e4-8d9b-b7183cd58109",
   "metadata": {},
   "outputs": [],
   "source": [
    "!pip install --upgrade pyiwn"
   ]
  },
  {
   "cell_type": "code",
   "execution_count": null,
   "id": "7dac30c2-8fd1-4b63-9887-c401a1713695",
   "metadata": {},
   "outputs": [],
   "source": [
    "import pyiwn\n",
    "iwn = pyiwn.IndoWordNet() # loads 'Hindi' language synsets"
   ]
  },
  {
   "cell_type": "markdown",
   "id": "11bd66f5-441c-494f-a49b-3b631a7285b6",
   "metadata": {
    "jp-MarkdownHeadingCollapsed": true,
    "tags": []
   },
   "source": [
    "## **MuRIL**"
   ]
  },
  {
   "cell_type": "markdown",
   "id": "c82a5452-f510-45ee-a549-cd0619dd3a30",
   "metadata": {},
   "source": [
    "##### For `MuRIL_pyiwn_and_euclidean_distance.ipynb`, `MuRIL_euclidean_distance.py`, `MuRIL_implementation_on_ppc_sentences.ipynb`"
   ]
  },
  {
   "cell_type": "code",
   "execution_count": null,
   "id": "3813ea43-20e2-4091-a4a7-1599a33650bc",
   "metadata": {},
   "outputs": [],
   "source": [
    "pip install bert-for-tf2\n",
    "pip install tensorflow-text\n",
    "!pip install tensorflow-datasets"
   ]
  },
  {
   "cell_type": "code",
   "execution_count": null,
   "id": "9e003ac0-6a1f-4a45-9aa7-e612404f6dd2",
   "metadata": {},
   "outputs": [],
   "source": [
    "import tensorflow as tf\n",
    "import tensorflow_datasets as tfds\n",
    "import tensorflow_hub as hub\n",
    "import tensorflow_text as text\n",
    "from bert import bert_tokenization\n",
    "import numpy as np\n",
    "from scipy.spatial import distance"
   ]
  },
  {
   "cell_type": "markdown",
   "id": "813469e2-3761-4f06-aca8-79bc7eee2fe4",
   "metadata": {
    "jp-MarkdownHeadingCollapsed": true,
    "tags": []
   },
   "source": [
    "## **nltk**"
   ]
  },
  {
   "cell_type": "markdown",
   "id": "7359418e-4df5-4821-8243-8d1ac5d65a13",
   "metadata": {},
   "source": [
    "##### For `MuRIL_pyiwn_and_euclidean_distance.ipynb`"
   ]
  },
  {
   "cell_type": "code",
   "execution_count": null,
   "id": "13bf68f1-318d-42ca-84cd-d995b7767b49",
   "metadata": {},
   "outputs": [],
   "source": [
    "!pip install nltk\n",
    "!pip install indic-nlp-library"
   ]
  },
  {
   "cell_type": "code",
   "execution_count": null,
   "id": "21c7cc1a-6ad2-4075-a6cb-90c82ec3c27d",
   "metadata": {},
   "outputs": [],
   "source": [
    "import nltk\n",
    "nltk.download('punkt')\n",
    "nltk.download('averaged_perceptron_tagger')"
   ]
  }
 ],
 "metadata": {
  "kernelspec": {
   "display_name": "Python 3 (ipykernel)",
   "language": "python",
   "name": "python3"
  },
  "language_info": {
   "codemirror_mode": {
    "name": "ipython",
    "version": 3
   },
   "file_extension": ".py",
   "mimetype": "text/x-python",
   "name": "python",
   "nbconvert_exporter": "python",
   "pygments_lexer": "ipython3",
   "version": "3.11.3"
  }
 },
 "nbformat": 4,
 "nbformat_minor": 5
}
