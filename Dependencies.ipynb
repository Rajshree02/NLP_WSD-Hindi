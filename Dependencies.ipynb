{
 "cells": [
  {
   "cell_type": "markdown",
   "id": "835f6083-646c-489b-b5ef-7ccba8393fd9",
   "metadata": {},
   "source": [
    "##### This file covers the dependencies required in this project for given files."
   ]
  },
  {
   "cell_type": "markdown",
   "id": "192669ea-98f5-4fed-b771-464755c8ccc6",
   "metadata": {
    "tags": []
   },
   "source": [
    "## **inltk**"
   ]
  },
  {
   "cell_type": "markdown",
   "id": "0af86bb2-4b75-4bb1-889e-a839a9104049",
   "metadata": {},
   "source": [
    "##### For `INLTK_main.ipynb`"
   ]
  },
  {
   "cell_type": "code",
   "execution_count": 1,
   "id": "bf51445e-fb5f-4c26-99a2-8279a088cc9b",
   "metadata": {},
   "outputs": [],
   "source": [
    "!pip install torch torchvision torchaudio\n",
    "!pip install fastai"
   ]
  },
  {
   "cell_type": "code",
   "execution_count": 2,
   "id": "6d81de10-4748-47c2-84ec-f019fdcc25eb",
   "metadata": {},
   "outputs": [],
   "source": [
    "!pip install inltk\n",
    "!pip install torch==1.3.1+cpu -f https://download.pytorch.org/whl/torch_stable.html"
   ]
  },
  {
   "cell_type": "code",
   "execution_count": 3,
   "id": "7b943e3c-f4ba-478f-9ec9-e885aa3ec2d3",
   "metadata": {},
   "outputs": [
    {
     "ename": "RuntimeError",
     "evalue": "This event loop is already running",
     "output_type": "error",
     "traceback": [
      "\u001b[1;31m---------------------------------------------------------------------------\u001b[0m",
      "\u001b[1;31mRuntimeError\u001b[0m                              Traceback (most recent call last)",
      "\u001b[1;32m~\\AppData\\Local\\Temp\\ipykernel_2272\\667523385.py\u001b[0m in \u001b[0;36m<module>\u001b[1;34m\u001b[0m\n\u001b[0;32m      1\u001b[0m \u001b[1;32mfrom\u001b[0m \u001b[0minltk\u001b[0m\u001b[1;33m.\u001b[0m\u001b[0minltk\u001b[0m \u001b[1;32mimport\u001b[0m \u001b[0msetup\u001b[0m\u001b[1;33m\u001b[0m\u001b[1;33m\u001b[0m\u001b[0m\n\u001b[1;32m----> 2\u001b[1;33m \u001b[0msetup\u001b[0m\u001b[1;33m(\u001b[0m\u001b[1;34m'hi'\u001b[0m\u001b[1;33m)\u001b[0m\u001b[1;33m\u001b[0m\u001b[1;33m\u001b[0m\u001b[0m\n\u001b[0m",
      "\u001b[1;32m~\\anaconda3\\envs\\final_env\\lib\\site-packages\\inltk\\inltk.py\u001b[0m in \u001b[0;36msetup\u001b[1;34m(language_code)\u001b[0m\n\u001b[0;32m     31\u001b[0m     \u001b[0mloop\u001b[0m \u001b[1;33m=\u001b[0m \u001b[0masyncio\u001b[0m\u001b[1;33m.\u001b[0m\u001b[0mget_event_loop\u001b[0m\u001b[1;33m(\u001b[0m\u001b[1;33m)\u001b[0m\u001b[1;33m\u001b[0m\u001b[1;33m\u001b[0m\u001b[0m\n\u001b[0;32m     32\u001b[0m     \u001b[0mtasks\u001b[0m \u001b[1;33m=\u001b[0m \u001b[1;33m[\u001b[0m\u001b[0masyncio\u001b[0m\u001b[1;33m.\u001b[0m\u001b[0mensure_future\u001b[0m\u001b[1;33m(\u001b[0m\u001b[0mdownload\u001b[0m\u001b[1;33m(\u001b[0m\u001b[0mlanguage_code\u001b[0m\u001b[1;33m)\u001b[0m\u001b[1;33m)\u001b[0m\u001b[1;33m]\u001b[0m\u001b[1;33m\u001b[0m\u001b[1;33m\u001b[0m\u001b[0m\n\u001b[1;32m---> 33\u001b[1;33m     \u001b[0mlearn\u001b[0m \u001b[1;33m=\u001b[0m \u001b[0mloop\u001b[0m\u001b[1;33m.\u001b[0m\u001b[0mrun_until_complete\u001b[0m\u001b[1;33m(\u001b[0m\u001b[0masyncio\u001b[0m\u001b[1;33m.\u001b[0m\u001b[0mgather\u001b[0m\u001b[1;33m(\u001b[0m\u001b[1;33m*\u001b[0m\u001b[0mtasks\u001b[0m\u001b[1;33m)\u001b[0m\u001b[1;33m)\u001b[0m\u001b[1;33m[\u001b[0m\u001b[1;36m0\u001b[0m\u001b[1;33m]\u001b[0m\u001b[1;33m\u001b[0m\u001b[1;33m\u001b[0m\u001b[0m\n\u001b[0m\u001b[0;32m     34\u001b[0m     \u001b[0mloop\u001b[0m\u001b[1;33m.\u001b[0m\u001b[0mclose\u001b[0m\u001b[1;33m(\u001b[0m\u001b[1;33m)\u001b[0m\u001b[1;33m\u001b[0m\u001b[1;33m\u001b[0m\u001b[0m\n\u001b[0;32m     35\u001b[0m \u001b[1;33m\u001b[0m\u001b[0m\n",
      "\u001b[1;32m~\\anaconda3\\envs\\final_env\\lib\\asyncio\\base_events.py\u001b[0m in \u001b[0;36mrun_until_complete\u001b[1;34m(self, future)\u001b[0m\n\u001b[0;32m    561\u001b[0m         \"\"\"\n\u001b[0;32m    562\u001b[0m         \u001b[0mself\u001b[0m\u001b[1;33m.\u001b[0m\u001b[0m_check_closed\u001b[0m\u001b[1;33m(\u001b[0m\u001b[1;33m)\u001b[0m\u001b[1;33m\u001b[0m\u001b[1;33m\u001b[0m\u001b[0m\n\u001b[1;32m--> 563\u001b[1;33m         \u001b[0mself\u001b[0m\u001b[1;33m.\u001b[0m\u001b[0m_check_runnung\u001b[0m\u001b[1;33m(\u001b[0m\u001b[1;33m)\u001b[0m\u001b[1;33m\u001b[0m\u001b[1;33m\u001b[0m\u001b[0m\n\u001b[0m\u001b[0;32m    564\u001b[0m \u001b[1;33m\u001b[0m\u001b[0m\n\u001b[0;32m    565\u001b[0m         \u001b[0mnew_task\u001b[0m \u001b[1;33m=\u001b[0m \u001b[1;32mnot\u001b[0m \u001b[0mfutures\u001b[0m\u001b[1;33m.\u001b[0m\u001b[0misfuture\u001b[0m\u001b[1;33m(\u001b[0m\u001b[0mfuture\u001b[0m\u001b[1;33m)\u001b[0m\u001b[1;33m\u001b[0m\u001b[1;33m\u001b[0m\u001b[0m\n",
      "\u001b[1;32m~\\anaconda3\\envs\\final_env\\lib\\asyncio\\base_events.py\u001b[0m in \u001b[0;36m_check_runnung\u001b[1;34m(self)\u001b[0m\n\u001b[0;32m    521\u001b[0m     \u001b[1;32mdef\u001b[0m \u001b[0m_check_runnung\u001b[0m\u001b[1;33m(\u001b[0m\u001b[0mself\u001b[0m\u001b[1;33m)\u001b[0m\u001b[1;33m:\u001b[0m\u001b[1;33m\u001b[0m\u001b[1;33m\u001b[0m\u001b[0m\n\u001b[0;32m    522\u001b[0m         \u001b[1;32mif\u001b[0m \u001b[0mself\u001b[0m\u001b[1;33m.\u001b[0m\u001b[0mis_running\u001b[0m\u001b[1;33m(\u001b[0m\u001b[1;33m)\u001b[0m\u001b[1;33m:\u001b[0m\u001b[1;33m\u001b[0m\u001b[1;33m\u001b[0m\u001b[0m\n\u001b[1;32m--> 523\u001b[1;33m             \u001b[1;32mraise\u001b[0m \u001b[0mRuntimeError\u001b[0m\u001b[1;33m(\u001b[0m\u001b[1;34m'This event loop is already running'\u001b[0m\u001b[1;33m)\u001b[0m\u001b[1;33m\u001b[0m\u001b[1;33m\u001b[0m\u001b[0m\n\u001b[0m\u001b[0;32m    524\u001b[0m         \u001b[1;32mif\u001b[0m \u001b[0mevents\u001b[0m\u001b[1;33m.\u001b[0m\u001b[0m_get_running_loop\u001b[0m\u001b[1;33m(\u001b[0m\u001b[1;33m)\u001b[0m \u001b[1;32mis\u001b[0m \u001b[1;32mnot\u001b[0m \u001b[1;32mNone\u001b[0m\u001b[1;33m:\u001b[0m\u001b[1;33m\u001b[0m\u001b[1;33m\u001b[0m\u001b[0m\n\u001b[0;32m    525\u001b[0m             raise RuntimeError(\n",
      "\u001b[1;31mRuntimeError\u001b[0m: This event loop is already running"
     ]
    },
    {
     "name": "stdout",
     "output_type": "stream",
     "text": [
      "Downloading Model. This might take time, depending on your internet connection. Please be patient.\n",
      "We'll only do this for the first time.\n"
     ]
    }
   ],
   "source": [
    "from inltk.inltk import setup\n",
    "setup('hi')"
   ]
  },
  {
   "cell_type": "markdown",
   "id": "c9717772-d394-48e8-ba74-8f3596cb0e49",
   "metadata": {
    "tags": []
   },
   "source": [
    "## **pyiwn**"
   ]
  },
  {
   "cell_type": "markdown",
   "id": "55883ff4-b841-4a63-a1a7-7b66864afef9",
   "metadata": {},
   "source": [
    "##### For `INLTK_main.ipynb`"
   ]
  },
  {
   "cell_type": "code",
   "execution_count": 4,
   "id": "4eeb86b6-39ea-46e4-8d9b-b7183cd58109",
   "metadata": {},
   "outputs": [
    {
     "name": "stdout",
     "output_type": "stream",
     "text": [
      "Collecting pyiwn\n",
      "  Using cached pyiwn-0.0.5-py3-none-any.whl (12 kB)\n",
      "Requirement already satisfied: requests in c:\\users\\thakr\\anaconda3\\envs\\final_env\\lib\\site-packages (from pyiwn) (2.28.1)\n",
      "Requirement already satisfied: pandas in c:\\users\\thakr\\anaconda3\\envs\\final_env\\lib\\site-packages (from pyiwn) (1.3.5)\n",
      "Requirement already satisfied: pytz>=2017.3 in c:\\users\\thakr\\anaconda3\\envs\\final_env\\lib\\site-packages (from pandas->pyiwn) (2022.7)\n",
      "Requirement already satisfied: python-dateutil>=2.7.3 in c:\\users\\thakr\\anaconda3\\envs\\final_env\\lib\\site-packages (from pandas->pyiwn) (2.8.2)\n",
      "Requirement already satisfied: numpy>=1.17.3 in c:\\users\\thakr\\anaconda3\\envs\\final_env\\lib\\site-packages (from pandas->pyiwn) (1.21.5)\n",
      "Requirement already satisfied: idna<4,>=2.5 in c:\\users\\thakr\\anaconda3\\envs\\final_env\\lib\\site-packages (from requests->pyiwn) (3.4)\n",
      "Requirement already satisfied: charset-normalizer<3,>=2 in c:\\users\\thakr\\anaconda3\\envs\\final_env\\lib\\site-packages (from requests->pyiwn) (2.0.4)\n",
      "Requirement already satisfied: certifi>=2017.4.17 in c:\\users\\thakr\\anaconda3\\envs\\final_env\\lib\\site-packages (from requests->pyiwn) (2022.12.7)\n",
      "Requirement already satisfied: urllib3<1.27,>=1.21.1 in c:\\users\\thakr\\anaconda3\\envs\\final_env\\lib\\site-packages (from requests->pyiwn) (1.26.14)\n",
      "Requirement already satisfied: six>=1.5 in c:\\users\\thakr\\anaconda3\\envs\\final_env\\lib\\site-packages (from python-dateutil>=2.7.3->pandas->pyiwn) (1.16.0)\n",
      "Installing collected packages: pyiwn\n",
      "Successfully installed pyiwn-0.0.5\n"
     ]
    }
   ],
   "source": [
    "!pip install --upgrade pyiwn"
   ]
  },
  {
   "cell_type": "markdown",
   "id": "11bd66f5-441c-494f-a49b-3b631a7285b6",
   "metadata": {
    "tags": []
   },
   "source": [
    "## **MuRIL**"
   ]
  },
  {
   "cell_type": "markdown",
   "id": "c82a5452-f510-45ee-a549-cd0619dd3a30",
   "metadata": {},
   "source": [
    "##### For"
   ]
  },
  {
   "cell_type": "code",
   "execution_count": null,
   "id": "3813ea43-20e2-4091-a4a7-1599a33650bc",
   "metadata": {},
   "outputs": [],
   "source": [
    "pip install bert-for-tf2\n",
    "pip install tensorflow-text\n",
    "!pip install tensorflow-datasets"
   ]
  },
  {
   "cell_type": "code",
   "execution_count": null,
   "id": "9e003ac0-6a1f-4a45-9aa7-e612404f6dd2",
   "metadata": {},
   "outputs": [],
   "source": [
    "import tensorflow as tf\n",
    "import tensorflow_datasets as tfds\n",
    "import tensorflow_hub as hub\n",
    "import tensorflow_text as text\n",
    "from bert import bert_tokenization\n",
    "import numpy as np\n",
    "from scipy.spatial import distance"
   ]
  },
  {
   "cell_type": "markdown",
   "id": "813469e2-3761-4f06-aca8-79bc7eee2fe4",
   "metadata": {
    "tags": []
   },
   "source": [
    "## **nltk**"
   ]
  },
  {
   "cell_type": "markdown",
   "id": "7359418e-4df5-4821-8243-8d1ac5d65a13",
   "metadata": {},
   "source": [
    "##### For"
   ]
  },
  {
   "cell_type": "code",
   "execution_count": 6,
   "id": "13bf68f1-318d-42ca-84cd-d995b7767b49",
   "metadata": {},
   "outputs": [
    {
     "name": "stdout",
     "output_type": "stream",
     "text": [
      "Collecting nltk\n",
      "  Using cached nltk-3.8.1-py3-none-any.whl (1.5 MB)\n",
      "Requirement already satisfied: click in c:\\users\\thakr\\anaconda3\\envs\\final_env\\lib\\site-packages (from nltk) (8.1.3)\n",
      "Requirement already satisfied: tqdm in c:\\users\\thakr\\anaconda3\\envs\\final_env\\lib\\site-packages (from nltk) (4.65.0)\n",
      "Requirement already satisfied: joblib in c:\\users\\thakr\\anaconda3\\envs\\final_env\\lib\\site-packages (from nltk) (1.2.0)\n",
      "Collecting regex>=2021.8.3\n",
      "  Downloading regex-2023.5.5-cp37-cp37m-win_amd64.whl (268 kB)\n",
      "     -------------------------------------- 268.2/268.2 kB 1.1 MB/s eta 0:00:00\n",
      "Requirement already satisfied: colorama in c:\\users\\thakr\\anaconda3\\envs\\final_env\\lib\\site-packages (from click->nltk) (0.4.6)\n",
      "Requirement already satisfied: importlib-metadata in c:\\users\\thakr\\anaconda3\\envs\\final_env\\lib\\site-packages (from click->nltk) (4.11.3)\n",
      "Requirement already satisfied: zipp>=0.5 in c:\\users\\thakr\\anaconda3\\envs\\final_env\\lib\\site-packages (from importlib-metadata->click->nltk) (3.11.0)\n",
      "Requirement already satisfied: typing-extensions>=3.6.4 in c:\\users\\thakr\\anaconda3\\envs\\final_env\\lib\\site-packages (from importlib-metadata->click->nltk) (4.3.0)\n",
      "Installing collected packages: regex, nltk\n",
      "Successfully installed nltk-3.8.1 regex-2023.5.5\n",
      "Collecting indic-nlp-library\n",
      "  Downloading indic_nlp_library-0.92-py3-none-any.whl (40 kB)\n",
      "     -------------------------------------- 40.3/40.3 kB 938.1 kB/s eta 0:00:00\n",
      "Requirement already satisfied: numpy in c:\\users\\thakr\\anaconda3\\envs\\final_env\\lib\\site-packages (from indic-nlp-library) (1.21.5)\n",
      "Collecting sphinx-rtd-theme\n",
      "  Using cached sphinx_rtd_theme-1.2.0-py2.py3-none-any.whl (2.8 MB)\n",
      "Requirement already satisfied: pandas in c:\\users\\thakr\\anaconda3\\envs\\final_env\\lib\\site-packages (from indic-nlp-library) (1.3.5)\n",
      "Collecting morfessor\n",
      "  Using cached Morfessor-2.0.6-py3-none-any.whl (35 kB)\n",
      "Collecting sphinx-argparse\n",
      "  Using cached sphinx_argparse-0.4.0-py3-none-any.whl (12 kB)\n",
      "Requirement already satisfied: python-dateutil>=2.7.3 in c:\\users\\thakr\\anaconda3\\envs\\final_env\\lib\\site-packages (from pandas->indic-nlp-library) (2.8.2)\n",
      "Requirement already satisfied: pytz>=2017.3 in c:\\users\\thakr\\anaconda3\\envs\\final_env\\lib\\site-packages (from pandas->indic-nlp-library) (2022.7)\n",
      "Collecting sphinx>=1.2.0\n",
      "  Using cached sphinx-5.3.0-py3-none-any.whl (3.2 MB)\n",
      "Collecting sphinxcontrib-jquery!=3.0.0,>=2.0.0\n",
      "  Using cached sphinxcontrib_jquery-4.1-py2.py3-none-any.whl (121 kB)\n",
      "Collecting docutils<0.19\n",
      "  Using cached docutils-0.18.1-py2.py3-none-any.whl (570 kB)\n",
      "Requirement already satisfied: six>=1.5 in c:\\users\\thakr\\anaconda3\\envs\\final_env\\lib\\site-packages (from python-dateutil>=2.7.3->pandas->indic-nlp-library) (1.16.0)\n",
      "Collecting sphinxcontrib-serializinghtml>=1.1.5\n",
      "  Using cached sphinxcontrib_serializinghtml-1.1.5-py2.py3-none-any.whl (94 kB)\n",
      "Collecting imagesize>=1.3\n",
      "  Using cached imagesize-1.4.1-py2.py3-none-any.whl (8.8 kB)\n",
      "Requirement already satisfied: Jinja2>=3.0 in c:\\users\\thakr\\anaconda3\\envs\\final_env\\lib\\site-packages (from sphinx>=1.2.0->sphinx-argparse->indic-nlp-library) (3.1.2)\n",
      "Collecting sphinxcontrib-jsmath\n",
      "  Using cached sphinxcontrib_jsmath-1.0.1-py2.py3-none-any.whl (5.1 kB)\n",
      "Collecting sphinxcontrib-htmlhelp>=2.0.0\n",
      "  Using cached sphinxcontrib_htmlhelp-2.0.0-py2.py3-none-any.whl (100 kB)\n",
      "Requirement already satisfied: babel>=2.9 in c:\\users\\thakr\\anaconda3\\envs\\final_env\\lib\\site-packages (from sphinx>=1.2.0->sphinx-argparse->indic-nlp-library) (2.11.0)\n",
      "Requirement already satisfied: requests>=2.5.0 in c:\\users\\thakr\\anaconda3\\envs\\final_env\\lib\\site-packages (from sphinx>=1.2.0->sphinx-argparse->indic-nlp-library) (2.28.1)\n",
      "Requirement already satisfied: colorama>=0.4.5 in c:\\users\\thakr\\anaconda3\\envs\\final_env\\lib\\site-packages (from sphinx>=1.2.0->sphinx-argparse->indic-nlp-library) (0.4.6)\n",
      "Collecting alabaster<0.8,>=0.7\n",
      "  Using cached alabaster-0.7.13-py3-none-any.whl (13 kB)\n",
      "Requirement already satisfied: packaging>=21.0 in c:\\users\\thakr\\anaconda3\\envs\\final_env\\lib\\site-packages (from sphinx>=1.2.0->sphinx-argparse->indic-nlp-library) (22.0)\n",
      "Collecting snowballstemmer>=2.0\n",
      "  Using cached snowballstemmer-2.2.0-py2.py3-none-any.whl (93 kB)\n",
      "Collecting sphinxcontrib-qthelp\n",
      "  Using cached sphinxcontrib_qthelp-1.0.3-py2.py3-none-any.whl (90 kB)\n",
      "Collecting sphinxcontrib-applehelp\n",
      "  Using cached sphinxcontrib_applehelp-1.0.2-py2.py3-none-any.whl (121 kB)\n",
      "Collecting sphinxcontrib-devhelp\n",
      "  Using cached sphinxcontrib_devhelp-1.0.2-py2.py3-none-any.whl (84 kB)\n",
      "Requirement already satisfied: importlib-metadata>=4.8 in c:\\users\\thakr\\anaconda3\\envs\\final_env\\lib\\site-packages (from sphinx>=1.2.0->sphinx-argparse->indic-nlp-library) (4.11.3)\n",
      "Collecting Pygments>=2.12\n",
      "  Using cached Pygments-2.15.1-py3-none-any.whl (1.1 MB)\n",
      "Requirement already satisfied: zipp>=0.5 in c:\\users\\thakr\\anaconda3\\envs\\final_env\\lib\\site-packages (from importlib-metadata>=4.8->sphinx>=1.2.0->sphinx-argparse->indic-nlp-library) (3.11.0)\n",
      "Requirement already satisfied: typing-extensions>=3.6.4 in c:\\users\\thakr\\anaconda3\\envs\\final_env\\lib\\site-packages (from importlib-metadata>=4.8->sphinx>=1.2.0->sphinx-argparse->indic-nlp-library) (4.3.0)\n",
      "Requirement already satisfied: MarkupSafe>=2.0 in c:\\users\\thakr\\anaconda3\\envs\\final_env\\lib\\site-packages (from Jinja2>=3.0->sphinx>=1.2.0->sphinx-argparse->indic-nlp-library) (2.1.1)\n",
      "Requirement already satisfied: urllib3<1.27,>=1.21.1 in c:\\users\\thakr\\anaconda3\\envs\\final_env\\lib\\site-packages (from requests>=2.5.0->sphinx>=1.2.0->sphinx-argparse->indic-nlp-library) (1.26.14)\n",
      "Requirement already satisfied: idna<4,>=2.5 in c:\\users\\thakr\\anaconda3\\envs\\final_env\\lib\\site-packages (from requests>=2.5.0->sphinx>=1.2.0->sphinx-argparse->indic-nlp-library) (3.4)\n",
      "Requirement already satisfied: certifi>=2017.4.17 in c:\\users\\thakr\\anaconda3\\envs\\final_env\\lib\\site-packages (from requests>=2.5.0->sphinx>=1.2.0->sphinx-argparse->indic-nlp-library) (2022.12.7)\n",
      "Requirement already satisfied: charset-normalizer<3,>=2 in c:\\users\\thakr\\anaconda3\\envs\\final_env\\lib\\site-packages (from requests>=2.5.0->sphinx>=1.2.0->sphinx-argparse->indic-nlp-library) (2.0.4)\n",
      "Installing collected packages: snowballstemmer, morfessor, sphinxcontrib-serializinghtml, sphinxcontrib-qthelp, sphinxcontrib-jsmath, sphinxcontrib-htmlhelp, sphinxcontrib-devhelp, sphinxcontrib-applehelp, Pygments, imagesize, docutils, alabaster, sphinx, sphinxcontrib-jquery, sphinx-argparse, sphinx-rtd-theme, indic-nlp-library\n",
      "  Attempting uninstall: Pygments\n",
      "    Found existing installation: Pygments 2.11.2\n",
      "    Uninstalling Pygments-2.11.2:\n",
      "      Successfully uninstalled Pygments-2.11.2\n",
      "Successfully installed Pygments-2.15.1 alabaster-0.7.13 docutils-0.18.1 imagesize-1.4.1 indic-nlp-library-0.92 morfessor-2.0.6 snowballstemmer-2.2.0 sphinx-5.3.0 sphinx-argparse-0.4.0 sphinx-rtd-theme-1.2.0 sphinxcontrib-applehelp-1.0.2 sphinxcontrib-devhelp-1.0.2 sphinxcontrib-htmlhelp-2.0.0 sphinxcontrib-jquery-4.1 sphinxcontrib-jsmath-1.0.1 sphinxcontrib-qthelp-1.0.3 sphinxcontrib-serializinghtml-1.1.5\n",
      "Done!\n"
     ]
    }
   ],
   "source": [
    "!pip install nltk\n",
    "!pip install indic-nlp-library"
   ]
  },
  {
   "cell_type": "code",
   "execution_count": 7,
   "id": "21c7cc1a-6ad2-4075-a6cb-90c82ec3c27d",
   "metadata": {},
   "outputs": [
    {
     "name": "stderr",
     "output_type": "stream",
     "text": [
      "[nltk_data] Downloading package punkt to\n",
      "[nltk_data]     C:\\Users\\thakr\\AppData\\Roaming\\nltk_data...\n",
      "[nltk_data]   Package punkt is already up-to-date!\n",
      "[nltk_data] Downloading package averaged_perceptron_tagger to\n",
      "[nltk_data]     C:\\Users\\thakr\\AppData\\Roaming\\nltk_data...\n",
      "[nltk_data]   Package averaged_perceptron_tagger is already up-to-\n",
      "[nltk_data]       date!\n"
     ]
    },
    {
     "data": {
      "text/plain": [
       "True"
      ]
     },
     "execution_count": 7,
     "metadata": {},
     "output_type": "execute_result"
    }
   ],
   "source": [
    "import nltk\n",
    "nltk.download('punkt')\n",
    "nltk.download('averaged_perceptron_tagger')"
   ]
  },
  {
   "cell_type": "markdown",
   "id": "be30fc66-a7d8-48ae-ba0c-c7a76102f283",
   "metadata": {},
   "source": [
    "### **Keras**"
   ]
  },
  {
   "cell_type": "code",
   "execution_count": 3,
   "id": "d622e093-f9ae-494c-9073-7b5d38ec9e19",
   "metadata": {},
   "outputs": [
    {
     "name": "stdout",
     "output_type": "stream",
     "text": [
      "Requirement already satisfied: keras in c:\\users\\thakr\\anaconda3\\envs\\final_env\\lib\\site-packages (2.10.0)\n"
     ]
    }
   ],
   "source": [
    "!pip install keras\n",
    "import keras"
   ]
  },
  {
   "cell_type": "markdown",
   "id": "aaea6206-d109-45fc-a37b-ec011d86d285",
   "metadata": {},
   "source": [
    "### **Hindi Lemmatization**"
   ]
  },
  {
   "cell_type": "code",
   "execution_count": null,
   "id": "0df6d8bb-aeae-41af-8327-b92f27b6fdb0",
   "metadata": {},
   "outputs": [],
   "source": [
    "!pip install googletrans==3.1.0a0"
   ]
  },
  {
   "cell_type": "code",
   "execution_count": null,
   "id": "fc59e32f-ca0c-45dc-8401-7dc820e49482",
   "metadata": {},
   "outputs": [],
   "source": [
    "import nltk\n",
    "nltk.download('wordnet')"
   ]
  },
  {
   "cell_type": "code",
   "execution_count": null,
   "id": "c6e84d75-f554-4991-83cc-154a3549879f",
   "metadata": {},
   "outputs": [],
   "source": [
    "!pip install englisttohindi"
   ]
  }
 ],
 "metadata": {
  "kernelspec": {
   "display_name": "Python 3 (ipykernel)",
   "language": "python",
   "name": "python3"
  },
  "language_info": {
   "codemirror_mode": {
    "name": "ipython",
    "version": 3
   },
   "file_extension": ".py",
   "mimetype": "text/x-python",
   "name": "python",
   "nbconvert_exporter": "python",
   "pygments_lexer": "ipython3",
   "version": "3.7.16"
  }
 },
 "nbformat": 4,
 "nbformat_minor": 5
}
