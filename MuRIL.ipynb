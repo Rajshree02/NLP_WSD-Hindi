{
 "cells": [
  {
   "cell_type": "code",
   "execution_count": 1,
   "id": "2ea12e80-93bc-430d-980d-bb55007e3803",
   "metadata": {
    "tags": []
   },
   "outputs": [
    {
     "name": "stdout",
     "output_type": "stream",
     "text": [
      "Requirement already satisfied: inltk in c:\\users\\thakr\\appdata\\local\\programs\\python\\python311\\lib\\site-packages (0.9)\n",
      "Requirement already satisfied: aiohttp>=3.5.4 in c:\\users\\thakr\\appdata\\local\\programs\\python\\python311\\lib\\site-packages (from inltk) (3.8.4)\n",
      "Requirement already satisfied: async-timeout>=3.0.1 in c:\\users\\thakr\\appdata\\local\\programs\\python\\python311\\lib\\site-packages (from inltk) (4.0.2)\n",
      "Requirement already satisfied: Pillow in c:\\users\\thakr\\appdata\\local\\programs\\python\\python311\\lib\\site-packages (from inltk) (9.4.0)\n",
      "Requirement already satisfied: beautifulsoup4 in c:\\users\\thakr\\appdata\\local\\programs\\python\\python311\\lib\\site-packages (from inltk) (4.11.2)\n",
      "Requirement already satisfied: bottleneck in c:\\users\\thakr\\appdata\\local\\programs\\python\\python311\\lib\\site-packages (from inltk) (1.3.7)\n",
      "Requirement already satisfied: fastprogress>=0.1.19 in c:\\users\\thakr\\appdata\\local\\programs\\python\\python311\\lib\\site-packages (from inltk) (1.0.3)\n",
      "Requirement already satisfied: matplotlib in c:\\users\\thakr\\appdata\\local\\programs\\python\\python311\\lib\\site-packages (from inltk) (3.7.0)\n",
      "Requirement already satisfied: numexpr in c:\\users\\thakr\\appdata\\local\\programs\\python\\python311\\lib\\site-packages (from inltk) (2.8.4)\n",
      "Requirement already satisfied: numpy>=1.15 in c:\\users\\thakr\\appdata\\local\\programs\\python\\python311\\lib\\site-packages (from inltk) (1.24.2)\n",
      "Requirement already satisfied: nvidia-ml-py3 in c:\\users\\thakr\\appdata\\local\\programs\\python\\python311\\lib\\site-packages (from inltk) (7.352.0)\n",
      "Requirement already satisfied: packaging in c:\\users\\thakr\\appdata\\local\\programs\\python\\python311\\lib\\site-packages (from inltk) (23.0)\n",
      "Requirement already satisfied: pandas in c:\\users\\thakr\\appdata\\local\\programs\\python\\python311\\lib\\site-packages (from inltk) (1.5.3)\n",
      "Requirement already satisfied: pyyaml in c:\\users\\thakr\\appdata\\local\\programs\\python\\python311\\lib\\site-packages (from inltk) (6.0)\n",
      "Requirement already satisfied: requests in c:\\users\\thakr\\appdata\\local\\programs\\python\\python311\\lib\\site-packages (from inltk) (2.28.2)\n",
      "Requirement already satisfied: scipy in c:\\users\\thakr\\appdata\\local\\programs\\python\\python311\\lib\\site-packages (from inltk) (1.10.1)\n",
      "Requirement already satisfied: spacy>=2.0.18 in c:\\users\\thakr\\appdata\\local\\programs\\python\\python311\\lib\\site-packages (from inltk) (3.5.0)\n",
      "Requirement already satisfied: typing in c:\\users\\thakr\\appdata\\local\\programs\\python\\python311\\lib\\site-packages (from inltk) (3.7.4.3)\n",
      "Requirement already satisfied: fastai==1.0.57 in c:\\users\\thakr\\appdata\\local\\programs\\python\\python311\\lib\\site-packages (from inltk) (1.0.57)\n",
      "Requirement already satisfied: sentencepiece in c:\\users\\thakr\\appdata\\local\\programs\\python\\python311\\lib\\site-packages (from inltk) (0.1.98)\n",
      "Requirement already satisfied: torch>=1.0.0 in c:\\users\\thakr\\appdata\\local\\programs\\python\\python311\\lib\\site-packages (from fastai==1.0.57->inltk) (2.0.0)\n",
      "Requirement already satisfied: torchvision in c:\\users\\thakr\\appdata\\local\\programs\\python\\python311\\lib\\site-packages (from fastai==1.0.57->inltk) (0.15.1)\n",
      "Requirement already satisfied: attrs>=17.3.0 in c:\\users\\thakr\\appdata\\local\\programs\\python\\python311\\lib\\site-packages (from aiohttp>=3.5.4->inltk) (22.2.0)\n",
      "Requirement already satisfied: charset-normalizer<4.0,>=2.0 in c:\\users\\thakr\\appdata\\local\\programs\\python\\python311\\lib\\site-packages (from aiohttp>=3.5.4->inltk) (3.0.1)\n",
      "Requirement already satisfied: multidict<7.0,>=4.5 in c:\\users\\thakr\\appdata\\local\\programs\\python\\python311\\lib\\site-packages (from aiohttp>=3.5.4->inltk) (6.0.4)\n",
      "Requirement already satisfied: yarl<2.0,>=1.0 in c:\\users\\thakr\\appdata\\local\\programs\\python\\python311\\lib\\site-packages (from aiohttp>=3.5.4->inltk) (1.8.2)\n",
      "Requirement already satisfied: frozenlist>=1.1.1 in c:\\users\\thakr\\appdata\\local\\programs\\python\\python311\\lib\\site-packages (from aiohttp>=3.5.4->inltk) (1.3.3)\n",
      "Requirement already satisfied: aiosignal>=1.1.2 in c:\\users\\thakr\\appdata\\local\\programs\\python\\python311\\lib\\site-packages (from aiohttp>=3.5.4->inltk) (1.3.1)\n",
      "Requirement already satisfied: spacy-legacy<3.1.0,>=3.0.11 in c:\\users\\thakr\\appdata\\local\\programs\\python\\python311\\lib\\site-packages (from spacy>=2.0.18->inltk) (3.0.12)\n",
      "Requirement already satisfied: spacy-loggers<2.0.0,>=1.0.0 in c:\\users\\thakr\\appdata\\local\\programs\\python\\python311\\lib\\site-packages (from spacy>=2.0.18->inltk) (1.0.4)\n",
      "Requirement already satisfied: murmurhash<1.1.0,>=0.28.0 in c:\\users\\thakr\\appdata\\local\\programs\\python\\python311\\lib\\site-packages (from spacy>=2.0.18->inltk) (1.0.9)\n",
      "Requirement already satisfied: cymem<2.1.0,>=2.0.2 in c:\\users\\thakr\\appdata\\local\\programs\\python\\python311\\lib\\site-packages (from spacy>=2.0.18->inltk) (2.0.7)\n",
      "Requirement already satisfied: preshed<3.1.0,>=3.0.2 in c:\\users\\thakr\\appdata\\local\\programs\\python\\python311\\lib\\site-packages (from spacy>=2.0.18->inltk) (3.0.8)\n",
      "Requirement already satisfied: thinc<8.2.0,>=8.1.0 in c:\\users\\thakr\\appdata\\local\\programs\\python\\python311\\lib\\site-packages (from spacy>=2.0.18->inltk) (8.1.7)\n",
      "Requirement already satisfied: wasabi<1.2.0,>=0.9.1 in c:\\users\\thakr\\appdata\\local\\programs\\python\\python311\\lib\\site-packages (from spacy>=2.0.18->inltk) (1.1.1)\n",
      "Requirement already satisfied: srsly<3.0.0,>=2.4.3 in c:\\users\\thakr\\appdata\\local\\programs\\python\\python311\\lib\\site-packages (from spacy>=2.0.18->inltk) (2.4.5)\n",
      "Requirement already satisfied: catalogue<2.1.0,>=2.0.6 in c:\\users\\thakr\\appdata\\local\\programs\\python\\python311\\lib\\site-packages (from spacy>=2.0.18->inltk) (2.0.8)\n",
      "Requirement already satisfied: typer<0.8.0,>=0.3.0 in c:\\users\\thakr\\appdata\\local\\programs\\python\\python311\\lib\\site-packages (from spacy>=2.0.18->inltk) (0.7.0)\n",
      "Requirement already satisfied: pathy>=0.10.0 in c:\\users\\thakr\\appdata\\local\\programs\\python\\python311\\lib\\site-packages (from spacy>=2.0.18->inltk) (0.10.1)\n",
      "Requirement already satisfied: smart-open<7.0.0,>=5.2.1 in c:\\users\\thakr\\appdata\\local\\programs\\python\\python311\\lib\\site-packages (from spacy>=2.0.18->inltk) (6.3.0)\n",
      "Requirement already satisfied: tqdm<5.0.0,>=4.38.0 in c:\\users\\thakr\\appdata\\local\\programs\\python\\python311\\lib\\site-packages (from spacy>=2.0.18->inltk) (4.64.1)\n",
      "Requirement already satisfied: pydantic!=1.8,!=1.8.1,<1.11.0,>=1.7.4 in c:\\users\\thakr\\appdata\\local\\programs\\python\\python311\\lib\\site-packages (from spacy>=2.0.18->inltk) (1.10.5)\n",
      "Requirement already satisfied: jinja2 in c:\\users\\thakr\\appdata\\local\\programs\\python\\python311\\lib\\site-packages (from spacy>=2.0.18->inltk) (3.1.2)\n",
      "Requirement already satisfied: setuptools in c:\\users\\thakr\\appdata\\local\\programs\\python\\python311\\lib\\site-packages (from spacy>=2.0.18->inltk) (65.5.0)\n",
      "Requirement already satisfied: langcodes<4.0.0,>=3.2.0 in c:\\users\\thakr\\appdata\\local\\programs\\python\\python311\\lib\\site-packages (from spacy>=2.0.18->inltk) (3.3.0)\n",
      "Requirement already satisfied: idna<4,>=2.5 in c:\\users\\thakr\\appdata\\local\\programs\\python\\python311\\lib\\site-packages (from requests->inltk) (3.4)\n",
      "Requirement already satisfied: urllib3<1.27,>=1.21.1 in c:\\users\\thakr\\appdata\\local\\programs\\python\\python311\\lib\\site-packages (from requests->inltk) (1.26.14)\n",
      "Requirement already satisfied: certifi>=2017.4.17 in c:\\users\\thakr\\appdata\\local\\programs\\python\\python311\\lib\\site-packages (from requests->inltk) (2022.12.7)\n",
      "Requirement already satisfied: soupsieve>1.2 in c:\\users\\thakr\\appdata\\local\\programs\\python\\python311\\lib\\site-packages (from beautifulsoup4->inltk) (2.4)\n",
      "Requirement already satisfied: contourpy>=1.0.1 in c:\\users\\thakr\\appdata\\local\\programs\\python\\python311\\lib\\site-packages (from matplotlib->inltk) (1.0.7)\n",
      "Requirement already satisfied: cycler>=0.10 in c:\\users\\thakr\\appdata\\local\\programs\\python\\python311\\lib\\site-packages (from matplotlib->inltk) (0.11.0)\n",
      "Requirement already satisfied: fonttools>=4.22.0 in c:\\users\\thakr\\appdata\\local\\programs\\python\\python311\\lib\\site-packages (from matplotlib->inltk) (4.38.0)\n",
      "Requirement already satisfied: kiwisolver>=1.0.1 in c:\\users\\thakr\\appdata\\local\\programs\\python\\python311\\lib\\site-packages (from matplotlib->inltk) (1.4.4)\n",
      "Requirement already satisfied: pyparsing>=2.3.1 in c:\\users\\thakr\\appdata\\local\\programs\\python\\python311\\lib\\site-packages (from matplotlib->inltk) (3.0.9)\n",
      "Requirement already satisfied: python-dateutil>=2.7 in c:\\users\\thakr\\appdata\\local\\programs\\python\\python311\\lib\\site-packages (from matplotlib->inltk) (2.8.2)\n",
      "Requirement already satisfied: pytz>=2020.1 in c:\\users\\thakr\\appdata\\local\\programs\\python\\python311\\lib\\site-packages (from pandas->inltk) (2022.7.1)\n",
      "Requirement already satisfied: typing-extensions>=4.2.0 in c:\\users\\thakr\\appdata\\local\\programs\\python\\python311\\lib\\site-packages (from pydantic!=1.8,!=1.8.1,<1.11.0,>=1.7.4->spacy>=2.0.18->inltk) (4.5.0)\n",
      "Requirement already satisfied: six>=1.5 in c:\\users\\thakr\\appdata\\local\\programs\\python\\python311\\lib\\site-packages (from python-dateutil>=2.7->matplotlib->inltk) (1.16.0)\n",
      "Requirement already satisfied: blis<0.8.0,>=0.7.8 in c:\\users\\thakr\\appdata\\local\\programs\\python\\python311\\lib\\site-packages (from thinc<8.2.0,>=8.1.0->spacy>=2.0.18->inltk) (0.7.9)\n",
      "Requirement already satisfied: confection<1.0.0,>=0.0.1 in c:\\users\\thakr\\appdata\\local\\programs\\python\\python311\\lib\\site-packages (from thinc<8.2.0,>=8.1.0->spacy>=2.0.18->inltk) (0.0.4)\n",
      "Requirement already satisfied: filelock in c:\\users\\thakr\\appdata\\local\\programs\\python\\python311\\lib\\site-packages (from torch>=1.0.0->fastai==1.0.57->inltk) (3.9.0)\n",
      "Requirement already satisfied: sympy in c:\\users\\thakr\\appdata\\local\\programs\\python\\python311\\lib\\site-packages (from torch>=1.0.0->fastai==1.0.57->inltk) (1.11.1)\n",
      "Requirement already satisfied: networkx in c:\\users\\thakr\\appdata\\local\\programs\\python\\python311\\lib\\site-packages (from torch>=1.0.0->fastai==1.0.57->inltk) (3.1)\n",
      "Requirement already satisfied: colorama in c:\\users\\thakr\\appdata\\local\\programs\\python\\python311\\lib\\site-packages (from tqdm<5.0.0,>=4.38.0->spacy>=2.0.18->inltk) (0.4.6)\n",
      "Requirement already satisfied: click<9.0.0,>=7.1.1 in c:\\users\\thakr\\appdata\\local\\programs\\python\\python311\\lib\\site-packages (from typer<0.8.0,>=0.3.0->spacy>=2.0.18->inltk) (8.1.3)\n",
      "Requirement already satisfied: MarkupSafe>=2.0 in c:\\users\\thakr\\appdata\\local\\programs\\python\\python311\\lib\\site-packages (from jinja2->spacy>=2.0.18->inltk) (2.1.2)\n",
      "Requirement already satisfied: mpmath>=0.19 in c:\\users\\thakr\\appdata\\local\\programs\\python\\python311\\lib\\site-packages (from sympy->torch>=1.0.0->fastai==1.0.57->inltk) (1.3.0)\n"
     ]
    }
   ],
   "source": [
    "!pip install inltk"
   ]
  },
  {
   "cell_type": "code",
   "execution_count": 2,
   "id": "abc27eb2-7cc3-4519-850d-9cdd16f60536",
   "metadata": {
    "tags": []
   },
   "outputs": [
    {
     "name": "stdout",
     "output_type": "stream",
     "text": [
      "Looking in links: https://download.pytorch.org/whl/torch_stable.html\n"
     ]
    },
    {
     "name": "stderr",
     "output_type": "stream",
     "text": [
      "ERROR: Could not find a version that satisfies the requirement torch==1.3.1+cpu (from versions: 2.0.0, 2.0.0+cpu, 2.0.0+cu117, 2.0.0+cu118)\n",
      "ERROR: No matching distribution found for torch==1.3.1+cpu\n"
     ]
    }
   ],
   "source": [
    "!pip install torch==1.3.1+cpu -f https://download.pytorch.org/whl/torch_stable.html"
   ]
  },
  {
   "cell_type": "code",
   "execution_count": 3,
   "id": "34dc2433-105a-45ba-98b3-d4aef6e7ee5a",
   "metadata": {
    "tags": []
   },
   "outputs": [
    {
     "name": "stdout",
     "output_type": "stream",
     "text": [
      "Requirement already satisfied: pip in c:\\users\\thakr\\appdata\\local\\programs\\python\\python311\\lib\\site-packages (23.1)\n",
      "Collecting pip\n",
      "  Downloading pip-23.1.1-py3-none-any.whl (2.1 MB)\n",
      "                                              0.0/2.1 MB ? eta -:--:--\n",
      "                                              0.0/2.1 MB 1.3 MB/s eta 0:00:02\n",
      "     -                                        0.1/2.1 MB 1.1 MB/s eta 0:00:02\n",
      "     -                                        0.1/2.1 MB 1.1 MB/s eta 0:00:02\n",
      "     ---                                      0.2/2.1 MB 980.4 kB/s eta 0:00:02\n",
      "     ----                                     0.3/2.1 MB 1.1 MB/s eta 0:00:02\n",
      "     ------                                   0.4/2.1 MB 1.2 MB/s eta 0:00:02\n",
      "     --------                                 0.4/2.1 MB 1.3 MB/s eta 0:00:02\n",
      "     ---------                                0.5/2.1 MB 1.4 MB/s eta 0:00:02\n",
      "     -----------                              0.6/2.1 MB 1.5 MB/s eta 0:00:02\n",
      "     -------------                            0.7/2.1 MB 1.5 MB/s eta 0:00:01\n",
      "     --------------                           0.8/2.1 MB 1.5 MB/s eta 0:00:01\n",
      "     ----------------                         0.9/2.1 MB 1.6 MB/s eta 0:00:01\n",
      "     ------------------                       0.9/2.1 MB 1.5 MB/s eta 0:00:01\n",
      "     --------------------                     1.0/2.1 MB 1.6 MB/s eta 0:00:01\n",
      "     ---------------------                    1.1/2.1 MB 1.6 MB/s eta 0:00:01\n",
      "     -----------------------                  1.2/2.1 MB 1.6 MB/s eta 0:00:01\n",
      "     -------------------------                1.3/2.1 MB 1.7 MB/s eta 0:00:01\n",
      "     ---------------------------              1.4/2.1 MB 1.7 MB/s eta 0:00:01\n",
      "     ------------------------------           1.6/2.1 MB 1.8 MB/s eta 0:00:01\n",
      "     -------------------------------          1.6/2.1 MB 1.8 MB/s eta 0:00:01\n",
      "     ----------------------------------       1.8/2.1 MB 1.8 MB/s eta 0:00:01\n",
      "     ------------------------------------     1.9/2.1 MB 1.9 MB/s eta 0:00:01\n",
      "     ---------------------------------------  2.1/2.1 MB 1.9 MB/s eta 0:00:01\n",
      "     ---------------------------------------- 2.1/2.1 MB 1.9 MB/s eta 0:00:00\n",
      "Installing collected packages: pip\n",
      "  Attempting uninstall: pip\n",
      "    Found existing installation: pip 23.1\n",
      "    Uninstalling pip-23.1:\n",
      "      Successfully uninstalled pip-23.1\n",
      "Successfully installed pip-23.1.1\n",
      "Note: you may need to restart the kernel to use updated packages.\n"
     ]
    }
   ],
   "source": [
    "pip install --upgrade pip"
   ]
  },
  {
   "cell_type": "code",
   "execution_count": 3,
   "id": "5efb82e8-857e-4ace-9888-1012b05ccb98",
   "metadata": {
    "tags": []
   },
   "outputs": [
    {
     "name": "stdout",
     "output_type": "stream",
     "text": [
      "Looking in indexes: https://download.pytorch.org/whl/cu117\n",
      "Requirement already satisfied: torch in c:\\users\\thakr\\appdata\\local\\programs\\python\\python311\\lib\\site-packages (2.0.0)\n",
      "Requirement already satisfied: torchvision in c:\\users\\thakr\\appdata\\local\\programs\\python\\python311\\lib\\site-packages (0.15.1)\n",
      "Collecting torchaudio\n",
      "  Downloading https://download.pytorch.org/whl/cu117/torchaudio-2.0.1%2Bcu117-cp311-cp311-win_amd64.whl (2.5 MB)\n",
      "                                              0.0/2.5 MB ? eta -:--:--\n",
      "                                              0.0/2.5 MB ? eta -:--:--\n",
      "                                              0.0/2.5 MB 487.6 kB/s eta 0:00:05\n",
      "     -                                        0.1/2.5 MB 653.6 kB/s eta 0:00:04\n",
      "     -                                        0.1/2.5 MB 656.4 kB/s eta 0:00:04\n",
      "     --                                       0.2/2.5 MB 706.2 kB/s eta 0:00:04\n",
      "     --                                       0.2/2.5 MB 706.2 kB/s eta 0:00:04\n",
      "     ---                                      0.2/2.5 MB 620.6 kB/s eta 0:00:04\n",
      "     ---                                      0.2/2.5 MB 625.1 kB/s eta 0:00:04\n",
      "     ---                                      0.2/2.5 MB 627.5 kB/s eta 0:00:04\n",
      "     ---                                      0.2/2.5 MB 627.5 kB/s eta 0:00:04\n",
      "     -----                                    0.3/2.5 MB 634.7 kB/s eta 0:00:04\n",
      "     -----                                    0.3/2.5 MB 634.7 kB/s eta 0:00:04\n",
      "     -----                                    0.4/2.5 MB 620.1 kB/s eta 0:00:04\n",
      "     ------                                   0.4/2.5 MB 622.1 kB/s eta 0:00:04\n",
      "     ------                                   0.4/2.5 MB 594.3 kB/s eta 0:00:04\n",
      "     -------                                  0.5/2.5 MB 612.4 kB/s eta 0:00:04\n",
      "     -------                                  0.5/2.5 MB 601.6 kB/s eta 0:00:04\n",
      "     -------                                  0.5/2.5 MB 579.4 kB/s eta 0:00:04\n",
      "     --------                                 0.5/2.5 MB 608.0 kB/s eta 0:00:04\n",
      "     --------                                 0.5/2.5 MB 608.0 kB/s eta 0:00:04\n",
      "     ---------                                0.6/2.5 MB 591.0 kB/s eta 0:00:04\n",
      "     ---------                                0.6/2.5 MB 583.7 kB/s eta 0:00:04\n",
      "     ----------                               0.6/2.5 MB 595.9 kB/s eta 0:00:04\n",
      "     ----------                               0.7/2.5 MB 589.7 kB/s eta 0:00:04\n",
      "     ----------                               0.7/2.5 MB 583.3 kB/s eta 0:00:04\n",
      "     -----------                              0.7/2.5 MB 594.1 kB/s eta 0:00:03\n",
      "     -----------                              0.7/2.5 MB 589.2 kB/s eta 0:00:03\n",
      "     ------------                             0.8/2.5 MB 599.5 kB/s eta 0:00:03\n",
      "     -------------                            0.8/2.5 MB 601.4 kB/s eta 0:00:03\n",
      "     -------------                            0.8/2.5 MB 603.2 kB/s eta 0:00:03\n",
      "     -------------                            0.9/2.5 MB 604.5 kB/s eta 0:00:03\n",
      "     --------------                           0.9/2.5 MB 592.0 kB/s eta 0:00:03\n",
      "     --------------                           0.9/2.5 MB 607.2 kB/s eta 0:00:03\n",
      "     ---------------                          0.9/2.5 MB 602.4 kB/s eta 0:00:03\n",
      "     ---------------                          1.0/2.5 MB 597.0 kB/s eta 0:00:03\n",
      "     ----------------                         1.0/2.5 MB 606.0 kB/s eta 0:00:03\n",
      "     ----------------                         1.0/2.5 MB 607.3 kB/s eta 0:00:03\n",
      "     -----------------                        1.1/2.5 MB 602.4 kB/s eta 0:00:03\n",
      "     -----------------                        1.1/2.5 MB 614.6 kB/s eta 0:00:03\n",
      "     ------------------                       1.1/2.5 MB 610.8 kB/s eta 0:00:03\n",
      "     ------------------                       1.2/2.5 MB 606.5 kB/s eta 0:00:03\n",
      "     -------------------                      1.2/2.5 MB 612.7 kB/s eta 0:00:03\n",
      "     -------------------                      1.2/2.5 MB 613.7 kB/s eta 0:00:03\n",
      "     --------------------                     1.3/2.5 MB 624.6 kB/s eta 0:00:02\n",
      "     ---------------------                    1.3/2.5 MB 620.9 kB/s eta 0:00:02\n",
      "     ---------------------                    1.3/2.5 MB 626.4 kB/s eta 0:00:02\n",
      "     ---------------------                    1.4/2.5 MB 622.2 kB/s eta 0:00:02\n",
      "     ----------------------                   1.4/2.5 MB 627.6 kB/s eta 0:00:02\n",
      "     -----------------------                  1.4/2.5 MB 632.6 kB/s eta 0:00:02\n",
      "     -----------------------                  1.5/2.5 MB 628.6 kB/s eta 0:00:02\n",
      "     -----------------------                  1.5/2.5 MB 620.7 kB/s eta 0:00:02\n",
      "     ------------------------                 1.5/2.5 MB 625.6 kB/s eta 0:00:02\n",
      "     ------------------------                 1.5/2.5 MB 634.1 kB/s eta 0:00:02\n",
      "     -------------------------                1.6/2.5 MB 630.8 kB/s eta 0:00:02\n",
      "     --------------------------               1.6/2.5 MB 635.2 kB/s eta 0:00:02\n",
      "     --------------------------               1.6/2.5 MB 635.5 kB/s eta 0:00:02\n",
      "     ---------------------------              1.7/2.5 MB 635.9 kB/s eta 0:00:02\n",
      "     ---------------------------              1.7/2.5 MB 636.2 kB/s eta 0:00:02\n",
      "     ----------------------------             1.8/2.5 MB 640.5 kB/s eta 0:00:02\n",
      "     -----------------------------            1.8/2.5 MB 644.2 kB/s eta 0:00:02\n",
      "     -----------------------------            1.8/2.5 MB 648.0 kB/s eta 0:00:01\n",
      "     ------------------------------           1.9/2.5 MB 648.3 kB/s eta 0:00:01\n",
      "     ------------------------------           1.9/2.5 MB 648.4 kB/s eta 0:00:01\n",
      "     -------------------------------          1.9/2.5 MB 648.5 kB/s eta 0:00:01\n",
      "     --------------------------------         2.0/2.5 MB 655.4 kB/s eta 0:00:01\n",
      "     --------------------------------         2.0/2.5 MB 655.4 kB/s eta 0:00:01\n",
      "     ---------------------------------        2.0/2.5 MB 655.3 kB/s eta 0:00:01\n",
      "     ---------------------------------        2.1/2.5 MB 658.7 kB/s eta 0:00:01\n",
      "     ----------------------------------       2.1/2.5 MB 661.8 kB/s eta 0:00:01\n",
      "     ----------------------------------       2.1/2.5 MB 658.6 kB/s eta 0:00:01\n",
      "     -----------------------------------      2.2/2.5 MB 658.5 kB/s eta 0:00:01\n",
      "     -----------------------------------      2.2/2.5 MB 661.4 kB/s eta 0:00:01\n",
      "     ------------------------------------     2.3/2.5 MB 664.5 kB/s eta 0:00:01\n",
      "     -------------------------------------    2.3/2.5 MB 664.3 kB/s eta 0:00:01\n",
      "     -------------------------------------    2.3/2.5 MB 670.2 kB/s eta 0:00:01\n",
      "     --------------------------------------   2.4/2.5 MB 670.0 kB/s eta 0:00:01\n",
      "     ---------------------------------------  2.4/2.5 MB 672.5 kB/s eta 0:00:01\n",
      "     ---------------------------------------  2.4/2.5 MB 672.5 kB/s eta 0:00:01\n",
      "     ---------------------------------------  2.5/2.5 MB 672.2 kB/s eta 0:00:01\n",
      "     ---------------------------------------- 2.5/2.5 MB 666.5 kB/s eta 0:00:00\n",
      "Requirement already satisfied: filelock in c:\\users\\thakr\\appdata\\local\\programs\\python\\python311\\lib\\site-packages (from torch) (3.9.0)\n",
      "Requirement already satisfied: typing-extensions in c:\\users\\thakr\\appdata\\local\\programs\\python\\python311\\lib\\site-packages (from torch) (4.5.0)\n",
      "Requirement already satisfied: sympy in c:\\users\\thakr\\appdata\\local\\programs\\python\\python311\\lib\\site-packages (from torch) (1.11.1)\n",
      "Requirement already satisfied: networkx in c:\\users\\thakr\\appdata\\local\\programs\\python\\python311\\lib\\site-packages (from torch) (3.1)\n",
      "Requirement already satisfied: jinja2 in c:\\users\\thakr\\appdata\\local\\programs\\python\\python311\\lib\\site-packages (from torch) (3.1.2)\n",
      "Requirement already satisfied: numpy in c:\\users\\thakr\\appdata\\local\\programs\\python\\python311\\lib\\site-packages (from torchvision) (1.24.2)\n",
      "Requirement already satisfied: requests in c:\\users\\thakr\\appdata\\local\\programs\\python\\python311\\lib\\site-packages (from torchvision) (2.28.2)\n",
      "Requirement already satisfied: pillow!=8.3.*,>=5.3.0 in c:\\users\\thakr\\appdata\\local\\programs\\python\\python311\\lib\\site-packages (from torchvision) (9.4.0)\n",
      "Requirement already satisfied: MarkupSafe>=2.0 in c:\\users\\thakr\\appdata\\local\\programs\\python\\python311\\lib\\site-packages (from jinja2->torch) (2.1.2)\n",
      "Requirement already satisfied: charset-normalizer<4,>=2 in c:\\users\\thakr\\appdata\\local\\programs\\python\\python311\\lib\\site-packages (from requests->torchvision) (3.0.1)\n",
      "Requirement already satisfied: idna<4,>=2.5 in c:\\users\\thakr\\appdata\\local\\programs\\python\\python311\\lib\\site-packages (from requests->torchvision) (3.4)\n",
      "Requirement already satisfied: urllib3<1.27,>=1.21.1 in c:\\users\\thakr\\appdata\\local\\programs\\python\\python311\\lib\\site-packages (from requests->torchvision) (1.26.14)\n",
      "Requirement already satisfied: certifi>=2017.4.17 in c:\\users\\thakr\\appdata\\local\\programs\\python\\python311\\lib\\site-packages (from requests->torchvision) (2022.12.7)\n",
      "Requirement already satisfied: mpmath>=0.19 in c:\\users\\thakr\\appdata\\local\\programs\\python\\python311\\lib\\site-packages (from sympy->torch) (1.3.0)\n",
      "Installing collected packages: torchaudio\n",
      "Successfully installed torchaudio-2.0.1+cu117\n"
     ]
    }
   ],
   "source": [
    "!pip3 install torch torchvision torchaudio --index-url https://download.pytorch.org/whl/cu117"
   ]
  },
  {
   "cell_type": "code",
   "execution_count": 4,
   "id": "d2522330-2e7d-4202-9da4-1a4f00f12062",
   "metadata": {
    "tags": []
   },
   "outputs": [
    {
     "name": "stdout",
     "output_type": "stream",
     "text": [
      "pip 23.1.1 from C:\\Users\\thakr\\AppData\\Local\\Programs\\Python\\Python311\\Lib\\site-packages\\pip (python 3.11)\n",
      "\n"
     ]
    }
   ],
   "source": [
    "!pip --version"
   ]
  },
  {
   "cell_type": "code",
   "execution_count": 1,
   "id": "df235ba9-9e00-421e-89d8-327c8801a13d",
   "metadata": {
    "tags": []
   },
   "outputs": [
    {
     "name": "stdout",
     "output_type": "stream",
     "text": [
      "Collecting torch\n",
      "  Using cached torch-1.13.1-cp37-cp37m-win_amd64.whl (162.6 MB)\n",
      "Collecting typing-extensions\n",
      "  Using cached typing_extensions-4.5.0-py3-none-any.whl (27 kB)\n",
      "Installing collected packages: typing-extensions, torch\n",
      "Successfully installed torch-1.13.1 typing-extensions-4.5.0\n"
     ]
    }
   ],
   "source": [
    "!pip install torch"
   ]
  },
  {
   "cell_type": "code",
   "execution_count": 2,
   "id": "b6aa1fb3-95ca-45c8-b907-aaabb64aeb56",
   "metadata": {},
   "outputs": [
    {
     "ename": "ModuleNotFoundError",
     "evalue": "No module named 'sklearn'",
     "output_type": "error",
     "traceback": [
      "\u001b[1;31m---------------------------------------------------------------------------\u001b[0m",
      "\u001b[1;31mModuleNotFoundError\u001b[0m                       Traceback (most recent call last)",
      "Cell \u001b[1;32mIn[2], line 1\u001b[0m\n\u001b[1;32m----> 1\u001b[0m \u001b[38;5;28;01mfrom\u001b[39;00m \u001b[38;5;21;01minltk\u001b[39;00m\u001b[38;5;21;01m.\u001b[39;00m\u001b[38;5;21;01minltk\u001b[39;00m \u001b[38;5;28;01mimport\u001b[39;00m setup\n\u001b[0;32m      3\u001b[0m setup(\u001b[38;5;124m'\u001b[39m\u001b[38;5;124mhi\u001b[39m\u001b[38;5;124m'\u001b[39m)\n",
      "File \u001b[1;32m~\\AppData\\Local\\Programs\\Python\\Python311\\Lib\\site-packages\\inltk\\inltk.py:6\u001b[0m\n\u001b[0;32m      4\u001b[0m \u001b[38;5;28;01mimport\u001b[39;00m \u001b[38;5;21;01mrandom\u001b[39;00m\n\u001b[0;32m      5\u001b[0m \u001b[38;5;28;01mfrom\u001b[39;00m \u001b[38;5;21;01mmath\u001b[39;00m \u001b[38;5;28;01mimport\u001b[39;00m ceil\n\u001b[1;32m----> 6\u001b[0m \u001b[38;5;28;01mfrom\u001b[39;00m \u001b[38;5;21;01msklearn\u001b[39;00m\u001b[38;5;21;01m.\u001b[39;00m\u001b[38;5;21;01mmetrics\u001b[39;00m\u001b[38;5;21;01m.\u001b[39;00m\u001b[38;5;21;01mpairwise\u001b[39;00m \u001b[38;5;28;01mimport\u001b[39;00m cosine_similarity\n\u001b[0;32m      8\u001b[0m \u001b[38;5;28;01mfrom\u001b[39;00m \u001b[38;5;21;01mfastai\u001b[39;00m\u001b[38;5;21;01m.\u001b[39;00m\u001b[38;5;21;01mtext\u001b[39;00m \u001b[38;5;28;01mimport\u001b[39;00m \u001b[38;5;241m*\u001b[39m\n\u001b[0;32m      9\u001b[0m \u001b[38;5;28;01mfrom\u001b[39;00m \u001b[38;5;21;01minltk\u001b[39;00m\u001b[38;5;21;01m.\u001b[39;00m\u001b[38;5;21;01mconfig\u001b[39;00m \u001b[38;5;28;01mimport\u001b[39;00m LanguageCodes\n",
      "\u001b[1;31mModuleNotFoundError\u001b[0m: No module named 'sklearn'"
     ]
    }
   ],
   "source": [
    "from inltk.inltk import setup\n",
    "\n",
    "setup('hi')"
   ]
  },
  {
   "cell_type": "code",
   "execution_count": 3,
   "id": "f1f00ecc-861b-43c2-bb0d-75de19cab015",
   "metadata": {},
   "outputs": [
    {
     "name": "stdout",
     "output_type": "stream",
     "text": [
      "Collecting scikit-learn\n",
      "  Downloading scikit_learn-1.2.2-cp311-cp311-win_amd64.whl (8.3 MB)\n",
      "                                              0.0/8.3 MB ? eta -:--:--\n",
      "                                              0.1/8.3 MB 1.1 MB/s eta 0:00:08\n",
      "                                              0.1/8.3 MB 1.3 MB/s eta 0:00:07\n",
      "                                              0.2/8.3 MB 1.1 MB/s eta 0:00:08\n",
      "     -                                        0.3/8.3 MB 1.5 MB/s eta 0:00:06\n",
      "     -                                        0.4/8.3 MB 1.6 MB/s eta 0:00:05\n",
      "     --                                       0.5/8.3 MB 1.7 MB/s eta 0:00:05\n",
      "     ---                                      0.6/8.3 MB 1.9 MB/s eta 0:00:04\n",
      "     ---                                      0.7/8.3 MB 2.0 MB/s eta 0:00:04\n",
      "     ---                                      0.8/8.3 MB 1.8 MB/s eta 0:00:05\n",
      "     ----                                     0.9/8.3 MB 1.9 MB/s eta 0:00:04\n",
      "     ----                                     1.0/8.3 MB 1.9 MB/s eta 0:00:04\n",
      "     -----                                    1.1/8.3 MB 1.9 MB/s eta 0:00:04\n",
      "     -----                                    1.2/8.3 MB 1.9 MB/s eta 0:00:04\n",
      "     ------                                   1.3/8.3 MB 2.0 MB/s eta 0:00:04\n",
      "     -------                                  1.5/8.3 MB 2.0 MB/s eta 0:00:04\n",
      "     -------                                  1.6/8.3 MB 2.1 MB/s eta 0:00:04\n",
      "     --------                                 1.8/8.3 MB 2.2 MB/s eta 0:00:03\n",
      "     ---------                                1.9/8.3 MB 2.2 MB/s eta 0:00:03\n",
      "     ---------                                2.0/8.3 MB 2.3 MB/s eta 0:00:03\n",
      "     ----------                               2.1/8.3 MB 2.3 MB/s eta 0:00:03\n",
      "     -----------                              2.3/8.3 MB 2.4 MB/s eta 0:00:03\n",
      "     ------------                             2.5/8.3 MB 2.5 MB/s eta 0:00:03\n",
      "     -------------                            2.7/8.3 MB 2.5 MB/s eta 0:00:03\n",
      "     -------------                            2.8/8.3 MB 2.5 MB/s eta 0:00:03\n",
      "     --------------                           2.9/8.3 MB 2.5 MB/s eta 0:00:03\n",
      "     --------------                           3.0/8.3 MB 2.5 MB/s eta 0:00:03\n",
      "     ---------------                          3.1/8.3 MB 2.5 MB/s eta 0:00:03\n",
      "     ---------------                          3.3/8.3 MB 2.5 MB/s eta 0:00:02\n",
      "     ----------------                         3.4/8.3 MB 2.5 MB/s eta 0:00:02\n",
      "     -----------------                        3.5/8.3 MB 2.5 MB/s eta 0:00:02\n",
      "     -----------------                        3.6/8.3 MB 2.5 MB/s eta 0:00:02\n",
      "     ------------------                       3.7/8.3 MB 2.5 MB/s eta 0:00:02\n",
      "     ------------------                       3.9/8.3 MB 2.5 MB/s eta 0:00:02\n",
      "     --------------------                     4.2/8.3 MB 2.6 MB/s eta 0:00:02\n",
      "     ---------------------                    4.4/8.3 MB 2.7 MB/s eta 0:00:02\n",
      "     ----------------------                   4.6/8.3 MB 2.7 MB/s eta 0:00:02\n",
      "     -----------------------                  4.8/8.3 MB 2.7 MB/s eta 0:00:02\n",
      "     -----------------------                  4.9/8.3 MB 2.8 MB/s eta 0:00:02\n",
      "     ------------------------                 5.0/8.3 MB 2.8 MB/s eta 0:00:02\n",
      "     -------------------------                5.2/8.3 MB 2.8 MB/s eta 0:00:02\n",
      "     -------------------------                5.3/8.3 MB 2.8 MB/s eta 0:00:02\n",
      "     --------------------------               5.5/8.3 MB 2.8 MB/s eta 0:00:01\n",
      "     ---------------------------              5.6/8.3 MB 2.8 MB/s eta 0:00:01\n",
      "     ---------------------------              5.8/8.3 MB 2.8 MB/s eta 0:00:01\n",
      "     ----------------------------             5.9/8.3 MB 2.8 MB/s eta 0:00:01\n",
      "     ----------------------------             6.0/8.3 MB 2.8 MB/s eta 0:00:01\n",
      "     -----------------------------            6.1/8.3 MB 2.8 MB/s eta 0:00:01\n",
      "     ------------------------------           6.2/8.3 MB 2.8 MB/s eta 0:00:01\n",
      "     ------------------------------           6.3/8.3 MB 2.8 MB/s eta 0:00:01\n",
      "     -------------------------------          6.4/8.3 MB 2.7 MB/s eta 0:00:01\n",
      "     -------------------------------          6.6/8.3 MB 2.7 MB/s eta 0:00:01\n",
      "     --------------------------------         6.7/8.3 MB 2.7 MB/s eta 0:00:01\n",
      "     --------------------------------         6.7/8.3 MB 2.7 MB/s eta 0:00:01\n",
      "     --------------------------------         6.7/8.3 MB 2.7 MB/s eta 0:00:01\n",
      "     --------------------------------         6.7/8.3 MB 2.7 MB/s eta 0:00:01\n",
      "     -----------------------------------      7.2/8.3 MB 2.8 MB/s eta 0:00:01\n",
      "     -----------------------------------      7.4/8.3 MB 2.7 MB/s eta 0:00:01\n",
      "     ------------------------------------     7.5/8.3 MB 2.7 MB/s eta 0:00:01\n",
      "     ------------------------------------     7.6/8.3 MB 2.7 MB/s eta 0:00:01\n",
      "     -------------------------------------    7.7/8.3 MB 2.7 MB/s eta 0:00:01\n",
      "     -------------------------------------    7.8/8.3 MB 2.7 MB/s eta 0:00:01\n",
      "     --------------------------------------   8.0/8.3 MB 2.7 MB/s eta 0:00:01\n",
      "     ---------------------------------------  8.1/8.3 MB 2.7 MB/s eta 0:00:01\n",
      "     ---------------------------------------  8.2/8.3 MB 2.7 MB/s eta 0:00:01\n",
      "     ---------------------------------------  8.3/8.3 MB 2.7 MB/s eta 0:00:01\n",
      "     ---------------------------------------- 8.3/8.3 MB 2.7 MB/s eta 0:00:00\n",
      "Requirement already satisfied: numpy>=1.17.3 in c:\\users\\thakr\\appdata\\local\\programs\\python\\python311\\lib\\site-packages (from scikit-learn) (1.24.2)\n",
      "Requirement already satisfied: scipy>=1.3.2 in c:\\users\\thakr\\appdata\\local\\programs\\python\\python311\\lib\\site-packages (from scikit-learn) (1.10.1)\n",
      "Requirement already satisfied: joblib>=1.1.1 in c:\\users\\thakr\\appdata\\local\\programs\\python\\python311\\lib\\site-packages (from scikit-learn) (1.2.0)\n",
      "Collecting threadpoolctl>=2.0.0 (from scikit-learn)\n",
      "  Downloading threadpoolctl-3.1.0-py3-none-any.whl (14 kB)\n",
      "Installing collected packages: threadpoolctl, scikit-learn\n",
      "Successfully installed scikit-learn-1.2.2 threadpoolctl-3.1.0\n",
      "Note: you may need to restart the kernel to use updated packages.\n"
     ]
    }
   ],
   "source": [
    "pip install scikit-learn"
   ]
  },
  {
   "cell_type": "code",
   "execution_count": 7,
   "id": "e305eda4-0153-41f1-a8b1-4450b1f55553",
   "metadata": {
    "tags": []
   },
   "outputs": [
    {
     "name": "stdout",
     "output_type": "stream",
     "text": [
      "pip 22.3.1 from C:\\Users\\thakr\\anaconda3\\envs\\py37\\lib\\site-packages\\pip (python 3.7)\n",
      "\n"
     ]
    }
   ],
   "source": [
    "!pip --version"
   ]
  },
  {
   "cell_type": "code",
   "execution_count": 8,
   "id": "4722d82e-28b3-4a28-90d2-031b7afd00c5",
   "metadata": {
    "tags": []
   },
   "outputs": [
    {
     "name": "stdout",
     "output_type": "stream",
     "text": [
      "aiofiles==22.1.0Note: you may need to restart the kernel to use updated packages.\n",
      "\n",
      "aiohttp==3.8.4\n",
      "aiosignal==1.3.1\n",
      "aiosqlite==0.18.0\n",
      "anyio==3.6.2\n",
      "argon2-cffi==21.3.0\n",
      "argon2-cffi-bindings==21.2.0\n",
      "arrow==1.2.3\n",
      "asttokens==2.2.1\n",
      "async-timeout==4.0.2\n",
      "attrs==22.2.0\n",
      "Babel==2.11.0\n",
      "backcall==0.2.0\n",
      "beautifulsoup4==4.11.2\n",
      "bleach==6.0.0\n",
      "blis==0.7.9\n",
      "Bottleneck==1.3.7\n",
      "catalogue==2.0.8\n",
      "certifi==2022.12.7\n",
      "cffi==1.15.1\n",
      "charset-normalizer==3.0.1\n",
      "click==8.1.3\n",
      "colorama==0.4.6\n",
      "comm==0.1.2\n",
      "confection==0.0.4\n",
      "contourpy==1.0.7\n",
      "cycler==0.11.0\n",
      "cymem==2.0.7\n",
      "datasets==2.10.1\n",
      "debugpy==1.6.6\n",
      "decorator==5.1.1\n",
      "defusedxml==0.7.1\n",
      "dill==0.3.6\n",
      "en-core-web-sm @ https://github.com/explosion/spacy-models/releases/download/en_core_web_sm-3.5.0/en_core_web_sm-3.5.0-py3-none-any.whl\n",
      "executing==1.2.0\n",
      "fastai==1.0.57\n",
      "fastjsonschema==2.16.2\n",
      "fastprogress==1.0.3\n",
      "filelock==3.9.0\n",
      "fonttools==4.38.0\n",
      "fqdn==1.5.1\n",
      "frozenlist==1.3.3\n",
      "fsspec==2023.1.0\n",
      "huggingface-hub==0.12.1\n",
      "idna==3.4\n",
      "inltk==0.9\n",
      "ipykernel==6.21.2\n",
      "ipython==8.10.0\n",
      "ipython-genutils==0.2.0\n",
      "isoduration==20.11.0\n",
      "jedi==0.18.2\n",
      "Jinja2==3.1.2\n",
      "joblib==1.2.0\n",
      "json5==0.9.11\n",
      "jsonpointer==2.3\n",
      "jsonschema==4.17.3\n",
      "jupyter-events==0.6.3\n",
      "jupyter-ydoc==0.2.2\n",
      "jupyter_client==8.0.3\n",
      "jupyter_core==5.2.0\n",
      "jupyter_server==2.3.0\n",
      "jupyter_server_fileid==0.7.0\n",
      "jupyter_server_terminals==0.4.4\n",
      "jupyter_server_ydoc==0.6.1\n",
      "jupyterlab==3.6.1\n",
      "jupyterlab-pygments==0.2.2\n",
      "jupyterlab_server==2.19.0\n",
      "kiwisolver==1.4.4\n",
      "langcodes==3.3.0\n",
      "MarkupSafe==2.1.2\n",
      "matplotlib==3.7.0\n",
      "matplotlib-inline==0.1.6\n",
      "mistune==2.0.5\n",
      "mpmath==1.3.0\n",
      "multidict==6.0.4\n",
      "multiprocess==0.70.14\n",
      "murmurhash==1.0.9\n",
      "nbclassic==0.5.2\n",
      "nbclient==0.7.2\n",
      "nbconvert==7.2.9\n",
      "nbformat==5.7.3\n",
      "nest-asyncio==1.5.6\n",
      "networkx==3.1\n",
      "nltk==3.8.1\n",
      "notebook==6.5.2\n",
      "notebook_shim==0.2.2\n",
      "numexpr==2.8.4\n",
      "numpy==1.24.2\n",
      "nvidia-ml-py3==7.352.0\n",
      "packaging==23.0\n",
      "pandas==1.5.3\n",
      "pandocfilters==1.5.0\n",
      "parso==0.8.3\n",
      "pathy==0.10.1\n",
      "pickleshare==0.7.5\n",
      "Pillow==9.4.0\n",
      "platformdirs==3.0.0\n",
      "preshed==3.0.8\n",
      "prometheus-client==0.16.0\n",
      "prompt-toolkit==3.0.37\n",
      "psutil==5.9.4\n",
      "pure-eval==0.2.2\n",
      "pyarrow==11.0.0\n",
      "pycparser==2.21\n",
      "pydantic==1.10.5\n",
      "Pygments==2.14.0\n",
      "pyiwn==0.0.5\n",
      "pyparsing==3.0.9\n",
      "pyrsistent==0.19.3\n",
      "python-dateutil==2.8.2\n",
      "python-json-logger==2.0.7\n",
      "pytz==2022.7.1\n",
      "pywin32==305\n",
      "pywinpty==2.0.10\n",
      "PyYAML==6.0\n",
      "pyzmq==25.0.0\n",
      "regex==2022.10.31\n",
      "requests==2.28.2\n",
      "responses==0.18.0\n",
      "rfc3339-validator==0.1.4\n",
      "rfc3986-validator==0.1.1\n",
      "scikit-learn==1.2.2\n",
      "scipy==1.10.1\n",
      "Send2Trash==1.8.0\n",
      "sentencepiece==0.1.98\n",
      "six==1.16.0\n",
      "smart-open==6.3.0\n",
      "sniffio==1.3.0\n",
      "soupsieve==2.4\n",
      "spacy==3.5.0\n",
      "spacy-legacy==3.0.12\n",
      "spacy-loggers==1.0.4\n",
      "srsly==2.4.5\n",
      "stack-data==0.6.2\n",
      "sympy==1.11.1\n",
      "terminado==0.17.1\n",
      "thinc==8.1.7\n",
      "threadpoolctl==3.1.0\n",
      "tinycss2==1.2.1\n",
      "torch==2.0.0\n",
      "torchaudio==2.0.1+cu117\n",
      "torchvision==0.15.1\n",
      "tornado==6.2\n",
      "tqdm==4.64.1\n",
      "traitlets==5.9.0\n",
      "typer==0.7.0\n",
      "typing==3.7.4.3\n",
      "typing_extensions==4.5.0\n",
      "uri-template==1.2.0\n",
      "urllib3==1.26.14\n",
      "wasabi==1.1.1\n",
      "wcwidth==0.2.6\n",
      "webcolors==1.12\n",
      "webencodings==0.5.1\n",
      "websocket-client==1.5.1\n",
      "xxhash==3.2.0\n",
      "y-py==0.5.9\n",
      "yarl==1.8.2\n",
      "ypy-websocket==0.8.2\n"
     ]
    }
   ],
   "source": [
    "pip freeze"
   ]
  },
  {
   "cell_type": "code",
   "execution_count": 9,
   "id": "6015c384-27a9-4509-b2d4-fbd99897b40d",
   "metadata": {
    "tags": []
   },
   "outputs": [
    {
     "ename": "ImportError",
     "evalue": "cannot import name 'Iterable' from 'collections' (C:\\Users\\thakr\\AppData\\Local\\Programs\\Python\\Python311\\Lib\\collections\\__init__.py)",
     "output_type": "error",
     "traceback": [
      "\u001b[1;31m---------------------------------------------------------------------------\u001b[0m",
      "\u001b[1;31mImportError\u001b[0m                               Traceback (most recent call last)",
      "Cell \u001b[1;32mIn[9], line 1\u001b[0m\n\u001b[1;32m----> 1\u001b[0m \u001b[38;5;28;01mfrom\u001b[39;00m \u001b[38;5;21;01minltk\u001b[39;00m\u001b[38;5;21;01m.\u001b[39;00m\u001b[38;5;21;01minltk\u001b[39;00m \u001b[38;5;28;01mimport\u001b[39;00m setup\n\u001b[0;32m      3\u001b[0m setup(\u001b[38;5;124m'\u001b[39m\u001b[38;5;124mhi\u001b[39m\u001b[38;5;124m'\u001b[39m)\n",
      "File \u001b[1;32m~\\AppData\\Local\\Programs\\Python\\Python311\\Lib\\site-packages\\inltk\\inltk.py:8\u001b[0m\n\u001b[0;32m      5\u001b[0m \u001b[38;5;28;01mfrom\u001b[39;00m \u001b[38;5;21;01mmath\u001b[39;00m \u001b[38;5;28;01mimport\u001b[39;00m ceil\n\u001b[0;32m      6\u001b[0m \u001b[38;5;28;01mfrom\u001b[39;00m \u001b[38;5;21;01msklearn\u001b[39;00m\u001b[38;5;21;01m.\u001b[39;00m\u001b[38;5;21;01mmetrics\u001b[39;00m\u001b[38;5;21;01m.\u001b[39;00m\u001b[38;5;21;01mpairwise\u001b[39;00m \u001b[38;5;28;01mimport\u001b[39;00m cosine_similarity\n\u001b[1;32m----> 8\u001b[0m \u001b[38;5;28;01mfrom\u001b[39;00m \u001b[38;5;21;01mfastai\u001b[39;00m\u001b[38;5;21;01m.\u001b[39;00m\u001b[38;5;21;01mtext\u001b[39;00m \u001b[38;5;28;01mimport\u001b[39;00m \u001b[38;5;241m*\u001b[39m\n\u001b[0;32m      9\u001b[0m \u001b[38;5;28;01mfrom\u001b[39;00m \u001b[38;5;21;01minltk\u001b[39;00m\u001b[38;5;21;01m.\u001b[39;00m\u001b[38;5;21;01mconfig\u001b[39;00m \u001b[38;5;28;01mimport\u001b[39;00m LanguageCodes\n\u001b[0;32m     10\u001b[0m \u001b[38;5;28;01mfrom\u001b[39;00m \u001b[38;5;21;01minltk\u001b[39;00m\u001b[38;5;21;01m.\u001b[39;00m\u001b[38;5;21;01mdownload_assets\u001b[39;00m \u001b[38;5;28;01mimport\u001b[39;00m setup_language, verify_language, check_all_languages_identifying_model\n",
      "File \u001b[1;32m~\\AppData\\Local\\Programs\\Python\\Python311\\Lib\\site-packages\\fastai\\text\\__init__.py:1\u001b[0m\n\u001b[1;32m----> 1\u001b[0m \u001b[38;5;28;01mfrom\u001b[39;00m \u001b[38;5;21;01m.\u001b[39;00m\u001b[38;5;21;01m.\u001b[39;00m \u001b[38;5;28;01mimport\u001b[39;00m basics\n\u001b[0;32m      2\u001b[0m \u001b[38;5;28;01mfrom\u001b[39;00m \u001b[38;5;21;01m.\u001b[39;00m\u001b[38;5;21;01m.\u001b[39;00m\u001b[38;5;21;01mbasics\u001b[39;00m \u001b[38;5;28;01mimport\u001b[39;00m \u001b[38;5;241m*\u001b[39m\n\u001b[0;32m      3\u001b[0m \u001b[38;5;28;01mfrom\u001b[39;00m \u001b[38;5;21;01m.\u001b[39;00m\u001b[38;5;21;01mlearner\u001b[39;00m \u001b[38;5;28;01mimport\u001b[39;00m \u001b[38;5;241m*\u001b[39m\n",
      "File \u001b[1;32m~\\AppData\\Local\\Programs\\Python\\Python311\\Lib\\site-packages\\fastai\\basics.py:1\u001b[0m\n\u001b[1;32m----> 1\u001b[0m \u001b[38;5;28;01mfrom\u001b[39;00m \u001b[38;5;21;01m.\u001b[39;00m\u001b[38;5;21;01mbasic_train\u001b[39;00m \u001b[38;5;28;01mimport\u001b[39;00m \u001b[38;5;241m*\u001b[39m\n\u001b[0;32m      2\u001b[0m \u001b[38;5;28;01mfrom\u001b[39;00m \u001b[38;5;21;01m.\u001b[39;00m\u001b[38;5;21;01mcallback\u001b[39;00m \u001b[38;5;28;01mimport\u001b[39;00m \u001b[38;5;241m*\u001b[39m\n\u001b[0;32m      3\u001b[0m \u001b[38;5;28;01mfrom\u001b[39;00m \u001b[38;5;21;01m.\u001b[39;00m\u001b[38;5;21;01mcore\u001b[39;00m \u001b[38;5;28;01mimport\u001b[39;00m \u001b[38;5;241m*\u001b[39m\n",
      "File \u001b[1;32m~\\AppData\\Local\\Programs\\Python\\Python311\\Lib\\site-packages\\fastai\\basic_train.py:2\u001b[0m\n\u001b[0;32m      1\u001b[0m \u001b[38;5;124m\"\u001b[39m\u001b[38;5;124mProvides basic training and validation with `Learner`\u001b[39m\u001b[38;5;124m\"\u001b[39m\n\u001b[1;32m----> 2\u001b[0m \u001b[38;5;28;01mfrom\u001b[39;00m \u001b[38;5;21;01m.\u001b[39;00m\u001b[38;5;21;01mtorch_core\u001b[39;00m \u001b[38;5;28;01mimport\u001b[39;00m \u001b[38;5;241m*\u001b[39m\n\u001b[0;32m      3\u001b[0m \u001b[38;5;28;01mfrom\u001b[39;00m \u001b[38;5;21;01m.\u001b[39;00m\u001b[38;5;21;01mbasic_data\u001b[39;00m \u001b[38;5;28;01mimport\u001b[39;00m \u001b[38;5;241m*\u001b[39m\n\u001b[0;32m      4\u001b[0m \u001b[38;5;28;01mfrom\u001b[39;00m \u001b[38;5;21;01m.\u001b[39;00m\u001b[38;5;21;01mcallback\u001b[39;00m \u001b[38;5;28;01mimport\u001b[39;00m \u001b[38;5;241m*\u001b[39m\n",
      "File \u001b[1;32m~\\AppData\\Local\\Programs\\Python\\Python311\\Lib\\site-packages\\fastai\\torch_core.py:2\u001b[0m\n\u001b[0;32m      1\u001b[0m \u001b[38;5;124m\"\u001b[39m\u001b[38;5;124mUtility functions to help deal with tensors\u001b[39m\u001b[38;5;124m\"\u001b[39m\n\u001b[1;32m----> 2\u001b[0m \u001b[38;5;28;01mfrom\u001b[39;00m \u001b[38;5;21;01m.\u001b[39;00m\u001b[38;5;21;01mimports\u001b[39;00m\u001b[38;5;21;01m.\u001b[39;00m\u001b[38;5;21;01mtorch\u001b[39;00m \u001b[38;5;28;01mimport\u001b[39;00m \u001b[38;5;241m*\u001b[39m\n\u001b[0;32m      3\u001b[0m \u001b[38;5;28;01mfrom\u001b[39;00m \u001b[38;5;21;01m.\u001b[39;00m\u001b[38;5;21;01mcore\u001b[39;00m \u001b[38;5;28;01mimport\u001b[39;00m \u001b[38;5;241m*\u001b[39m\n\u001b[0;32m      4\u001b[0m \u001b[38;5;28;01mfrom\u001b[39;00m \u001b[38;5;21;01mcollections\u001b[39;00m \u001b[38;5;28;01mimport\u001b[39;00m OrderedDict\n",
      "File \u001b[1;32m~\\AppData\\Local\\Programs\\Python\\Python311\\Lib\\site-packages\\fastai\\imports\\__init__.py:1\u001b[0m\n\u001b[1;32m----> 1\u001b[0m \u001b[38;5;28;01mfrom\u001b[39;00m \u001b[38;5;21;01m.\u001b[39;00m\u001b[38;5;21;01mcore\u001b[39;00m \u001b[38;5;28;01mimport\u001b[39;00m \u001b[38;5;241m*\u001b[39m\n\u001b[0;32m      2\u001b[0m \u001b[38;5;28;01mfrom\u001b[39;00m \u001b[38;5;21;01m.\u001b[39;00m\u001b[38;5;21;01mtorch\u001b[39;00m \u001b[38;5;28;01mimport\u001b[39;00m \u001b[38;5;241m*\u001b[39m\n",
      "File \u001b[1;32m~\\AppData\\Local\\Programs\\Python\\Python311\\Lib\\site-packages\\fastai\\imports\\core.py:9\u001b[0m\n\u001b[0;32m      6\u001b[0m \u001b[38;5;28;01mimport\u001b[39;00m \u001b[38;5;21;01mhtml\u001b[39;00m\u001b[38;5;241m,\u001b[39m \u001b[38;5;21;01mre\u001b[39;00m\u001b[38;5;241m,\u001b[39m \u001b[38;5;21;01mrequests\u001b[39;00m\u001b[38;5;241m,\u001b[39m \u001b[38;5;21;01mtarfile\u001b[39;00m\u001b[38;5;241m,\u001b[39m \u001b[38;5;21;01mnumbers\u001b[39;00m\u001b[38;5;241m,\u001b[39m \u001b[38;5;21;01mtempfile\u001b[39;00m\u001b[38;5;241m,\u001b[39m \u001b[38;5;21;01mbz2\u001b[39;00m\n\u001b[0;32m      8\u001b[0m \u001b[38;5;28;01mfrom\u001b[39;00m \u001b[38;5;21;01mabc\u001b[39;00m \u001b[38;5;28;01mimport\u001b[39;00m abstractmethod, abstractproperty\n\u001b[1;32m----> 9\u001b[0m \u001b[38;5;28;01mfrom\u001b[39;00m \u001b[38;5;21;01mcollections\u001b[39;00m \u001b[38;5;28;01mimport\u001b[39;00m abc,  Counter, defaultdict, Iterable, namedtuple, OrderedDict\n\u001b[0;32m     10\u001b[0m \u001b[38;5;28;01mimport\u001b[39;00m \u001b[38;5;21;01mconcurrent\u001b[39;00m\n\u001b[0;32m     11\u001b[0m \u001b[38;5;28;01mfrom\u001b[39;00m \u001b[38;5;21;01mconcurrent\u001b[39;00m\u001b[38;5;21;01m.\u001b[39;00m\u001b[38;5;21;01mfutures\u001b[39;00m \u001b[38;5;28;01mimport\u001b[39;00m ProcessPoolExecutor, ThreadPoolExecutor\n",
      "\u001b[1;31mImportError\u001b[0m: cannot import name 'Iterable' from 'collections' (C:\\Users\\thakr\\AppData\\Local\\Programs\\Python\\Python311\\Lib\\collections\\__init__.py)"
     ]
    }
   ],
   "source": [
    "from inltk.inltk import setup\n",
    "\n",
    "setup('hi')"
   ]
  },
  {
   "cell_type": "code",
   "execution_count": 10,
   "id": "0f648c5f-dedc-49b3-8a4c-2e83323f244f",
   "metadata": {
    "tags": []
   },
   "outputs": [
    {
     "name": "stdout",
     "output_type": "stream",
     "text": [
      "Requirement already satisfied: pyrsistent in c:\\users\\thakr\\appdata\\local\\programs\\python\\python311\\lib\\site-packages (0.19.3)\n",
      "Note: you may need to restart the kernel to use updated packages.\n"
     ]
    }
   ],
   "source": [
    "pip install pyrsistent"
   ]
  },
  {
   "cell_type": "code",
   "execution_count": 17,
   "id": "3589de8d-2aa7-47cf-8a86-0e9eb2df88f9",
   "metadata": {
    "tags": []
   },
   "outputs": [
    {
     "ename": "ImportError",
     "evalue": "cannot import name 'Iterable' from 'collections' (C:\\Users\\thakr\\AppData\\Local\\Programs\\Python\\Python311\\Lib\\collections\\__init__.py)",
     "output_type": "error",
     "traceback": [
      "\u001b[1;31m---------------------------------------------------------------------------\u001b[0m",
      "\u001b[1;31mImportError\u001b[0m                               Traceback (most recent call last)",
      "Cell \u001b[1;32mIn[17], line 1\u001b[0m\n\u001b[1;32m----> 1\u001b[0m \u001b[38;5;28;01mfrom\u001b[39;00m \u001b[38;5;21;01minltk\u001b[39;00m\u001b[38;5;21;01m.\u001b[39;00m\u001b[38;5;21;01minltk\u001b[39;00m \u001b[38;5;28;01mimport\u001b[39;00m setup\n\u001b[0;32m      3\u001b[0m setup(\u001b[38;5;124m'\u001b[39m\u001b[38;5;124mhi\u001b[39m\u001b[38;5;124m'\u001b[39m)\n",
      "File \u001b[1;32m~\\AppData\\Local\\Programs\\Python\\Python311\\Lib\\site-packages\\inltk\\inltk.py:8\u001b[0m\n\u001b[0;32m      5\u001b[0m \u001b[38;5;28;01mfrom\u001b[39;00m \u001b[38;5;21;01mmath\u001b[39;00m \u001b[38;5;28;01mimport\u001b[39;00m ceil\n\u001b[0;32m      6\u001b[0m \u001b[38;5;28;01mfrom\u001b[39;00m \u001b[38;5;21;01msklearn\u001b[39;00m\u001b[38;5;21;01m.\u001b[39;00m\u001b[38;5;21;01mmetrics\u001b[39;00m\u001b[38;5;21;01m.\u001b[39;00m\u001b[38;5;21;01mpairwise\u001b[39;00m \u001b[38;5;28;01mimport\u001b[39;00m cosine_similarity\n\u001b[1;32m----> 8\u001b[0m \u001b[38;5;28;01mfrom\u001b[39;00m \u001b[38;5;21;01mfastai\u001b[39;00m\u001b[38;5;21;01m.\u001b[39;00m\u001b[38;5;21;01mtext\u001b[39;00m \u001b[38;5;28;01mimport\u001b[39;00m \u001b[38;5;241m*\u001b[39m\n\u001b[0;32m      9\u001b[0m \u001b[38;5;28;01mfrom\u001b[39;00m \u001b[38;5;21;01minltk\u001b[39;00m\u001b[38;5;21;01m.\u001b[39;00m\u001b[38;5;21;01mconfig\u001b[39;00m \u001b[38;5;28;01mimport\u001b[39;00m LanguageCodes\n\u001b[0;32m     10\u001b[0m \u001b[38;5;28;01mfrom\u001b[39;00m \u001b[38;5;21;01minltk\u001b[39;00m\u001b[38;5;21;01m.\u001b[39;00m\u001b[38;5;21;01mdownload_assets\u001b[39;00m \u001b[38;5;28;01mimport\u001b[39;00m setup_language, verify_language, check_all_languages_identifying_model\n",
      "File \u001b[1;32m~\\AppData\\Local\\Programs\\Python\\Python311\\Lib\\site-packages\\fastai\\text\\__init__.py:1\u001b[0m\n\u001b[1;32m----> 1\u001b[0m \u001b[38;5;28;01mfrom\u001b[39;00m \u001b[38;5;21;01m.\u001b[39;00m\u001b[38;5;21;01m.\u001b[39;00m \u001b[38;5;28;01mimport\u001b[39;00m basics\n\u001b[0;32m      2\u001b[0m \u001b[38;5;28;01mfrom\u001b[39;00m \u001b[38;5;21;01m.\u001b[39;00m\u001b[38;5;21;01m.\u001b[39;00m\u001b[38;5;21;01mbasics\u001b[39;00m \u001b[38;5;28;01mimport\u001b[39;00m \u001b[38;5;241m*\u001b[39m\n\u001b[0;32m      3\u001b[0m \u001b[38;5;28;01mfrom\u001b[39;00m \u001b[38;5;21;01m.\u001b[39;00m\u001b[38;5;21;01mlearner\u001b[39;00m \u001b[38;5;28;01mimport\u001b[39;00m \u001b[38;5;241m*\u001b[39m\n",
      "File \u001b[1;32m~\\AppData\\Local\\Programs\\Python\\Python311\\Lib\\site-packages\\fastai\\basics.py:1\u001b[0m\n\u001b[1;32m----> 1\u001b[0m \u001b[38;5;28;01mfrom\u001b[39;00m \u001b[38;5;21;01m.\u001b[39;00m\u001b[38;5;21;01mbasic_train\u001b[39;00m \u001b[38;5;28;01mimport\u001b[39;00m \u001b[38;5;241m*\u001b[39m\n\u001b[0;32m      2\u001b[0m \u001b[38;5;28;01mfrom\u001b[39;00m \u001b[38;5;21;01m.\u001b[39;00m\u001b[38;5;21;01mcallback\u001b[39;00m \u001b[38;5;28;01mimport\u001b[39;00m \u001b[38;5;241m*\u001b[39m\n\u001b[0;32m      3\u001b[0m \u001b[38;5;28;01mfrom\u001b[39;00m \u001b[38;5;21;01m.\u001b[39;00m\u001b[38;5;21;01mcore\u001b[39;00m \u001b[38;5;28;01mimport\u001b[39;00m \u001b[38;5;241m*\u001b[39m\n",
      "File \u001b[1;32m~\\AppData\\Local\\Programs\\Python\\Python311\\Lib\\site-packages\\fastai\\basic_train.py:2\u001b[0m\n\u001b[0;32m      1\u001b[0m \u001b[38;5;124m\"\u001b[39m\u001b[38;5;124mProvides basic training and validation with `Learner`\u001b[39m\u001b[38;5;124m\"\u001b[39m\n\u001b[1;32m----> 2\u001b[0m \u001b[38;5;28;01mfrom\u001b[39;00m \u001b[38;5;21;01m.\u001b[39;00m\u001b[38;5;21;01mtorch_core\u001b[39;00m \u001b[38;5;28;01mimport\u001b[39;00m \u001b[38;5;241m*\u001b[39m\n\u001b[0;32m      3\u001b[0m \u001b[38;5;28;01mfrom\u001b[39;00m \u001b[38;5;21;01m.\u001b[39;00m\u001b[38;5;21;01mbasic_data\u001b[39;00m \u001b[38;5;28;01mimport\u001b[39;00m \u001b[38;5;241m*\u001b[39m\n\u001b[0;32m      4\u001b[0m \u001b[38;5;28;01mfrom\u001b[39;00m \u001b[38;5;21;01m.\u001b[39;00m\u001b[38;5;21;01mcallback\u001b[39;00m \u001b[38;5;28;01mimport\u001b[39;00m \u001b[38;5;241m*\u001b[39m\n",
      "File \u001b[1;32m~\\AppData\\Local\\Programs\\Python\\Python311\\Lib\\site-packages\\fastai\\torch_core.py:2\u001b[0m\n\u001b[0;32m      1\u001b[0m \u001b[38;5;124m\"\u001b[39m\u001b[38;5;124mUtility functions to help deal with tensors\u001b[39m\u001b[38;5;124m\"\u001b[39m\n\u001b[1;32m----> 2\u001b[0m \u001b[38;5;28;01mfrom\u001b[39;00m \u001b[38;5;21;01m.\u001b[39;00m\u001b[38;5;21;01mimports\u001b[39;00m\u001b[38;5;21;01m.\u001b[39;00m\u001b[38;5;21;01mtorch\u001b[39;00m \u001b[38;5;28;01mimport\u001b[39;00m \u001b[38;5;241m*\u001b[39m\n\u001b[0;32m      3\u001b[0m \u001b[38;5;28;01mfrom\u001b[39;00m \u001b[38;5;21;01m.\u001b[39;00m\u001b[38;5;21;01mcore\u001b[39;00m \u001b[38;5;28;01mimport\u001b[39;00m \u001b[38;5;241m*\u001b[39m\n\u001b[0;32m      4\u001b[0m \u001b[38;5;28;01mfrom\u001b[39;00m \u001b[38;5;21;01mcollections\u001b[39;00m \u001b[38;5;28;01mimport\u001b[39;00m OrderedDict\n",
      "File \u001b[1;32m~\\AppData\\Local\\Programs\\Python\\Python311\\Lib\\site-packages\\fastai\\imports\\__init__.py:1\u001b[0m\n\u001b[1;32m----> 1\u001b[0m \u001b[38;5;28;01mfrom\u001b[39;00m \u001b[38;5;21;01m.\u001b[39;00m\u001b[38;5;21;01mcore\u001b[39;00m \u001b[38;5;28;01mimport\u001b[39;00m \u001b[38;5;241m*\u001b[39m\n\u001b[0;32m      2\u001b[0m \u001b[38;5;28;01mfrom\u001b[39;00m \u001b[38;5;21;01m.\u001b[39;00m\u001b[38;5;21;01mtorch\u001b[39;00m \u001b[38;5;28;01mimport\u001b[39;00m \u001b[38;5;241m*\u001b[39m\n",
      "File \u001b[1;32m~\\AppData\\Local\\Programs\\Python\\Python311\\Lib\\site-packages\\fastai\\imports\\core.py:9\u001b[0m\n\u001b[0;32m      6\u001b[0m \u001b[38;5;28;01mimport\u001b[39;00m \u001b[38;5;21;01mhtml\u001b[39;00m\u001b[38;5;241m,\u001b[39m \u001b[38;5;21;01mre\u001b[39;00m\u001b[38;5;241m,\u001b[39m \u001b[38;5;21;01mrequests\u001b[39;00m\u001b[38;5;241m,\u001b[39m \u001b[38;5;21;01mtarfile\u001b[39;00m\u001b[38;5;241m,\u001b[39m \u001b[38;5;21;01mnumbers\u001b[39;00m\u001b[38;5;241m,\u001b[39m \u001b[38;5;21;01mtempfile\u001b[39;00m\u001b[38;5;241m,\u001b[39m \u001b[38;5;21;01mbz2\u001b[39;00m\n\u001b[0;32m      8\u001b[0m \u001b[38;5;28;01mfrom\u001b[39;00m \u001b[38;5;21;01mabc\u001b[39;00m \u001b[38;5;28;01mimport\u001b[39;00m abstractmethod, abstractproperty\n\u001b[1;32m----> 9\u001b[0m \u001b[38;5;28;01mfrom\u001b[39;00m \u001b[38;5;21;01mcollections\u001b[39;00m \u001b[38;5;28;01mimport\u001b[39;00m abc,  Counter, defaultdict, Iterable, namedtuple, OrderedDict\n\u001b[0;32m     10\u001b[0m \u001b[38;5;28;01mimport\u001b[39;00m \u001b[38;5;21;01mconcurrent\u001b[39;00m\n\u001b[0;32m     11\u001b[0m \u001b[38;5;28;01mfrom\u001b[39;00m \u001b[38;5;21;01mconcurrent\u001b[39;00m\u001b[38;5;21;01m.\u001b[39;00m\u001b[38;5;21;01mfutures\u001b[39;00m \u001b[38;5;28;01mimport\u001b[39;00m ProcessPoolExecutor, ThreadPoolExecutor\n",
      "\u001b[1;31mImportError\u001b[0m: cannot import name 'Iterable' from 'collections' (C:\\Users\\thakr\\AppData\\Local\\Programs\\Python\\Python311\\Lib\\collections\\__init__.py)"
     ]
    }
   ],
   "source": [
    "from inltk.inltk import setup\n",
    "\n",
    "setup('hi')"
   ]
  },
  {
   "cell_type": "code",
   "execution_count": 18,
   "id": "7df3d835-386f-43ee-b413-2bba926b3d54",
   "metadata": {
    "tags": []
   },
   "outputs": [
    {
     "name": "stdout",
     "output_type": "stream",
     "text": [
      "Note: you may need to restart the kernel to use updated packages.\n"
     ]
    },
    {
     "name": "stderr",
     "output_type": "stream",
     "text": [
      "ERROR: pip's dependency resolver does not currently take into account all the packages that are installed. This behaviour is the source of the following dependency conflicts.\n",
      "inltk 0.9 requires fastai==1.0.57, but you have fastai 1.0.61 which is incompatible.\n"
     ]
    },
    {
     "name": "stdout",
     "output_type": "stream",
     "text": [
      "Collecting fastai==1.0.61\n",
      "  Downloading fastai-1.0.61-py3-none-any.whl (239 kB)\n",
      "                                              0.0/239.2 kB ? eta -:--:--\n",
      "     -----                                    30.7/239.2 kB ? eta -:--:--\n",
      "     -----                                    30.7/239.2 kB ? eta -:--:--\n",
      "     --------------                        92.2/239.2 kB 880.9 kB/s eta 0:00:01\n",
      "     --------------                        92.2/239.2 kB 880.9 kB/s eta 0:00:01\n",
      "     ------------------------------       204.8/239.2 kB 892.5 kB/s eta 0:00:01\n",
      "     ------------------------------       204.8/239.2 kB 892.5 kB/s eta 0:00:01\n",
      "     ------------------------------       204.8/239.2 kB 892.5 kB/s eta 0:00:01\n",
      "     ------------------------------       204.8/239.2 kB 892.5 kB/s eta 0:00:01\n",
      "     -----------------------------------  235.5/239.2 kB 577.6 kB/s eta 0:00:01\n",
      "     ------------------------------------ 239.2/239.2 kB 542.6 kB/s eta 0:00:00\n",
      "Requirement already satisfied: bottleneck in c:\\users\\thakr\\appdata\\local\\programs\\python\\python311\\lib\\site-packages (from fastai==1.0.61) (1.3.7)\n",
      "Requirement already satisfied: fastprogress>=0.2.1 in c:\\users\\thakr\\appdata\\local\\programs\\python\\python311\\lib\\site-packages (from fastai==1.0.61) (1.0.3)\n",
      "Requirement already satisfied: beautifulsoup4 in c:\\users\\thakr\\appdata\\local\\programs\\python\\python311\\lib\\site-packages (from fastai==1.0.61) (4.11.2)\n",
      "Requirement already satisfied: matplotlib in c:\\users\\thakr\\appdata\\local\\programs\\python\\python311\\lib\\site-packages (from fastai==1.0.61) (3.7.0)\n",
      "Requirement already satisfied: numexpr in c:\\users\\thakr\\appdata\\local\\programs\\python\\python311\\lib\\site-packages (from fastai==1.0.61) (2.8.4)\n",
      "Requirement already satisfied: numpy>=1.15 in c:\\users\\thakr\\appdata\\local\\programs\\python\\python311\\lib\\site-packages (from fastai==1.0.61) (1.24.2)\n",
      "Requirement already satisfied: nvidia-ml-py3 in c:\\users\\thakr\\appdata\\local\\programs\\python\\python311\\lib\\site-packages (from fastai==1.0.61) (7.352.0)\n",
      "Requirement already satisfied: pandas in c:\\users\\thakr\\appdata\\local\\programs\\python\\python311\\lib\\site-packages (from fastai==1.0.61) (1.5.3)\n",
      "Requirement already satisfied: packaging in c:\\users\\thakr\\appdata\\local\\programs\\python\\python311\\lib\\site-packages (from fastai==1.0.61) (23.0)\n",
      "Requirement already satisfied: Pillow in c:\\users\\thakr\\appdata\\local\\programs\\python\\python311\\lib\\site-packages (from fastai==1.0.61) (9.4.0)\n",
      "Requirement already satisfied: pyyaml in c:\\users\\thakr\\appdata\\local\\programs\\python\\python311\\lib\\site-packages (from fastai==1.0.61) (6.0)\n",
      "Requirement already satisfied: requests in c:\\users\\thakr\\appdata\\local\\programs\\python\\python311\\lib\\site-packages (from fastai==1.0.61) (2.28.2)\n",
      "Requirement already satisfied: scipy in c:\\users\\thakr\\appdata\\local\\programs\\python\\python311\\lib\\site-packages (from fastai==1.0.61) (1.10.1)\n",
      "Requirement already satisfied: torch>=1.0.0 in c:\\users\\thakr\\appdata\\local\\programs\\python\\python311\\lib\\site-packages (from fastai==1.0.61) (2.0.0)\n",
      "Requirement already satisfied: torchvision in c:\\users\\thakr\\appdata\\local\\programs\\python\\python311\\lib\\site-packages (from fastai==1.0.61) (0.15.1)\n",
      "Requirement already satisfied: filelock in c:\\users\\thakr\\appdata\\local\\programs\\python\\python311\\lib\\site-packages (from torch>=1.0.0->fastai==1.0.61) (3.9.0)\n",
      "Requirement already satisfied: typing-extensions in c:\\users\\thakr\\appdata\\local\\programs\\python\\python311\\lib\\site-packages (from torch>=1.0.0->fastai==1.0.61) (4.5.0)\n",
      "Requirement already satisfied: sympy in c:\\users\\thakr\\appdata\\local\\programs\\python\\python311\\lib\\site-packages (from torch>=1.0.0->fastai==1.0.61) (1.11.1)\n",
      "Requirement already satisfied: networkx in c:\\users\\thakr\\appdata\\local\\programs\\python\\python311\\lib\\site-packages (from torch>=1.0.0->fastai==1.0.61) (3.1)\n",
      "Requirement already satisfied: jinja2 in c:\\users\\thakr\\appdata\\local\\programs\\python\\python311\\lib\\site-packages (from torch>=1.0.0->fastai==1.0.61) (3.1.2)\n",
      "Requirement already satisfied: soupsieve>1.2 in c:\\users\\thakr\\appdata\\local\\programs\\python\\python311\\lib\\site-packages (from beautifulsoup4->fastai==1.0.61) (2.4)\n",
      "Requirement already satisfied: contourpy>=1.0.1 in c:\\users\\thakr\\appdata\\local\\programs\\python\\python311\\lib\\site-packages (from matplotlib->fastai==1.0.61) (1.0.7)\n",
      "Requirement already satisfied: cycler>=0.10 in c:\\users\\thakr\\appdata\\local\\programs\\python\\python311\\lib\\site-packages (from matplotlib->fastai==1.0.61) (0.11.0)\n",
      "Requirement already satisfied: fonttools>=4.22.0 in c:\\users\\thakr\\appdata\\local\\programs\\python\\python311\\lib\\site-packages (from matplotlib->fastai==1.0.61) (4.38.0)\n",
      "Requirement already satisfied: kiwisolver>=1.0.1 in c:\\users\\thakr\\appdata\\local\\programs\\python\\python311\\lib\\site-packages (from matplotlib->fastai==1.0.61) (1.4.4)\n",
      "Requirement already satisfied: pyparsing>=2.3.1 in c:\\users\\thakr\\appdata\\local\\programs\\python\\python311\\lib\\site-packages (from matplotlib->fastai==1.0.61) (3.0.9)\n",
      "Requirement already satisfied: python-dateutil>=2.7 in c:\\users\\thakr\\appdata\\local\\programs\\python\\python311\\lib\\site-packages (from matplotlib->fastai==1.0.61) (2.8.2)\n",
      "Requirement already satisfied: pytz>=2020.1 in c:\\users\\thakr\\appdata\\local\\programs\\python\\python311\\lib\\site-packages (from pandas->fastai==1.0.61) (2022.7.1)\n",
      "Requirement already satisfied: charset-normalizer<4,>=2 in c:\\users\\thakr\\appdata\\local\\programs\\python\\python311\\lib\\site-packages (from requests->fastai==1.0.61) (3.0.1)\n",
      "Requirement already satisfied: idna<4,>=2.5 in c:\\users\\thakr\\appdata\\local\\programs\\python\\python311\\lib\\site-packages (from requests->fastai==1.0.61) (3.4)\n",
      "Requirement already satisfied: urllib3<1.27,>=1.21.1 in c:\\users\\thakr\\appdata\\local\\programs\\python\\python311\\lib\\site-packages (from requests->fastai==1.0.61) (1.26.14)\n",
      "Requirement already satisfied: certifi>=2017.4.17 in c:\\users\\thakr\\appdata\\local\\programs\\python\\python311\\lib\\site-packages (from requests->fastai==1.0.61) (2022.12.7)\n",
      "Requirement already satisfied: six>=1.5 in c:\\users\\thakr\\appdata\\local\\programs\\python\\python311\\lib\\site-packages (from python-dateutil>=2.7->matplotlib->fastai==1.0.61) (1.16.0)\n",
      "Requirement already satisfied: MarkupSafe>=2.0 in c:\\users\\thakr\\appdata\\local\\programs\\python\\python311\\lib\\site-packages (from jinja2->torch>=1.0.0->fastai==1.0.61) (2.1.2)\n",
      "Requirement already satisfied: mpmath>=0.19 in c:\\users\\thakr\\appdata\\local\\programs\\python\\python311\\lib\\site-packages (from sympy->torch>=1.0.0->fastai==1.0.61) (1.3.0)\n",
      "Installing collected packages: fastai\n",
      "  Attempting uninstall: fastai\n",
      "    Found existing installation: fastai 1.0.57\n",
      "    Uninstalling fastai-1.0.57:\n",
      "      Successfully uninstalled fastai-1.0.57\n",
      "Successfully installed fastai-1.0.61\n"
     ]
    }
   ],
   "source": [
    "pip install fastai==1.0.61"
   ]
  },
  {
   "cell_type": "code",
   "execution_count": 22,
   "id": "9b0ae41f-0984-499d-978e-7f95b3e9ac51",
   "metadata": {
    "tags": []
   },
   "outputs": [],
   "source": [
    "from inltk.inltk import setup\n",
    "\n",
    "# setup('hi')"
   ]
  },
  {
   "cell_type": "code",
   "execution_count": 25,
   "id": "3dc3fea2-df2e-4fd1-b972-7e5aa66ed63f",
   "metadata": {
    "tags": []
   },
   "outputs": [
    {
     "data": {
      "text/plain": [
       "['▁इस',\n",
       " '▁पृष्ठ',\n",
       " '▁पर',\n",
       " '▁इन्टरनेट',\n",
       " '▁पर',\n",
       " '▁उपलब्ध',\n",
       " '▁विभिन्न',\n",
       " '▁हिन्दी',\n",
       " '▁एवं',\n",
       " '▁देवनागरी']"
      ]
     },
     "execution_count": 25,
     "metadata": {},
     "output_type": "execute_result"
    }
   ],
   "source": [
    "from inltk.inltk import tokenize\n",
    "text = \"इस पृष्ठ पर इन्टरनेट पर उपलब्ध विभिन्न हिन्दी एवं देवनागरी\"\n",
    "\n",
    "tokenize( text,'hi')"
   ]
  },
  {
   "cell_type": "code",
   "execution_count": 27,
   "id": "f1d7610b-f12a-4216-a685-c140cf28d383",
   "metadata": {
    "tags": []
   },
   "outputs": [
    {
     "ename": "AttributeError",
     "evalue": "'LSTM' object has no attribute '_flat_weights'",
     "output_type": "error",
     "traceback": [
      "\u001b[1;31m---------------------------------------------------------------------------\u001b[0m",
      "\u001b[1;31mAttributeError\u001b[0m                            Traceback (most recent call last)",
      "Cell \u001b[1;32mIn[27], line 3\u001b[0m\n\u001b[0;32m      1\u001b[0m \u001b[38;5;28;01mfrom\u001b[39;00m \u001b[38;5;21;01minltk\u001b[39;00m\u001b[38;5;21;01m.\u001b[39;00m\u001b[38;5;21;01minltk\u001b[39;00m \u001b[38;5;28;01mimport\u001b[39;00m get_embedding_vectors\n\u001b[1;32m----> 3\u001b[0m vectors \u001b[38;5;241m=\u001b[39m \u001b[43mget_embedding_vectors\u001b[49m\u001b[43m(\u001b[49m\u001b[43mtext\u001b[49m\u001b[43m,\u001b[49m\u001b[43m \u001b[49m\u001b[38;5;124;43m'\u001b[39;49m\u001b[38;5;124;43mhi\u001b[39;49m\u001b[38;5;124;43m'\u001b[39;49m\u001b[43m)\u001b[49m\n",
      "File \u001b[1;32m~\\AppData\\Local\\Programs\\Python\\Python311\\Lib\\site-packages\\inltk\\inltk.py:100\u001b[0m, in \u001b[0;36mget_embedding_vectors\u001b[1;34m(input, language_code)\u001b[0m\n\u001b[0;32m     98\u001b[0m defaults\u001b[38;5;241m.\u001b[39mdevice \u001b[38;5;241m=\u001b[39m torch\u001b[38;5;241m.\u001b[39mdevice(\u001b[38;5;124m'\u001b[39m\u001b[38;5;124mcpu\u001b[39m\u001b[38;5;124m'\u001b[39m)\n\u001b[0;32m     99\u001b[0m path \u001b[38;5;241m=\u001b[39m Path(\u001b[38;5;18m__file__\u001b[39m)\u001b[38;5;241m.\u001b[39mparent\n\u001b[1;32m--> 100\u001b[0m learn \u001b[38;5;241m=\u001b[39m \u001b[43mload_learner\u001b[49m\u001b[43m(\u001b[49m\u001b[43mpath\u001b[49m\u001b[43m \u001b[49m\u001b[38;5;241;43m/\u001b[39;49m\u001b[43m \u001b[49m\u001b[38;5;124;43m'\u001b[39;49m\u001b[38;5;124;43mmodels\u001b[39;49m\u001b[38;5;124;43m'\u001b[39;49m\u001b[43m \u001b[49m\u001b[38;5;241;43m/\u001b[39;49m\u001b[43m \u001b[49m\u001b[38;5;124;43mf\u001b[39;49m\u001b[38;5;124;43m'\u001b[39;49m\u001b[38;5;132;43;01m{\u001b[39;49;00m\u001b[43mlanguage_code\u001b[49m\u001b[38;5;132;43;01m}\u001b[39;49;00m\u001b[38;5;124;43m'\u001b[39;49m\u001b[43m)\u001b[49m\n\u001b[0;32m    101\u001b[0m encoder \u001b[38;5;241m=\u001b[39m get_model(learn\u001b[38;5;241m.\u001b[39mmodel)[\u001b[38;5;241m0\u001b[39m]\n\u001b[0;32m    102\u001b[0m encoder\u001b[38;5;241m.\u001b[39mreset()\n",
      "File \u001b[1;32m~\\AppData\\Local\\Programs\\Python\\Python311\\Lib\\site-packages\\fastai\\basic_train.py:621\u001b[0m, in \u001b[0;36mload_learner\u001b[1;34m(path, file, test, tfm_y, **db_kwargs)\u001b[0m\n\u001b[0;32m    619\u001b[0m \u001b[38;5;124m\"\u001b[39m\u001b[38;5;124mLoad a `Learner` object saved with `export_state` in `path/file` with empty data, optionally add `test` and load on `cpu`. `file` can be file-like (file or buffer)\u001b[39m\u001b[38;5;124m\"\u001b[39m\n\u001b[0;32m    620\u001b[0m source \u001b[38;5;241m=\u001b[39m Path(path)\u001b[38;5;241m/\u001b[39mfile \u001b[38;5;28;01mif\u001b[39;00m is_pathlike(file) \u001b[38;5;28;01melse\u001b[39;00m file\n\u001b[1;32m--> 621\u001b[0m state \u001b[38;5;241m=\u001b[39m \u001b[43mtorch\u001b[49m\u001b[38;5;241;43m.\u001b[39;49m\u001b[43mload\u001b[49m\u001b[43m(\u001b[49m\u001b[43msource\u001b[49m\u001b[43m,\u001b[49m\u001b[43m \u001b[49m\u001b[43mmap_location\u001b[49m\u001b[38;5;241;43m=\u001b[39;49m\u001b[38;5;124;43m'\u001b[39;49m\u001b[38;5;124;43mcpu\u001b[39;49m\u001b[38;5;124;43m'\u001b[39;49m\u001b[43m)\u001b[49m \u001b[38;5;28;01mif\u001b[39;00m defaults\u001b[38;5;241m.\u001b[39mdevice \u001b[38;5;241m==\u001b[39m torch\u001b[38;5;241m.\u001b[39mdevice(\u001b[38;5;124m'\u001b[39m\u001b[38;5;124mcpu\u001b[39m\u001b[38;5;124m'\u001b[39m) \u001b[38;5;28;01melse\u001b[39;00m torch\u001b[38;5;241m.\u001b[39mload(source)\n\u001b[0;32m    622\u001b[0m model \u001b[38;5;241m=\u001b[39m state\u001b[38;5;241m.\u001b[39mpop(\u001b[38;5;124m'\u001b[39m\u001b[38;5;124mmodel\u001b[39m\u001b[38;5;124m'\u001b[39m)\n\u001b[0;32m    623\u001b[0m src \u001b[38;5;241m=\u001b[39m LabelLists\u001b[38;5;241m.\u001b[39mload_state(path, state\u001b[38;5;241m.\u001b[39mpop(\u001b[38;5;124m'\u001b[39m\u001b[38;5;124mdata\u001b[39m\u001b[38;5;124m'\u001b[39m))\n",
      "File \u001b[1;32m~\\AppData\\Local\\Programs\\Python\\Python311\\Lib\\site-packages\\torch\\serialization.py:815\u001b[0m, in \u001b[0;36mload\u001b[1;34m(f, map_location, pickle_module, weights_only, **pickle_load_args)\u001b[0m\n\u001b[0;32m    813\u001b[0m     \u001b[38;5;28;01mexcept\u001b[39;00m \u001b[38;5;167;01mRuntimeError\u001b[39;00m \u001b[38;5;28;01mas\u001b[39;00m e:\n\u001b[0;32m    814\u001b[0m         \u001b[38;5;28;01mraise\u001b[39;00m pickle\u001b[38;5;241m.\u001b[39mUnpicklingError(UNSAFE_MESSAGE \u001b[38;5;241m+\u001b[39m \u001b[38;5;28mstr\u001b[39m(e)) \u001b[38;5;28;01mfrom\u001b[39;00m \u001b[38;5;28mNone\u001b[39m\n\u001b[1;32m--> 815\u001b[0m \u001b[38;5;28;01mreturn\u001b[39;00m \u001b[43m_legacy_load\u001b[49m\u001b[43m(\u001b[49m\u001b[43mopened_file\u001b[49m\u001b[43m,\u001b[49m\u001b[43m \u001b[49m\u001b[43mmap_location\u001b[49m\u001b[43m,\u001b[49m\u001b[43m \u001b[49m\u001b[43mpickle_module\u001b[49m\u001b[43m,\u001b[49m\u001b[43m \u001b[49m\u001b[38;5;241;43m*\u001b[39;49m\u001b[38;5;241;43m*\u001b[39;49m\u001b[43mpickle_load_args\u001b[49m\u001b[43m)\u001b[49m\n",
      "File \u001b[1;32m~\\AppData\\Local\\Programs\\Python\\Python311\\Lib\\site-packages\\torch\\serialization.py:1043\u001b[0m, in \u001b[0;36m_legacy_load\u001b[1;34m(f, map_location, pickle_module, **pickle_load_args)\u001b[0m\n\u001b[0;32m   1041\u001b[0m unpickler \u001b[38;5;241m=\u001b[39m UnpicklerWrapper(f, \u001b[38;5;241m*\u001b[39m\u001b[38;5;241m*\u001b[39mpickle_load_args)\n\u001b[0;32m   1042\u001b[0m unpickler\u001b[38;5;241m.\u001b[39mpersistent_load \u001b[38;5;241m=\u001b[39m persistent_load\n\u001b[1;32m-> 1043\u001b[0m result \u001b[38;5;241m=\u001b[39m \u001b[43munpickler\u001b[49m\u001b[38;5;241;43m.\u001b[39;49m\u001b[43mload\u001b[49m\u001b[43m(\u001b[49m\u001b[43m)\u001b[49m\n\u001b[0;32m   1045\u001b[0m deserialized_storage_keys \u001b[38;5;241m=\u001b[39m pickle_module\u001b[38;5;241m.\u001b[39mload(f, \u001b[38;5;241m*\u001b[39m\u001b[38;5;241m*\u001b[39mpickle_load_args)\n\u001b[0;32m   1047\u001b[0m offset \u001b[38;5;241m=\u001b[39m f\u001b[38;5;241m.\u001b[39mtell() \u001b[38;5;28;01mif\u001b[39;00m f_should_read_directly \u001b[38;5;28;01melse\u001b[39;00m \u001b[38;5;28;01mNone\u001b[39;00m\n",
      "File \u001b[1;32m~\\AppData\\Local\\Programs\\Python\\Python311\\Lib\\site-packages\\torch\\nn\\modules\\rnn.py:325\u001b[0m, in \u001b[0;36mRNNBase.__setstate__\u001b[1;34m(self, d)\u001b[0m\n\u001b[0;32m    320\u001b[0m                     \u001b[38;5;28mself\u001b[39m\u001b[38;5;241m.\u001b[39m_flat_weights_names\u001b[38;5;241m.\u001b[39mextend(weights[:\u001b[38;5;241m2\u001b[39m])\n\u001b[0;32m    321\u001b[0m     \u001b[38;5;28mself\u001b[39m\u001b[38;5;241m.\u001b[39m_flat_weights \u001b[38;5;241m=\u001b[39m [\u001b[38;5;28mgetattr\u001b[39m(\u001b[38;5;28mself\u001b[39m, wn) \u001b[38;5;28;01mif\u001b[39;00m \u001b[38;5;28mhasattr\u001b[39m(\u001b[38;5;28mself\u001b[39m, wn) \u001b[38;5;28;01melse\u001b[39;00m \u001b[38;5;28;01mNone\u001b[39;00m\n\u001b[0;32m    322\u001b[0m                           \u001b[38;5;28;01mfor\u001b[39;00m wn \u001b[38;5;129;01min\u001b[39;00m \u001b[38;5;28mself\u001b[39m\u001b[38;5;241m.\u001b[39m_flat_weights_names]\n\u001b[0;32m    324\u001b[0m \u001b[38;5;28mself\u001b[39m\u001b[38;5;241m.\u001b[39m_flat_weight_refs \u001b[38;5;241m=\u001b[39m [weakref\u001b[38;5;241m.\u001b[39mref(w) \u001b[38;5;28;01mif\u001b[39;00m w \u001b[38;5;129;01mis\u001b[39;00m \u001b[38;5;129;01mnot\u001b[39;00m \u001b[38;5;28;01mNone\u001b[39;00m \u001b[38;5;28;01melse\u001b[39;00m \u001b[38;5;28;01mNone\u001b[39;00m\n\u001b[1;32m--> 325\u001b[0m                           \u001b[38;5;28;01mfor\u001b[39;00m w \u001b[38;5;129;01min\u001b[39;00m \u001b[38;5;28;43mself\u001b[39;49m\u001b[38;5;241;43m.\u001b[39;49m\u001b[43m_flat_weights\u001b[49m]\n",
      "File \u001b[1;32m~\\AppData\\Local\\Programs\\Python\\Python311\\Lib\\site-packages\\torch\\nn\\modules\\module.py:1614\u001b[0m, in \u001b[0;36mModule.__getattr__\u001b[1;34m(self, name)\u001b[0m\n\u001b[0;32m   1612\u001b[0m     \u001b[38;5;28;01mif\u001b[39;00m name \u001b[38;5;129;01min\u001b[39;00m modules:\n\u001b[0;32m   1613\u001b[0m         \u001b[38;5;28;01mreturn\u001b[39;00m modules[name]\n\u001b[1;32m-> 1614\u001b[0m \u001b[38;5;28;01mraise\u001b[39;00m \u001b[38;5;167;01mAttributeError\u001b[39;00m(\u001b[38;5;124m\"\u001b[39m\u001b[38;5;124m'\u001b[39m\u001b[38;5;132;01m{}\u001b[39;00m\u001b[38;5;124m'\u001b[39m\u001b[38;5;124m object has no attribute \u001b[39m\u001b[38;5;124m'\u001b[39m\u001b[38;5;132;01m{}\u001b[39;00m\u001b[38;5;124m'\u001b[39m\u001b[38;5;124m\"\u001b[39m\u001b[38;5;241m.\u001b[39mformat(\n\u001b[0;32m   1615\u001b[0m     \u001b[38;5;28mtype\u001b[39m(\u001b[38;5;28mself\u001b[39m)\u001b[38;5;241m.\u001b[39m\u001b[38;5;18m__name__\u001b[39m, name))\n",
      "\u001b[1;31mAttributeError\u001b[0m: 'LSTM' object has no attribute '_flat_weights'"
     ]
    }
   ],
   "source": [
    "from inltk.inltk import get_embedding_vectors\n",
    "\n",
    "vectors = get_embedding_vectors(text, 'hi')\n"
   ]
  },
  {
   "cell_type": "code",
   "execution_count": 29,
   "id": "e0534aca-fe0f-4e19-8a3e-66a2d9a0c1a7",
   "metadata": {
    "tags": []
   },
   "outputs": [
    {
     "name": "stdout",
     "output_type": "stream",
     "text": [
      "Collecting torch==1.7.0\n",
      "  Downloading torch-1.7.0-cp37-cp37m-win_amd64.whl (184.0 MB)\n",
      "     -------------------------------------- 184.0/184.0 MB 2.4 MB/s eta 0:00:00\n"
     ]
    },
    {
     "name": "stderr",
     "output_type": "stream",
     "text": [
      "ERROR: torch has an invalid wheel, torch has an invalid wheel, .dist-info directory not found\n"
     ]
    },
    {
     "name": "stdout",
     "output_type": "stream",
     "text": [
      "Collecting fastai==2.2.7\n",
      "  Downloading fastai-2.2.7-py3-none-any.whl (193 kB)\n",
      "     -------------------------------------- 193.3/193.3 kB 1.1 MB/s eta 0:00:00\n",
      "Collecting packaging\n",
      "  Using cached packaging-23.1-py3-none-any.whl (48 kB)\n"
     ]
    },
    {
     "name": "stderr",
     "output_type": "stream",
     "text": [
      "ERROR: Could not find a version that satisfies the requirement torchvision<0.9,>=0.8 (from fastai) (from versions: 0.1.6, 0.1.7, 0.1.8, 0.1.9, 0.2.0, 0.2.1, 0.2.2, 0.2.2.post2, 0.2.2.post3, 0.3.0, 0.4.1, 0.5.0, 0.9.0, 0.9.1, 0.10.0, 0.10.1, 0.11.0, 0.11.1, 0.11.2, 0.11.3, 0.12.0, 0.13.0, 0.13.1, 0.14.0, 0.14.1)\n",
      "ERROR: No matching distribution found for torchvision<0.9,>=0.8\n"
     ]
    }
   ],
   "source": [
    "!pip install torch==1.7.0 torchvision==0.8.1 torchaudio==0.7.0\n",
    "!pip install fastai==2.2.7\n"
   ]
  },
  {
   "cell_type": "code",
   "execution_count": 31,
   "id": "59283625-e496-4260-8301-c43c8fef7ec3",
   "metadata": {
    "tags": []
   },
   "outputs": [
    {
     "name": "stdout",
     "output_type": "stream",
     "text": [
      "Requirement already satisfied: torch in c:\\users\\thakr\\anaconda3\\envs\\py37\\lib\\site-packages (1.13.1)\n",
      "Collecting torchvision\n",
      "  Using cached torchvision-0.14.1-cp37-cp37m-win_amd64.whl (1.1 MB)\n",
      "Collecting torchaudio\n",
      "  Downloading torchaudio-0.13.1-cp37-cp37m-win_amd64.whl (2.0 MB)\n",
      "     ---------------------------------------- 2.0/2.0 MB 1.9 MB/s eta 0:00:00\n",
      "Requirement already satisfied: typing-extensions in c:\\users\\thakr\\anaconda3\\envs\\py37\\lib\\site-packages (from torch) (4.5.0)\n",
      "Collecting numpy\n",
      "  Using cached numpy-1.21.6-cp37-cp37m-win_amd64.whl (14.0 MB)\n",
      "Collecting requests\n",
      "  Using cached requests-2.28.2-py3-none-any.whl (62 kB)\n",
      "Collecting pillow!=8.3.*,>=5.3.0\n",
      "  Using cached Pillow-9.5.0-cp37-cp37m-win_amd64.whl (2.5 MB)\n",
      "Collecting idna<4,>=2.5\n",
      "  Using cached idna-3.4-py3-none-any.whl (61 kB)\n",
      "Requirement already satisfied: certifi>=2017.4.17 in c:\\users\\thakr\\anaconda3\\envs\\py37\\lib\\site-packages (from requests->torchvision) (2022.12.7)\n",
      "Collecting urllib3<1.27,>=1.21.1\n",
      "  Using cached urllib3-1.26.15-py2.py3-none-any.whl (140 kB)\n",
      "Collecting charset-normalizer<4,>=2\n",
      "  Using cached charset_normalizer-3.1.0-cp37-cp37m-win_amd64.whl (94 kB)\n",
      "Installing collected packages: urllib3, pillow, numpy, idna, charset-normalizer, torchaudio, requests, torchvision\n",
      "Successfully installed charset-normalizer-3.1.0 idna-3.4 numpy-1.21.6 pillow-9.5.0 requests-2.28.2 torchaudio-0.13.1 torchvision-0.14.1 urllib3-1.26.15\n",
      "Collecting fastai\n",
      "  Downloading fastai-2.7.12-py3-none-any.whl (233 kB)\n",
      "     -------------------------------------- 233.1/233.1 kB 1.3 MB/s eta 0:00:00\n",
      "Collecting spacy<4\n",
      "  Using cached spacy-3.5.2-cp37-cp37m-win_amd64.whl (12.5 MB)\n",
      "Collecting pyyaml\n",
      "  Using cached PyYAML-6.0-cp37-cp37m-win_amd64.whl (153 kB)\n",
      "Collecting fastcore<1.6,>=1.5.29\n",
      "  Downloading fastcore-1.5.29-py3-none-any.whl (67 kB)\n",
      "     ---------------------------------------- 67.6/67.6 kB 1.2 MB/s eta 0:00:00\n",
      "Collecting pandas\n",
      "  Using cached pandas-1.3.5-cp37-cp37m-win_amd64.whl (10.0 MB)\n",
      "Collecting scipy\n",
      "  Using cached scipy-1.7.3-cp37-cp37m-win_amd64.whl (34.1 MB)\n",
      "Collecting packaging\n",
      "  Using cached packaging-23.1-py3-none-any.whl (48 kB)\n",
      "Requirement already satisfied: pillow>6.0.0 in c:\\users\\thakr\\anaconda3\\envs\\py37\\lib\\site-packages (from fastai) (9.5.0)\n",
      "Collecting scikit-learn\n",
      "  Downloading scikit_learn-1.0.2-cp37-cp37m-win_amd64.whl (7.1 MB)\n",
      "     ---------------------------------------- 7.1/7.1 MB 1.4 MB/s eta 0:00:00\n",
      "Collecting fastprogress>=0.2.4\n",
      "  Using cached fastprogress-1.0.3-py3-none-any.whl (12 kB)\n",
      "Collecting fastdownload<2,>=0.0.5\n",
      "  Downloading fastdownload-0.0.7-py3-none-any.whl (12 kB)\n",
      "Requirement already satisfied: pip in c:\\users\\thakr\\anaconda3\\envs\\py37\\lib\\site-packages (from fastai) (22.3.1)\n",
      "Requirement already satisfied: torch<2.1,>=1.7 in c:\\users\\thakr\\anaconda3\\envs\\py37\\lib\\site-packages (from fastai) (1.13.1)\n",
      "Requirement already satisfied: torchvision>=0.8.2 in c:\\users\\thakr\\anaconda3\\envs\\py37\\lib\\site-packages (from fastai) (0.14.1)\n",
      "Collecting matplotlib\n",
      "  Using cached matplotlib-3.5.3-cp37-cp37m-win_amd64.whl (7.2 MB)\n",
      "Requirement already satisfied: requests in c:\\users\\thakr\\anaconda3\\envs\\py37\\lib\\site-packages (from fastai) (2.28.2)\n",
      "Collecting typer<0.8.0,>=0.3.0\n",
      "  Using cached typer-0.7.0-py3-none-any.whl (38 kB)\n",
      "Collecting catalogue<2.1.0,>=2.0.6\n",
      "  Using cached catalogue-2.0.8-py3-none-any.whl (17 kB)\n",
      "Collecting wasabi<1.2.0,>=0.9.1\n",
      "  Using cached wasabi-1.1.1-py3-none-any.whl (27 kB)\n",
      "Collecting jinja2\n",
      "  Using cached Jinja2-3.1.2-py3-none-any.whl (133 kB)\n",
      "Collecting cymem<2.1.0,>=2.0.2\n",
      "  Using cached cymem-2.0.7-cp37-cp37m-win_amd64.whl (30 kB)\n",
      "Requirement already satisfied: numpy>=1.15.0 in c:\\users\\thakr\\anaconda3\\envs\\py37\\lib\\site-packages (from spacy<4->fastai) (1.21.6)\n",
      "Collecting preshed<3.1.0,>=3.0.2\n",
      "  Using cached preshed-3.0.8-cp37-cp37m-win_amd64.whl (95 kB)\n",
      "Collecting thinc<8.2.0,>=8.1.8\n",
      "  Using cached thinc-8.1.9-cp37-cp37m-win_amd64.whl (1.5 MB)\n",
      "Collecting smart-open<7.0.0,>=5.2.1\n",
      "  Using cached smart_open-6.3.0-py3-none-any.whl (56 kB)\n",
      "Collecting pydantic!=1.8,!=1.8.1,<1.11.0,>=1.7.4\n",
      "  Using cached pydantic-1.10.7-cp37-cp37m-win_amd64.whl (2.1 MB)\n",
      "Collecting tqdm<5.0.0,>=4.38.0\n",
      "  Using cached tqdm-4.65.0-py3-none-any.whl (77 kB)\n",
      "Collecting spacy-loggers<2.0.0,>=1.0.0\n",
      "  Using cached spacy_loggers-1.0.4-py3-none-any.whl (11 kB)\n",
      "Collecting spacy-legacy<3.1.0,>=3.0.11\n",
      "  Using cached spacy_legacy-3.0.12-py2.py3-none-any.whl (29 kB)\n",
      "Collecting pathy>=0.10.0\n",
      "  Using cached pathy-0.10.1-py3-none-any.whl (48 kB)\n",
      "Collecting typing-extensions<4.5.0,>=3.7.4.1\n",
      "  Using cached typing_extensions-4.4.0-py3-none-any.whl (26 kB)\n",
      "Requirement already satisfied: setuptools in c:\\users\\thakr\\anaconda3\\envs\\py37\\lib\\site-packages (from spacy<4->fastai) (65.6.3)\n",
      "Collecting langcodes<4.0.0,>=3.2.0\n",
      "  Using cached langcodes-3.3.0-py3-none-any.whl (181 kB)\n",
      "Collecting srsly<3.0.0,>=2.4.3\n",
      "  Using cached srsly-2.4.6-cp37-cp37m-win_amd64.whl (481 kB)\n",
      "Collecting murmurhash<1.1.0,>=0.28.0\n",
      "  Using cached murmurhash-1.0.9-cp37-cp37m-win_amd64.whl (18 kB)\n",
      "Requirement already satisfied: idna<4,>=2.5 in c:\\users\\thakr\\anaconda3\\envs\\py37\\lib\\site-packages (from requests->fastai) (3.4)\n",
      "Requirement already satisfied: certifi>=2017.4.17 in c:\\users\\thakr\\anaconda3\\envs\\py37\\lib\\site-packages (from requests->fastai) (2022.12.7)\n",
      "Requirement already satisfied: urllib3<1.27,>=1.21.1 in c:\\users\\thakr\\anaconda3\\envs\\py37\\lib\\site-packages (from requests->fastai) (1.26.15)\n",
      "Requirement already satisfied: charset-normalizer<4,>=2 in c:\\users\\thakr\\anaconda3\\envs\\py37\\lib\\site-packages (from requests->fastai) (3.1.0)\n",
      "Collecting pyparsing>=2.2.1\n",
      "  Using cached pyparsing-3.0.9-py3-none-any.whl (98 kB)\n",
      "Collecting python-dateutil>=2.7\n",
      "  Using cached python_dateutil-2.8.2-py2.py3-none-any.whl (247 kB)\n",
      "Collecting fonttools>=4.22.0\n",
      "  Using cached fonttools-4.38.0-py3-none-any.whl (965 kB)\n",
      "Collecting kiwisolver>=1.0.1\n",
      "  Using cached kiwisolver-1.4.4-cp37-cp37m-win_amd64.whl (54 kB)\n",
      "Collecting cycler>=0.10\n",
      "  Using cached cycler-0.11.0-py3-none-any.whl (6.4 kB)\n",
      "Collecting pytz>=2017.3\n",
      "  Using cached pytz-2023.3-py2.py3-none-any.whl (502 kB)\n",
      "Collecting threadpoolctl>=2.0.0\n",
      "  Using cached threadpoolctl-3.1.0-py3-none-any.whl (14 kB)\n",
      "Collecting joblib>=0.11\n",
      "  Using cached joblib-1.2.0-py3-none-any.whl (297 kB)\n",
      "Collecting zipp>=0.5\n",
      "  Using cached zipp-3.15.0-py3-none-any.whl (6.8 kB)\n",
      "Collecting six>=1.5\n",
      "  Using cached six-1.16.0-py2.py3-none-any.whl (11 kB)\n",
      "Collecting confection<1.0.0,>=0.0.1\n",
      "  Using cached confection-0.0.4-py3-none-any.whl (32 kB)\n",
      "Collecting blis<0.8.0,>=0.7.8\n",
      "  Using cached blis-0.7.9-cp37-cp37m-win_amd64.whl (7.0 MB)\n",
      "Collecting colorama\n",
      "  Using cached colorama-0.4.6-py2.py3-none-any.whl (25 kB)\n",
      "Collecting click<9.0.0,>=7.1.1\n",
      "  Using cached click-8.1.3-py3-none-any.whl (96 kB)\n",
      "Collecting MarkupSafe>=2.0\n",
      "  Using cached MarkupSafe-2.1.2-cp37-cp37m-win_amd64.whl (16 kB)\n",
      "Collecting importlib-metadata\n",
      "  Downloading importlib_metadata-6.5.1-py3-none-any.whl (22 kB)\n",
      "Installing collected packages: pytz, cymem, zipp, typing-extensions, threadpoolctl, spacy-loggers, spacy-legacy, smart-open, six, scipy, pyyaml, pyparsing, packaging, murmurhash, MarkupSafe, langcodes, joblib, fonttools, fastprogress, cycler, colorama, blis, wasabi, tqdm, scikit-learn, python-dateutil, pydantic, preshed, kiwisolver, jinja2, importlib-metadata, fastcore, catalogue, srsly, pandas, matplotlib, fastdownload, click, typer, confection, thinc, pathy, spacy, fastai\n",
      "  Attempting uninstall: typing-extensions\n",
      "    Found existing installation: typing_extensions 4.5.0\n",
      "    Uninstalling typing_extensions-4.5.0:\n",
      "      Successfully uninstalled typing_extensions-4.5.0\n",
      "Successfully installed MarkupSafe-2.1.2 blis-0.7.9 catalogue-2.0.8 click-8.1.3 colorama-0.4.6 confection-0.0.4 cycler-0.11.0 cymem-2.0.7 fastai-2.7.12 fastcore-1.5.29 fastdownload-0.0.7 fastprogress-1.0.3 fonttools-4.38.0 importlib-metadata-6.5.1 jinja2-3.1.2 joblib-1.2.0 kiwisolver-1.4.4 langcodes-3.3.0 matplotlib-3.5.3 murmurhash-1.0.9 packaging-23.1 pandas-1.3.5 pathy-0.10.1 preshed-3.0.8 pydantic-1.10.7 pyparsing-3.0.9 python-dateutil-2.8.2 pytz-2023.3 pyyaml-6.0 scikit-learn-1.0.2 scipy-1.7.3 six-1.16.0 smart-open-6.3.0 spacy-3.5.2 spacy-legacy-3.0.12 spacy-loggers-1.0.4 srsly-2.4.6 thinc-8.1.9 threadpoolctl-3.1.0 tqdm-4.65.0 typer-0.7.0 typing-extensions-4.4.0 wasabi-1.1.1 zipp-3.15.0\n"
     ]
    }
   ],
   "source": [
    "!pip install torch torchvision torchaudio\n",
    "!pip install fastai\n"
   ]
  },
  {
   "cell_type": "code",
   "execution_count": 32,
   "id": "122d3999-4141-471e-a026-5dd664871cb3",
   "metadata": {
    "tags": []
   },
   "outputs": [
    {
     "ename": "AttributeError",
     "evalue": "'LSTM' object has no attribute '_flat_weights'",
     "output_type": "error",
     "traceback": [
      "\u001b[1;31m---------------------------------------------------------------------------\u001b[0m",
      "\u001b[1;31mAttributeError\u001b[0m                            Traceback (most recent call last)",
      "Cell \u001b[1;32mIn[32], line 3\u001b[0m\n\u001b[0;32m      1\u001b[0m \u001b[38;5;28;01mfrom\u001b[39;00m \u001b[38;5;21;01minltk\u001b[39;00m\u001b[38;5;21;01m.\u001b[39;00m\u001b[38;5;21;01minltk\u001b[39;00m \u001b[38;5;28;01mimport\u001b[39;00m get_embedding_vectors\n\u001b[1;32m----> 3\u001b[0m vectors \u001b[38;5;241m=\u001b[39m \u001b[43mget_embedding_vectors\u001b[49m\u001b[43m(\u001b[49m\u001b[43mtext\u001b[49m\u001b[43m,\u001b[49m\u001b[43m \u001b[49m\u001b[38;5;124;43m'\u001b[39;49m\u001b[38;5;124;43mhi\u001b[39;49m\u001b[38;5;124;43m'\u001b[39;49m\u001b[43m)\u001b[49m\n",
      "File \u001b[1;32m~\\AppData\\Local\\Programs\\Python\\Python311\\Lib\\site-packages\\inltk\\inltk.py:100\u001b[0m, in \u001b[0;36mget_embedding_vectors\u001b[1;34m(input, language_code)\u001b[0m\n\u001b[0;32m     98\u001b[0m defaults\u001b[38;5;241m.\u001b[39mdevice \u001b[38;5;241m=\u001b[39m torch\u001b[38;5;241m.\u001b[39mdevice(\u001b[38;5;124m'\u001b[39m\u001b[38;5;124mcpu\u001b[39m\u001b[38;5;124m'\u001b[39m)\n\u001b[0;32m     99\u001b[0m path \u001b[38;5;241m=\u001b[39m Path(\u001b[38;5;18m__file__\u001b[39m)\u001b[38;5;241m.\u001b[39mparent\n\u001b[1;32m--> 100\u001b[0m learn \u001b[38;5;241m=\u001b[39m \u001b[43mload_learner\u001b[49m\u001b[43m(\u001b[49m\u001b[43mpath\u001b[49m\u001b[43m \u001b[49m\u001b[38;5;241;43m/\u001b[39;49m\u001b[43m \u001b[49m\u001b[38;5;124;43m'\u001b[39;49m\u001b[38;5;124;43mmodels\u001b[39;49m\u001b[38;5;124;43m'\u001b[39;49m\u001b[43m \u001b[49m\u001b[38;5;241;43m/\u001b[39;49m\u001b[43m \u001b[49m\u001b[38;5;124;43mf\u001b[39;49m\u001b[38;5;124;43m'\u001b[39;49m\u001b[38;5;132;43;01m{\u001b[39;49;00m\u001b[43mlanguage_code\u001b[49m\u001b[38;5;132;43;01m}\u001b[39;49;00m\u001b[38;5;124;43m'\u001b[39;49m\u001b[43m)\u001b[49m\n\u001b[0;32m    101\u001b[0m encoder \u001b[38;5;241m=\u001b[39m get_model(learn\u001b[38;5;241m.\u001b[39mmodel)[\u001b[38;5;241m0\u001b[39m]\n\u001b[0;32m    102\u001b[0m encoder\u001b[38;5;241m.\u001b[39mreset()\n",
      "File \u001b[1;32m~\\AppData\\Local\\Programs\\Python\\Python311\\Lib\\site-packages\\fastai\\basic_train.py:621\u001b[0m, in \u001b[0;36mload_learner\u001b[1;34m(path, file, test, tfm_y, **db_kwargs)\u001b[0m\n\u001b[0;32m    619\u001b[0m \u001b[38;5;124m\"\u001b[39m\u001b[38;5;124mLoad a `Learner` object saved with `export_state` in `path/file` with empty data, optionally add `test` and load on `cpu`. `file` can be file-like (file or buffer)\u001b[39m\u001b[38;5;124m\"\u001b[39m\n\u001b[0;32m    620\u001b[0m source \u001b[38;5;241m=\u001b[39m Path(path)\u001b[38;5;241m/\u001b[39mfile \u001b[38;5;28;01mif\u001b[39;00m is_pathlike(file) \u001b[38;5;28;01melse\u001b[39;00m file\n\u001b[1;32m--> 621\u001b[0m state \u001b[38;5;241m=\u001b[39m \u001b[43mtorch\u001b[49m\u001b[38;5;241;43m.\u001b[39;49m\u001b[43mload\u001b[49m\u001b[43m(\u001b[49m\u001b[43msource\u001b[49m\u001b[43m,\u001b[49m\u001b[43m \u001b[49m\u001b[43mmap_location\u001b[49m\u001b[38;5;241;43m=\u001b[39;49m\u001b[38;5;124;43m'\u001b[39;49m\u001b[38;5;124;43mcpu\u001b[39;49m\u001b[38;5;124;43m'\u001b[39;49m\u001b[43m)\u001b[49m \u001b[38;5;28;01mif\u001b[39;00m defaults\u001b[38;5;241m.\u001b[39mdevice \u001b[38;5;241m==\u001b[39m torch\u001b[38;5;241m.\u001b[39mdevice(\u001b[38;5;124m'\u001b[39m\u001b[38;5;124mcpu\u001b[39m\u001b[38;5;124m'\u001b[39m) \u001b[38;5;28;01melse\u001b[39;00m torch\u001b[38;5;241m.\u001b[39mload(source)\n\u001b[0;32m    622\u001b[0m model \u001b[38;5;241m=\u001b[39m state\u001b[38;5;241m.\u001b[39mpop(\u001b[38;5;124m'\u001b[39m\u001b[38;5;124mmodel\u001b[39m\u001b[38;5;124m'\u001b[39m)\n\u001b[0;32m    623\u001b[0m src \u001b[38;5;241m=\u001b[39m LabelLists\u001b[38;5;241m.\u001b[39mload_state(path, state\u001b[38;5;241m.\u001b[39mpop(\u001b[38;5;124m'\u001b[39m\u001b[38;5;124mdata\u001b[39m\u001b[38;5;124m'\u001b[39m))\n",
      "File \u001b[1;32m~\\AppData\\Local\\Programs\\Python\\Python311\\Lib\\site-packages\\torch\\serialization.py:815\u001b[0m, in \u001b[0;36mload\u001b[1;34m(f, map_location, pickle_module, weights_only, **pickle_load_args)\u001b[0m\n\u001b[0;32m    813\u001b[0m     \u001b[38;5;28;01mexcept\u001b[39;00m \u001b[38;5;167;01mRuntimeError\u001b[39;00m \u001b[38;5;28;01mas\u001b[39;00m e:\n\u001b[0;32m    814\u001b[0m         \u001b[38;5;28;01mraise\u001b[39;00m pickle\u001b[38;5;241m.\u001b[39mUnpicklingError(UNSAFE_MESSAGE \u001b[38;5;241m+\u001b[39m \u001b[38;5;28mstr\u001b[39m(e)) \u001b[38;5;28;01mfrom\u001b[39;00m \u001b[38;5;28mNone\u001b[39m\n\u001b[1;32m--> 815\u001b[0m \u001b[38;5;28;01mreturn\u001b[39;00m \u001b[43m_legacy_load\u001b[49m\u001b[43m(\u001b[49m\u001b[43mopened_file\u001b[49m\u001b[43m,\u001b[49m\u001b[43m \u001b[49m\u001b[43mmap_location\u001b[49m\u001b[43m,\u001b[49m\u001b[43m \u001b[49m\u001b[43mpickle_module\u001b[49m\u001b[43m,\u001b[49m\u001b[43m \u001b[49m\u001b[38;5;241;43m*\u001b[39;49m\u001b[38;5;241;43m*\u001b[39;49m\u001b[43mpickle_load_args\u001b[49m\u001b[43m)\u001b[49m\n",
      "File \u001b[1;32m~\\AppData\\Local\\Programs\\Python\\Python311\\Lib\\site-packages\\torch\\serialization.py:1043\u001b[0m, in \u001b[0;36m_legacy_load\u001b[1;34m(f, map_location, pickle_module, **pickle_load_args)\u001b[0m\n\u001b[0;32m   1041\u001b[0m unpickler \u001b[38;5;241m=\u001b[39m UnpicklerWrapper(f, \u001b[38;5;241m*\u001b[39m\u001b[38;5;241m*\u001b[39mpickle_load_args)\n\u001b[0;32m   1042\u001b[0m unpickler\u001b[38;5;241m.\u001b[39mpersistent_load \u001b[38;5;241m=\u001b[39m persistent_load\n\u001b[1;32m-> 1043\u001b[0m result \u001b[38;5;241m=\u001b[39m \u001b[43munpickler\u001b[49m\u001b[38;5;241;43m.\u001b[39;49m\u001b[43mload\u001b[49m\u001b[43m(\u001b[49m\u001b[43m)\u001b[49m\n\u001b[0;32m   1045\u001b[0m deserialized_storage_keys \u001b[38;5;241m=\u001b[39m pickle_module\u001b[38;5;241m.\u001b[39mload(f, \u001b[38;5;241m*\u001b[39m\u001b[38;5;241m*\u001b[39mpickle_load_args)\n\u001b[0;32m   1047\u001b[0m offset \u001b[38;5;241m=\u001b[39m f\u001b[38;5;241m.\u001b[39mtell() \u001b[38;5;28;01mif\u001b[39;00m f_should_read_directly \u001b[38;5;28;01melse\u001b[39;00m \u001b[38;5;28;01mNone\u001b[39;00m\n",
      "File \u001b[1;32m~\\AppData\\Local\\Programs\\Python\\Python311\\Lib\\site-packages\\torch\\nn\\modules\\rnn.py:325\u001b[0m, in \u001b[0;36mRNNBase.__setstate__\u001b[1;34m(self, d)\u001b[0m\n\u001b[0;32m    320\u001b[0m                     \u001b[38;5;28mself\u001b[39m\u001b[38;5;241m.\u001b[39m_flat_weights_names\u001b[38;5;241m.\u001b[39mextend(weights[:\u001b[38;5;241m2\u001b[39m])\n\u001b[0;32m    321\u001b[0m     \u001b[38;5;28mself\u001b[39m\u001b[38;5;241m.\u001b[39m_flat_weights \u001b[38;5;241m=\u001b[39m [\u001b[38;5;28mgetattr\u001b[39m(\u001b[38;5;28mself\u001b[39m, wn) \u001b[38;5;28;01mif\u001b[39;00m \u001b[38;5;28mhasattr\u001b[39m(\u001b[38;5;28mself\u001b[39m, wn) \u001b[38;5;28;01melse\u001b[39;00m \u001b[38;5;28;01mNone\u001b[39;00m\n\u001b[0;32m    322\u001b[0m                           \u001b[38;5;28;01mfor\u001b[39;00m wn \u001b[38;5;129;01min\u001b[39;00m \u001b[38;5;28mself\u001b[39m\u001b[38;5;241m.\u001b[39m_flat_weights_names]\n\u001b[0;32m    324\u001b[0m \u001b[38;5;28mself\u001b[39m\u001b[38;5;241m.\u001b[39m_flat_weight_refs \u001b[38;5;241m=\u001b[39m [weakref\u001b[38;5;241m.\u001b[39mref(w) \u001b[38;5;28;01mif\u001b[39;00m w \u001b[38;5;129;01mis\u001b[39;00m \u001b[38;5;129;01mnot\u001b[39;00m \u001b[38;5;28;01mNone\u001b[39;00m \u001b[38;5;28;01melse\u001b[39;00m \u001b[38;5;28;01mNone\u001b[39;00m\n\u001b[1;32m--> 325\u001b[0m                           \u001b[38;5;28;01mfor\u001b[39;00m w \u001b[38;5;129;01min\u001b[39;00m \u001b[38;5;28;43mself\u001b[39;49m\u001b[38;5;241;43m.\u001b[39;49m\u001b[43m_flat_weights\u001b[49m]\n",
      "File \u001b[1;32m~\\AppData\\Local\\Programs\\Python\\Python311\\Lib\\site-packages\\torch\\nn\\modules\\module.py:1614\u001b[0m, in \u001b[0;36mModule.__getattr__\u001b[1;34m(self, name)\u001b[0m\n\u001b[0;32m   1612\u001b[0m     \u001b[38;5;28;01mif\u001b[39;00m name \u001b[38;5;129;01min\u001b[39;00m modules:\n\u001b[0;32m   1613\u001b[0m         \u001b[38;5;28;01mreturn\u001b[39;00m modules[name]\n\u001b[1;32m-> 1614\u001b[0m \u001b[38;5;28;01mraise\u001b[39;00m \u001b[38;5;167;01mAttributeError\u001b[39;00m(\u001b[38;5;124m\"\u001b[39m\u001b[38;5;124m'\u001b[39m\u001b[38;5;132;01m{}\u001b[39;00m\u001b[38;5;124m'\u001b[39m\u001b[38;5;124m object has no attribute \u001b[39m\u001b[38;5;124m'\u001b[39m\u001b[38;5;132;01m{}\u001b[39;00m\u001b[38;5;124m'\u001b[39m\u001b[38;5;124m\"\u001b[39m\u001b[38;5;241m.\u001b[39mformat(\n\u001b[0;32m   1615\u001b[0m     \u001b[38;5;28mtype\u001b[39m(\u001b[38;5;28mself\u001b[39m)\u001b[38;5;241m.\u001b[39m\u001b[38;5;18m__name__\u001b[39m, name))\n",
      "\u001b[1;31mAttributeError\u001b[0m: 'LSTM' object has no attribute '_flat_weights'"
     ]
    }
   ],
   "source": [
    "from inltk.inltk import get_embedding_vectors\n",
    "\n",
    "vectors = get_embedding_vectors(text, 'hi')"
   ]
  },
  {
   "cell_type": "code",
   "execution_count": 33,
   "id": "d2668e64-db65-4e98-8f79-43d82c5980e6",
   "metadata": {
    "tags": []
   },
   "outputs": [
    {
     "data": {
      "text/plain": [
       "['▁आज', '▁मैं', '▁बहुत', '▁खुश', '▁हूँ', '।']"
      ]
     },
     "execution_count": 33,
     "metadata": {},
     "output_type": "execute_result"
    }
   ],
   "source": [
    "from inltk.inltk import tokenize\n",
    "hindi_sentence = \"आज मैं बहुत खुश हूँ।\"\n",
    "tokenize(hindi_sentence, \"hi\")\n"
   ]
  },
  {
   "cell_type": "code",
   "execution_count": 40,
   "id": "7a2bb693-251e-4203-ac67-9846c8f17eb4",
   "metadata": {
    "tags": []
   },
   "outputs": [
    {
     "ename": "ImportError",
     "evalue": "cannot import name 'disambiguate' from 'inltk.inltk' (C:\\Users\\thakr\\AppData\\Local\\Programs\\Python\\Python311\\Lib\\site-packages\\inltk\\inltk.py)",
     "output_type": "error",
     "traceback": [
      "\u001b[1;31m---------------------------------------------------------------------------\u001b[0m",
      "\u001b[1;31mImportError\u001b[0m                               Traceback (most recent call last)",
      "Cell \u001b[1;32mIn[40], line 2\u001b[0m\n\u001b[0;32m      1\u001b[0m \u001b[38;5;28;01mfrom\u001b[39;00m \u001b[38;5;21;01minltk\u001b[39;00m\u001b[38;5;21;01m.\u001b[39;00m\u001b[38;5;21;01minltk\u001b[39;00m \u001b[38;5;28;01mimport\u001b[39;00m setup\n\u001b[1;32m----> 2\u001b[0m \u001b[38;5;28;01mfrom\u001b[39;00m \u001b[38;5;21;01minltk\u001b[39;00m\u001b[38;5;21;01m.\u001b[39;00m\u001b[38;5;21;01minltk\u001b[39;00m \u001b[38;5;28;01mimport\u001b[39;00m disambiguate\n",
      "\u001b[1;31mImportError\u001b[0m: cannot import name 'disambiguate' from 'inltk.inltk' (C:\\Users\\thakr\\AppData\\Local\\Programs\\Python\\Python311\\Lib\\site-packages\\inltk\\inltk.py)"
     ]
    }
   ],
   "source": [
    "from inltk.inltk import setup\n",
    "from inltk.inltk import disambiguate\n"
   ]
  },
  {
   "cell_type": "code",
   "execution_count": 39,
   "id": "4439af2c-199e-4d60-94c8-9a4e103e148c",
   "metadata": {
    "tags": []
   },
   "outputs": [
    {
     "name": "stdout",
     "output_type": "stream",
     "text": [
      "Note: you may need to restart the kernel to use updated packages.\n"
     ]
    },
    {
     "name": "stderr",
     "output_type": "stream",
     "text": [
      "ERROR: You must give at least one requirement to install (see \"pip help install\")\n"
     ]
    }
   ],
   "source": [
    "pip install --upgrade\n"
   ]
  },
  {
   "cell_type": "code",
   "execution_count": 1,
   "id": "bc995d2f-7178-49f2-a48b-03505ee8aab0",
   "metadata": {
    "tags": []
   },
   "outputs": [
    {
     "name": "stdout",
     "output_type": "stream",
     "text": [
      "pip 23.1.1 from C:\\Users\\thakr\\AppData\\Local\\Programs\\Python\\Python311\\Lib\\site-packages\\pip (python 3.11)\n",
      "\n",
      "Note: you may need to restart the kernel to use updated packages.\n"
     ]
    }
   ],
   "source": [
    "pip --version"
   ]
  },
  {
   "cell_type": "code",
   "execution_count": null,
   "id": "900e8679-e90f-4c83-ba0b-ae39f1adc495",
   "metadata": {},
   "outputs": [],
   "source": []
  }
 ],
 "metadata": {
  "kernelspec": {
   "display_name": "Python 3 (ipykernel)",
   "language": "python",
   "name": "python3"
  },
  "language_info": {
   "codemirror_mode": {
    "name": "ipython",
    "version": 3
   },
   "file_extension": ".py",
   "mimetype": "text/x-python",
   "name": "python",
   "nbconvert_exporter": "python",
   "pygments_lexer": "ipython3",
   "version": "3.11.3"
  }
 },
 "nbformat": 4,
 "nbformat_minor": 5
}
